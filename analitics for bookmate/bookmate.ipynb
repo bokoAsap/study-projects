{
 "cells": [
  {
   "cell_type": "markdown",
   "id": "_E41Wr5fqnFT",
   "metadata": {
    "id": "_E41Wr5fqnFT"
   },
   "source": [
    "# Часть 1. Проверка гипотезы в Python и составление аналитической записки"
   ]
  },
  {
   "cell_type": "markdown",
   "id": "e06910dd",
   "metadata": {
    "id": "e06910dd"
   },
   "source": [
    "## Проверка гипотезы в Python и составление аналитической записки\n",
    "\n",
    "- Автор: Бойко Галя\n",
    "- Дата: 29.05.25"
   ]
  },
  {
   "cell_type": "markdown",
   "id": "4149134c",
   "metadata": {
    "id": "4149134c"
   },
   "source": [
    "## Цели и задачи проекта\n",
    "\n",
    "    Цель: Проверить гипотезу о том, что пользователи с большей LTV проводят больше времени в сервисе, слушая книги\n",
    "    Задачи:\n",
    "    * Загрузить и ознакомиться с данными\n",
    "    * Очистить данные\n",
    "    * Сравнить размеры групп, статистики групп и рапределение.\n",
    "    * Проверить гипотезу\n",
    "    * Интерпритировать раезультаты"
   ]
  },
  {
   "cell_type": "markdown",
   "id": "4fecaf95",
   "metadata": {
    "id": "4fecaf95"
   },
   "source": [
    "## Содержимое проекта\n",
    "1. Загрузка и ознакомление с данными\n",
    "2. Проверка гипотезы\n",
    "3. Выводы"
   ]
  },
  {
   "cell_type": "markdown",
   "id": "6f7d21d6",
   "metadata": {
    "id": "6f7d21d6"
   },
   "source": [
    "## 1. Загрузка данных и знакомство с ними\n"
   ]
  },
  {
   "cell_type": "code",
   "execution_count": 1,
   "id": "05faf34b",
   "metadata": {
    "id": "05faf34b"
   },
   "outputs": [],
   "source": [
    "# Выгрузка библиотек\n",
    "import pandas as pd\n",
    "import matplotlib.pyplot as plt\n",
    "import numpy as np\n",
    "from scipy.stats import ttest_ind\n",
    "from statsmodels.stats.power import NormalIndPower\n",
    "from statsmodels.stats.proportion import proportions_ztest"
   ]
  },
  {
   "cell_type": "code",
   "execution_count": 3,
   "id": "ae1e536b",
   "metadata": {},
   "outputs": [
    {
     "data": {
      "text/html": [
       "<div>\n",
       "<style scoped>\n",
       "    .dataframe tbody tr th:only-of-type {\n",
       "        vertical-align: middle;\n",
       "    }\n",
       "\n",
       "    .dataframe tbody tr th {\n",
       "        vertical-align: top;\n",
       "    }\n",
       "\n",
       "    .dataframe thead th {\n",
       "        text-align: right;\n",
       "    }\n",
       "</style>\n",
       "<table border=\"1\" class=\"dataframe\">\n",
       "  <thead>\n",
       "    <tr style=\"text-align: right;\">\n",
       "      <th></th>\n",
       "      <th>Unnamed: 0</th>\n",
       "      <th>city</th>\n",
       "      <th>puid</th>\n",
       "      <th>hours</th>\n",
       "    </tr>\n",
       "  </thead>\n",
       "  <tbody>\n",
       "    <tr>\n",
       "      <th>0</th>\n",
       "      <td>0</td>\n",
       "      <td>Москва</td>\n",
       "      <td>9668</td>\n",
       "      <td>26.167776</td>\n",
       "    </tr>\n",
       "    <tr>\n",
       "      <th>1</th>\n",
       "      <td>1</td>\n",
       "      <td>Москва</td>\n",
       "      <td>16598</td>\n",
       "      <td>82.111217</td>\n",
       "    </tr>\n",
       "    <tr>\n",
       "      <th>2</th>\n",
       "      <td>2</td>\n",
       "      <td>Москва</td>\n",
       "      <td>80401</td>\n",
       "      <td>4.656906</td>\n",
       "    </tr>\n",
       "    <tr>\n",
       "      <th>3</th>\n",
       "      <td>3</td>\n",
       "      <td>Москва</td>\n",
       "      <td>140205</td>\n",
       "      <td>1.840556</td>\n",
       "    </tr>\n",
       "    <tr>\n",
       "      <th>4</th>\n",
       "      <td>4</td>\n",
       "      <td>Москва</td>\n",
       "      <td>248755</td>\n",
       "      <td>151.326434</td>\n",
       "    </tr>\n",
       "    <tr>\n",
       "      <th>5</th>\n",
       "      <td>5</td>\n",
       "      <td>Москва</td>\n",
       "      <td>352567</td>\n",
       "      <td>8.206369</td>\n",
       "    </tr>\n",
       "    <tr>\n",
       "      <th>6</th>\n",
       "      <td>6</td>\n",
       "      <td>Москва</td>\n",
       "      <td>439493</td>\n",
       "      <td>0.857758</td>\n",
       "    </tr>\n",
       "    <tr>\n",
       "      <th>7</th>\n",
       "      <td>7</td>\n",
       "      <td>Москва</td>\n",
       "      <td>494541</td>\n",
       "      <td>0.035072</td>\n",
       "    </tr>\n",
       "    <tr>\n",
       "      <th>8</th>\n",
       "      <td>8</td>\n",
       "      <td>Москва</td>\n",
       "      <td>647235</td>\n",
       "      <td>12.000076</td>\n",
       "    </tr>\n",
       "    <tr>\n",
       "      <th>9</th>\n",
       "      <td>9</td>\n",
       "      <td>Москва</td>\n",
       "      <td>656480</td>\n",
       "      <td>0.973032</td>\n",
       "    </tr>\n",
       "    <tr>\n",
       "      <th>10</th>\n",
       "      <td>10</td>\n",
       "      <td>Москва</td>\n",
       "      <td>778279</td>\n",
       "      <td>3.613502</td>\n",
       "    </tr>\n",
       "    <tr>\n",
       "      <th>11</th>\n",
       "      <td>11</td>\n",
       "      <td>Москва</td>\n",
       "      <td>842936</td>\n",
       "      <td>0.008611</td>\n",
       "    </tr>\n",
       "    <tr>\n",
       "      <th>12</th>\n",
       "      <td>12</td>\n",
       "      <td>Москва</td>\n",
       "      <td>975485</td>\n",
       "      <td>0.002222</td>\n",
       "    </tr>\n",
       "    <tr>\n",
       "      <th>13</th>\n",
       "      <td>13</td>\n",
       "      <td>Москва</td>\n",
       "      <td>997175</td>\n",
       "      <td>0.006667</td>\n",
       "    </tr>\n",
       "    <tr>\n",
       "      <th>14</th>\n",
       "      <td>14</td>\n",
       "      <td>Москва</td>\n",
       "      <td>1189599</td>\n",
       "      <td>1.870959</td>\n",
       "    </tr>\n",
       "  </tbody>\n",
       "</table>\n",
       "</div>"
      ],
      "text/plain": [
       "    Unnamed: 0    city     puid       hours\n",
       "0            0  Москва     9668   26.167776\n",
       "1            1  Москва    16598   82.111217\n",
       "2            2  Москва    80401    4.656906\n",
       "3            3  Москва   140205    1.840556\n",
       "4            4  Москва   248755  151.326434\n",
       "5            5  Москва   352567    8.206369\n",
       "6            6  Москва   439493    0.857758\n",
       "7            7  Москва   494541    0.035072\n",
       "8            8  Москва   647235   12.000076\n",
       "9            9  Москва   656480    0.973032\n",
       "10          10  Москва   778279    3.613502\n",
       "11          11  Москва   842936    0.008611\n",
       "12          12  Москва   975485    0.002222\n",
       "13          13  Москва   997175    0.006667\n",
       "14          14  Москва  1189599    1.870959"
      ]
     },
     "execution_count": 3,
     "metadata": {},
     "output_type": "execute_result"
    }
   ],
   "source": [
    "# Выгрузка 15 первых строк с данными для ознакомления\n",
    "df.head(15)"
   ]
  },
  {
   "cell_type": "code",
   "execution_count": 4,
   "id": "7c4016b1",
   "metadata": {
    "id": "f68a7419"
   },
   "outputs": [
    {
     "data": {
      "text/plain": [
       "244"
      ]
     },
     "execution_count": 4,
     "metadata": {},
     "output_type": "execute_result"
    }
   ],
   "source": [
    "# Проверка на дублитаты\n",
    "df.duplicated(subset='puid').sum()"
   ]
  },
  {
   "cell_type": "markdown",
   "id": "f5e22a44",
   "metadata": {},
   "source": [
    "Дубликаты в индентификаторах пользователей действительно есть. Удалим их"
   ]
  },
  {
   "cell_type": "code",
   "execution_count": 5,
   "id": "d71e5fd7",
   "metadata": {},
   "outputs": [
    {
     "name": "stdout",
     "output_type": "stream",
     "text": [
      "<class 'pandas.core.frame.DataFrame'>\n",
      "Index: 8540 entries, 0 to 8783\n",
      "Data columns (total 4 columns):\n",
      " #   Column      Non-Null Count  Dtype  \n",
      "---  ------      --------------  -----  \n",
      " 0   Unnamed: 0  8540 non-null   int64  \n",
      " 1   city        8540 non-null   object \n",
      " 2   puid        8540 non-null   int64  \n",
      " 3   hours       8540 non-null   float64\n",
      "dtypes: float64(1), int64(2), object(1)\n",
      "memory usage: 333.6+ KB\n"
     ]
    }
   ],
   "source": [
    "# Удаление дублитатов\n",
    "df = df.drop_duplicates(subset='puid')\n",
    "df.info()"
   ]
  },
  {
   "cell_type": "code",
   "execution_count": 6,
   "id": "3e9ca260",
   "metadata": {},
   "outputs": [
    {
     "data": {
      "text/plain": [
       "city\n",
       "Москва             6234\n",
       "Санкт-Петербург    2306\n",
       "Name: puid, dtype: int64"
      ]
     },
     "execution_count": 6,
     "metadata": {},
     "output_type": "execute_result"
    }
   ],
   "source": [
    "# Сравнение размеров групп\n",
    "df.groupby('city')['puid'].nunique()"
   ]
  },
  {
   "cell_type": "markdown",
   "id": "a99636af",
   "metadata": {},
   "source": [
    "Группа из Москвы примерно в 2,4 раза больше Питерской "
   ]
  },
  {
   "cell_type": "code",
   "execution_count": 7,
   "id": "c0c40168",
   "metadata": {},
   "outputs": [
    {
     "data": {
      "text/html": [
       "<div>\n",
       "<style scoped>\n",
       "    .dataframe tbody tr th:only-of-type {\n",
       "        vertical-align: middle;\n",
       "    }\n",
       "\n",
       "    .dataframe tbody tr th {\n",
       "        vertical-align: top;\n",
       "    }\n",
       "\n",
       "    .dataframe thead th {\n",
       "        text-align: right;\n",
       "    }\n",
       "</style>\n",
       "<table border=\"1\" class=\"dataframe\">\n",
       "  <thead>\n",
       "    <tr style=\"text-align: right;\">\n",
       "      <th></th>\n",
       "      <th>count</th>\n",
       "      <th>mean</th>\n",
       "      <th>std</th>\n",
       "      <th>min</th>\n",
       "      <th>25%</th>\n",
       "      <th>50%</th>\n",
       "      <th>75%</th>\n",
       "      <th>max</th>\n",
       "    </tr>\n",
       "    <tr>\n",
       "      <th>city</th>\n",
       "      <th></th>\n",
       "      <th></th>\n",
       "      <th></th>\n",
       "      <th></th>\n",
       "      <th></th>\n",
       "      <th></th>\n",
       "      <th></th>\n",
       "      <th></th>\n",
       "    </tr>\n",
       "  </thead>\n",
       "  <tbody>\n",
       "    <tr>\n",
       "      <th>Москва</th>\n",
       "      <td>6234.0</td>\n",
       "      <td>10.881092</td>\n",
       "      <td>36.851683</td>\n",
       "      <td>0.000018</td>\n",
       "      <td>0.059903</td>\n",
       "      <td>0.924498</td>\n",
       "      <td>5.939972</td>\n",
       "      <td>857.209373</td>\n",
       "    </tr>\n",
       "    <tr>\n",
       "      <th>Санкт-Петербург</th>\n",
       "      <td>2306.0</td>\n",
       "      <td>11.264433</td>\n",
       "      <td>39.831755</td>\n",
       "      <td>0.000025</td>\n",
       "      <td>0.060173</td>\n",
       "      <td>0.875355</td>\n",
       "      <td>6.138424</td>\n",
       "      <td>978.764775</td>\n",
       "    </tr>\n",
       "  </tbody>\n",
       "</table>\n",
       "</div>"
      ],
      "text/plain": [
       "                  count       mean        std       min       25%       50%  \\\n",
       "city                                                                          \n",
       "Москва           6234.0  10.881092  36.851683  0.000018  0.059903  0.924498   \n",
       "Санкт-Петербург  2306.0  11.264433  39.831755  0.000025  0.060173  0.875355   \n",
       "\n",
       "                      75%         max  \n",
       "city                                   \n",
       "Москва           5.939972  857.209373  \n",
       "Санкт-Петербург  6.138424  978.764775  "
      ]
     },
     "execution_count": 7,
     "metadata": {},
     "output_type": "execute_result"
    }
   ],
   "source": [
    "# Сравнение статистик\n",
    "df.groupby('city')['hours'].describe()"
   ]
  },
  {
   "cell_type": "markdown",
   "id": "38638909",
   "metadata": {},
   "source": [
    "Статистики центральной тенденции примерно равные между двумя группами, стандарное отклонение Петербурге больше чем в Москве, максимальное занчение тоже, что  взаимосвязано"
   ]
  },
  {
   "cell_type": "code",
   "execution_count": 8,
   "id": "37b6112f",
   "metadata": {},
   "outputs": [
    {
     "data": {
      "image/png": "[encoded data removed]",
      "text/plain": [
       "<Figure size 1000x1000 with 1 Axes>"
      ]
     },
     "metadata": {},
     "output_type": "display_data"
    }
   ],
   "source": [
    "df['hours'].plot(kind='hist', bins=30, figsize=(10, 10))\n",
    "plt.title('Распределение количества часов прослушивания книг')\n",
    "plt.ylabel('Частота')\n",
    "plt.xlabel('Часы')\n",
    "plt.show()"
   ]
  },
  {
   "cell_type": "markdown",
   "id": "2a3b5be7",
   "metadata": {},
   "source": [
    "По общему распределению часов активности видна явная левая асимметрия, большее количество активности сосредоточено до 200 часов "
   ]
  },
  {
   "cell_type": "code",
   "execution_count": 9,
   "id": "7363fc36",
   "metadata": {},
   "outputs": [
    {
     "name": "stderr",
     "output_type": "stream",
     "text": [
      "C:\\Users\\never\\AppData\\Local\\Temp\\ipykernel_33448\\2292748280.py:8: MatplotlibDeprecationWarning: The 'labels' parameter of boxplot() has been renamed 'tick_labels' since Matplotlib 3.9; support for the old name will be dropped in 3.11.\n",
      "  plt.boxplot(data, labels=('Москва', 'Санкт-Петербург'))\n"
     ]
    },
    {
     "data": {
      "image/png": "[encoded data removed]",
      "text/plain": [
       "<Figure size 1000x1500 with 1 Axes>"
      ]
     },
     "metadata": {},
     "output_type": "display_data"
    }
   ],
   "source": [
    "# Выборка количества часов прослушивания для двух групп\n",
    "A = df[df['city'] == 'Москва']['hours']\n",
    "B = df[df['city'] == 'Санкт-Петербург']['hours']\n",
    "data = [A, B]\n",
    "\n",
    "# Построение визуализации\n",
    "plt.figure(figsize=(10, 15))\n",
    "plt.boxplot(data, labels=('Москва', 'Санкт-Петербург'))\n",
    "plt.title('Распределение количества часов прослушивания книг в Москве и Санкт-Петербурге')\n",
    "plt.ylabel('Частота')\n",
    "plt.show()"
   ]
  },
  {
   "cell_type": "markdown",
   "id": "3bc85750",
   "metadata": {},
   "source": [
    "Как видно на графике в обоих выборках есть выбросы, и распределения не нормальные, однако из-за того что масштабы выбросов примерно одинаковы, поэтому можем провести т-тест"
   ]
  },
  {
   "cell_type": "markdown",
   "id": "956e82e2",
   "metadata": {
    "id": "956e82e2"
   },
   "source": [
    "## 2. Проверка гипотезы в Python\n",
    "\n",
    "- Нулевая гипотеза H₀: Средняя активность пользователей в часах в двух группах (Москва и Санкт-Петербург) не различается.\n",
    "\n",
    "- Альтернативная гипотеза H₁: Средняя активность пользователей в Санкт-Петербурге больше, и это различие статистически значимо."
   ]
  },
  {
   "cell_type": "markdown",
   "id": "f9bc025b",
   "metadata": {},
   "source": [
    "Так как выбросы есть в двух группах и они примерно одинаковы можем выбрать t-тест для проверки гипотезы"
   ]
  },
  {
   "cell_type": "code",
   "execution_count": 10,
   "id": "67956690",
   "metadata": {
    "id": "67956690"
   },
   "outputs": [
    {
     "name": "stdout",
     "output_type": "stream",
     "text": [
      "p-value = 0.34\n",
      "Нулевая гипотеза находит подтверждение! Выборочные средние в группах A и B не отличаются\n"
     ]
    }
   ],
   "source": [
    "alpha = 0.05 # Задание уровня значимости\n",
    "\n",
    "# Статистический тест Стьюдента\n",
    "stat_ttest, p = ttest_ind(\n",
    "    B, \n",
    "    A,\n",
    "    alternative='greater')\n",
    "\n",
    "print(f'p-value = {round(p, 2)}')\n",
    "if p > alpha:\n",
    "    print('Нулевая гипотеза находит подтверждение! Выборочные средние в группах A и B не отличаются')\n",
    "else:\n",
    "    print('Нулевая гипотеза не находит подтверждения! Выборочные средние в группах A и B отличаются, средняя активность в группе В больше ')"
   ]
  },
  {
   "cell_type": "markdown",
   "id": "6953e84c",
   "metadata": {
    "id": "6953e84c"
   },
   "source": [
    "## 3. Аналитическая записка\n",
    "\n",
    "- Для проверки гипотезы был выбран одностороонний тест Стьюдента из-за характера гипотезы (гипотеза о среднем) с уровнем значимости 0.05\n",
    "\n",
    "- По результатам эксперимента p-value равен 0.34\n",
    "\n",
    "- P-value больше чем альфа следовательно подтверждается нулевая гипотеза: Средняя активность пользователей в Москве и Петербурге не отличается\n",
    "\n",
    "- Возможно повлиял различный размер групп.\n",
    "\n"
   ]
  },
  {
   "cell_type": "markdown",
   "id": "hc1d6jVISegz",
   "metadata": {
    "id": "hc1d6jVISegz"
   },
   "source": [
    "----"
   ]
  },
  {
   "cell_type": "markdown",
   "id": "NqOUIYhbrIfC",
   "metadata": {
    "id": "NqOUIYhbrIfC"
   },
   "source": [
    "# Часть 2. Анализ результатов A/B-тестирования"
   ]
  },
  {
   "cell_type": "markdown",
   "id": "UNXAAyF5r9Rk",
   "metadata": {
    "id": "UNXAAyF5r9Rk"
   },
   "source": [
    "## 1. Цели исследования\n"
   ]
  },
  {
   "cell_type": "markdown",
   "id": "kHx-51yES8bd",
   "metadata": {
    "id": "kHx-51yES8bd"
   },
   "source": [
    "Оценить статистически насколько результативна новая версия сайта"
   ]
  },
  {
   "cell_type": "markdown",
   "id": "_CZryx2OsH-s",
   "metadata": {
    "id": "_CZryx2OsH-s"
   },
   "source": [
    "## 2. Загрузка данных и оценка их целостности\n"
   ]
  },
  {
   "cell_type": "code",
   "execution_count": 11,
   "id": "DjFcJbeGsTIg",
   "metadata": {
    "id": "DjFcJbeGsTIg"
   },
   "outputs": [],
   "source": [
    "# Загрузка данных\n",
    "participants = pd.read_csv('https://code.s3.yandex.net/datasets/ab_test_participants.csv')\n",
    "events = pd.read_csv('https://code.s3.yandex.net/datasets/ab_test_events.zip',\n",
    "                     parse_dates=['event_dt'], low_memory=False)"
   ]
  },
  {
   "cell_type": "code",
   "execution_count": 12,
   "id": "7235d344",
   "metadata": {},
   "outputs": [
    {
     "name": "stdout",
     "output_type": "stream",
     "text": [
      "<class 'pandas.core.frame.DataFrame'>\n",
      "RangeIndex: 14525 entries, 0 to 14524\n",
      "Data columns (total 4 columns):\n",
      " #   Column   Non-Null Count  Dtype \n",
      "---  ------   --------------  ----- \n",
      " 0   user_id  14525 non-null  object\n",
      " 1   group    14525 non-null  object\n",
      " 2   ab_test  14525 non-null  object\n",
      " 3   device   14525 non-null  object\n",
      "dtypes: object(4)\n",
      "memory usage: 454.0+ KB\n"
     ]
    }
   ],
   "source": [
    "# Знакомство с данными\n",
    "participants.info()"
   ]
  },
  {
   "cell_type": "code",
   "execution_count": 13,
   "id": "696af41c",
   "metadata": {},
   "outputs": [
    {
     "data": {
      "text/html": [
       "<div>\n",
       "<style scoped>\n",
       "    .dataframe tbody tr th:only-of-type {\n",
       "        vertical-align: middle;\n",
       "    }\n",
       "\n",
       "    .dataframe tbody tr th {\n",
       "        vertical-align: top;\n",
       "    }\n",
       "\n",
       "    .dataframe thead th {\n",
       "        text-align: right;\n",
       "    }\n",
       "</style>\n",
       "<table border=\"1\" class=\"dataframe\">\n",
       "  <thead>\n",
       "    <tr style=\"text-align: right;\">\n",
       "      <th></th>\n",
       "      <th>user_id</th>\n",
       "      <th>group</th>\n",
       "      <th>ab_test</th>\n",
       "      <th>device</th>\n",
       "    </tr>\n",
       "  </thead>\n",
       "  <tbody>\n",
       "    <tr>\n",
       "      <th>0</th>\n",
       "      <td>0002CE61FF2C4011</td>\n",
       "      <td>B</td>\n",
       "      <td>interface_eu_test</td>\n",
       "      <td>Mac</td>\n",
       "    </tr>\n",
       "    <tr>\n",
       "      <th>1</th>\n",
       "      <td>001064FEAAB631A1</td>\n",
       "      <td>B</td>\n",
       "      <td>recommender_system_test</td>\n",
       "      <td>Android</td>\n",
       "    </tr>\n",
       "    <tr>\n",
       "      <th>2</th>\n",
       "      <td>001064FEAAB631A1</td>\n",
       "      <td>A</td>\n",
       "      <td>interface_eu_test</td>\n",
       "      <td>Android</td>\n",
       "    </tr>\n",
       "    <tr>\n",
       "      <th>3</th>\n",
       "      <td>0010A1C096941592</td>\n",
       "      <td>A</td>\n",
       "      <td>recommender_system_test</td>\n",
       "      <td>Android</td>\n",
       "    </tr>\n",
       "    <tr>\n",
       "      <th>4</th>\n",
       "      <td>001E72F50D1C48FA</td>\n",
       "      <td>A</td>\n",
       "      <td>interface_eu_test</td>\n",
       "      <td>Mac</td>\n",
       "    </tr>\n",
       "  </tbody>\n",
       "</table>\n",
       "</div>"
      ],
      "text/plain": [
       "            user_id group                  ab_test   device\n",
       "0  0002CE61FF2C4011     B        interface_eu_test      Mac\n",
       "1  001064FEAAB631A1     B  recommender_system_test  Android\n",
       "2  001064FEAAB631A1     A        interface_eu_test  Android\n",
       "3  0010A1C096941592     A  recommender_system_test  Android\n",
       "4  001E72F50D1C48FA     A        interface_eu_test      Mac"
      ]
     },
     "execution_count": 13,
     "metadata": {},
     "output_type": "execute_result"
    }
   ],
   "source": [
    "participants.head()"
   ]
  },
  {
   "cell_type": "code",
   "execution_count": 14,
   "id": "5c682178",
   "metadata": {},
   "outputs": [
    {
     "name": "stdout",
     "output_type": "stream",
     "text": [
      "<class 'pandas.core.frame.DataFrame'>\n",
      "RangeIndex: 787286 entries, 0 to 787285\n",
      "Data columns (total 4 columns):\n",
      " #   Column      Non-Null Count   Dtype         \n",
      "---  ------      --------------   -----         \n",
      " 0   user_id     787286 non-null  object        \n",
      " 1   event_dt    787286 non-null  datetime64[ns]\n",
      " 2   event_name  787286 non-null  object        \n",
      " 3   details     249022 non-null  object        \n",
      "dtypes: datetime64[ns](1), object(3)\n",
      "memory usage: 24.0+ MB\n"
     ]
    }
   ],
   "source": [
    "events.info()"
   ]
  },
  {
   "cell_type": "code",
   "execution_count": 15,
   "id": "5dfc893b",
   "metadata": {},
   "outputs": [
    {
     "data": {
      "text/html": [
       "<div>\n",
       "<style scoped>\n",
       "    .dataframe tbody tr th:only-of-type {\n",
       "        vertical-align: middle;\n",
       "    }\n",
       "\n",
       "    .dataframe tbody tr th {\n",
       "        vertical-align: top;\n",
       "    }\n",
       "\n",
       "    .dataframe thead th {\n",
       "        text-align: right;\n",
       "    }\n",
       "</style>\n",
       "<table border=\"1\" class=\"dataframe\">\n",
       "  <thead>\n",
       "    <tr style=\"text-align: right;\">\n",
       "      <th></th>\n",
       "      <th>user_id</th>\n",
       "      <th>event_dt</th>\n",
       "      <th>event_name</th>\n",
       "      <th>details</th>\n",
       "    </tr>\n",
       "  </thead>\n",
       "  <tbody>\n",
       "    <tr>\n",
       "      <th>0</th>\n",
       "      <td>GLOBAL</td>\n",
       "      <td>2020-12-01 00:00:00</td>\n",
       "      <td>End of Black Friday Ads Campaign</td>\n",
       "      <td>ZONE_CODE15</td>\n",
       "    </tr>\n",
       "    <tr>\n",
       "      <th>1</th>\n",
       "      <td>CCBE9E7E99F94A08</td>\n",
       "      <td>2020-12-01 00:00:11</td>\n",
       "      <td>registration</td>\n",
       "      <td>0.0</td>\n",
       "    </tr>\n",
       "    <tr>\n",
       "      <th>2</th>\n",
       "      <td>GLOBAL</td>\n",
       "      <td>2020-12-01 00:00:25</td>\n",
       "      <td>product_page</td>\n",
       "      <td>NaN</td>\n",
       "    </tr>\n",
       "    <tr>\n",
       "      <th>3</th>\n",
       "      <td>CCBE9E7E99F94A08</td>\n",
       "      <td>2020-12-01 00:00:33</td>\n",
       "      <td>login</td>\n",
       "      <td>NaN</td>\n",
       "    </tr>\n",
       "    <tr>\n",
       "      <th>4</th>\n",
       "      <td>CCBE9E7E99F94A08</td>\n",
       "      <td>2020-12-01 00:00:52</td>\n",
       "      <td>product_page</td>\n",
       "      <td>NaN</td>\n",
       "    </tr>\n",
       "  </tbody>\n",
       "</table>\n",
       "</div>"
      ],
      "text/plain": [
       "            user_id            event_dt                        event_name  \\\n",
       "0            GLOBAL 2020-12-01 00:00:00  End of Black Friday Ads Campaign   \n",
       "1  CCBE9E7E99F94A08 2020-12-01 00:00:11                      registration   \n",
       "2            GLOBAL 2020-12-01 00:00:25                      product_page   \n",
       "3  CCBE9E7E99F94A08 2020-12-01 00:00:33                             login   \n",
       "4  CCBE9E7E99F94A08 2020-12-01 00:00:52                      product_page   \n",
       "\n",
       "       details  \n",
       "0  ZONE_CODE15  \n",
       "1          0.0  \n",
       "2          NaN  \n",
       "3          NaN  \n",
       "4          NaN  "
      ]
     },
     "execution_count": 15,
     "metadata": {},
     "output_type": "execute_result"
    }
   ],
   "source": [
    "events.head()"
   ]
  },
  {
   "cell_type": "code",
   "execution_count": 16,
   "id": "81ac2a83",
   "metadata": {},
   "outputs": [
    {
     "data": {
      "text/plain": [
       "0"
      ]
     },
     "execution_count": 16,
     "metadata": {},
     "output_type": "execute_result"
    }
   ],
   "source": [
    "# Проверка на дубликаты (использую два сабсета, потому что один и тот же пользователь мог учавствовать в разных тестах)\n",
    "participants.duplicated(subset=['user_id', 'ab_test']).sum()"
   ]
  },
  {
   "cell_type": "code",
   "execution_count": 17,
   "id": "59385141",
   "metadata": {},
   "outputs": [
    {
     "data": {
      "text/plain": [
       "82882"
      ]
     },
     "execution_count": 17,
     "metadata": {},
     "output_type": "execute_result"
    }
   ],
   "source": [
    "# Проверка на дубликаты (используя два сабсета, потому что один пользователь совершает множество действия, и сочетания времени операции и id должно быть уникальным)\n",
    "events.duplicated(subset=['user_id', 'event_dt']).sum()"
   ]
  },
  {
   "cell_type": "code",
   "execution_count": 18,
   "id": "b179f0e0",
   "metadata": {},
   "outputs": [
    {
     "name": "stdout",
     "output_type": "stream",
     "text": [
      "<class 'pandas.core.frame.DataFrame'>\n",
      "Index: 704404 entries, 0 to 787285\n",
      "Data columns (total 4 columns):\n",
      " #   Column      Non-Null Count   Dtype         \n",
      "---  ------      --------------   -----         \n",
      " 0   user_id     704404 non-null  object        \n",
      " 1   event_dt    704404 non-null  datetime64[ns]\n",
      " 2   event_name  704404 non-null  object        \n",
      " 3   details     222495 non-null  object        \n",
      "dtypes: datetime64[ns](1), object(3)\n",
      "memory usage: 26.9+ MB\n"
     ]
    }
   ],
   "source": [
    "events = events.drop_duplicates(subset=['user_id', 'event_dt'])\n",
    "events.info()"
   ]
  },
  {
   "cell_type": "markdown",
   "id": "CnzA-efasUrk",
   "metadata": {
    "id": "CnzA-efasUrk"
   },
   "source": [
    "## 3. Оценка корректности проведения теста по таблице `ab_test_participants`:\n",
    "\n",
    "### 3.1 Корректость разделения на группы"
   ]
  },
  {
   "cell_type": "code",
   "execution_count": 19,
   "id": "aNa3zHrKslEN",
   "metadata": {
    "id": "aNa3zHrKslEN"
   },
   "outputs": [
    {
     "data": {
      "text/html": [
       "<div>\n",
       "<style scoped>\n",
       "    .dataframe tbody tr th:only-of-type {\n",
       "        vertical-align: middle;\n",
       "    }\n",
       "\n",
       "    .dataframe tbody tr th {\n",
       "        vertical-align: top;\n",
       "    }\n",
       "\n",
       "    .dataframe thead th {\n",
       "        text-align: right;\n",
       "    }\n",
       "</style>\n",
       "<table border=\"1\" class=\"dataframe\">\n",
       "  <thead>\n",
       "    <tr style=\"text-align: right;\">\n",
       "      <th></th>\n",
       "      <th>user_id</th>\n",
       "      <th>group</th>\n",
       "      <th>ab_test</th>\n",
       "      <th>device</th>\n",
       "    </tr>\n",
       "  </thead>\n",
       "  <tbody>\n",
       "    <tr>\n",
       "      <th>0</th>\n",
       "      <td>0002CE61FF2C4011</td>\n",
       "      <td>B</td>\n",
       "      <td>interface_eu_test</td>\n",
       "      <td>Mac</td>\n",
       "    </tr>\n",
       "    <tr>\n",
       "      <th>2</th>\n",
       "      <td>001064FEAAB631A1</td>\n",
       "      <td>A</td>\n",
       "      <td>interface_eu_test</td>\n",
       "      <td>Android</td>\n",
       "    </tr>\n",
       "    <tr>\n",
       "      <th>4</th>\n",
       "      <td>001E72F50D1C48FA</td>\n",
       "      <td>A</td>\n",
       "      <td>interface_eu_test</td>\n",
       "      <td>Mac</td>\n",
       "    </tr>\n",
       "    <tr>\n",
       "      <th>5</th>\n",
       "      <td>002412F1EB3F6E38</td>\n",
       "      <td>B</td>\n",
       "      <td>interface_eu_test</td>\n",
       "      <td>Mac</td>\n",
       "    </tr>\n",
       "    <tr>\n",
       "      <th>6</th>\n",
       "      <td>002540BE89C930FB</td>\n",
       "      <td>B</td>\n",
       "      <td>interface_eu_test</td>\n",
       "      <td>Android</td>\n",
       "    </tr>\n",
       "    <tr>\n",
       "      <th>...</th>\n",
       "      <td>...</td>\n",
       "      <td>...</td>\n",
       "      <td>...</td>\n",
       "      <td>...</td>\n",
       "    </tr>\n",
       "    <tr>\n",
       "      <th>14519</th>\n",
       "      <td>FFE600EEC4BA7685</td>\n",
       "      <td>B</td>\n",
       "      <td>interface_eu_test</td>\n",
       "      <td>Android</td>\n",
       "    </tr>\n",
       "    <tr>\n",
       "      <th>14520</th>\n",
       "      <td>FFE7FC140521F5F6</td>\n",
       "      <td>A</td>\n",
       "      <td>interface_eu_test</td>\n",
       "      <td>PC</td>\n",
       "    </tr>\n",
       "    <tr>\n",
       "      <th>14521</th>\n",
       "      <td>FFEFC0E55C1CCD4F</td>\n",
       "      <td>A</td>\n",
       "      <td>interface_eu_test</td>\n",
       "      <td>PC</td>\n",
       "    </tr>\n",
       "    <tr>\n",
       "      <th>14523</th>\n",
       "      <td>FFF28D02B1EACBE1</td>\n",
       "      <td>B</td>\n",
       "      <td>interface_eu_test</td>\n",
       "      <td>PC</td>\n",
       "    </tr>\n",
       "    <tr>\n",
       "      <th>14524</th>\n",
       "      <td>FFF58BC33966EB51</td>\n",
       "      <td>A</td>\n",
       "      <td>interface_eu_test</td>\n",
       "      <td>Android</td>\n",
       "    </tr>\n",
       "  </tbody>\n",
       "</table>\n",
       "<p>10850 rows × 4 columns</p>\n",
       "</div>"
      ],
      "text/plain": [
       "                user_id group            ab_test   device\n",
       "0      0002CE61FF2C4011     B  interface_eu_test      Mac\n",
       "2      001064FEAAB631A1     A  interface_eu_test  Android\n",
       "4      001E72F50D1C48FA     A  interface_eu_test      Mac\n",
       "5      002412F1EB3F6E38     B  interface_eu_test      Mac\n",
       "6      002540BE89C930FB     B  interface_eu_test  Android\n",
       "...                 ...   ...                ...      ...\n",
       "14519  FFE600EEC4BA7685     B  interface_eu_test  Android\n",
       "14520  FFE7FC140521F5F6     A  interface_eu_test       PC\n",
       "14521  FFEFC0E55C1CCD4F     A  interface_eu_test       PC\n",
       "14523  FFF28D02B1EACBE1     B  interface_eu_test       PC\n",
       "14524  FFF58BC33966EB51     A  interface_eu_test  Android\n",
       "\n",
       "[10850 rows x 4 columns]"
      ]
     },
     "execution_count": 19,
     "metadata": {},
     "output_type": "execute_result"
    }
   ],
   "source": [
    "# Фильтруем только участников нужного теста\n",
    "participants = participants[participants['ab_test'] == 'interface_eu_test']\n",
    "participants"
   ]
  },
  {
   "cell_type": "code",
   "execution_count": 20,
   "id": "7a2e07b7",
   "metadata": {},
   "outputs": [
    {
     "name": "stdout",
     "output_type": "stream",
     "text": [
      "Разница между объемом групп А и В равна 1.56%\n"
     ]
    }
   ],
   "source": [
    "# Проверяем процентную разницу между группами\n",
    "users = participants.groupby('group')['user_id'].count()\n",
    "pers = round(100 * abs(users.iloc[0] - users.iloc[1]) / users.iloc[0], 2)\n",
    "print(f'Разница между объемом групп А и В равна {pers}%')"
   ]
  },
  {
   "cell_type": "code",
   "execution_count": 21,
   "id": "df879220",
   "metadata": {},
   "outputs": [
    {
     "data": {
      "text/plain": [
       "[]"
      ]
     },
     "execution_count": 21,
     "metadata": {},
     "output_type": "execute_result"
    }
   ],
   "source": [
    "# Выборка id пользователей по группам\n",
    "A = participants[participants['group'] == 'A']['user_id']\n",
    "B = participants[participants['group'] == 'B']['user_id']\n",
    "\n",
    "# Проверка пересечения групп\n",
    "intersection = list(set(A) & set(B))\n",
    "intersection"
   ]
  },
  {
   "cell_type": "markdown",
   "id": "8eb155cc",
   "metadata": {},
   "source": [
    "Выводы о корректности\n",
    "- Разница между объемами групп составляет 1,56%, она небольшая, можно пренебречь\n",
    "- Выборки независимы, пересечния не обнаружены\n",
    "- АB тест проходит корректно"
   ]
  },
  {
   "cell_type": "markdown",
   "id": "GjulgSrlsqUU",
   "metadata": {
    "id": "GjulgSrlsqUU"
   },
   "source": [
    "### 3.2 Анализ данных о пользовательской активности по таблице `ab_test_events`:"
   ]
  },
  {
   "cell_type": "code",
   "execution_count": 22,
   "id": "QMt0Ybo_swDK",
   "metadata": {
    "id": "QMt0Ybo_swDK"
   },
   "outputs": [
    {
     "data": {
      "text/html": [
       "<div>\n",
       "<style scoped>\n",
       "    .dataframe tbody tr th:only-of-type {\n",
       "        vertical-align: middle;\n",
       "    }\n",
       "\n",
       "    .dataframe tbody tr th {\n",
       "        vertical-align: top;\n",
       "    }\n",
       "\n",
       "    .dataframe thead th {\n",
       "        text-align: right;\n",
       "    }\n",
       "</style>\n",
       "<table border=\"1\" class=\"dataframe\">\n",
       "  <thead>\n",
       "    <tr style=\"text-align: right;\">\n",
       "      <th></th>\n",
       "      <th>user_id</th>\n",
       "      <th>event_dt</th>\n",
       "      <th>event_name</th>\n",
       "      <th>details</th>\n",
       "    </tr>\n",
       "  </thead>\n",
       "  <tbody>\n",
       "    <tr>\n",
       "      <th>64672</th>\n",
       "      <td>5F506CEBEDC05D30</td>\n",
       "      <td>2020-12-06 14:10:01</td>\n",
       "      <td>registration</td>\n",
       "      <td>0.0</td>\n",
       "    </tr>\n",
       "    <tr>\n",
       "      <th>64946</th>\n",
       "      <td>51278A006E918D97</td>\n",
       "      <td>2020-12-06 14:37:25</td>\n",
       "      <td>registration</td>\n",
       "      <td>-3.8</td>\n",
       "    </tr>\n",
       "    <tr>\n",
       "      <th>66585</th>\n",
       "      <td>A0C1E8EFAD874D8B</td>\n",
       "      <td>2020-12-06 17:20:22</td>\n",
       "      <td>registration</td>\n",
       "      <td>-3.32</td>\n",
       "    </tr>\n",
       "    <tr>\n",
       "      <th>67873</th>\n",
       "      <td>275A8D6254ACF530</td>\n",
       "      <td>2020-12-06 19:36:54</td>\n",
       "      <td>registration</td>\n",
       "      <td>-0.48</td>\n",
       "    </tr>\n",
       "    <tr>\n",
       "      <th>67930</th>\n",
       "      <td>0B704EB2DC7FCA4B</td>\n",
       "      <td>2020-12-06 19:42:20</td>\n",
       "      <td>registration</td>\n",
       "      <td>0.0</td>\n",
       "    </tr>\n",
       "    <tr>\n",
       "      <th>...</th>\n",
       "      <td>...</td>\n",
       "      <td>...</td>\n",
       "      <td>...</td>\n",
       "      <td>...</td>\n",
       "    </tr>\n",
       "    <tr>\n",
       "      <th>777488</th>\n",
       "      <td>F80C9BDDEA02E53C</td>\n",
       "      <td>2020-12-30 10:03:51</td>\n",
       "      <td>purchase</td>\n",
       "      <td>4.49</td>\n",
       "    </tr>\n",
       "    <tr>\n",
       "      <th>777489</th>\n",
       "      <td>F80C9BDDEA02E53C</td>\n",
       "      <td>2020-12-30 10:03:52</td>\n",
       "      <td>product_cart</td>\n",
       "      <td>NaN</td>\n",
       "    </tr>\n",
       "    <tr>\n",
       "      <th>778138</th>\n",
       "      <td>6181F3835EBE66BF</td>\n",
       "      <td>2020-12-30 12:10:39</td>\n",
       "      <td>product_cart</td>\n",
       "      <td>NaN</td>\n",
       "    </tr>\n",
       "    <tr>\n",
       "      <th>778369</th>\n",
       "      <td>DD4352CDCF8C3D57</td>\n",
       "      <td>2020-12-30 12:47:46</td>\n",
       "      <td>product_page</td>\n",
       "      <td>NaN</td>\n",
       "    </tr>\n",
       "    <tr>\n",
       "      <th>780371</th>\n",
       "      <td>9DF4F595A906A0BA</td>\n",
       "      <td>2020-12-30 18:34:08</td>\n",
       "      <td>product_page</td>\n",
       "      <td>NaN</td>\n",
       "    </tr>\n",
       "  </tbody>\n",
       "</table>\n",
       "<p>67688 rows × 4 columns</p>\n",
       "</div>"
      ],
      "text/plain": [
       "                 user_id            event_dt    event_name details\n",
       "64672   5F506CEBEDC05D30 2020-12-06 14:10:01  registration     0.0\n",
       "64946   51278A006E918D97 2020-12-06 14:37:25  registration    -3.8\n",
       "66585   A0C1E8EFAD874D8B 2020-12-06 17:20:22  registration   -3.32\n",
       "67873   275A8D6254ACF530 2020-12-06 19:36:54  registration   -0.48\n",
       "67930   0B704EB2DC7FCA4B 2020-12-06 19:42:20  registration     0.0\n",
       "...                  ...                 ...           ...     ...\n",
       "777488  F80C9BDDEA02E53C 2020-12-30 10:03:51      purchase    4.49\n",
       "777489  F80C9BDDEA02E53C 2020-12-30 10:03:52  product_cart     NaN\n",
       "778138  6181F3835EBE66BF 2020-12-30 12:10:39  product_cart     NaN\n",
       "778369  DD4352CDCF8C3D57 2020-12-30 12:47:46  product_page     NaN\n",
       "780371  9DF4F595A906A0BA 2020-12-30 18:34:08  product_page     NaN\n",
       "\n",
       "[67688 rows x 4 columns]"
      ]
     },
     "execution_count": 22,
     "metadata": {},
     "output_type": "execute_result"
    }
   ],
   "source": [
    "# Оставляем только события из нужного теста\n",
    "events = events[events['user_id'].isin(participants['user_id'])]\n",
    "events"
   ]
  },
  {
   "cell_type": "markdown",
   "id": "fBZ4DC2xswZJ",
   "metadata": {
    "id": "fBZ4DC2xswZJ"
   },
   "source": [
    "- определите горизонт анализа: рассчитайте время (лайфтайм) совершения события пользователем после регистрации и оставьте только те события, которые были выполнены в течение первых семи дней с момента регистрации;"
   ]
  },
  {
   "cell_type": "code",
   "execution_count": 23,
   "id": "sES4-dKts0Yb",
   "metadata": {
    "id": "sES4-dKts0Yb"
   },
   "outputs": [
    {
     "data": {
      "text/html": [
       "<div>\n",
       "<style scoped>\n",
       "    .dataframe tbody tr th:only-of-type {\n",
       "        vertical-align: middle;\n",
       "    }\n",
       "\n",
       "    .dataframe tbody tr th {\n",
       "        vertical-align: top;\n",
       "    }\n",
       "\n",
       "    .dataframe thead th {\n",
       "        text-align: right;\n",
       "    }\n",
       "</style>\n",
       "<table border=\"1\" class=\"dataframe\">\n",
       "  <thead>\n",
       "    <tr style=\"text-align: right;\">\n",
       "      <th></th>\n",
       "      <th>user_id</th>\n",
       "      <th>reg_dt</th>\n",
       "    </tr>\n",
       "  </thead>\n",
       "  <tbody>\n",
       "    <tr>\n",
       "      <th>64672</th>\n",
       "      <td>5F506CEBEDC05D30</td>\n",
       "      <td>2020-12-06 14:10:01</td>\n",
       "    </tr>\n",
       "    <tr>\n",
       "      <th>64946</th>\n",
       "      <td>51278A006E918D97</td>\n",
       "      <td>2020-12-06 14:37:25</td>\n",
       "    </tr>\n",
       "    <tr>\n",
       "      <th>66585</th>\n",
       "      <td>A0C1E8EFAD874D8B</td>\n",
       "      <td>2020-12-06 17:20:22</td>\n",
       "    </tr>\n",
       "    <tr>\n",
       "      <th>67873</th>\n",
       "      <td>275A8D6254ACF530</td>\n",
       "      <td>2020-12-06 19:36:54</td>\n",
       "    </tr>\n",
       "    <tr>\n",
       "      <th>67930</th>\n",
       "      <td>0B704EB2DC7FCA4B</td>\n",
       "      <td>2020-12-06 19:42:20</td>\n",
       "    </tr>\n",
       "    <tr>\n",
       "      <th>...</th>\n",
       "      <td>...</td>\n",
       "      <td>...</td>\n",
       "    </tr>\n",
       "    <tr>\n",
       "      <th>654461</th>\n",
       "      <td>337CF51CF67A9304</td>\n",
       "      <td>2020-12-23 23:42:48</td>\n",
       "    </tr>\n",
       "    <tr>\n",
       "      <th>654517</th>\n",
       "      <td>52B5A81EFC31AF1D</td>\n",
       "      <td>2020-12-23 23:44:45</td>\n",
       "    </tr>\n",
       "    <tr>\n",
       "      <th>654518</th>\n",
       "      <td>B1D88FBD4BA58E1B</td>\n",
       "      <td>2020-12-23 23:44:47</td>\n",
       "    </tr>\n",
       "    <tr>\n",
       "      <th>654640</th>\n",
       "      <td>16CCB1C8C4DCF1AF</td>\n",
       "      <td>2020-12-23 23:50:29</td>\n",
       "    </tr>\n",
       "    <tr>\n",
       "      <th>680872</th>\n",
       "      <td>2DDC948BD76ABC57</td>\n",
       "      <td>2020-12-24 21:57:10</td>\n",
       "    </tr>\n",
       "  </tbody>\n",
       "</table>\n",
       "<p>9386 rows × 2 columns</p>\n",
       "</div>"
      ],
      "text/plain": [
       "                 user_id              reg_dt\n",
       "64672   5F506CEBEDC05D30 2020-12-06 14:10:01\n",
       "64946   51278A006E918D97 2020-12-06 14:37:25\n",
       "66585   A0C1E8EFAD874D8B 2020-12-06 17:20:22\n",
       "67873   275A8D6254ACF530 2020-12-06 19:36:54\n",
       "67930   0B704EB2DC7FCA4B 2020-12-06 19:42:20\n",
       "...                  ...                 ...\n",
       "654461  337CF51CF67A9304 2020-12-23 23:42:48\n",
       "654517  52B5A81EFC31AF1D 2020-12-23 23:44:45\n",
       "654518  B1D88FBD4BA58E1B 2020-12-23 23:44:47\n",
       "654640  16CCB1C8C4DCF1AF 2020-12-23 23:50:29\n",
       "680872  2DDC948BD76ABC57 2020-12-24 21:57:10\n",
       "\n",
       "[9386 rows x 2 columns]"
      ]
     },
     "execution_count": 23,
     "metadata": {},
     "output_type": "execute_result"
    }
   ],
   "source": [
    "# Создаем датафрейм с днями регистрации пользователей\n",
    "reg = events[events['event_name'] == 'registration'][['user_id', 'event_dt']]\n",
    "reg = reg.rename(columns={'event_dt': 'reg_dt'})\n",
    "reg"
   ]
  },
  {
   "cell_type": "code",
   "execution_count": 24,
   "id": "27f289e7",
   "metadata": {},
   "outputs": [
    {
     "data": {
      "text/html": [
       "<div>\n",
       "<style scoped>\n",
       "    .dataframe tbody tr th:only-of-type {\n",
       "        vertical-align: middle;\n",
       "    }\n",
       "\n",
       "    .dataframe tbody tr th {\n",
       "        vertical-align: top;\n",
       "    }\n",
       "\n",
       "    .dataframe thead th {\n",
       "        text-align: right;\n",
       "    }\n",
       "</style>\n",
       "<table border=\"1\" class=\"dataframe\">\n",
       "  <thead>\n",
       "    <tr style=\"text-align: right;\">\n",
       "      <th></th>\n",
       "      <th>user_id</th>\n",
       "      <th>event_dt</th>\n",
       "      <th>event_name</th>\n",
       "      <th>details</th>\n",
       "      <th>reg_dt</th>\n",
       "      <th>days_between</th>\n",
       "    </tr>\n",
       "  </thead>\n",
       "  <tbody>\n",
       "    <tr>\n",
       "      <th>0</th>\n",
       "      <td>5F506CEBEDC05D30</td>\n",
       "      <td>2020-12-06 14:10:01</td>\n",
       "      <td>registration</td>\n",
       "      <td>0.0</td>\n",
       "      <td>2020-12-06 14:10:01</td>\n",
       "      <td>0.0</td>\n",
       "    </tr>\n",
       "    <tr>\n",
       "      <th>1</th>\n",
       "      <td>51278A006E918D97</td>\n",
       "      <td>2020-12-06 14:37:25</td>\n",
       "      <td>registration</td>\n",
       "      <td>-3.8</td>\n",
       "      <td>2020-12-06 14:37:25</td>\n",
       "      <td>0.0</td>\n",
       "    </tr>\n",
       "    <tr>\n",
       "      <th>2</th>\n",
       "      <td>A0C1E8EFAD874D8B</td>\n",
       "      <td>2020-12-06 17:20:22</td>\n",
       "      <td>registration</td>\n",
       "      <td>-3.32</td>\n",
       "      <td>2020-12-06 17:20:22</td>\n",
       "      <td>0.0</td>\n",
       "    </tr>\n",
       "    <tr>\n",
       "      <th>3</th>\n",
       "      <td>275A8D6254ACF530</td>\n",
       "      <td>2020-12-06 19:36:54</td>\n",
       "      <td>registration</td>\n",
       "      <td>-0.48</td>\n",
       "      <td>2020-12-06 19:36:54</td>\n",
       "      <td>0.0</td>\n",
       "    </tr>\n",
       "    <tr>\n",
       "      <th>4</th>\n",
       "      <td>0B704EB2DC7FCA4B</td>\n",
       "      <td>2020-12-06 19:42:20</td>\n",
       "      <td>registration</td>\n",
       "      <td>0.0</td>\n",
       "      <td>2020-12-06 19:42:20</td>\n",
       "      <td>0.0</td>\n",
       "    </tr>\n",
       "    <tr>\n",
       "      <th>...</th>\n",
       "      <td>...</td>\n",
       "      <td>...</td>\n",
       "      <td>...</td>\n",
       "      <td>...</td>\n",
       "      <td>...</td>\n",
       "      <td>...</td>\n",
       "    </tr>\n",
       "    <tr>\n",
       "      <th>67664</th>\n",
       "      <td>D4E530F6595A05A3</td>\n",
       "      <td>2020-12-29 23:39:54</td>\n",
       "      <td>product_cart</td>\n",
       "      <td>NaN</td>\n",
       "      <td>2020-12-22 06:00:57</td>\n",
       "      <td>7.0</td>\n",
       "    </tr>\n",
       "    <tr>\n",
       "      <th>67666</th>\n",
       "      <td>31DBDCA380DD035F</td>\n",
       "      <td>2020-12-29 23:41:16</td>\n",
       "      <td>product_page</td>\n",
       "      <td>NaN</td>\n",
       "      <td>2020-12-23 18:11:40</td>\n",
       "      <td>6.0</td>\n",
       "    </tr>\n",
       "    <tr>\n",
       "      <th>67670</th>\n",
       "      <td>E6D34EE376AADC42</td>\n",
       "      <td>2020-12-29 23:45:33</td>\n",
       "      <td>product_cart</td>\n",
       "      <td>NaN</td>\n",
       "      <td>2020-12-22 02:50:40</td>\n",
       "      <td>7.0</td>\n",
       "    </tr>\n",
       "    <tr>\n",
       "      <th>67671</th>\n",
       "      <td>E6D34EE376AADC42</td>\n",
       "      <td>2020-12-29 23:46:13</td>\n",
       "      <td>product_cart</td>\n",
       "      <td>NaN</td>\n",
       "      <td>2020-12-22 02:50:40</td>\n",
       "      <td>7.0</td>\n",
       "    </tr>\n",
       "    <tr>\n",
       "      <th>67672</th>\n",
       "      <td>E6D34EE376AADC42</td>\n",
       "      <td>2020-12-29 23:46:38</td>\n",
       "      <td>product_cart</td>\n",
       "      <td>NaN</td>\n",
       "      <td>2020-12-22 02:50:40</td>\n",
       "      <td>7.0</td>\n",
       "    </tr>\n",
       "  </tbody>\n",
       "</table>\n",
       "<p>51938 rows × 6 columns</p>\n",
       "</div>"
      ],
      "text/plain": [
       "                user_id            event_dt    event_name details  \\\n",
       "0      5F506CEBEDC05D30 2020-12-06 14:10:01  registration     0.0   \n",
       "1      51278A006E918D97 2020-12-06 14:37:25  registration    -3.8   \n",
       "2      A0C1E8EFAD874D8B 2020-12-06 17:20:22  registration   -3.32   \n",
       "3      275A8D6254ACF530 2020-12-06 19:36:54  registration   -0.48   \n",
       "4      0B704EB2DC7FCA4B 2020-12-06 19:42:20  registration     0.0   \n",
       "...                 ...                 ...           ...     ...   \n",
       "67664  D4E530F6595A05A3 2020-12-29 23:39:54  product_cart     NaN   \n",
       "67666  31DBDCA380DD035F 2020-12-29 23:41:16  product_page     NaN   \n",
       "67670  E6D34EE376AADC42 2020-12-29 23:45:33  product_cart     NaN   \n",
       "67671  E6D34EE376AADC42 2020-12-29 23:46:13  product_cart     NaN   \n",
       "67672  E6D34EE376AADC42 2020-12-29 23:46:38  product_cart     NaN   \n",
       "\n",
       "                   reg_dt  days_between  \n",
       "0     2020-12-06 14:10:01           0.0  \n",
       "1     2020-12-06 14:37:25           0.0  \n",
       "2     2020-12-06 17:20:22           0.0  \n",
       "3     2020-12-06 19:36:54           0.0  \n",
       "4     2020-12-06 19:42:20           0.0  \n",
       "...                   ...           ...  \n",
       "67664 2020-12-22 06:00:57           7.0  \n",
       "67666 2020-12-23 18:11:40           6.0  \n",
       "67670 2020-12-22 02:50:40           7.0  \n",
       "67671 2020-12-22 02:50:40           7.0  \n",
       "67672 2020-12-22 02:50:40           7.0  \n",
       "\n",
       "[51938 rows x 6 columns]"
      ]
     },
     "execution_count": 24,
     "metadata": {},
     "output_type": "execute_result"
    }
   ],
   "source": [
    "# Соединяем с таблицей событий\n",
    "events = events.merge(reg, how='left')\n",
    "\n",
    "# Подсчитываем количество дней между регистрацией и любым другим событием\n",
    "events['days_between'] = (events['event_dt'] - events['reg_dt']).dt.days\n",
    "\n",
    "# Фильтруем события, чтобы остались только 7 первых дней\n",
    "events = events[events['days_between'] <= 7]\n",
    "events"
   ]
  },
  {
   "cell_type": "markdown",
   "id": "7cf1df48",
   "metadata": {},
   "source": [
    "Оцените достаточность выборки для получения статистически значимых результатов A/B-теста. Заданные параметры:\n",
    "\n",
    "- базовый показатель конверсии — 30%,\n",
    "\n",
    "- мощность теста — 80%,\n",
    "\n",
    "- достоверность теста — 95%."
   ]
  },
  {
   "cell_type": "code",
   "execution_count": 25,
   "id": "7d97b466",
   "metadata": {},
   "outputs": [
    {
     "name": "stdout",
     "output_type": "stream",
     "text": [
      "Необходимый размер выборки для каждой группы: 3761\n"
     ]
    }
   ],
   "source": [
    "# Задаём параметры\n",
    "alpha = 0.05  # Уровень значимости\n",
    "beta = 0.2  # Ошибка второго рода, часто 1 - мощность\n",
    "power = 1 - beta  # Мощность теста\n",
    "p = 0.3\n",
    "mde = 0.03  # Минимальный детектируемый эффект\n",
    "\n",
    "# Инициализируем класс NormalIndPower\n",
    "power_analysis = NormalIndPower()\n",
    "\n",
    "# Рассчитываем размер выборки\n",
    "sample_size = power_analysis.solve_power(\n",
    "    effect_size = abs(2 *  (np.arcsin(np.sqrt(p)) - np.arcsin(np.sqrt(p + mde)))),\n",
    "    power = power,\n",
    "    alpha = alpha,\n",
    "    ratio = 1 # Равномерное распределение выборок\n",
    ")\n",
    "\n",
    "print(f\"Необходимый размер выборки для каждой группы: {int(sample_size)}\")"
   ]
  },
  {
   "cell_type": "code",
   "execution_count": 26,
   "id": "7ph853Xks4sy",
   "metadata": {
    "id": "7ph853Xks4sy"
   },
   "outputs": [],
   "source": [
    "# Объединяем таблицу событий с таблицей участников\n",
    "events = events.merge(participants, how='inner')"
   ]
  },
  {
   "cell_type": "code",
   "execution_count": 27,
   "id": "72fbad8f",
   "metadata": {},
   "outputs": [
    {
     "data": {
      "text/plain": [
       "group\n",
       "A    1081\n",
       "B    1198\n",
       "Name: user_id, dtype: int64"
      ]
     },
     "execution_count": 27,
     "metadata": {},
     "output_type": "execute_result"
    }
   ],
   "source": [
    "# Подсчитываем количество пользователей, которые сделали покупку\n",
    "events[events['event_name'] == 'purchase'].groupby('group')['user_id'].nunique()"
   ]
  },
  {
   "cell_type": "code",
   "execution_count": 28,
   "id": "9880aa71",
   "metadata": {},
   "outputs": [
    {
     "data": {
      "text/plain": [
       "group\n",
       "A    4693\n",
       "B    4693\n",
       "Name: user_id, dtype: int64"
      ]
     },
     "execution_count": 28,
     "metadata": {},
     "output_type": "execute_result"
    }
   ],
   "source": [
    "# Подсчитываем общее количество пользователей\n",
    "events.groupby('group')['user_id'].nunique()"
   ]
  },
  {
   "cell_type": "markdown",
   "id": "38de6b0b",
   "metadata": {},
   "source": [
    "Размеры каждой группы больше рекомендованных, то есть выборки достаточны для получения статистически значимых результатов"
   ]
  },
  {
   "cell_type": "markdown",
   "id": "aee92339",
   "metadata": {
    "id": "hHTHPkJYs8mE"
   },
   "source": [
    " На данный момент можно сказать, что количество пользователей, совершивших покупки, в контрольной группе меньше, однако и общее количество пользователей там меньше, поэтому нельзя сделать одназанчный вывод"
   ]
  },
  {
   "cell_type": "markdown",
   "id": "IKZ1Oo3Ws919",
   "metadata": {
    "id": "IKZ1Oo3Ws919"
   },
   "source": [
    "## 4. Оценка результатов A/B-тестирования:"
   ]
  },
  {
   "cell_type": "markdown",
   "id": "4f728862",
   "metadata": {},
   "source": [
    "Так как коэффициент конверсии долевая метрика используем Z-тест \\\n",
    "Уровень значимости остается прежним 0.05 \\\n",
    "Сформулируем гипотезу:\\\n",
    "Н0: коэффициент конверсии в тестовой группе меньше или равен коэффициенту из контрольной группы В <= A \\\n",
    "Н1: коэффициент конверсии в тестовой группе больше коэффициента из контрольной группы В > A "
   ]
  },
  {
   "cell_type": "code",
   "execution_count": 29,
   "id": "l_KOziBQtL3t",
   "metadata": {
    "id": "l_KOziBQtL3t"
   },
   "outputs": [
    {
     "name": "stdout",
     "output_type": "stream",
     "text": [
      "Предпосылка о достаточном количестве данных выполняется\n"
     ]
    }
   ],
   "source": [
    "# Проверка достаточности данных\n",
    "# Размеры выборок A и B\n",
    "n_a, n_b = events[events.group=='A'].shape[0], events[events.group=='B'].shape[0] \n",
    "# Количество успешных сессий в группе A\n",
    "m_a = events[(events.group=='A')&(events.event_name=='purchase')].shape[0] \n",
    "# Количество успешных сессий в группе В\n",
    "m_b = events[(events.group=='B')&(events.event_name=='purchase')].shape[0] \n",
    "# Рассчитываем доли успешных сессий A и B\n",
    "p_a, p_b = m_a/n_a, m_b/n_b \n",
    "\n",
    "if (p_a*n_a > 10)and((1-p_a)*n_a > 10)and(p_b*n_b > 10)and((1-p_b)*n_b > 10):\n",
    "    print('Предпосылка о достаточном количестве данных выполняется')\n",
    "else:\n",
    "    print('Предпосылка о достаточном количестве данных не выполняется')"
   ]
  },
  {
   "cell_type": "code",
   "execution_count": 30,
   "id": "9133cbff",
   "metadata": {},
   "outputs": [
    {
     "name": "stdout",
     "output_type": "stream",
     "text": [
      "p-value теста Z-теста = 9.289502938577522e-17\n",
      "Нулевая гипотеза не находит подтверждения! Изменение в метрике является статистически значимым\n"
     ]
    }
   ],
   "source": [
    "# Проведение Z-теста\n",
    "stats_ztest, p = proportions_ztest(\n",
    "    [m_b, m_a],\n",
    "    [n_b, n_a],\n",
    "    alternative='larger'\n",
    ")\n",
    "\n",
    "print(f'p-value теста Z-теста = {p}')\n",
    "if p > alpha:\n",
    "    print('Нулевая гипотеза находит подтверждение! Изменение в метрике не является статистически значимым')\n",
    "else:\n",
    "    print('Нулевая гипотеза не находит подтверждения! Изменение в метрике является статистически значимым')"
   ]
  },
  {
   "cell_type": "markdown",
   "id": "0c0d42c9",
   "metadata": {},
   "source": [
    "Выводы по результатам AB-теста: \n",
    "* AB-тест был проведен кореектно: группы примерно равные, пересечений нет, объем групп достаточен для получения статистически значимых результатов\n",
    "* P-value составило 9.289502938577522e-17, значит по итогам AB-теста внедрение нового интерфейса сайта положительно повлияло на ключевую метрику, а именно коэффициент конверсии"
   ]
  }
 ],
 "metadata": {
  "ExecuteTimeLog": [
   {
    "duration": 50,
    "start_time": "2025-05-29T05:49:44.753Z"
   },
   {
    "duration": 502,
    "start_time": "2025-05-29T05:49:48.268Z"
   },
   {
    "duration": 186,
    "start_time": "2025-05-29T05:49:48.998Z"
   },
   {
    "duration": 5,
    "start_time": "2025-05-29T05:51:10.903Z"
   },
   {
    "duration": 5,
    "start_time": "2025-05-29T05:51:23.566Z"
   },
   {
    "duration": 7,
    "start_time": "2025-05-29T05:53:02.772Z"
   },
   {
    "duration": 71,
    "start_time": "2025-05-29T05:53:16.731Z"
   },
   {
    "duration": 12,
    "start_time": "2025-05-29T05:53:28.547Z"
   },
   {
    "duration": 33,
    "start_time": "2025-05-29T05:53:54.462Z"
   },
   {
    "duration": 435,
    "start_time": "2025-05-29T05:54:12.689Z"
   },
   {
    "duration": 83,
    "start_time": "2025-05-29T05:54:13.126Z"
   },
   {
    "duration": 9,
    "start_time": "2025-05-29T05:54:13.395Z"
   },
   {
    "duration": 12,
    "start_time": "2025-05-29T05:54:15.615Z"
   },
   {
    "duration": 7,
    "start_time": "2025-05-29T05:57:27.608Z"
   },
   {
    "duration": 12,
    "start_time": "2025-05-29T06:01:45.350Z"
   },
   {
    "duration": 8,
    "start_time": "2025-05-29T06:02:22.629Z"
   },
   {
    "duration": 453,
    "start_time": "2025-05-29T06:03:45.042Z"
   },
   {
    "duration": 76,
    "start_time": "2025-05-29T06:03:54.230Z"
   },
   {
    "duration": 139,
    "start_time": "2025-05-29T06:04:46.415Z"
   },
   {
    "duration": 119,
    "start_time": "2025-05-29T06:06:15.084Z"
   },
   {
    "duration": 127,
    "start_time": "2025-05-29T06:10:26.426Z"
   },
   {
    "duration": 123,
    "start_time": "2025-05-29T06:13:33.916Z"
   },
   {
    "duration": 48,
    "start_time": "2025-05-31T09:17:54.075Z"
   },
   {
    "duration": 857,
    "start_time": "2025-05-31T09:17:59.981Z"
   },
   {
    "duration": 142,
    "start_time": "2025-05-31T09:18:00.840Z"
   },
   {
    "duration": 13,
    "start_time": "2025-05-31T09:18:00.984Z"
   },
   {
    "duration": 16,
    "start_time": "2025-05-31T09:18:00.999Z"
   },
   {
    "duration": 11,
    "start_time": "2025-05-31T09:18:01.189Z"
   },
   {
    "duration": 6,
    "start_time": "2025-05-31T09:18:01.414Z"
   },
   {
    "duration": 7,
    "start_time": "2025-05-31T09:18:01.821Z"
   },
   {
    "duration": 140,
    "start_time": "2025-05-31T09:18:02.023Z"
   },
   {
    "duration": 130,
    "start_time": "2025-05-31T09:21:17.026Z"
   },
   {
    "duration": 130,
    "start_time": "2025-05-31T09:21:35.355Z"
   },
   {
    "duration": 133,
    "start_time": "2025-05-31T09:21:41.256Z"
   },
   {
    "duration": 444,
    "start_time": "2025-05-31T09:24:00.523Z"
   },
   {
    "duration": 418,
    "start_time": "2025-05-31T09:24:41.808Z"
   },
   {
    "duration": 294,
    "start_time": "2025-05-31T09:25:05.951Z"
   },
   {
    "duration": 152,
    "start_time": "2025-05-31T09:25:25.548Z"
   },
   {
    "duration": 340,
    "start_time": "2025-05-31T09:25:34.700Z"
   },
   {
    "duration": 237,
    "start_time": "2025-05-31T09:27:11.766Z"
   },
   {
    "duration": 9,
    "start_time": "2025-05-31T09:29:11.041Z"
   },
   {
    "duration": 18,
    "start_time": "2025-05-31T09:29:50.288Z"
   },
   {
    "duration": 7,
    "start_time": "2025-05-31T09:32:11.529Z"
   },
   {
    "duration": 8,
    "start_time": "2025-05-31T09:32:44.588Z"
   },
   {
    "duration": 36,
    "start_time": "2025-05-31T09:32:50.226Z"
   },
   {
    "duration": 51,
    "start_time": "2025-05-31T12:11:11.471Z"
   },
   {
    "duration": 966,
    "start_time": "2025-05-31T12:11:18.294Z"
   },
   {
    "duration": 69,
    "start_time": "2025-05-31T12:11:19.264Z"
   },
   {
    "duration": 16,
    "start_time": "2025-05-31T12:11:19.335Z"
   },
   {
    "duration": 37,
    "start_time": "2025-05-31T12:11:19.354Z"
   },
   {
    "duration": 37,
    "start_time": "2025-05-31T12:11:19.393Z"
   },
   {
    "duration": 24,
    "start_time": "2025-05-31T12:11:19.485Z"
   },
   {
    "duration": 8,
    "start_time": "2025-05-31T12:11:19.909Z"
   },
   {
    "duration": 7,
    "start_time": "2025-05-31T12:11:21.489Z"
   },
   {
    "duration": 8,
    "start_time": "2025-05-31T12:11:22.640Z"
   },
   {
    "duration": 271,
    "start_time": "2025-05-31T12:11:24.986Z"
   },
   {
    "duration": 484,
    "start_time": "2025-05-31T12:13:20.785Z"
   },
   {
    "duration": 6,
    "start_time": "2025-05-31T12:15:34.891Z"
   },
   {
    "duration": 6,
    "start_time": "2025-05-31T12:18:21.654Z"
   },
   {
    "duration": 5,
    "start_time": "2025-05-31T12:19:14.293Z"
   },
   {
    "duration": 5,
    "start_time": "2025-05-31T12:20:00.189Z"
   },
   {
    "duration": 6,
    "start_time": "2025-05-31T12:29:39.460Z"
   },
   {
    "duration": 1344,
    "start_time": "2025-06-01T02:53:17.268Z"
   },
   {
    "duration": 133,
    "start_time": "2025-06-01T02:53:18.614Z"
   },
   {
    "duration": 13,
    "start_time": "2025-06-01T02:53:18.748Z"
   },
   {
    "duration": 4,
    "start_time": "2025-06-01T02:53:18.763Z"
   },
   {
    "duration": 12,
    "start_time": "2025-06-01T02:53:18.769Z"
   },
   {
    "duration": 7,
    "start_time": "2025-06-01T02:53:18.783Z"
   },
   {
    "duration": 7,
    "start_time": "2025-06-01T02:53:18.982Z"
   },
   {
    "duration": 8,
    "start_time": "2025-06-01T02:53:19.194Z"
   },
   {
    "duration": 10,
    "start_time": "2025-06-01T02:53:19.415Z"
   },
   {
    "duration": 265,
    "start_time": "2025-06-01T02:53:19.880Z"
   },
   {
    "duration": 5,
    "start_time": "2025-06-01T02:53:20.774Z"
   },
   {
    "duration": 1627,
    "start_time": "2025-06-01T02:53:44.823Z"
   },
   {
    "duration": 13,
    "start_time": "2025-06-01T02:54:07.691Z"
   },
   {
    "duration": 115,
    "start_time": "2025-06-01T02:54:21.634Z"
   },
   {
    "duration": 9,
    "start_time": "2025-06-01T02:54:51.642Z"
   },
   {
    "duration": 9,
    "start_time": "2025-06-01T02:55:21.807Z"
   },
   {
    "duration": 72,
    "start_time": "2025-06-02T08:08:38.957Z"
   },
   {
    "duration": 1488,
    "start_time": "2025-06-02T08:08:47.972Z"
   },
   {
    "duration": 57,
    "start_time": "2025-06-02T08:08:49.462Z"
   },
   {
    "duration": 15,
    "start_time": "2025-06-02T08:08:49.520Z"
   },
   {
    "duration": 5,
    "start_time": "2025-06-02T08:08:49.537Z"
   },
   {
    "duration": 25,
    "start_time": "2025-06-02T08:08:49.544Z"
   },
   {
    "duration": 8,
    "start_time": "2025-06-02T08:08:49.570Z"
   },
   {
    "duration": 8,
    "start_time": "2025-06-02T08:08:49.866Z"
   },
   {
    "duration": 8,
    "start_time": "2025-06-02T08:08:49.906Z"
   },
   {
    "duration": 10,
    "start_time": "2025-06-02T08:08:49.922Z"
   },
   {
    "duration": 296,
    "start_time": "2025-06-02T08:08:49.965Z"
   },
   {
    "duration": 6,
    "start_time": "2025-06-02T08:08:50.263Z"
   },
   {
    "duration": 1815,
    "start_time": "2025-06-02T08:08:50.271Z"
   },
   {
    "duration": 14,
    "start_time": "2025-06-02T08:08:52.088Z"
   },
   {
    "duration": 14,
    "start_time": "2025-06-02T08:08:52.104Z"
   },
   {
    "duration": 26,
    "start_time": "2025-06-02T08:08:52.120Z"
   },
   {
    "duration": 14,
    "start_time": "2025-06-02T08:09:37.800Z"
   },
   {
    "duration": 8,
    "start_time": "2025-06-02T08:10:39.166Z"
   },
   {
    "duration": 13,
    "start_time": "2025-06-02T08:15:10.197Z"
   },
   {
    "duration": 7,
    "start_time": "2025-06-02T08:15:58.077Z"
   },
   {
    "duration": 12,
    "start_time": "2025-06-02T08:16:05.737Z"
   },
   {
    "duration": 14,
    "start_time": "2025-06-02T08:17:53.539Z"
   },
   {
    "duration": 8,
    "start_time": "2025-06-02T08:17:54.526Z"
   },
   {
    "duration": 12,
    "start_time": "2025-06-02T08:17:57.624Z"
   },
   {
    "duration": 71,
    "start_time": "2025-06-02T08:19:09.695Z"
   },
   {
    "duration": 71,
    "start_time": "2025-06-02T08:19:47.304Z"
   },
   {
    "duration": 11,
    "start_time": "2025-06-02T08:57:46.280Z"
   },
   {
    "duration": 52,
    "start_time": "2025-06-03T12:39:54.250Z"
   },
   {
    "duration": 1380,
    "start_time": "2025-06-03T12:40:01.763Z"
   },
   {
    "duration": 233,
    "start_time": "2025-06-03T12:40:03.146Z"
   },
   {
    "duration": 13,
    "start_time": "2025-06-03T12:40:03.381Z"
   },
   {
    "duration": 63,
    "start_time": "2025-06-03T12:40:03.397Z"
   },
   {
    "duration": 59,
    "start_time": "2025-06-03T12:40:03.463Z"
   },
   {
    "duration": 24,
    "start_time": "2025-06-03T12:40:03.525Z"
   },
   {
    "duration": 15,
    "start_time": "2025-06-03T12:40:03.552Z"
   },
   {
    "duration": 7,
    "start_time": "2025-06-03T12:40:03.772Z"
   },
   {
    "duration": 8,
    "start_time": "2025-06-03T12:40:04.004Z"
   },
   {
    "duration": 302,
    "start_time": "2025-06-03T12:40:04.223Z"
   },
   {
    "duration": 9,
    "start_time": "2025-06-03T12:40:04.647Z"
   },
   {
    "duration": 2314,
    "start_time": "2025-06-03T12:40:08.245Z"
   },
   {
    "duration": 12,
    "start_time": "2025-06-03T12:40:10.561Z"
   },
   {
    "duration": 44,
    "start_time": "2025-06-03T12:40:10.575Z"
   },
   {
    "duration": 153,
    "start_time": "2025-06-03T12:40:10.622Z"
   },
   {
    "duration": 82,
    "start_time": "2025-06-03T12:40:10.777Z"
   },
   {
    "duration": 12,
    "start_time": "2025-06-03T12:44:14.573Z"
   },
   {
    "duration": 10,
    "start_time": "2025-06-03T12:44:14.845Z"
   },
   {
    "duration": 70,
    "start_time": "2025-06-03T12:44:15.124Z"
   },
   {
    "duration": 1945,
    "start_time": "2025-06-03T12:44:33.440Z"
   },
   {
    "duration": 14,
    "start_time": "2025-06-03T12:44:51.134Z"
   },
   {
    "duration": 90,
    "start_time": "2025-06-03T12:44:52.972Z"
   },
   {
    "duration": 28,
    "start_time": "2025-06-03T12:51:50.456Z"
   },
   {
    "duration": 17,
    "start_time": "2025-06-03T12:52:00.152Z"
   },
   {
    "duration": 42,
    "start_time": "2025-06-03T12:53:49.141Z"
   },
   {
    "duration": 32,
    "start_time": "2025-06-03T12:55:15.955Z"
   },
   {
    "duration": 50,
    "start_time": "2025-06-03T12:55:24.019Z"
   },
   {
    "duration": 53,
    "start_time": "2025-06-03T12:56:07.925Z"
   },
   {
    "duration": 42,
    "start_time": "2025-06-03T12:57:05.964Z"
   },
   {
    "duration": 50,
    "start_time": "2025-06-03T12:57:12.606Z"
   },
   {
    "duration": 50,
    "start_time": "2025-06-03T12:57:43.496Z"
   },
   {
    "duration": 61,
    "start_time": "2025-06-03T12:58:21.836Z"
   },
   {
    "duration": 62,
    "start_time": "2025-06-03T12:58:39.999Z"
   },
   {
    "duration": 59,
    "start_time": "2025-06-03T12:58:48.864Z"
   },
   {
    "duration": 51,
    "start_time": "2025-06-03T12:59:01.242Z"
   },
   {
    "duration": 19,
    "start_time": "2025-06-03T12:59:06.201Z"
   },
   {
    "duration": 1250,
    "start_time": "2025-06-03T12:59:31.013Z"
   },
   {
    "duration": 296,
    "start_time": "2025-06-03T12:59:32.265Z"
   },
   {
    "duration": 13,
    "start_time": "2025-06-03T12:59:32.563Z"
   },
   {
    "duration": 104,
    "start_time": "2025-06-03T12:59:32.578Z"
   },
   {
    "duration": 40,
    "start_time": "2025-06-03T12:59:32.684Z"
   },
   {
    "duration": 31,
    "start_time": "2025-06-03T12:59:32.726Z"
   },
   {
    "duration": 8,
    "start_time": "2025-06-03T12:59:32.810Z"
   },
   {
    "duration": 10,
    "start_time": "2025-06-03T12:59:33.039Z"
   },
   {
    "duration": 8,
    "start_time": "2025-06-03T12:59:33.288Z"
   },
   {
    "duration": 285,
    "start_time": "2025-06-03T12:59:33.533Z"
   },
   {
    "duration": 6,
    "start_time": "2025-06-03T12:59:34.285Z"
   },
   {
    "duration": 2602,
    "start_time": "2025-06-03T12:59:37.019Z"
   },
   {
    "duration": 27,
    "start_time": "2025-06-03T12:59:39.623Z"
   },
   {
    "duration": 15,
    "start_time": "2025-06-03T12:59:39.652Z"
   },
   {
    "duration": 153,
    "start_time": "2025-06-03T12:59:39.669Z"
   },
   {
    "duration": 17,
    "start_time": "2025-06-03T12:59:39.824Z"
   },
   {
    "duration": 54,
    "start_time": "2025-06-03T12:59:39.842Z"
   },
   {
    "duration": 8,
    "start_time": "2025-06-03T12:59:39.897Z"
   },
   {
    "duration": 11,
    "start_time": "2025-06-03T12:59:39.907Z"
   },
   {
    "duration": 103,
    "start_time": "2025-06-03T12:59:39.920Z"
   },
   {
    "duration": 18,
    "start_time": "2025-06-03T12:59:41.387Z"
   },
   {
    "duration": 60,
    "start_time": "2025-06-03T12:59:41.794Z"
   },
   {
    "duration": 104,
    "start_time": "2025-06-03T13:03:30.848Z"
   },
   {
    "duration": 9,
    "start_time": "2025-06-03T13:03:57.719Z"
   },
   {
    "duration": 16,
    "start_time": "2025-06-03T13:04:03.341Z"
   },
   {
    "duration": 9,
    "start_time": "2025-06-03T13:04:23.042Z"
   },
   {
    "duration": 23,
    "start_time": "2025-06-03T13:04:27.628Z"
   },
   {
    "duration": 12,
    "start_time": "2025-06-03T13:05:10.728Z"
   },
   {
    "duration": 9,
    "start_time": "2025-06-03T13:08:46.222Z"
   },
   {
    "duration": 61,
    "start_time": "2025-06-03T13:09:13.469Z"
   },
   {
    "duration": 50,
    "start_time": "2025-06-03T13:09:32.099Z"
   },
   {
    "duration": 23,
    "start_time": "2025-06-03T13:09:39.909Z"
   },
   {
    "duration": 15,
    "start_time": "2025-06-03T13:09:56.526Z"
   },
   {
    "duration": 54,
    "start_time": "2025-06-04T01:12:41.891Z"
   },
   {
    "duration": 1443,
    "start_time": "2025-06-04T01:12:50.290Z"
   },
   {
    "duration": 129,
    "start_time": "2025-06-04T01:12:51.735Z"
   },
   {
    "duration": 23,
    "start_time": "2025-06-04T01:12:51.865Z"
   },
   {
    "duration": 5,
    "start_time": "2025-06-04T01:12:52.309Z"
   },
   {
    "duration": 13,
    "start_time": "2025-06-04T01:12:52.983Z"
   },
   {
    "duration": 7,
    "start_time": "2025-06-04T01:12:53.213Z"
   },
   {
    "duration": 7,
    "start_time": "2025-06-04T01:12:53.649Z"
   },
   {
    "duration": 17,
    "start_time": "2025-06-04T01:12:53.869Z"
   },
   {
    "duration": 9,
    "start_time": "2025-06-04T01:12:54.093Z"
   },
   {
    "duration": 297,
    "start_time": "2025-06-04T01:12:54.323Z"
   },
   {
    "duration": 5,
    "start_time": "2025-06-04T01:12:54.787Z"
   },
   {
    "duration": 1893,
    "start_time": "2025-06-04T01:12:58.122Z"
   },
   {
    "duration": 13,
    "start_time": "2025-06-04T01:13:00.017Z"
   },
   {
    "duration": 1651,
    "start_time": "2025-06-04T01:13:17.168Z"
   },
   {
    "duration": 1754,
    "start_time": "2025-06-04T01:13:42.117Z"
   },
   {
    "duration": 13,
    "start_time": "2025-06-04T01:13:43.873Z"
   },
   {
    "duration": 12,
    "start_time": "2025-06-04T01:13:43.888Z"
   },
   {
    "duration": 132,
    "start_time": "2025-06-04T01:13:43.902Z"
   },
   {
    "duration": 8,
    "start_time": "2025-06-04T01:13:44.036Z"
   },
   {
    "duration": 28,
    "start_time": "2025-06-04T01:13:44.046Z"
   },
   {
    "duration": 7,
    "start_time": "2025-06-04T01:13:44.499Z"
   },
   {
    "duration": 107,
    "start_time": "2025-06-04T01:14:21.677Z"
   },
   {
    "duration": 23,
    "start_time": "2025-06-04T01:15:09.709Z"
   },
   {
    "duration": 21,
    "start_time": "2025-06-04T01:15:15.523Z"
   },
   {
    "duration": 57,
    "start_time": "2025-06-04T01:16:53.004Z"
   },
   {
    "duration": 18,
    "start_time": "2025-06-04T01:17:06.358Z"
   },
   {
    "duration": 89,
    "start_time": "2025-06-04T01:20:31.883Z"
   },
   {
    "duration": 34,
    "start_time": "2025-06-04T01:20:38.796Z"
   },
   {
    "duration": 24,
    "start_time": "2025-06-04T01:20:39.308Z"
   },
   {
    "duration": 20,
    "start_time": "2025-06-04T01:21:04.107Z"
   },
   {
    "duration": 39,
    "start_time": "2025-06-04T01:53:48.562Z"
   },
   {
    "duration": 10,
    "start_time": "2025-06-04T01:54:55.952Z"
   },
   {
    "duration": 9,
    "start_time": "2025-06-04T01:55:25.342Z"
   },
   {
    "duration": 4,
    "start_time": "2025-06-04T01:55:29.542Z"
   },
   {
    "duration": 1372,
    "start_time": "2025-06-05T00:58:21.311Z"
   },
   {
    "duration": 180,
    "start_time": "2025-06-05T00:58:22.685Z"
   },
   {
    "duration": 13,
    "start_time": "2025-06-05T00:58:22.868Z"
   },
   {
    "duration": 9,
    "start_time": "2025-06-05T00:58:22.883Z"
   },
   {
    "duration": 13,
    "start_time": "2025-06-05T00:58:22.893Z"
   },
   {
    "duration": 7,
    "start_time": "2025-06-05T00:58:22.908Z"
   },
   {
    "duration": 7,
    "start_time": "2025-06-05T00:58:23.587Z"
   },
   {
    "duration": 7,
    "start_time": "2025-06-05T00:58:23.986Z"
   },
   {
    "duration": 9,
    "start_time": "2025-06-05T00:58:24.367Z"
   },
   {
    "duration": 278,
    "start_time": "2025-06-05T00:58:24.763Z"
   },
   {
    "duration": 7,
    "start_time": "2025-06-05T00:58:25.838Z"
   },
   {
    "duration": 3,
    "start_time": "2025-06-05T01:08:22.606Z"
   },
   {
    "duration": 72,
    "start_time": "2025-06-05T01:08:22.807Z"
   },
   {
    "duration": 10,
    "start_time": "2025-06-05T01:08:23.021Z"
   },
   {
    "duration": 5,
    "start_time": "2025-06-05T01:08:23.217Z"
   },
   {
    "duration": 13,
    "start_time": "2025-06-05T01:08:23.626Z"
   },
   {
    "duration": 7,
    "start_time": "2025-06-05T01:08:23.840Z"
   },
   {
    "duration": 7,
    "start_time": "2025-06-05T01:08:24.302Z"
   },
   {
    "duration": 8,
    "start_time": "2025-06-05T01:08:24.858Z"
   },
   {
    "duration": 8,
    "start_time": "2025-06-05T01:08:25.286Z"
   },
   {
    "duration": 263,
    "start_time": "2025-06-05T01:08:25.772Z"
   },
   {
    "duration": 6,
    "start_time": "2025-06-05T01:08:31.063Z"
   },
   {
    "duration": 1775,
    "start_time": "2025-06-05T01:08:34.202Z"
   },
   {
    "duration": 13,
    "start_time": "2025-06-05T01:08:35.979Z"
   },
   {
    "duration": 10,
    "start_time": "2025-06-05T01:08:35.993Z"
   },
   {
    "duration": 118,
    "start_time": "2025-06-05T01:08:37.062Z"
   },
   {
    "duration": 10,
    "start_time": "2025-06-05T01:08:39.690Z"
   },
   {
    "duration": 13,
    "start_time": "2025-06-05T01:09:01.897Z"
   },
   {
    "duration": 1179,
    "start_time": "2025-06-05T01:31:08.988Z"
   },
   {
    "duration": 80,
    "start_time": "2025-06-05T01:31:10.169Z"
   },
   {
    "duration": 12,
    "start_time": "2025-06-05T01:31:10.251Z"
   },
   {
    "duration": 5,
    "start_time": "2025-06-05T01:31:10.265Z"
   },
   {
    "duration": 14,
    "start_time": "2025-06-05T01:31:10.271Z"
   },
   {
    "duration": 6,
    "start_time": "2025-06-05T01:31:10.724Z"
   },
   {
    "duration": 7,
    "start_time": "2025-06-05T01:31:10.785Z"
   },
   {
    "duration": 8,
    "start_time": "2025-06-05T01:31:10.815Z"
   },
   {
    "duration": 8,
    "start_time": "2025-06-05T01:31:10.846Z"
   },
   {
    "duration": 292,
    "start_time": "2025-06-05T01:31:10.881Z"
   },
   {
    "duration": 5,
    "start_time": "2025-06-05T01:31:11.176Z"
   },
   {
    "duration": 1623,
    "start_time": "2025-06-05T01:31:11.184Z"
   },
   {
    "duration": 13,
    "start_time": "2025-06-05T01:31:12.809Z"
   },
   {
    "duration": 9,
    "start_time": "2025-06-05T01:31:12.824Z"
   },
   {
    "duration": 147,
    "start_time": "2025-06-05T01:31:12.835Z"
   },
   {
    "duration": 8,
    "start_time": "2025-06-05T01:31:12.984Z"
   },
   {
    "duration": 13,
    "start_time": "2025-06-05T01:31:12.994Z"
   },
   {
    "duration": 6,
    "start_time": "2025-06-05T01:31:13.008Z"
   },
   {
    "duration": 10,
    "start_time": "2025-06-05T01:31:13.016Z"
   },
   {
    "duration": 127,
    "start_time": "2025-06-05T01:31:13.027Z"
   },
   {
    "duration": 28,
    "start_time": "2025-06-05T01:31:13.156Z"
   },
   {
    "duration": 58,
    "start_time": "2025-06-05T01:31:13.186Z"
   },
   {
    "duration": 37,
    "start_time": "2025-06-05T01:31:13.246Z"
   },
   {
    "duration": 32,
    "start_time": "2025-06-05T01:31:13.285Z"
   },
   {
    "duration": 79,
    "start_time": "2025-06-05T01:31:13.319Z"
   },
   {
    "duration": 19,
    "start_time": "2025-06-05T01:31:13.399Z"
   },
   {
    "duration": 59,
    "start_time": "2025-06-05T01:31:13.420Z"
   },
   {
    "duration": 6,
    "start_time": "2025-06-05T01:31:13.481Z"
   },
   {
    "duration": 112,
    "start_time": "2025-06-05T01:33:00.836Z"
   },
   {
    "duration": 15,
    "start_time": "2025-06-05T01:33:06.066Z"
   },
   {
    "duration": 16,
    "start_time": "2025-06-05T01:33:25.641Z"
   },
   {
    "duration": 155,
    "start_time": "2025-06-05T01:33:37.337Z"
   },
   {
    "duration": 189,
    "start_time": "2025-06-05T01:35:49.112Z"
   },
   {
    "duration": 195,
    "start_time": "2025-06-05T01:37:32.784Z"
   },
   {
    "duration": 127,
    "start_time": "2025-06-05T01:39:51.144Z"
   },
   {
    "duration": 144,
    "start_time": "2025-06-05T01:40:34.517Z"
   },
   {
    "duration": 163,
    "start_time": "2025-06-05T01:41:10.970Z"
   },
   {
    "duration": 16,
    "start_time": "2025-06-05T01:43:47.573Z"
   },
   {
    "duration": 135,
    "start_time": "2025-06-05T01:43:52.958Z"
   },
   {
    "duration": 154,
    "start_time": "2025-06-05T01:44:08.092Z"
   },
   {
    "duration": 149,
    "start_time": "2025-06-05T01:44:15.962Z"
   },
   {
    "duration": 350,
    "start_time": "2025-06-05T01:44:18.703Z"
   },
   {
    "duration": 8,
    "start_time": "2025-06-05T01:46:06.917Z"
   },
   {
    "duration": 137,
    "start_time": "2025-06-05T01:51:13.126Z"
   },
   {
    "duration": 1352,
    "start_time": "2025-06-06T00:30:50.223Z"
   },
   {
    "duration": 140,
    "start_time": "2025-06-06T00:30:51.577Z"
   },
   {
    "duration": 14,
    "start_time": "2025-06-06T00:30:51.718Z"
   },
   {
    "duration": 4,
    "start_time": "2025-06-06T00:30:57.195Z"
   },
   {
    "duration": 15,
    "start_time": "2025-06-06T00:31:46.602Z"
   },
   {
    "duration": 14,
    "start_time": "2025-06-06T00:31:56.475Z"
   },
   {
    "duration": 1151,
    "start_time": "2025-06-06T00:35:17.916Z"
   },
   {
    "duration": 79,
    "start_time": "2025-06-06T00:35:19.071Z"
   },
   {
    "duration": 14,
    "start_time": "2025-06-06T00:35:19.152Z"
   },
   {
    "duration": 6,
    "start_time": "2025-06-06T00:35:21.091Z"
   },
   {
    "duration": 16,
    "start_time": "2025-06-06T00:35:22.812Z"
   },
   {
    "duration": 14,
    "start_time": "2025-06-06T00:41:49.942Z"
   },
   {
    "duration": 9,
    "start_time": "2025-06-06T00:41:50.915Z"
   },
   {
    "duration": 6,
    "start_time": "2025-06-06T00:41:50.976Z"
   },
   {
    "duration": 7,
    "start_time": "2025-06-06T00:41:51.005Z"
   },
   {
    "duration": 8,
    "start_time": "2025-06-06T00:41:51.035Z"
   },
   {
    "duration": 148,
    "start_time": "2025-06-06T00:41:51.097Z"
   },
   {
    "duration": 6,
    "start_time": "2025-06-06T00:41:53.822Z"
   },
   {
    "duration": 1671,
    "start_time": "2025-06-06T00:41:58.391Z"
   },
   {
    "duration": 1608,
    "start_time": "2025-06-06T00:42:53.020Z"
   },
   {
    "duration": 14,
    "start_time": "2025-06-06T00:42:54.631Z"
   },
   {
    "duration": 28,
    "start_time": "2025-06-06T00:42:54.648Z"
   },
   {
    "duration": 132,
    "start_time": "2025-06-06T00:42:54.678Z"
   },
   {
    "duration": 11,
    "start_time": "2025-06-06T00:42:54.812Z"
   },
   {
    "duration": 10,
    "start_time": "2025-06-06T00:43:50.069Z"
   },
   {
    "duration": 10,
    "start_time": "2025-06-06T00:44:00.893Z"
   },
   {
    "duration": 10,
    "start_time": "2025-06-06T00:44:35.237Z"
   },
   {
    "duration": 223,
    "start_time": "2025-06-06T00:45:10.728Z"
   },
   {
    "duration": 328,
    "start_time": "2025-06-06T00:46:37.642Z"
   },
   {
    "duration": 10,
    "start_time": "2025-06-06T00:47:56.130Z"
   },
   {
    "duration": 214,
    "start_time": "2025-06-06T00:49:23.403Z"
   },
   {
    "duration": 322,
    "start_time": "2025-06-06T00:49:28.711Z"
   },
   {
    "duration": 14,
    "start_time": "2025-06-06T00:49:32.351Z"
   },
   {
    "duration": 7,
    "start_time": "2025-06-06T00:49:32.688Z"
   },
   {
    "duration": 11,
    "start_time": "2025-06-06T00:49:33.025Z"
   },
   {
    "duration": 90,
    "start_time": "2025-06-06T00:49:34.124Z"
   },
   {
    "duration": 18,
    "start_time": "2025-06-06T00:49:34.583Z"
   },
   {
    "duration": 52,
    "start_time": "2025-06-06T00:49:34.805Z"
   },
   {
    "duration": 14,
    "start_time": "2025-06-06T00:49:35.277Z"
   },
   {
    "duration": 26,
    "start_time": "2025-06-06T00:49:35.774Z"
   },
   {
    "duration": 17,
    "start_time": "2025-06-06T00:49:36.032Z"
   },
   {
    "duration": 18,
    "start_time": "2025-06-06T00:49:36.274Z"
   },
   {
    "duration": 35,
    "start_time": "2025-06-06T00:49:38.627Z"
   },
   {
    "duration": 5,
    "start_time": "2025-06-06T00:49:38.957Z"
   },
   {
    "duration": 1302,
    "start_time": "2025-06-06T11:59:58.271Z"
   },
   {
    "duration": 59,
    "start_time": "2025-06-06T11:59:59.575Z"
   },
   {
    "duration": 11,
    "start_time": "2025-06-06T11:59:59.636Z"
   },
   {
    "duration": 5,
    "start_time": "2025-06-06T11:59:59.649Z"
   },
   {
    "duration": 12,
    "start_time": "2025-06-06T11:59:59.656Z"
   },
   {
    "duration": 6,
    "start_time": "2025-06-06T12:00:00.359Z"
   },
   {
    "duration": 7,
    "start_time": "2025-06-06T12:00:01.484Z"
   },
   {
    "duration": 6,
    "start_time": "2025-06-06T12:00:01.742Z"
   },
   {
    "duration": 8,
    "start_time": "2025-06-06T12:00:02.206Z"
   },
   {
    "duration": 200,
    "start_time": "2025-06-06T12:00:10.845Z"
   },
   {
    "duration": 171,
    "start_time": "2025-06-06T12:00:23.220Z"
   },
   {
    "duration": 141,
    "start_time": "2025-06-06T12:00:35.694Z"
   },
   {
    "duration": 137,
    "start_time": "2025-06-06T12:00:42.972Z"
   },
   {
    "duration": 143,
    "start_time": "2025-06-06T12:00:50.639Z"
   },
   {
    "duration": 6,
    "start_time": "2025-06-06T12:00:54.764Z"
   },
   {
    "duration": 1439,
    "start_time": "2025-06-06T12:00:58.106Z"
   },
   {
    "duration": 11,
    "start_time": "2025-06-06T12:00:59.547Z"
   },
   {
    "duration": 11,
    "start_time": "2025-06-06T12:00:59.559Z"
   },
   {
    "duration": 114,
    "start_time": "2025-06-06T12:00:59.571Z"
   },
   {
    "duration": 13,
    "start_time": "2025-06-06T12:00:59.686Z"
   },
   {
    "duration": 3,
    "start_time": "2025-06-06T12:04:43.387Z"
   },
   {
    "duration": 48,
    "start_time": "2025-06-06T12:04:45.421Z"
   },
   {
    "duration": 7,
    "start_time": "2025-06-06T12:04:45.805Z"
   },
   {
    "duration": 6,
    "start_time": "2025-06-06T12:04:46.164Z"
   },
   {
    "duration": 12,
    "start_time": "2025-06-06T12:04:49.141Z"
   },
   {
    "duration": 6,
    "start_time": "2025-06-06T12:04:52.506Z"
   },
   {
    "duration": 16,
    "start_time": "2025-06-06T12:04:57.561Z"
   },
   {
    "duration": 1118,
    "start_time": "2025-06-06T12:12:38.361Z"
   },
   {
    "duration": 63,
    "start_time": "2025-06-06T12:12:42.610Z"
   },
   {
    "duration": 14,
    "start_time": "2025-06-06T12:12:42.984Z"
   },
   {
    "duration": 6,
    "start_time": "2025-06-06T12:12:43.254Z"
   },
   {
    "duration": 13,
    "start_time": "2025-06-06T12:12:44.010Z"
   },
   {
    "duration": 8,
    "start_time": "2025-06-06T12:12:47.502Z"
   },
   {
    "duration": 20,
    "start_time": "2025-06-06T12:12:49.284Z"
   },
   {
    "duration": 12,
    "start_time": "2025-06-06T12:16:09.563Z"
   },
   {
    "duration": 3,
    "start_time": "2025-06-06T12:16:16.714Z"
   },
   {
    "duration": 52,
    "start_time": "2025-06-06T12:16:17.700Z"
   },
   {
    "duration": 9,
    "start_time": "2025-06-06T12:16:18.421Z"
   },
   {
    "duration": 6,
    "start_time": "2025-06-06T12:16:18.800Z"
   },
   {
    "duration": 13,
    "start_time": "2025-06-06T12:16:19.503Z"
   },
   {
    "duration": 7,
    "start_time": "2025-06-06T12:16:20.875Z"
   },
   {
    "duration": 17,
    "start_time": "2025-06-06T12:16:22.117Z"
   },
   {
    "duration": 1054,
    "start_time": "2025-06-06T12:18:11.710Z"
   },
   {
    "duration": 54,
    "start_time": "2025-06-06T12:18:14.209Z"
   },
   {
    "duration": 12,
    "start_time": "2025-06-06T12:18:15.668Z"
   },
   {
    "duration": 5,
    "start_time": "2025-06-06T12:18:16.457Z"
   },
   {
    "duration": 11,
    "start_time": "2025-06-06T12:18:18.766Z"
   },
   {
    "duration": 7,
    "start_time": "2025-06-06T12:18:21.531Z"
   },
   {
    "duration": 17,
    "start_time": "2025-06-06T12:18:23.308Z"
   },
   {
    "duration": 158,
    "start_time": "2025-06-06T12:18:25.937Z"
   },
   {
    "duration": 1076,
    "start_time": "2025-06-06T12:20:34.762Z"
   },
   {
    "duration": 57,
    "start_time": "2025-06-06T12:20:35.840Z"
   },
   {
    "duration": 12,
    "start_time": "2025-06-06T12:20:37.320Z"
   },
   {
    "duration": 6,
    "start_time": "2025-06-06T12:20:39.382Z"
   },
   {
    "duration": 11,
    "start_time": "2025-06-06T12:20:40.558Z"
   },
   {
    "duration": 9,
    "start_time": "2025-06-06T12:20:44.719Z"
   },
   {
    "duration": 18,
    "start_time": "2025-06-06T12:20:49.682Z"
   },
   {
    "duration": 153,
    "start_time": "2025-06-06T12:22:51.996Z"
   },
   {
    "duration": 172,
    "start_time": "2025-06-06T12:23:24.135Z"
   },
   {
    "duration": 172,
    "start_time": "2025-06-06T12:23:30.797Z"
   },
   {
    "duration": 157,
    "start_time": "2025-06-06T12:23:37.228Z"
   },
   {
    "duration": 170,
    "start_time": "2025-06-06T12:23:42.822Z"
   },
   {
    "duration": 147,
    "start_time": "2025-06-06T12:23:57.254Z"
   },
   {
    "duration": 5,
    "start_time": "2025-06-06T12:36:22.862Z"
   },
   {
    "duration": 1690,
    "start_time": "2025-06-06T12:36:24.261Z"
   },
   {
    "duration": 18,
    "start_time": "2025-06-06T12:36:25.954Z"
   },
   {
    "duration": 9,
    "start_time": "2025-06-06T12:36:25.973Z"
   },
   {
    "duration": 122,
    "start_time": "2025-06-06T12:36:26.000Z"
   },
   {
    "duration": 9,
    "start_time": "2025-06-06T12:36:26.123Z"
   },
   {
    "duration": 23,
    "start_time": "2025-06-06T12:36:26.134Z"
   },
   {
    "duration": 213,
    "start_time": "2025-06-06T12:36:26.159Z"
   },
   {
    "duration": 336,
    "start_time": "2025-06-06T12:36:26.374Z"
   },
   {
    "duration": 13,
    "start_time": "2025-06-06T12:36:26.711Z"
   },
   {
    "duration": 100,
    "start_time": "2025-06-06T12:36:26.726Z"
   },
   {
    "duration": 30,
    "start_time": "2025-06-06T12:36:26.827Z"
   },
   {
    "duration": 91,
    "start_time": "2025-06-06T12:36:26.858Z"
   },
   {
    "duration": 57,
    "start_time": "2025-06-06T12:36:26.950Z"
   },
   {
    "duration": 60,
    "start_time": "2025-06-06T12:36:27.009Z"
   },
   {
    "duration": 15,
    "start_time": "2025-06-06T12:36:27.071Z"
   },
   {
    "duration": 33,
    "start_time": "2025-06-06T12:36:27.088Z"
   },
   {
    "duration": 16,
    "start_time": "2025-06-06T12:36:27.123Z"
   },
   {
    "duration": 13,
    "start_time": "2025-06-06T12:36:27.141Z"
   },
   {
    "duration": 119,
    "start_time": "2025-06-06T12:36:27.156Z"
   },
   {
    "duration": 5,
    "start_time": "2025-06-06T12:36:27.277Z"
   }
  ],
  "colab": {
   "provenance": [],
   "toc_visible": true
  },
  "kernelspec": {
   "display_name": "Python 3 (ipykernel)",
   "language": "python",
   "name": "python3"
  },
  "language_info": {
   "codemirror_mode": {
    "name": "ipython",
    "version": 3
   },
   "file_extension": ".py",
   "mimetype": "text/x-python",
   "name": "python",
   "nbconvert_exporter": "python",
   "pygments_lexer": "ipython3",
   "version": "3.12.7"
  },
  "toc": {
   "base_numbering": 1,
   "nav_menu": {},
   "number_sections": true,
   "sideBar": true,
   "skip_h1_title": true,
   "title_cell": "Table of Contents",
   "title_sidebar": "Contents",
   "toc_cell": false,
   "toc_position": {
    "height": "calc(100% - 180px)",
    "left": "10px",
    "top": "150px",
    "width": "196.797px"
   },
   "toc_section_display": true,
   "toc_window_display": true
  }
 },
 "nbformat": 4,
 "nbformat_minor": 5
}
