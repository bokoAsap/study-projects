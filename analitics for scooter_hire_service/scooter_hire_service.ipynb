{
 "cells": [
  {
   "cell_type": "markdown",
   "id": "b30e6556-f31b-47cf-8240-2ecfcc692abb",
   "metadata": {},
   "source": [
    "# Анализ для сервиса проката самокатов GoFast"
   ]
  },
  {
   "cell_type": "markdown",
   "id": "037044f0-3a20-43e2-92ce-1ea985fc6395",
   "metadata": {},
   "source": [
    "## Цель и задачи\n",
    "**Цель**: проанализировать демографию пользователей и особенности использования самокатов, а также определить возможную выгоду от распространения платной подписки на самокаты. \\\n",
    "**Задачи**:\n",
    "1. Загрузить данные\n",
    "2. Предобработать данные\n",
    "3. Провести исследовательсткий анализ\n",
    "4. Объединить даннные\n",
    "5. Подсчитать выручку\n",
    "6. Проверить гипотезы\n",
    "7. Смоделировать распределение длительности поездок\n",
    "\n",
    "## Структура проекта\n",
    "1. Загрузка данных\n",
    "2. Предобработка данных\n",
    "3. Исследовательсткий анализ\n",
    "4. Объединение даннных\n",
    "5. Подсчет выручки\n",
    "6. Проверка гипотез\n",
    "7. Распределение"
   ]
  },
  {
   "cell_type": "markdown",
   "id": "0fe23889-0760-4587-860c-bf66ee63d32d",
   "metadata": {},
   "source": [
    "## Загрузка данных"
   ]
  },
  {
   "cell_type": "code",
   "execution_count": 2,
   "id": "cd4efec4-9c45-4538-97d0-251217ace710",
   "metadata": {},
   "outputs": [],
   "source": [
    "# Импортируем библиотеки\n",
    "import matplotlib.pyplot as plt\n",
    "import seaborn as sns\n",
    "import pandas as pd\n",
    "from scipy import stats as st\n",
    "import numpy as np"
   ]
  },
  {
   "cell_type": "markdown",
   "id": "049eee81-16dc-4741-beaa-8674f09f9e52",
   "metadata": {},
   "source": [
    "Выводим первые строки каждого датафрейма"
   ]
  },
  {
   "cell_type": "code",
   "execution_count": 3,
   "id": "9352cf98-8c76-410f-aa81-03dee817ca8c",
   "metadata": {},
   "outputs": [
    {
     "data": {
      "text/html": [
       "<div>\n",
       "<style scoped>\n",
       "    .dataframe tbody tr th:only-of-type {\n",
       "        vertical-align: middle;\n",
       "    }\n",
       "\n",
       "    .dataframe tbody tr th {\n",
       "        vertical-align: top;\n",
       "    }\n",
       "\n",
       "    .dataframe thead th {\n",
       "        text-align: right;\n",
       "    }\n",
       "</style>\n",
       "<table border=\"1\" class=\"dataframe\">\n",
       "  <thead>\n",
       "    <tr style=\"text-align: right;\">\n",
       "      <th></th>\n",
       "      <th>user_id</th>\n",
       "      <th>name</th>\n",
       "      <th>age</th>\n",
       "      <th>city</th>\n",
       "      <th>subscription_type</th>\n",
       "    </tr>\n",
       "  </thead>\n",
       "  <tbody>\n",
       "    <tr>\n",
       "      <th>0</th>\n",
       "      <td>1</td>\n",
       "      <td>Кира</td>\n",
       "      <td>22</td>\n",
       "      <td>Тюмень</td>\n",
       "      <td>ultra</td>\n",
       "    </tr>\n",
       "    <tr>\n",
       "      <th>1</th>\n",
       "      <td>2</td>\n",
       "      <td>Станислав</td>\n",
       "      <td>31</td>\n",
       "      <td>Омск</td>\n",
       "      <td>ultra</td>\n",
       "    </tr>\n",
       "    <tr>\n",
       "      <th>2</th>\n",
       "      <td>3</td>\n",
       "      <td>Алексей</td>\n",
       "      <td>20</td>\n",
       "      <td>Москва</td>\n",
       "      <td>ultra</td>\n",
       "    </tr>\n",
       "    <tr>\n",
       "      <th>3</th>\n",
       "      <td>4</td>\n",
       "      <td>Константин</td>\n",
       "      <td>26</td>\n",
       "      <td>Ростов-на-Дону</td>\n",
       "      <td>ultra</td>\n",
       "    </tr>\n",
       "    <tr>\n",
       "      <th>4</th>\n",
       "      <td>5</td>\n",
       "      <td>Адель</td>\n",
       "      <td>28</td>\n",
       "      <td>Омск</td>\n",
       "      <td>ultra</td>\n",
       "    </tr>\n",
       "  </tbody>\n",
       "</table>\n",
       "</div>"
      ],
      "text/plain": [
       "   user_id        name  age            city subscription_type\n",
       "0        1        Кира   22          Тюмень             ultra\n",
       "1        2   Станислав   31            Омск             ultra\n",
       "2        3     Алексей   20          Москва             ultra\n",
       "3        4  Константин   26  Ростов-на-Дону             ultra\n",
       "4        5       Адель   28            Омск             ultra"
      ]
     },
     "execution_count": 3,
     "metadata": {},
     "output_type": "execute_result"
    }
   ],
   "source": [
    "df_users_go.head()"
   ]
  },
  {
   "cell_type": "code",
   "execution_count": 4,
   "id": "acb43c0a-f9d4-4287-b20a-46d111a2ea2b",
   "metadata": {},
   "outputs": [
    {
     "data": {
      "text/html": [
       "<div>\n",
       "<style scoped>\n",
       "    .dataframe tbody tr th:only-of-type {\n",
       "        vertical-align: middle;\n",
       "    }\n",
       "\n",
       "    .dataframe tbody tr th {\n",
       "        vertical-align: top;\n",
       "    }\n",
       "\n",
       "    .dataframe thead th {\n",
       "        text-align: right;\n",
       "    }\n",
       "</style>\n",
       "<table border=\"1\" class=\"dataframe\">\n",
       "  <thead>\n",
       "    <tr style=\"text-align: right;\">\n",
       "      <th></th>\n",
       "      <th>user_id</th>\n",
       "      <th>distance</th>\n",
       "      <th>duration</th>\n",
       "      <th>date</th>\n",
       "    </tr>\n",
       "  </thead>\n",
       "  <tbody>\n",
       "    <tr>\n",
       "      <th>0</th>\n",
       "      <td>1</td>\n",
       "      <td>4409.919140</td>\n",
       "      <td>25.599769</td>\n",
       "      <td>2021-01-01</td>\n",
       "    </tr>\n",
       "    <tr>\n",
       "      <th>1</th>\n",
       "      <td>1</td>\n",
       "      <td>2617.592153</td>\n",
       "      <td>15.816871</td>\n",
       "      <td>2021-01-18</td>\n",
       "    </tr>\n",
       "    <tr>\n",
       "      <th>2</th>\n",
       "      <td>1</td>\n",
       "      <td>754.159807</td>\n",
       "      <td>6.232113</td>\n",
       "      <td>2021-04-20</td>\n",
       "    </tr>\n",
       "    <tr>\n",
       "      <th>3</th>\n",
       "      <td>1</td>\n",
       "      <td>2694.783254</td>\n",
       "      <td>18.511000</td>\n",
       "      <td>2021-08-11</td>\n",
       "    </tr>\n",
       "    <tr>\n",
       "      <th>4</th>\n",
       "      <td>1</td>\n",
       "      <td>4028.687306</td>\n",
       "      <td>26.265803</td>\n",
       "      <td>2021-08-28</td>\n",
       "    </tr>\n",
       "  </tbody>\n",
       "</table>\n",
       "</div>"
      ],
      "text/plain": [
       "   user_id     distance   duration        date\n",
       "0        1  4409.919140  25.599769  2021-01-01\n",
       "1        1  2617.592153  15.816871  2021-01-18\n",
       "2        1   754.159807   6.232113  2021-04-20\n",
       "3        1  2694.783254  18.511000  2021-08-11\n",
       "4        1  4028.687306  26.265803  2021-08-28"
      ]
     },
     "execution_count": 4,
     "metadata": {},
     "output_type": "execute_result"
    }
   ],
   "source": [
    "df_rides_go.head()"
   ]
  },
  {
   "cell_type": "code",
   "execution_count": 5,
   "id": "33bd3248-5172-4c7c-b3ab-eb6e2e827d99",
   "metadata": {},
   "outputs": [
    {
     "data": {
      "text/html": [
       "<div>\n",
       "<style scoped>\n",
       "    .dataframe tbody tr th:only-of-type {\n",
       "        vertical-align: middle;\n",
       "    }\n",
       "\n",
       "    .dataframe tbody tr th {\n",
       "        vertical-align: top;\n",
       "    }\n",
       "\n",
       "    .dataframe thead th {\n",
       "        text-align: right;\n",
       "    }\n",
       "</style>\n",
       "<table border=\"1\" class=\"dataframe\">\n",
       "  <thead>\n",
       "    <tr style=\"text-align: right;\">\n",
       "      <th></th>\n",
       "      <th>subscription_type</th>\n",
       "      <th>minute_price</th>\n",
       "      <th>start_ride_price</th>\n",
       "      <th>subscription_fee</th>\n",
       "    </tr>\n",
       "  </thead>\n",
       "  <tbody>\n",
       "    <tr>\n",
       "      <th>0</th>\n",
       "      <td>free</td>\n",
       "      <td>8</td>\n",
       "      <td>50</td>\n",
       "      <td>0</td>\n",
       "    </tr>\n",
       "    <tr>\n",
       "      <th>1</th>\n",
       "      <td>ultra</td>\n",
       "      <td>6</td>\n",
       "      <td>0</td>\n",
       "      <td>199</td>\n",
       "    </tr>\n",
       "  </tbody>\n",
       "</table>\n",
       "</div>"
      ],
      "text/plain": [
       "  subscription_type  minute_price  start_ride_price  subscription_fee\n",
       "0              free             8                50                 0\n",
       "1             ultra             6                 0               199"
      ]
     },
     "execution_count": 5,
     "metadata": {},
     "output_type": "execute_result"
    }
   ],
   "source": [
    "df_subscriptions_go.head()"
   ]
  },
  {
   "cell_type": "markdown",
   "id": "48e25ebb-51e5-4fdc-a4e1-dcf400fad2f6",
   "metadata": {},
   "source": [
    "Выводим информацию о каждом датафрейме"
   ]
  },
  {
   "cell_type": "code",
   "execution_count": 6,
   "id": "e77a6518-08fa-4959-a64c-3ff6b550a986",
   "metadata": {},
   "outputs": [
    {
     "name": "stdout",
     "output_type": "stream",
     "text": [
      "<class 'pandas.core.frame.DataFrame'>\n",
      "RangeIndex: 1565 entries, 0 to 1564\n",
      "Data columns (total 5 columns):\n",
      " #   Column             Non-Null Count  Dtype \n",
      "---  ------             --------------  ----- \n",
      " 0   user_id            1565 non-null   int64 \n",
      " 1   name               1565 non-null   object\n",
      " 2   age                1565 non-null   int64 \n",
      " 3   city               1565 non-null   object\n",
      " 4   subscription_type  1565 non-null   object\n",
      "dtypes: int64(2), object(3)\n",
      "memory usage: 61.3+ KB\n"
     ]
    }
   ],
   "source": [
    "df_users_go.info()"
   ]
  },
  {
   "cell_type": "code",
   "execution_count": 7,
   "id": "f76416ba-1f79-4b74-bd7d-226b01e915fa",
   "metadata": {},
   "outputs": [
    {
     "name": "stdout",
     "output_type": "stream",
     "text": [
      "<class 'pandas.core.frame.DataFrame'>\n",
      "RangeIndex: 18068 entries, 0 to 18067\n",
      "Data columns (total 4 columns):\n",
      " #   Column    Non-Null Count  Dtype  \n",
      "---  ------    --------------  -----  \n",
      " 0   user_id   18068 non-null  int64  \n",
      " 1   distance  18068 non-null  float64\n",
      " 2   duration  18068 non-null  float64\n",
      " 3   date      18068 non-null  object \n",
      "dtypes: float64(2), int64(1), object(1)\n",
      "memory usage: 564.8+ KB\n"
     ]
    }
   ],
   "source": [
    "df_rides_go.info()"
   ]
  },
  {
   "cell_type": "code",
   "execution_count": 8,
   "id": "ca65f1e9-ec1a-4121-afc7-9f2995f08ab3",
   "metadata": {},
   "outputs": [
    {
     "name": "stdout",
     "output_type": "stream",
     "text": [
      "<class 'pandas.core.frame.DataFrame'>\n",
      "RangeIndex: 2 entries, 0 to 1\n",
      "Data columns (total 4 columns):\n",
      " #   Column             Non-Null Count  Dtype \n",
      "---  ------             --------------  ----- \n",
      " 0   subscription_type  2 non-null      object\n",
      " 1   minute_price       2 non-null      int64 \n",
      " 2   start_ride_price   2 non-null      int64 \n",
      " 3   subscription_fee   2 non-null      int64 \n",
      "dtypes: int64(3), object(1)\n",
      "memory usage: 196.0+ bytes\n"
     ]
    }
   ],
   "source": [
    "df_subscriptions_go.info()"
   ]
  },
  {
   "cell_type": "markdown",
   "id": "4ef6885d-9a96-4320-a5f8-2d01b0a5d3f2",
   "metadata": {},
   "source": [
    "### Промежуточные результаты:\n",
    "* В первом датафрейме 1565 строк и 5 столбцов, нет видимых пропусков,возможно они скрыты заглушками, типы данных столбцов соответсвуют необходимым \n",
    "* В втором датафрейме 18068 строк и 4 столбца, строк больше, чем в первом из-за того, что один пользователь может совершить несколько поездок, это нормально, с пропусками та же ситуация, что и в первом датафрейме, тип данных для столбца date должен быть datetime, остальные в порядке, также останется проверить только на дубликаты\n",
    "* В третьем датафрейме 2 столбца и две строки, пропусков нет, все типы даннных в порядке"
   ]
  },
  {
   "cell_type": "markdown",
   "id": "f536c891-acfb-4396-a9b3-c98c3d3b553f",
   "metadata": {},
   "source": [
    "## Предобработка данных"
   ]
  },
  {
   "cell_type": "code",
   "execution_count": 9,
   "id": "02073276-9772-43cf-9329-d2eb6342b887",
   "metadata": {},
   "outputs": [
    {
     "name": "stdout",
     "output_type": "stream",
     "text": [
      "<class 'pandas.core.series.Series'>\n",
      "RangeIndex: 18068 entries, 0 to 18067\n",
      "Series name: date\n",
      "Non-Null Count  Dtype         \n",
      "--------------  -----         \n",
      "18068 non-null  datetime64[ns]\n",
      "dtypes: datetime64[ns](1)\n",
      "memory usage: 141.3 KB\n"
     ]
    }
   ],
   "source": [
    "# Перевод столбеца date в датафрейме df_rides_go к типу даты pandas\n",
    "df_rides_go['date'] = pd.to_datetime(df_rides_go['date'], yearfirst=True)\n",
    "df_rides_go['date'].info()"
   ]
  },
  {
   "cell_type": "code",
   "execution_count": 10,
   "id": "ad660184-2914-4d52-a568-12ca7be98c66",
   "metadata": {},
   "outputs": [
    {
     "data": {
      "text/plain": [
       "0    1\n",
       "1    1\n",
       "2    4\n",
       "3    8\n",
       "4    8\n",
       "Name: month, dtype: int32"
      ]
     },
     "execution_count": 10,
     "metadata": {},
     "output_type": "execute_result"
    }
   ],
   "source": [
    "#Создание нового столбца month \n",
    "df_rides_go['month'] = df_rides_go['date'].dt.month\n",
    "df_rides_go['month'].head()"
   ]
  },
  {
   "cell_type": "code",
   "execution_count": 11,
   "id": "0e90e738-821a-49ab-917c-1f12bbca29b3",
   "metadata": {},
   "outputs": [
    {
     "name": "stdout",
     "output_type": "stream",
     "text": [
      "[   1    2    3 ... 1532 1533 1534]\n",
      "['Кира' 'Станислав' 'Алексей' 'Константин' 'Адель' 'Регина' 'Игорь' 'Юрий'\n",
      " 'Ян' 'Валерий' 'Агата' 'Марк' 'Ева' 'Антонина' 'Валерия' 'Амалия'\n",
      " 'Даниил' 'Аделина' 'Святогор' 'Борис' 'Вероника' 'Ростислав' 'Назар'\n",
      " 'Эдуард' 'Василий' 'Денис' 'Тамара' 'Николай' 'Эвелина' 'Федор' 'Руслан'\n",
      " 'Иван' 'Любовь' 'Ярослава' 'Майя' 'Ильдар' 'Данила' 'Нина' 'Стефания'\n",
      " 'Ясмина' 'Дмитрий' 'Александр' 'Одиссей' 'Арсений' 'Алла' 'Таисия'\n",
      " 'Максим' 'Юлиана' 'Павел' 'Карина' 'Алиса' 'Лидия' 'Рамиль' 'Родион'\n",
      " 'Ника' 'Оксана' 'Анастасия' 'Маргарита' 'Вера' 'Тимур' 'Никита' 'Лев'\n",
      " 'Влад' 'Артур' 'Анна' 'Ольга' 'Вячеслав' 'Ксения' 'Виталина' 'Владислав'\n",
      " 'Тамерлан' 'Амина' 'Вадим' 'Олеся' 'Зарина' 'Егор' 'Гордей' 'Лилия'\n",
      " 'Святослав' 'Роберт' 'Амир' 'Влада' 'Богдан' 'Полина' 'Марат' 'Елисей'\n",
      " 'Макар' 'Алина' 'Глеб' 'Андрей' 'Альбина' 'Людмила' 'Марсель' 'Милена'\n",
      " 'Диана' 'Дарина' 'Данил' 'Артемий' 'Лиана' 'Альберт' 'Герман' 'Жанна'\n",
      " 'Нелли' 'Евгения' 'Ариана' 'Самира' 'Захар' 'Эльвира' 'Екатерина' 'Инна'\n",
      " 'Демид' 'Яна' 'Михаил' 'Татьяна' 'Степан' 'Мелания' 'Тимофей' 'Ирина'\n",
      " 'Анжелика' 'Владислава' 'Елизавета' 'Мадина' 'Снежана' 'Даниэль' 'Рустам'\n",
      " 'Каролина' 'Ангелина' 'Владимир' 'Виктория' 'Валентина' 'Семен' 'Арина'\n",
      " 'Лариса' 'Есения' 'Галина' 'Кирилл' 'Игнат' 'Виталий' 'Эмилия' 'Виолетта'\n",
      " 'Яромир' 'Софья' 'Мирослава' 'Евгений' 'Варвара' 'Платон' 'Наталия'\n",
      " 'Анатолий' 'Кристина' 'Всеволод' 'Дарья' 'Наташа' 'Мария' 'Марина'\n",
      " 'Василиса' 'Юлия' 'Илья' 'Злата' 'Роман' 'Наталья' 'Элина' 'Арсен'\n",
      " 'Айдар' 'Алия' 'Виктор' 'Мирон' 'Ульяна' 'Георгий' 'Петр' 'Эльмира'\n",
      " 'Олег' 'Дамир' 'Самир' 'Ярослав' 'Камилла' 'Сергей' 'Эмиль' 'Радмир'\n",
      " 'Савелий' 'Елена' 'Антон' 'Мирослав' 'София' 'Тихон' 'Артём' 'Давид'\n",
      " 'Григорий' 'Алёна' 'Светлана' 'Леонид' 'Александра' 'Василина' 'Милана'\n",
      " 'Матвей']\n",
      "[22 31 20 26 28 25 23 21 18 27 24 29 32 14 19 30 17 12 35 33 13 15 37 16\n",
      " 34 38 36 39 43]\n",
      "['Тюмень' 'Омск' 'Москва' 'Ростов-на-Дону' 'Краснодар' 'Пятигорск'\n",
      " 'Екатеринбург' 'Сочи']\n",
      "['ultra' 'free']\n"
     ]
    }
   ],
   "source": [
    "users_go = ['user_id', 'name', 'age', 'city', 'subscription_type']\n",
    "for col in users_go:\n",
    "    print(df_users_go[col].unique())"
   ]
  },
  {
   "cell_type": "code",
   "execution_count": 12,
   "id": "261e2cd6-1386-4496-ba1f-222f1aaa89db",
   "metadata": {},
   "outputs": [
    {
     "name": "stdout",
     "output_type": "stream",
     "text": [
      "[   1    2    3 ... 1532 1533 1534]\n",
      "[4409.9191402  2617.59215346  754.15980696 ... 3826.1855073  2902.30866066\n",
      " 2371.71119224]\n",
      "[25.59976897 15.81687145  6.23211346 ... 18.43505138 16.6743622\n",
      " 15.89391697]\n",
      "<DatetimeArray>\n",
      "['2021-01-01 00:00:00', '2021-01-18 00:00:00', '2021-04-20 00:00:00',\n",
      " '2021-08-11 00:00:00', '2021-08-28 00:00:00', '2021-10-09 00:00:00',\n",
      " '2021-10-19 00:00:00', '2021-11-06 00:00:00', '2021-11-14 00:00:00',\n",
      " '2021-11-22 00:00:00',\n",
      " ...\n",
      " '2021-10-10 00:00:00', '2021-11-02 00:00:00', '2021-10-29 00:00:00',\n",
      " '2021-11-26 00:00:00', '2021-04-18 00:00:00', '2021-07-03 00:00:00',\n",
      " '2021-05-31 00:00:00', '2021-12-16 00:00:00', '2021-01-21 00:00:00',\n",
      " '2021-02-06 00:00:00']\n",
      "Length: 364, dtype: datetime64[ns]\n"
     ]
    }
   ],
   "source": [
    "rides_go = ['user_id', 'distance', 'duration','date']\n",
    "for col in rides_go:\n",
    "    print(df_rides_go[col].unique())"
   ]
  },
  {
   "cell_type": "markdown",
   "id": "cef4231c-b5b5-4c56-a6f4-3cc632c7590d",
   "metadata": {},
   "source": [
    "Судя по уникальным значениям скрытых пропусков нет. Проверим на дубликаты"
   ]
  },
  {
   "cell_type": "code",
   "execution_count": 13,
   "id": "242dffd4-fd17-4a53-8aa6-d952ee138686",
   "metadata": {},
   "outputs": [
    {
     "data": {
      "text/plain": [
       "31"
      ]
     },
     "execution_count": 13,
     "metadata": {},
     "output_type": "execute_result"
    }
   ],
   "source": [
    "# Проверим на дубликаты таблицу users_go\n",
    "df_users_go.duplicated(keep='first').sum()"
   ]
  },
  {
   "cell_type": "code",
   "execution_count": 14,
   "id": "d9149bea-75c3-4996-8020-9ff7bd875988",
   "metadata": {},
   "outputs": [
    {
     "data": {
      "text/plain": [
       "0"
      ]
     },
     "execution_count": 14,
     "metadata": {},
     "output_type": "execute_result"
    }
   ],
   "source": [
    "# Удалим дубликаты\n",
    "df_users_go.drop_duplicates(keep='first', inplace=True)\n",
    "df_users_go.duplicated(keep='first').sum()"
   ]
  },
  {
   "cell_type": "code",
   "execution_count": 15,
   "id": "ff8cd0cc-51d3-45ae-beeb-cf437fdc29eb",
   "metadata": {},
   "outputs": [
    {
     "data": {
      "text/plain": [
       "0"
      ]
     },
     "execution_count": 15,
     "metadata": {},
     "output_type": "execute_result"
    }
   ],
   "source": [
    "# Проверим на дубликаты таблицу rides_go\n",
    "df_rides_go.duplicated(keep='first').sum()"
   ]
  },
  {
   "cell_type": "markdown",
   "id": "1e01070b-404f-4e39-8149-ba8bc677eaf9",
   "metadata": {},
   "source": [
    "### Промежуточные результаты\n",
    "* Столбец `date` таблицы `users_go` приведен к типу datetime\n",
    "* Создан столбец `month` в таблице `users_go`\n",
    "* Столбцы таблиц `users_go` и `rides_go` проверены на скрытые пропуски\n",
    "* Из таблицы `users_go` удалена 31 дублирующаяся строка\n",
    "* В таблице `rides_go` не было обнаружено дублирующихся строк\n",
    "* Таблица `subscriptions_go` не проверялась так как содержит всего 2 строки"
   ]
  },
  {
   "cell_type": "markdown",
   "id": "8463ce44-131e-4ef9-adff-05a8e8484b79",
   "metadata": {},
   "source": [
    "## Исследовательский анализ данных"
   ]
  },
  {
   "cell_type": "code",
   "execution_count": 16,
   "id": "92bc2c23-f932-43b5-a0da-d0e314577486",
   "metadata": {},
   "outputs": [
    {
     "data": {
      "text/plain": [
       "city\n",
       "Пятигорск         219\n",
       "Екатеринбург      204\n",
       "Ростов-на-Дону    198\n",
       "Краснодар         193\n",
       "Сочи              189\n",
       "Омск              183\n",
       "Тюмень            180\n",
       "Москва            168\n",
       "Name: count, dtype: int64"
      ]
     },
     "execution_count": 16,
     "metadata": {},
     "output_type": "execute_result"
    }
   ],
   "source": [
    "# Соберем сведения о частоте встречаемости городов\n",
    "df_users_go['city'].value_counts()"
   ]
  },
  {
   "cell_type": "code",
   "execution_count": 17,
   "id": "ea43bd60-2642-4af5-8426-0e3dc3f2e3ad",
   "metadata": {},
   "outputs": [
    {
     "data": {
      "image/png": "[encoded data removed]",
      "text/plain": [
       "<Figure size 500x300 with 1 Axes>"
      ]
     },
     "metadata": {},
     "output_type": "display_data"
    }
   ],
   "source": [
    "# Визуализируем данные\n",
    "plt.figure(figsize = (5, 3))\n",
    "df_users_go['city'].value_counts().plot(kind='bar')\n",
    "plt.xlabel('Город')\n",
    "plt.ylabel('Частота')\n",
    "plt.title('Частота встречаемости городов')\n",
    "plt.show()"
   ]
  },
  {
   "cell_type": "markdown",
   "id": "30d5be28-7e4d-4a94-89ec-6928ff4b2181",
   "metadata": {},
   "source": [
    "Исходя из визуализации, чаще всего пользователи приложения из Пятигорска (219), меньше всего пользователей из Москвы (168)"
   ]
  },
  {
   "cell_type": "code",
   "execution_count": 18,
   "id": "034c25c9-1d17-4d1d-9d3a-431789d966c6",
   "metadata": {},
   "outputs": [
    {
     "data": {
      "text/plain": [
       "subscription_type\n",
       "free     0.54\n",
       "ultra    0.46\n",
       "Name: proportion, dtype: float64"
      ]
     },
     "execution_count": 18,
     "metadata": {},
     "output_type": "execute_result"
    }
   ],
   "source": [
    "# Подсчитаем долю пользователей с подпиской и без нее\n",
    "ratio = round(df_users_go['subscription_type'].value_counts(normalize=True), 2)\n",
    "ratio"
   ]
  },
  {
   "cell_type": "code",
   "execution_count": 19,
   "id": "85247689-a6e5-4f5c-a563-7095061b8b3b",
   "metadata": {},
   "outputs": [
    {
     "data": {
      "image/png": "[encoded data removed]",
      "text/plain": [
       "<Figure size 500x300 with 1 Axes>"
      ]
     },
     "metadata": {},
     "output_type": "display_data"
    }
   ],
   "source": [
    "# Визуализируем данные\n",
    "plt.figure(figsize = (5, 3))\n",
    "ratio.plot(kind='bar')\n",
    "plt.xlabel('Тип подписки')\n",
    "plt.ylabel('Доля пользователей')\n",
    "plt.title('Соотношение пользователей с подпиской и без подписки')\n",
    "plt.show()"
   ]
  },
  {
   "cell_type": "markdown",
   "id": "06d4f975-2dff-4444-aafd-49a6704d046d",
   "metadata": {},
   "source": [
    "Исходя из полученных данных больше пользователей без подписки, однако не много (0.54, 0.46)"
   ]
  },
  {
   "cell_type": "code",
   "execution_count": 20,
   "id": "b022f517-68ef-4f5f-876b-3dfb1ceec5d2",
   "metadata": {},
   "outputs": [
    {
     "data": {
      "text/html": [
       "<div>\n",
       "<style scoped>\n",
       "    .dataframe tbody tr th:only-of-type {\n",
       "        vertical-align: middle;\n",
       "    }\n",
       "\n",
       "    .dataframe tbody tr th {\n",
       "        vertical-align: top;\n",
       "    }\n",
       "\n",
       "    .dataframe thead th {\n",
       "        text-align: right;\n",
       "    }\n",
       "</style>\n",
       "<table border=\"1\" class=\"dataframe\">\n",
       "  <thead>\n",
       "    <tr style=\"text-align: right;\">\n",
       "      <th></th>\n",
       "      <th>age</th>\n",
       "      <th>count</th>\n",
       "    </tr>\n",
       "  </thead>\n",
       "  <tbody>\n",
       "    <tr>\n",
       "      <th>24</th>\n",
       "      <td>12</td>\n",
       "      <td>4</td>\n",
       "    </tr>\n",
       "    <tr>\n",
       "      <th>22</th>\n",
       "      <td>13</td>\n",
       "      <td>8</td>\n",
       "    </tr>\n",
       "    <tr>\n",
       "      <th>21</th>\n",
       "      <td>14</td>\n",
       "      <td>9</td>\n",
       "    </tr>\n",
       "    <tr>\n",
       "      <th>20</th>\n",
       "      <td>15</td>\n",
       "      <td>13</td>\n",
       "    </tr>\n",
       "    <tr>\n",
       "      <th>17</th>\n",
       "      <td>16</td>\n",
       "      <td>19</td>\n",
       "    </tr>\n",
       "    <tr>\n",
       "      <th>16</th>\n",
       "      <td>17</td>\n",
       "      <td>26</td>\n",
       "    </tr>\n",
       "    <tr>\n",
       "      <th>13</th>\n",
       "      <td>18</td>\n",
       "      <td>46</td>\n",
       "    </tr>\n",
       "    <tr>\n",
       "      <th>12</th>\n",
       "      <td>19</td>\n",
       "      <td>47</td>\n",
       "    </tr>\n",
       "    <tr>\n",
       "      <th>8</th>\n",
       "      <td>20</td>\n",
       "      <td>71</td>\n",
       "    </tr>\n",
       "    <tr>\n",
       "      <th>7</th>\n",
       "      <td>21</td>\n",
       "      <td>93</td>\n",
       "    </tr>\n",
       "    <tr>\n",
       "      <th>4</th>\n",
       "      <td>22</td>\n",
       "      <td>119</td>\n",
       "    </tr>\n",
       "    <tr>\n",
       "      <th>3</th>\n",
       "      <td>23</td>\n",
       "      <td>129</td>\n",
       "    </tr>\n",
       "    <tr>\n",
       "      <th>1</th>\n",
       "      <td>24</td>\n",
       "      <td>132</td>\n",
       "    </tr>\n",
       "    <tr>\n",
       "      <th>0</th>\n",
       "      <td>25</td>\n",
       "      <td>145</td>\n",
       "    </tr>\n",
       "    <tr>\n",
       "      <th>2</th>\n",
       "      <td>26</td>\n",
       "      <td>131</td>\n",
       "    </tr>\n",
       "    <tr>\n",
       "      <th>5</th>\n",
       "      <td>27</td>\n",
       "      <td>119</td>\n",
       "    </tr>\n",
       "    <tr>\n",
       "      <th>6</th>\n",
       "      <td>28</td>\n",
       "      <td>112</td>\n",
       "    </tr>\n",
       "    <tr>\n",
       "      <th>10</th>\n",
       "      <td>29</td>\n",
       "      <td>68</td>\n",
       "    </tr>\n",
       "    <tr>\n",
       "      <th>9</th>\n",
       "      <td>30</td>\n",
       "      <td>68</td>\n",
       "    </tr>\n",
       "    <tr>\n",
       "      <th>11</th>\n",
       "      <td>31</td>\n",
       "      <td>48</td>\n",
       "    </tr>\n",
       "    <tr>\n",
       "      <th>14</th>\n",
       "      <td>32</td>\n",
       "      <td>41</td>\n",
       "    </tr>\n",
       "    <tr>\n",
       "      <th>15</th>\n",
       "      <td>33</td>\n",
       "      <td>39</td>\n",
       "    </tr>\n",
       "    <tr>\n",
       "      <th>18</th>\n",
       "      <td>34</td>\n",
       "      <td>19</td>\n",
       "    </tr>\n",
       "    <tr>\n",
       "      <th>19</th>\n",
       "      <td>35</td>\n",
       "      <td>15</td>\n",
       "    </tr>\n",
       "    <tr>\n",
       "      <th>23</th>\n",
       "      <td>36</td>\n",
       "      <td>6</td>\n",
       "    </tr>\n",
       "    <tr>\n",
       "      <th>26</th>\n",
       "      <td>37</td>\n",
       "      <td>2</td>\n",
       "    </tr>\n",
       "    <tr>\n",
       "      <th>25</th>\n",
       "      <td>38</td>\n",
       "      <td>3</td>\n",
       "    </tr>\n",
       "    <tr>\n",
       "      <th>27</th>\n",
       "      <td>39</td>\n",
       "      <td>1</td>\n",
       "    </tr>\n",
       "    <tr>\n",
       "      <th>28</th>\n",
       "      <td>43</td>\n",
       "      <td>1</td>\n",
       "    </tr>\n",
       "  </tbody>\n",
       "</table>\n",
       "</div>"
      ],
      "text/plain": [
       "    age  count\n",
       "24   12      4\n",
       "22   13      8\n",
       "21   14      9\n",
       "20   15     13\n",
       "17   16     19\n",
       "16   17     26\n",
       "13   18     46\n",
       "12   19     47\n",
       "8    20     71\n",
       "7    21     93\n",
       "4    22    119\n",
       "3    23    129\n",
       "1    24    132\n",
       "0    25    145\n",
       "2    26    131\n",
       "5    27    119\n",
       "6    28    112\n",
       "10   29     68\n",
       "9    30     68\n",
       "11   31     48\n",
       "14   32     41\n",
       "15   33     39\n",
       "18   34     19\n",
       "19   35     15\n",
       "23   36      6\n",
       "26   37      2\n",
       "25   38      3\n",
       "27   39      1\n",
       "28   43      1"
      ]
     },
     "execution_count": 20,
     "metadata": {},
     "output_type": "execute_result"
    }
   ],
   "source": [
    "# Соберем сведения о частоте встречаемости городов\n",
    "age = df_users_go['age'].value_counts().reset_index().sort_values(by='age')\n",
    "age"
   ]
  },
  {
   "cell_type": "code",
   "execution_count": 21,
   "id": "a7150399-9130-4304-a63c-57226c965fd8",
   "metadata": {},
   "outputs": [
    {
     "data": {
      "text/plain": [
       "<Figure size 500x300 with 0 Axes>"
      ]
     },
     "metadata": {},
     "output_type": "display_data"
    },
    {
     "data": {
      "image/png": "[encoded data removed]",
      "text/plain": [
       "<Figure size 640x480 with 1 Axes>"
      ]
     },
     "metadata": {},
     "output_type": "display_data"
    }
   ],
   "source": [
    "# Визуализируем данные\n",
    "plt.figure(figsize = (5, 3))\n",
    "age.plot(x='age', y='count', kind='bar')\n",
    "plt.xlabel('Возраст')\n",
    "plt.ylabel('Частота')\n",
    "plt.title('Возраст пользователей')\n",
    "plt.show()"
   ]
  },
  {
   "cell_type": "markdown",
   "id": "64043087-83ad-4619-8675-df3a9dd712d3",
   "metadata": {},
   "source": [
    "Судя по графику частота возраста имеет распределение близкое к нормальному, наибольше количество пользователей сервиса сконцентрировано в диапозоне от 22 до 27 лет"
   ]
  },
  {
   "cell_type": "code",
   "execution_count": 22,
   "id": "b9650a18-803e-4183-8492-77414924dade",
   "metadata": {},
   "outputs": [
    {
     "data": {
      "text/plain": [
       "user_id\n",
       "1       2839.18\n",
       "2       3087.64\n",
       "3       3075.63\n",
       "4       3202.66\n",
       "5       3232.45\n",
       "         ...   \n",
       "1530    2750.50\n",
       "1531    2915.43\n",
       "1532    2607.86\n",
       "1533    2837.71\n",
       "1534    3222.96\n",
       "Name: distance, Length: 1534, dtype: float64"
      ]
     },
     "execution_count": 22,
     "metadata": {},
     "output_type": "execute_result"
    }
   ],
   "source": [
    "#Подсчитываем среднее растояние поездки каждого пользователя\n",
    "mean_distance = round(df_rides_go.groupby('user_id')['distance'].mean(), 2)\n",
    "mean_distance"
   ]
  },
  {
   "cell_type": "code",
   "execution_count": 23,
   "id": "e7a17b3b-93ca-4c43-b79e-f4a360806fd7",
   "metadata": {},
   "outputs": [
    {
     "data": {
      "image/png": "[encoded data removed]",
      "text/plain": [
       "<Figure size 800x500 with 1 Axes>"
      ]
     },
     "metadata": {},
     "output_type": "display_data"
    }
   ],
   "source": [
    "# Визуализируем распределение\n",
    "plt.figure(figsize = (8, 5))\n",
    "mean_distance.plot(kind='hist', bins=70)\n",
    "plt.xlabel('Растояние')\n",
    "plt.ylabel('Частота')\n",
    "plt.title('Распределение среднего расстояния, пройденного пользователя за одну поездку')\n",
    "plt.show()"
   ]
  },
  {
   "cell_type": "markdown",
   "id": "ceb096d3-af84-477f-a26a-1a1018a38d26",
   "metadata": {},
   "source": [
    "Как видно на гистограмме растояние наибольшего объема поездок лежит в диапозоне между 2,7 и 3,5 км"
   ]
  },
  {
   "cell_type": "code",
   "execution_count": 24,
   "id": "32cf94be-3d91-4b5d-bdd1-9fa138da42ef",
   "metadata": {},
   "outputs": [
    {
     "data": {
      "text/plain": [
       "user_id\n",
       "1       17.05\n",
       "2       17.97\n",
       "3       19.43\n",
       "4       20.61\n",
       "5       15.82\n",
       "        ...  \n",
       "1530    17.20\n",
       "1531    17.75\n",
       "1532    16.32\n",
       "1533    18.51\n",
       "1534    17.68\n",
       "Name: duration, Length: 1534, dtype: float64"
      ]
     },
     "execution_count": 24,
     "metadata": {},
     "output_type": "execute_result"
    }
   ],
   "source": [
    "#Подсчитываем среднее растояние поездки каждого пользователя\n",
    "mean_duration = round(df_rides_go.groupby('user_id')['duration'].mean(), 2)\n",
    "mean_duration"
   ]
  },
  {
   "cell_type": "code",
   "execution_count": 25,
   "id": "9f597a09-89df-44f8-8d84-215b499be423",
   "metadata": {},
   "outputs": [
    {
     "data": {
      "image/png": "[encoded data removed]",
      "text/plain": [
       "<Figure size 800x500 with 1 Axes>"
      ]
     },
     "metadata": {},
     "output_type": "display_data"
    }
   ],
   "source": [
    "# Визуализируем распределение\n",
    "plt.figure(figsize = (8, 5))\n",
    "mean_duration.plot(kind='hist', bins=70)\n",
    "plt.xlabel('Продолжительность')\n",
    "plt.ylabel('Частота')\n",
    "plt.title('Распределение средней продолжительности поездки пользователя')\n",
    "plt.show()"
   ]
  },
  {
   "cell_type": "markdown",
   "id": "1f7e068e-c116-4e38-9aa4-de4b26b7e192",
   "metadata": {},
   "source": [
    "В основном продолжительность поездок составляет от 16 до 21 минуты"
   ]
  },
  {
   "cell_type": "markdown",
   "id": "1ad005a6-94d9-4b77-b551-214224c91e57",
   "metadata": {},
   "source": [
    "### Промежуточные результаты:\n",
    "* Подсчитаны и визуализированы: частота встречаемости городов, соотношение пользователей с подпиской и без, возраст пользователей, распеделение расстояния и дтельности поездки пользователя\n",
    "* Наиболее частовстречающийся город - Пятигорск, наимеее - Москва\n",
    "* Пользователей с подпиской на 8% меньше чем без нее\n",
    "* Распределение возроста пользователей близко к нормальному, наибольшую часть пользователей составляют молодые люди от 22 до 27 лет\n",
    "* Распределение среднего расстояния поездки также близко к нормальному, наибольшую долю поездок составляют поездки 2,7-3,5 км\n",
    "* Распределение средней продолжительности сессии также близко к нормальному, наибольшую долю составляют поездки от 16 до 21 минуты"
   ]
  },
  {
   "cell_type": "markdown",
   "id": "b7a709ff-3ee6-42f0-94c5-48d1c7e87939",
   "metadata": {},
   "source": [
    "## Объединение данных"
   ]
  },
  {
   "cell_type": "code",
   "execution_count": 26,
   "id": "c6a410da-bb3a-44b7-9d1e-77d630b99838",
   "metadata": {},
   "outputs": [],
   "source": [
    "# Объединяем датафрейм\n",
    "df = df_users_go.merge(df_rides_go, how='inner', on='user_id')\n",
    "df = df.merge(df_subscriptions_go, how='inner', on='subscription_type')"
   ]
  },
  {
   "cell_type": "code",
   "execution_count": 27,
   "id": "54af3aae-6c7c-4f60-b69b-a9b0f3017fbe",
   "metadata": {},
   "outputs": [
    {
     "name": "stdout",
     "output_type": "stream",
     "text": [
      "<class 'pandas.core.frame.DataFrame'>\n",
      "RangeIndex: 18068 entries, 0 to 18067\n",
      "Data columns (total 12 columns):\n",
      " #   Column             Non-Null Count  Dtype         \n",
      "---  ------             --------------  -----         \n",
      " 0   user_id            18068 non-null  int64         \n",
      " 1   name               18068 non-null  object        \n",
      " 2   age                18068 non-null  int64         \n",
      " 3   city               18068 non-null  object        \n",
      " 4   subscription_type  18068 non-null  object        \n",
      " 5   distance           18068 non-null  float64       \n",
      " 6   duration           18068 non-null  float64       \n",
      " 7   date               18068 non-null  datetime64[ns]\n",
      " 8   month              18068 non-null  int32         \n",
      " 9   minute_price       18068 non-null  int64         \n",
      " 10  start_ride_price   18068 non-null  int64         \n",
      " 11  subscription_fee   18068 non-null  int64         \n",
      "dtypes: datetime64[ns](1), float64(2), int32(1), int64(5), object(3)\n",
      "memory usage: 1.6+ MB\n"
     ]
    }
   ],
   "source": [
    "df.info()"
   ]
  },
  {
   "cell_type": "code",
   "execution_count": 28,
   "id": "bca3de9f-adfc-4355-9732-5b6d65b3b0ee",
   "metadata": {},
   "outputs": [
    {
     "name": "stdout",
     "output_type": "stream",
     "text": [
      "<class 'pandas.core.frame.DataFrame'>\n",
      "Index: 11568 entries, 6500 to 18067\n",
      "Data columns (total 12 columns):\n",
      " #   Column             Non-Null Count  Dtype         \n",
      "---  ------             --------------  -----         \n",
      " 0   user_id            11568 non-null  int64         \n",
      " 1   name               11568 non-null  object        \n",
      " 2   age                11568 non-null  int64         \n",
      " 3   city               11568 non-null  object        \n",
      " 4   subscription_type  11568 non-null  object        \n",
      " 5   distance           11568 non-null  float64       \n",
      " 6   duration           11568 non-null  float64       \n",
      " 7   date               11568 non-null  datetime64[ns]\n",
      " 8   month              11568 non-null  int32         \n",
      " 9   minute_price       11568 non-null  int64         \n",
      " 10  start_ride_price   11568 non-null  int64         \n",
      " 11  subscription_fee   11568 non-null  int64         \n",
      "dtypes: datetime64[ns](1), float64(2), int32(1), int64(5), object(3)\n",
      "memory usage: 1.1+ MB\n"
     ]
    }
   ],
   "source": [
    "# Датафрейм с пользователями без подписки\n",
    "df_users_without_subs = df[df['subscription_type'] == 'free']\n",
    "df_users_without_subs.info()"
   ]
  },
  {
   "cell_type": "code",
   "execution_count": 29,
   "id": "0d5f8510-1cce-4de0-819a-3f325ab18881",
   "metadata": {},
   "outputs": [
    {
     "name": "stdout",
     "output_type": "stream",
     "text": [
      "<class 'pandas.core.frame.DataFrame'>\n",
      "Index: 6500 entries, 0 to 6499\n",
      "Data columns (total 12 columns):\n",
      " #   Column             Non-Null Count  Dtype         \n",
      "---  ------             --------------  -----         \n",
      " 0   user_id            6500 non-null   int64         \n",
      " 1   name               6500 non-null   object        \n",
      " 2   age                6500 non-null   int64         \n",
      " 3   city               6500 non-null   object        \n",
      " 4   subscription_type  6500 non-null   object        \n",
      " 5   distance           6500 non-null   float64       \n",
      " 6   duration           6500 non-null   float64       \n",
      " 7   date               6500 non-null   datetime64[ns]\n",
      " 8   month              6500 non-null   int32         \n",
      " 9   minute_price       6500 non-null   int64         \n",
      " 10  start_ride_price   6500 non-null   int64         \n",
      " 11  subscription_fee   6500 non-null   int64         \n",
      "dtypes: datetime64[ns](1), float64(2), int32(1), int64(5), object(3)\n",
      "memory usage: 634.8+ KB\n"
     ]
    }
   ],
   "source": [
    "# Датафрейм с пользователями с подпиской\n",
    "df_users_with_subs = df[df['subscription_type'] == 'ultra']\n",
    "df_users_with_subs.info()"
   ]
  },
  {
   "cell_type": "code",
   "execution_count": 30,
   "id": "d0731511-7770-4ad3-a3ee-4dce8321ffdb",
   "metadata": {},
   "outputs": [
    {
     "data": {
      "image/png": "[encoded data removed]",
      "text/plain": [
       "<Figure size 800x500 with 1 Axes>"
      ]
     },
     "metadata": {},
     "output_type": "display_data"
    }
   ],
   "source": [
    "# Визуализация распределения расстояния поездки в зависимости от подписки\n",
    "plt.figure(figsize = (8, 5))\n",
    "sns.histplot(data=df, x='distance', hue='subscription_type')\n",
    "plt.title('График распределения расстояния поездки в зависимости от типа подписки')\n",
    "plt.ylabel('Количество')\n",
    "plt.xlabel('Расстояние')\n",
    "plt.show()"
   ]
  },
  {
   "cell_type": "markdown",
   "id": "feda2ad3-84ec-41f3-924e-f8ad27a4ce19",
   "metadata": {},
   "source": [
    "График распределения расстояния для пользователей с беплатной подпиской шире, однако для пользователей с платной выше, что говорит о том, что пользователи без подпиской чаще в целом используют сервис"
   ]
  },
  {
   "cell_type": "code",
   "execution_count": 31,
   "id": "342b4ca7-26a3-466b-817f-cdd1f8a67f87",
   "metadata": {},
   "outputs": [
    {
     "data": {
      "image/png": "[encoded data removed]",
      "text/plain": [
       "<Figure size 800x500 with 1 Axes>"
      ]
     },
     "metadata": {},
     "output_type": "display_data"
    }
   ],
   "source": [
    "# Визуализация распределения длительности поездки в зависимости от подписки\n",
    "plt.figure(figsize = (8, 5))\n",
    "sns.histplot(data=df, x='duration', hue='subscription_type')\n",
    "plt.title('График распределения длительности поездки в зависимости от типа подписки')\n",
    "plt.ylabel('Количество')\n",
    "plt.xlabel('Продолжительность')\n",
    "plt.show()"
   ]
  },
  {
   "cell_type": "markdown",
   "id": "a58a96a7-4642-429a-a505-98f95835fcf3",
   "metadata": {},
   "source": [
    "По гистограмме заметно, что пользователи без подписки больше катаются на самокатах. У распределения пользователей с подпиской есть небольшой правый хвост, что говорит о том, что они чаще берут самокаты на длительные прогулки, в то время как у пользователей без подписки есть большой левый хвост, следовательно, они часто совершают короткие поездки"
   ]
  },
  {
   "cell_type": "markdown",
   "id": "53b48c1a-12ad-4002-a9b0-96438f350ded",
   "metadata": {},
   "source": [
    "### Промежуточные результаты:\n",
    "* 3 датафрейма объеденены в 1, его размер 18068 и 12 столбцов\n",
    "* Созданы датафреймы с информацией о пользователях с и без подписки - df_users_with_subs и df_users_without_subs\n",
    "* Визуализированы распределения и проделжительность поездок пользователь с без подписок\n",
    "* Сделаны выводы, что пользователи без подписки чаще использую сервис, они часто используют их для коротких поездок, в то время как с подпиской - для дительных"
   ]
  },
  {
   "cell_type": "markdown",
   "id": "444c5a8e-8ed2-4eb4-a215-6ac34ff8cf0e",
   "metadata": {},
   "source": [
    "## Подсчёт выручки"
   ]
  },
  {
   "cell_type": "code",
   "execution_count": 32,
   "id": "f3e79c3a-9b30-4fda-bb46-892da83566c4",
   "metadata": {},
   "outputs": [
    {
     "data": {
      "text/html": [
       "<div>\n",
       "<style scoped>\n",
       "    .dataframe tbody tr th:only-of-type {\n",
       "        vertical-align: middle;\n",
       "    }\n",
       "\n",
       "    .dataframe tbody tr th {\n",
       "        vertical-align: top;\n",
       "    }\n",
       "\n",
       "    .dataframe thead th {\n",
       "        text-align: right;\n",
       "    }\n",
       "</style>\n",
       "<table border=\"1\" class=\"dataframe\">\n",
       "  <thead>\n",
       "    <tr style=\"text-align: right;\">\n",
       "      <th></th>\n",
       "      <th>user_id</th>\n",
       "      <th>name</th>\n",
       "      <th>subscription_type</th>\n",
       "      <th>month</th>\n",
       "      <th>sum_distance</th>\n",
       "      <th>ride_cnt</th>\n",
       "      <th>sum_duration</th>\n",
       "    </tr>\n",
       "  </thead>\n",
       "  <tbody>\n",
       "    <tr>\n",
       "      <th>0</th>\n",
       "      <td>1</td>\n",
       "      <td>Кира</td>\n",
       "      <td>ultra</td>\n",
       "      <td>1</td>\n",
       "      <td>7027.511294</td>\n",
       "      <td>2</td>\n",
       "      <td>41.416640</td>\n",
       "    </tr>\n",
       "    <tr>\n",
       "      <th>1</th>\n",
       "      <td>1</td>\n",
       "      <td>Кира</td>\n",
       "      <td>ultra</td>\n",
       "      <td>4</td>\n",
       "      <td>754.159807</td>\n",
       "      <td>1</td>\n",
       "      <td>6.232113</td>\n",
       "    </tr>\n",
       "    <tr>\n",
       "      <th>2</th>\n",
       "      <td>1</td>\n",
       "      <td>Кира</td>\n",
       "      <td>ultra</td>\n",
       "      <td>8</td>\n",
       "      <td>6723.470560</td>\n",
       "      <td>2</td>\n",
       "      <td>44.776802</td>\n",
       "    </tr>\n",
       "    <tr>\n",
       "      <th>3</th>\n",
       "      <td>1</td>\n",
       "      <td>Кира</td>\n",
       "      <td>ultra</td>\n",
       "      <td>10</td>\n",
       "      <td>5809.911100</td>\n",
       "      <td>2</td>\n",
       "      <td>31.578017</td>\n",
       "    </tr>\n",
       "    <tr>\n",
       "      <th>4</th>\n",
       "      <td>1</td>\n",
       "      <td>Кира</td>\n",
       "      <td>ultra</td>\n",
       "      <td>11</td>\n",
       "      <td>7003.499363</td>\n",
       "      <td>3</td>\n",
       "      <td>53.397424</td>\n",
       "    </tr>\n",
       "  </tbody>\n",
       "</table>\n",
       "</div>"
      ],
      "text/plain": [
       "   user_id  name subscription_type  month  sum_distance  ride_cnt  \\\n",
       "0        1  Кира             ultra      1   7027.511294         2   \n",
       "1        1  Кира             ultra      4    754.159807         1   \n",
       "2        1  Кира             ultra      8   6723.470560         2   \n",
       "3        1  Кира             ultra     10   5809.911100         2   \n",
       "4        1  Кира             ultra     11   7003.499363         3   \n",
       "\n",
       "   sum_duration  \n",
       "0     41.416640  \n",
       "1      6.232113  \n",
       "2     44.776802  \n",
       "3     31.578017  \n",
       "4     53.397424  "
      ]
     },
     "execution_count": 32,
     "metadata": {},
     "output_type": "execute_result"
    }
   ],
   "source": [
    "# Группируем датафрейм\n",
    "grouped_df = df.groupby(['user_id', 'name', 'subscription_type', 'month'])\n",
    "# Создаем дафатафрейм с агрегированными данными\n",
    "agg_df = pd.DataFrame()\n",
    "agg_df['sum_distance'] = grouped_df['distance'].sum()\n",
    "agg_df['ride_cnt'] = grouped_df['distance'].count()\n",
    "agg_df['sum_duration'] = grouped_df['duration'].sum()\n",
    "agg_df = agg_df.reset_index()\n",
    "agg_df.head()"
   ]
  },
  {
   "cell_type": "code",
   "execution_count": 33,
   "id": "07d6e15f-ee1b-41d7-ba01-e047674f90c2",
   "metadata": {},
   "outputs": [
    {
     "data": {
      "text/html": [
       "<div>\n",
       "<style scoped>\n",
       "    .dataframe tbody tr th:only-of-type {\n",
       "        vertical-align: middle;\n",
       "    }\n",
       "\n",
       "    .dataframe tbody tr th {\n",
       "        vertical-align: top;\n",
       "    }\n",
       "\n",
       "    .dataframe thead th {\n",
       "        text-align: right;\n",
       "    }\n",
       "</style>\n",
       "<table border=\"1\" class=\"dataframe\">\n",
       "  <thead>\n",
       "    <tr style=\"text-align: right;\">\n",
       "      <th></th>\n",
       "      <th>user_id</th>\n",
       "      <th>name</th>\n",
       "      <th>subscription_type</th>\n",
       "      <th>month</th>\n",
       "      <th>sum_distance</th>\n",
       "      <th>ride_cnt</th>\n",
       "      <th>sum_duration</th>\n",
       "      <th>revenue</th>\n",
       "    </tr>\n",
       "  </thead>\n",
       "  <tbody>\n",
       "    <tr>\n",
       "      <th>0</th>\n",
       "      <td>1</td>\n",
       "      <td>Кира</td>\n",
       "      <td>ultra</td>\n",
       "      <td>1</td>\n",
       "      <td>7027.511294</td>\n",
       "      <td>2</td>\n",
       "      <td>41.416640</td>\n",
       "      <td>447.499843</td>\n",
       "    </tr>\n",
       "    <tr>\n",
       "      <th>1</th>\n",
       "      <td>1</td>\n",
       "      <td>Кира</td>\n",
       "      <td>ultra</td>\n",
       "      <td>4</td>\n",
       "      <td>754.159807</td>\n",
       "      <td>1</td>\n",
       "      <td>6.232113</td>\n",
       "      <td>236.392681</td>\n",
       "    </tr>\n",
       "    <tr>\n",
       "      <th>2</th>\n",
       "      <td>1</td>\n",
       "      <td>Кира</td>\n",
       "      <td>ultra</td>\n",
       "      <td>8</td>\n",
       "      <td>6723.470560</td>\n",
       "      <td>2</td>\n",
       "      <td>44.776802</td>\n",
       "      <td>467.660815</td>\n",
       "    </tr>\n",
       "    <tr>\n",
       "      <th>3</th>\n",
       "      <td>1</td>\n",
       "      <td>Кира</td>\n",
       "      <td>ultra</td>\n",
       "      <td>10</td>\n",
       "      <td>5809.911100</td>\n",
       "      <td>2</td>\n",
       "      <td>31.578017</td>\n",
       "      <td>388.468102</td>\n",
       "    </tr>\n",
       "    <tr>\n",
       "      <th>4</th>\n",
       "      <td>1</td>\n",
       "      <td>Кира</td>\n",
       "      <td>ultra</td>\n",
       "      <td>11</td>\n",
       "      <td>7003.499363</td>\n",
       "      <td>3</td>\n",
       "      <td>53.397424</td>\n",
       "      <td>519.384541</td>\n",
       "    </tr>\n",
       "    <tr>\n",
       "      <th>...</th>\n",
       "      <td>...</td>\n",
       "      <td>...</td>\n",
       "      <td>...</td>\n",
       "      <td>...</td>\n",
       "      <td>...</td>\n",
       "      <td>...</td>\n",
       "      <td>...</td>\n",
       "      <td>...</td>\n",
       "    </tr>\n",
       "    <tr>\n",
       "      <th>11326</th>\n",
       "      <td>1534</td>\n",
       "      <td>Альберт</td>\n",
       "      <td>free</td>\n",
       "      <td>6</td>\n",
       "      <td>3409.468534</td>\n",
       "      <td>2</td>\n",
       "      <td>24.812678</td>\n",
       "      <td>198.501421</td>\n",
       "    </tr>\n",
       "    <tr>\n",
       "      <th>11327</th>\n",
       "      <td>1534</td>\n",
       "      <td>Альберт</td>\n",
       "      <td>free</td>\n",
       "      <td>8</td>\n",
       "      <td>7622.453034</td>\n",
       "      <td>2</td>\n",
       "      <td>47.205960</td>\n",
       "      <td>377.647678</td>\n",
       "    </tr>\n",
       "    <tr>\n",
       "      <th>11328</th>\n",
       "      <td>1534</td>\n",
       "      <td>Альберт</td>\n",
       "      <td>free</td>\n",
       "      <td>9</td>\n",
       "      <td>4928.173852</td>\n",
       "      <td>1</td>\n",
       "      <td>22.560373</td>\n",
       "      <td>180.482980</td>\n",
       "    </tr>\n",
       "    <tr>\n",
       "      <th>11329</th>\n",
       "      <td>1534</td>\n",
       "      <td>Альберт</td>\n",
       "      <td>free</td>\n",
       "      <td>11</td>\n",
       "      <td>13350.015305</td>\n",
       "      <td>4</td>\n",
       "      <td>76.342174</td>\n",
       "      <td>610.737395</td>\n",
       "    </tr>\n",
       "    <tr>\n",
       "      <th>11330</th>\n",
       "      <td>1534</td>\n",
       "      <td>Альберт</td>\n",
       "      <td>free</td>\n",
       "      <td>12</td>\n",
       "      <td>2371.711192</td>\n",
       "      <td>1</td>\n",
       "      <td>15.893917</td>\n",
       "      <td>127.151336</td>\n",
       "    </tr>\n",
       "  </tbody>\n",
       "</table>\n",
       "<p>11331 rows × 8 columns</p>\n",
       "</div>"
      ],
      "text/plain": [
       "       user_id     name subscription_type  month  sum_distance  ride_cnt  \\\n",
       "0            1     Кира             ultra      1   7027.511294         2   \n",
       "1            1     Кира             ultra      4    754.159807         1   \n",
       "2            1     Кира             ultra      8   6723.470560         2   \n",
       "3            1     Кира             ultra     10   5809.911100         2   \n",
       "4            1     Кира             ultra     11   7003.499363         3   \n",
       "...        ...      ...               ...    ...           ...       ...   \n",
       "11326     1534  Альберт              free      6   3409.468534         2   \n",
       "11327     1534  Альберт              free      8   7622.453034         2   \n",
       "11328     1534  Альберт              free      9   4928.173852         1   \n",
       "11329     1534  Альберт              free     11  13350.015305         4   \n",
       "11330     1534  Альберт              free     12   2371.711192         1   \n",
       "\n",
       "       sum_duration     revenue  \n",
       "0         41.416640  447.499843  \n",
       "1          6.232113  236.392681  \n",
       "2         44.776802  467.660815  \n",
       "3         31.578017  388.468102  \n",
       "4         53.397424  519.384541  \n",
       "...             ...         ...  \n",
       "11326     24.812678  198.501421  \n",
       "11327     47.205960  377.647678  \n",
       "11328     22.560373  180.482980  \n",
       "11329     76.342174  610.737395  \n",
       "11330     15.893917  127.151336  \n",
       "\n",
       "[11331 rows x 8 columns]"
      ]
     },
     "execution_count": 33,
     "metadata": {},
     "output_type": "execute_result"
    }
   ],
   "source": [
    "agg_df = agg_df.merge(df_subscriptions_go, how='inner', on='subscription_type')\n",
    "agg_df['revenue'] = agg_df['sum_duration'] * agg_df['minute_price'] + agg_df['subscription_fee']\n",
    "agg_df = agg_df[['user_id', 'name', 'subscription_type',\t'month', 'sum_distance', 'ride_cnt', 'sum_duration', 'revenue']]\n",
    "agg_df"
   ]
  },
  {
   "cell_type": "markdown",
   "id": "07a3d287-e71a-434e-a18d-f6a1ba1eddc9",
   "metadata": {},
   "source": [
    "### Промежуточные результаты\n",
    "1. Проведена группировка по id, имени, типу подписки и месяцу\n",
    "2. для каждого пользователя и месяца подсчитано суммарное расстояние, количество поездок, суммарная длительность, помесячная выручка"
   ]
  },
  {
   "cell_type": "markdown",
   "id": "f1645b83-840f-4957-a1fd-e9887b37a0a4",
   "metadata": {},
   "source": [
    "## Проверка гипотез"
   ]
  },
  {
   "cell_type": "markdown",
   "id": "b426eabd-97d2-4c42-b8d5-db6e190559df",
   "metadata": {},
   "source": [
    "### Гипотеза о времени поездки для пользователей разных категорий\n",
    "Гипотеза с 2 выборками (пользователи с подпиской и без) \\\n",
    "Гипотеза левосторонняя \\\n",
    "H0: Время поездки для пользователей с подпиской и без в среднем не отличается (μ1 - μ2 = 0) \\\n",
    "H1: Пользователи с подпиской тратят больше времени на поездки, чем пользователи без (μ1 - μ2 < 0) \\\n",
    "Проверка гипотезы будет осуществляться при α = 0.05"
   ]
  },
  {
   "cell_type": "code",
   "execution_count": 34,
   "id": "fd659818-63ea-42b6-a33f-c7eb0c7f97ea",
   "metadata": {},
   "outputs": [
    {
     "name": "stdout",
     "output_type": "stream",
     "text": [
      "p-value = 1.2804098316645618e-34\n"
     ]
    }
   ],
   "source": [
    "time_without_sub = df_users_without_subs['duration']\n",
    "time_with_sub = df_users_with_subs['duration']\n",
    "\n",
    "res = st.ttest_ind(time_without_sub,\n",
    "                   time_with_sub, \n",
    "                   alternative='less')\n",
    "print('p-value =', res.pvalue)"
   ]
  },
  {
   "cell_type": "markdown",
   "id": "d9c6fecf-4e54-46a7-a51a-f8e2d81cd0ac",
   "metadata": {},
   "source": [
    "p-value меньше α, следовательно отвергаем гипотезу H0"
   ]
  },
  {
   "cell_type": "code",
   "execution_count": 35,
   "id": "b5efe14e-8f6d-40bb-af20-1b075197cacf",
   "metadata": {},
   "outputs": [
    {
     "name": "stdout",
     "output_type": "stream",
     "text": [
      "6.61\n"
     ]
    }
   ],
   "source": [
    "avg_time_without_sub = df_users_without_subs['duration'].mean()\n",
    "avg_time_with_sub = df_users_with_subs['duration'].mean()\n",
    "\n",
    "dif = round(avg_time_with_sub - avg_time_without_sub, 2)\n",
    "perc_dif = round(dif / avg_time_without_sub * 100, 2)\n",
    "print(perc_dif)"
   ]
  },
  {
   "cell_type": "markdown",
   "id": "cf1f61e1-7bc3-436b-a46b-fcca5588e2b4",
   "metadata": {},
   "source": [
    "В среднем пользователи с подпиской тратят на 6,61% времени больше чем без. Судя по выборке можно сделать вывод, что пользователи с подпиской выгоднее для сервиса"
   ]
  },
  {
   "cell_type": "markdown",
   "id": "77561c38-7bb9-4228-86f6-8895b1130030",
   "metadata": {},
   "source": [
    "### Гипотеза о среднем расстоянии поездки пользователей подписки\n",
    "Гипотеза с 1 выборкой (пользователи с подпиской) \\\n",
    "Значение для сравнения 3130 метров  \\\n",
    "Гипотеза односторонняя\\\n",
    "H0: Среднее расстояние, которое проезжают пользователи с подпиской за одну поездку, равно 3130 (μ1 = 3130) \\\n",
    "H1: Среднее расстояние, которое проезжают пользователи с подпиской за одну поездку, не превышает 3130 (μ1  < 3130) \\\n",
    "Проверка гипотезы будет осуществляться при α = 0.05"
   ]
  },
  {
   "cell_type": "code",
   "execution_count": 36,
   "id": "5220be69-53f2-43e1-8833-787cf5801441",
   "metadata": {},
   "outputs": [
    {
     "name": "stdout",
     "output_type": "stream",
     "text": [
      "p-value = 0.08046311521502146\n"
     ]
    }
   ],
   "source": [
    "distance_with_sub = df_users_with_subs['distance']\n",
    "\n",
    "res = st.ttest_1samp(distance_with_sub,\n",
    "                   3130, \n",
    "                   alternative='less')\n",
    "print('p-value =', res.pvalue)"
   ]
  },
  {
   "cell_type": "markdown",
   "id": "6ae83556-ea1d-4a61-939f-04aff873df01",
   "metadata": {},
   "source": [
    "p-value больше α, следовательно мы не можем отвергать нулевую гипотезу. Тут нельзя однозначно сказать, что среднее расстояние меньше оптимального"
   ]
  },
  {
   "cell_type": "markdown",
   "id": "331ebd0c-68f0-4444-8217-78d5b63d64ec",
   "metadata": {},
   "source": [
    "### Гипотеза о пемесячной выручке для пользователей разных категорий\n",
    "Гипотеза с 2 выборками (пользователи с подпиской и без) \\\n",
    "Гипотеза левосторонняя \\\n",
    "H0: Помесячная выручка для пользователей с подпиской и без в среднем не отличается (μ1 - μ2 = 0) \\\n",
    "H1: Помесячная выручка от пользователей с подпиской по месяцам выше, чем выручка от пользователей без подписки (μ1 - μ2 < 0) \\\n",
    "Проверка гипотезы будет осуществляться при α = 0.05"
   ]
  },
  {
   "cell_type": "code",
   "execution_count": 37,
   "id": "8bbcd2e1-7592-4d75-a84d-c502e8548c50",
   "metadata": {},
   "outputs": [
    {
     "name": "stdout",
     "output_type": "stream",
     "text": [
      "p-value = 0.3245080348135175\n"
     ]
    }
   ],
   "source": [
    "rev_without_sub = agg_df[agg_df['subscription_type'] == 'free'].groupby('month')['revenue'].sum()\n",
    "rev_with_sub = agg_df[agg_df['subscription_type'] == 'ultra'].groupby('month')['revenue'].sum()\n",
    "\n",
    "res = st.ttest_ind(rev_without_sub,\n",
    "                   rev_with_sub, \n",
    "                   alternative='less')\n",
    "print('p-value =', res.pvalue)"
   ]
  },
  {
   "cell_type": "markdown",
   "id": "6c5e10e2-6661-4159-b670-53a5ab77fbaf",
   "metadata": {},
   "source": [
    "p-value больше α, следовательно мы не можем отвергать нулевую гипотезу. \\\n",
    "Это не значит, что она верна или что альтернативная гипотеза не верна, это значит, нет статистически значимых доказательств того помесячная выручка пользователей с подпиской больше, чем у пользователей без нее"
   ]
  },
  {
   "cell_type": "markdown",
   "id": "e81f2681-2055-4632-9d9c-8e94fac84707",
   "metadata": {},
   "source": [
    "### Промежуточные результаты:\n",
    "Проверены 3 гипотезы продакт-менеджеров\n",
    "1. Первую гипотезу о том, что пользователи с подпиской тратят больше времени на поездки, чем пользователи без принимается. Действительно есть статистически значимые доказательства в ее пользу. Пользователи с подпиской в среднем тратят на 6.61% больше времени на поедки на самокате, чем пользователи без\n",
    "2. Вторую гипотезу не можем принять. Данных недостаточно для того, чтобы утверждать, что среднее расстояние поездки пользователей подписки меньше, чем оптимального\n",
    "3. Третью гипотезу также принять не можем. Так как не можем отвергнуть нулевую гипотезу "
   ]
  },
  {
   "cell_type": "markdown",
   "id": "1cd6d89b-82a7-4ef8-a48e-f9df05b8b189",
   "metadata": {},
   "source": [
    "##  Распределения\n",
    "### Расчёт точечных оценок"
   ]
  },
  {
   "cell_type": "code",
   "execution_count": 57,
   "id": "143c83cc-0f8b-4324-a861-ad4435f7a057",
   "metadata": {},
   "outputs": [
    {
     "data": {
      "text/plain": [
       "17.81"
      ]
     },
     "execution_count": 57,
     "metadata": {},
     "output_type": "execute_result"
    }
   ],
   "source": [
    "# Расчёт средней длительности поездки\n",
    "avg_duration = round(df['duration'].mean(), 2)\n",
    "avg_duration"
   ]
  },
  {
   "cell_type": "code",
   "execution_count": 58,
   "id": "35d69f00-79e2-404d-bc99-675678470954",
   "metadata": {},
   "outputs": [
    {
     "data": {
      "text/plain": [
       "6.09"
      ]
     },
     "execution_count": 58,
     "metadata": {},
     "output_type": "execute_result"
    }
   ],
   "source": [
    "# Расчёт стандартного отклонения\n",
    "std_dev = round(np.sqrt(np.var(df['duration'])), 2)\n",
    "std_dev"
   ]
  },
  {
   "cell_type": "markdown",
   "id": "82fcfb44-f1dc-4bd8-87cd-f6a921ce71d4",
   "metadata": {},
   "source": [
    "### Расчёт вероятности, что поездка будет более 30 минут\n"
   ]
  },
  {
   "cell_type": "code",
   "execution_count": 59,
   "id": "bba534d6-72b1-4b26-8d38-bf61a7cc0fc8",
   "metadata": {},
   "outputs": [
    {
     "data": {
      "text/plain": [
       "0.02"
      ]
     },
     "execution_count": 59,
     "metadata": {},
     "output_type": "execute_result"
    }
   ],
   "source": [
    "# Вычисляем вероятность того, что поездка длится меньше или равно 30 минут\n",
    "value = 30\n",
    "\n",
    "dist = st.norm(avg_duration, std_dev)\n",
    "prob_less = dist.cdf(value)\n",
    "\n",
    "# Вычисляем вероятность того, что поездка длится больше 30 минут \n",
    "prob = round(1 - prob_less, 2)\n",
    "prob"
   ]
  },
  {
   "cell_type": "markdown",
   "id": "4ba7b96c-6bae-4773-a18d-cfa0a1a9f274",
   "metadata": {},
   "source": [
    "Вероятность поездки более 30 минут действительно мала"
   ]
  },
  {
   "cell_type": "markdown",
   "id": "5141e12d-0966-4d74-a170-0ec2ab5b3e1b",
   "metadata": {},
   "source": [
    "### Расчет вероятности, что поездка будет в интервале 20 - 30 минут"
   ]
  },
  {
   "cell_type": "code",
   "execution_count": 60,
   "id": "3b433ceb-d856-46a7-9dad-71b6d370cc03",
   "metadata": {},
   "outputs": [
    {
     "data": {
      "text/plain": [
       "0.34"
      ]
     },
     "execution_count": 60,
     "metadata": {},
     "output_type": "execute_result"
    }
   ],
   "source": [
    "low = 20\n",
    "high = 30\n",
    "\n",
    "# Вычисляем вероятность\n",
    "prob_int = round(dist.cdf(high) - dist.cdf(low), 2)\n",
    "prob_int"
   ]
  },
  {
   "cell_type": "markdown",
   "id": "b1c837cf-b463-48b6-bdf8-94bf6eb9b5d1",
   "metadata": {},
   "source": [
    "Около трети поездок лежат в этом интервале, провести промоакцию для пользователей, совершающих такие поездки будет хорошим решением"
   ]
  },
  {
   "cell_type": "markdown",
   "id": "cb2cb787-22b6-4ba0-8c32-a8ce6b7533c2",
   "metadata": {},
   "source": [
    "### Определение критической дистанции"
   ]
  },
  {
   "cell_type": "code",
   "execution_count": 61,
   "id": "d2736c7a-00a9-430a-9a19-5aa500bf5278",
   "metadata": {},
   "outputs": [
    {
     "data": {
      "text/plain": [
       "4502"
      ]
     },
     "execution_count": 61,
     "metadata": {},
     "output_type": "execute_result"
    }
   ],
   "source": [
    "# Параметры нормального распределения\n",
    "avg_dist = round(df['distance'].mean(), 2)\n",
    "std_dev_dist = round(np.sqrt(np.var(df['distance'])), 2)\n",
    "\n",
    "prob = 0.9\n",
    "#Построение распределения\n",
    "dist = st.norm(avg_dist, std_dev_dist)\n",
    "# Расчет критической дистанции\n",
    "crit_dist = round(dist.ppf(prob))\n",
    "crit_dist"
   ]
  },
  {
   "cell_type": "markdown",
   "id": "b9d192c2-9c82-4b7a-bad8-9cd72de6cde7",
   "metadata": {},
   "source": [
    "Таким образом подходящая критическая дистанция это 4,502 километра"
   ]
  },
  {
   "cell_type": "markdown",
   "id": "cceec8c3-5510-4b6f-8e23-cc0289a9f77e",
   "metadata": {},
   "source": [
    "### Промежуточные результаты\n",
    "1. Вероятность, что поездка будет длится более 30 минут, очень мала (0.02), поэтому скидку лучше не запускать\n",
    "2. Вероятность, что поездка будет длиться от 20 до 30 минут примерно равна 1/3, запустить скидку для такой длительности будет хорошим решением\n",
    "3. Критическая дистанция была расчитана в предаположении, что расстояния поездок распределены нормально, таким образом критическая дистанция равна 4,502 километра  "
   ]
  },
  {
   "cell_type": "markdown",
   "id": "5ec63c54-68b3-43a6-84a0-0bb3bbbab587",
   "metadata": {},
   "source": [
    "## Итоговые результаты\n",
    "1. Данные предобработаны\n",
    "2. Проведен исследовательский анализ данные, который был сопровожден визуализациями\n",
    "3. Произведен подсчёт суммарной дистанции и длительности, количества поездок и выручки в разрезе каждого клиента и месяца\n",
    "4. Проверены три продуктовые гипотезы, подтверждена только первая\n",
    "5. Выяснено, что скидку можно ввести для поездок от 20 до 30 минут, а критичсекая дальность поездки составляет 4,5 километра, после этого расстояния должна вводиться дополнительная плата"
   ]
  }
 ],
 "metadata": {
  "kernelspec": {
   "display_name": "Python 3 (ipykernel)",
   "language": "python",
   "name": "python3"
  },
  "language_info": {
   "codemirror_mode": {
    "name": "ipython",
    "version": 3
   },
   "file_extension": ".py",
   "mimetype": "text/x-python",
   "name": "python",
   "nbconvert_exporter": "python",
   "pygments_lexer": "ipython3",
   "version": "3.12.7"
  }
 },
 "nbformat": 4,
 "nbformat_minor": 5
}
