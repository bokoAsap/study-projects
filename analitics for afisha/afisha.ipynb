{
 "cells": [
  {
   "cell_type": "markdown",
   "id": "306a6882-d76c-45c4-8f61-e5ad0b4aafe2",
   "metadata": {},
   "source": [
    "# Исследовательский анализ данных и проверка гипотез для сервиса Яндекс.Афиша"
   ]
  },
  {
   "cell_type": "markdown",
   "id": "5286fb49",
   "metadata": {},
   "source": [
    "### Автор: Бойко Галина"
   ]
  },
  {
   "cell_type": "markdown",
   "id": "d4db0ada-b5c4-4985-968b-0752a33f9616",
   "metadata": {},
   "source": [
    "### Цели и задачи\n",
    "#### Цели\n",
    "Ответить на вопросы продуктовой команды, а именно:\n",
    "#### Задачи\n",
    "* Загрузить данные и ознакомиться с ними\n",
    "* Предобработать данные и подготовить их к исследованию\n",
    "* Провести исследовательский анализ данных (выполнить анализ по сегментам, изучить осенную активность пользователей, отобрать популярные события и партнеров) \n",
    "* Выполнить статистический анализ (проверить 2 продуктовые гипотезы)\n",
    "* Сделать общий вывод и дать рекомендации"
   ]
  },
  {
   "cell_type": "markdown",
   "id": "31942ae8-a2ce-4778-a0d4-75ee6181e3e2",
   "metadata": {},
   "source": [
    "### Структура проекта\n",
    "* Загрузка данных и ознакомление\n",
    "* Подготовка данных к дальнейшему анализу\n",
    "* Исследовательский анализ\n",
    "* Статистический анализ\n",
    "* Общий вывод и рекомендации"
   ]
  },
  {
   "cell_type": "markdown",
   "id": "39710af1-4810-42ff-812d-4b6d63b569cf",
   "metadata": {},
   "source": [
    "## Загрузка данных и ознакомление"
   ]
  },
  {
   "cell_type": "code",
   "execution_count": 1,
   "id": "f5c28605-7d2f-4b49-8c96-25a61d0a2c91",
   "metadata": {},
   "outputs": [],
   "source": [
    "# Импортируем библиотеки\n",
    "import matplotlib.pyplot as plt\n",
    "import pandas as pd\n",
    "import numpy as np\n",
    "from scipy.stats import ttest_ind"
   ]
  },
  {
   "cell_type": "code",
   "execution_count": 3,
   "id": "e067c489-dd7b-4ae8-aced-59c6e124dd2b",
   "metadata": {},
   "outputs": [
    {
     "data": {
      "text/html": [
       "<div>\n",
       "<style scoped>\n",
       "    .dataframe tbody tr th:only-of-type {\n",
       "        vertical-align: middle;\n",
       "    }\n",
       "\n",
       "    .dataframe tbody tr th {\n",
       "        vertical-align: top;\n",
       "    }\n",
       "\n",
       "    .dataframe thead th {\n",
       "        text-align: right;\n",
       "    }\n",
       "</style>\n",
       "<table border=\"1\" class=\"dataframe\">\n",
       "  <thead>\n",
       "    <tr style=\"text-align: right;\">\n",
       "      <th></th>\n",
       "      <th>order_id</th>\n",
       "      <th>user_id</th>\n",
       "      <th>created_dt_msk</th>\n",
       "      <th>created_ts_msk</th>\n",
       "      <th>event_id</th>\n",
       "      <th>cinema_circuit</th>\n",
       "      <th>age_limit</th>\n",
       "      <th>currency_code</th>\n",
       "      <th>device_type_canonical</th>\n",
       "      <th>revenue</th>\n",
       "      <th>service_name</th>\n",
       "      <th>tickets_count</th>\n",
       "      <th>total</th>\n",
       "      <th>days_since_prev</th>\n",
       "    </tr>\n",
       "  </thead>\n",
       "  <tbody>\n",
       "    <tr>\n",
       "      <th>0</th>\n",
       "      <td>4359165</td>\n",
       "      <td>0002849b70a3ce2</td>\n",
       "      <td>2024-08-20</td>\n",
       "      <td>2024-08-20 16:08:03</td>\n",
       "      <td>169230</td>\n",
       "      <td>нет</td>\n",
       "      <td>16</td>\n",
       "      <td>rub</td>\n",
       "      <td>mobile</td>\n",
       "      <td>1521.94</td>\n",
       "      <td>Край билетов</td>\n",
       "      <td>4</td>\n",
       "      <td>10870.99</td>\n",
       "      <td>NaN</td>\n",
       "    </tr>\n",
       "    <tr>\n",
       "      <th>1</th>\n",
       "      <td>7965605</td>\n",
       "      <td>0005ca5e93f2cf4</td>\n",
       "      <td>2024-07-23</td>\n",
       "      <td>2024-07-23 18:36:24</td>\n",
       "      <td>237325</td>\n",
       "      <td>нет</td>\n",
       "      <td>0</td>\n",
       "      <td>rub</td>\n",
       "      <td>mobile</td>\n",
       "      <td>289.45</td>\n",
       "      <td>Мой билет</td>\n",
       "      <td>2</td>\n",
       "      <td>2067.51</td>\n",
       "      <td>NaN</td>\n",
       "    </tr>\n",
       "    <tr>\n",
       "      <th>2</th>\n",
       "      <td>7292370</td>\n",
       "      <td>0005ca5e93f2cf4</td>\n",
       "      <td>2024-10-06</td>\n",
       "      <td>2024-10-06 13:56:02</td>\n",
       "      <td>578454</td>\n",
       "      <td>нет</td>\n",
       "      <td>0</td>\n",
       "      <td>rub</td>\n",
       "      <td>mobile</td>\n",
       "      <td>1258.57</td>\n",
       "      <td>За билетом!</td>\n",
       "      <td>4</td>\n",
       "      <td>13984.16</td>\n",
       "      <td>75.0</td>\n",
       "    </tr>\n",
       "    <tr>\n",
       "      <th>3</th>\n",
       "      <td>1139875</td>\n",
       "      <td>000898990054619</td>\n",
       "      <td>2024-07-13</td>\n",
       "      <td>2024-07-13 19:40:48</td>\n",
       "      <td>387271</td>\n",
       "      <td>нет</td>\n",
       "      <td>0</td>\n",
       "      <td>rub</td>\n",
       "      <td>mobile</td>\n",
       "      <td>8.49</td>\n",
       "      <td>Лови билет!</td>\n",
       "      <td>2</td>\n",
       "      <td>212.28</td>\n",
       "      <td>NaN</td>\n",
       "    </tr>\n",
       "    <tr>\n",
       "      <th>4</th>\n",
       "      <td>972400</td>\n",
       "      <td>000898990054619</td>\n",
       "      <td>2024-10-04</td>\n",
       "      <td>2024-10-04 22:33:15</td>\n",
       "      <td>509453</td>\n",
       "      <td>нет</td>\n",
       "      <td>18</td>\n",
       "      <td>rub</td>\n",
       "      <td>mobile</td>\n",
       "      <td>1390.41</td>\n",
       "      <td>Билеты без проблем</td>\n",
       "      <td>3</td>\n",
       "      <td>10695.43</td>\n",
       "      <td>83.0</td>\n",
       "    </tr>\n",
       "  </tbody>\n",
       "</table>\n",
       "</div>"
      ],
      "text/plain": [
       "   order_id          user_id created_dt_msk       created_ts_msk  event_id  \\\n",
       "0   4359165  0002849b70a3ce2     2024-08-20  2024-08-20 16:08:03    169230   \n",
       "1   7965605  0005ca5e93f2cf4     2024-07-23  2024-07-23 18:36:24    237325   \n",
       "2   7292370  0005ca5e93f2cf4     2024-10-06  2024-10-06 13:56:02    578454   \n",
       "3   1139875  000898990054619     2024-07-13  2024-07-13 19:40:48    387271   \n",
       "4    972400  000898990054619     2024-10-04  2024-10-04 22:33:15    509453   \n",
       "\n",
       "  cinema_circuit  age_limit currency_code device_type_canonical  revenue  \\\n",
       "0            нет         16           rub                mobile  1521.94   \n",
       "1            нет          0           rub                mobile   289.45   \n",
       "2            нет          0           rub                mobile  1258.57   \n",
       "3            нет          0           rub                mobile     8.49   \n",
       "4            нет         18           rub                mobile  1390.41   \n",
       "\n",
       "         service_name  tickets_count     total  days_since_prev  \n",
       "0        Край билетов              4  10870.99              NaN  \n",
       "1           Мой билет              2   2067.51              NaN  \n",
       "2         За билетом!              4  13984.16             75.0  \n",
       "3         Лови билет!              2    212.28              NaN  \n",
       "4  Билеты без проблем              3  10695.43             83.0  "
      ]
     },
     "execution_count": 3,
     "metadata": {},
     "output_type": "execute_result"
    }
   ],
   "source": [
    "orders_df.head()"
   ]
  },
  {
   "cell_type": "code",
   "execution_count": 4,
   "id": "ee74e60f-48bb-4335-8b83-717449f11718",
   "metadata": {},
   "outputs": [
    {
     "name": "stdout",
     "output_type": "stream",
     "text": [
      "<class 'pandas.core.frame.DataFrame'>\n",
      "RangeIndex: 290849 entries, 0 to 290848\n",
      "Data columns (total 14 columns):\n",
      " #   Column                 Non-Null Count   Dtype  \n",
      "---  ------                 --------------   -----  \n",
      " 0   order_id               290849 non-null  int64  \n",
      " 1   user_id                290849 non-null  object \n",
      " 2   created_dt_msk         290849 non-null  object \n",
      " 3   created_ts_msk         290849 non-null  object \n",
      " 4   event_id               290849 non-null  int64  \n",
      " 5   cinema_circuit         290849 non-null  object \n",
      " 6   age_limit              290849 non-null  int64  \n",
      " 7   currency_code          290849 non-null  object \n",
      " 8   device_type_canonical  290849 non-null  object \n",
      " 9   revenue                290849 non-null  float64\n",
      " 10  service_name           290849 non-null  object \n",
      " 11  tickets_count          290849 non-null  int64  \n",
      " 12  total                  290849 non-null  float64\n",
      " 13  days_since_prev        268909 non-null  float64\n",
      "dtypes: float64(3), int64(4), object(7)\n",
      "memory usage: 31.1+ MB\n"
     ]
    }
   ],
   "source": [
    "orders_df.info()"
   ]
  },
  {
   "cell_type": "code",
   "execution_count": 5,
   "id": "d5443b31-3358-4383-a43d-86658b527b9d",
   "metadata": {},
   "outputs": [
    {
     "data": {
      "text/html": [
       "<div>\n",
       "<style scoped>\n",
       "    .dataframe tbody tr th:only-of-type {\n",
       "        vertical-align: middle;\n",
       "    }\n",
       "\n",
       "    .dataframe tbody tr th {\n",
       "        vertical-align: top;\n",
       "    }\n",
       "\n",
       "    .dataframe thead th {\n",
       "        text-align: right;\n",
       "    }\n",
       "</style>\n",
       "<table border=\"1\" class=\"dataframe\">\n",
       "  <thead>\n",
       "    <tr style=\"text-align: right;\">\n",
       "      <th></th>\n",
       "      <th>event_id</th>\n",
       "      <th>event_name</th>\n",
       "      <th>event_type_description</th>\n",
       "      <th>event_type_main</th>\n",
       "      <th>organizers</th>\n",
       "      <th>region_name</th>\n",
       "      <th>city_name</th>\n",
       "      <th>city_id</th>\n",
       "      <th>venue_id</th>\n",
       "      <th>venue_name</th>\n",
       "      <th>venue_address</th>\n",
       "    </tr>\n",
       "  </thead>\n",
       "  <tbody>\n",
       "    <tr>\n",
       "      <th>0</th>\n",
       "      <td>4436</td>\n",
       "      <td>e4f26fba-da77-4c61-928a-6c3e434d793f</td>\n",
       "      <td>спектакль</td>\n",
       "      <td>театр</td>\n",
       "      <td>№4893</td>\n",
       "      <td>Североярская область</td>\n",
       "      <td>Озёрск</td>\n",
       "      <td>2</td>\n",
       "      <td>1600</td>\n",
       "      <td>Кладбище искусств \"Проблема\" и партнеры</td>\n",
       "      <td>наб. Загородная, д. 785</td>\n",
       "    </tr>\n",
       "    <tr>\n",
       "      <th>1</th>\n",
       "      <td>5785</td>\n",
       "      <td>5cc08a60-fdea-4186-9bb2-bffc3603fb77</td>\n",
       "      <td>спектакль</td>\n",
       "      <td>театр</td>\n",
       "      <td>№1931</td>\n",
       "      <td>Светополянский округ</td>\n",
       "      <td>Глиноград</td>\n",
       "      <td>54</td>\n",
       "      <td>2196</td>\n",
       "      <td>Лекции по искусству \"Свет\" Групп</td>\n",
       "      <td>ул. Ягодная, д. 942</td>\n",
       "    </tr>\n",
       "    <tr>\n",
       "      <th>2</th>\n",
       "      <td>8817</td>\n",
       "      <td>8e379a89-3a10-4811-ba06-ec22ebebe989</td>\n",
       "      <td>спектакль</td>\n",
       "      <td>театр</td>\n",
       "      <td>№4896</td>\n",
       "      <td>Североярская область</td>\n",
       "      <td>Озёрск</td>\n",
       "      <td>2</td>\n",
       "      <td>4043</td>\n",
       "      <td>Кинокомитет \"Золотая\" Инк</td>\n",
       "      <td>ш. Коммуны, д. 92 стр. 6</td>\n",
       "    </tr>\n",
       "    <tr>\n",
       "      <th>3</th>\n",
       "      <td>8849</td>\n",
       "      <td>682e3129-6a32-4952-9d8a-ef7f60d4c247</td>\n",
       "      <td>спектакль</td>\n",
       "      <td>театр</td>\n",
       "      <td>№4960</td>\n",
       "      <td>Каменевский регион</td>\n",
       "      <td>Глиногорск</td>\n",
       "      <td>213</td>\n",
       "      <td>1987</td>\n",
       "      <td>Выставка ремесел \"Свет\" Лтд</td>\n",
       "      <td>пер. Набережный, д. 35</td>\n",
       "    </tr>\n",
       "    <tr>\n",
       "      <th>4</th>\n",
       "      <td>8850</td>\n",
       "      <td>d6e99176-c77f-4af0-9222-07c571f6c624</td>\n",
       "      <td>спектакль</td>\n",
       "      <td>театр</td>\n",
       "      <td>№4770</td>\n",
       "      <td>Лесодальний край</td>\n",
       "      <td>Родниковец</td>\n",
       "      <td>55</td>\n",
       "      <td>4230</td>\n",
       "      <td>Фестивальный проект \"Листья\" Групп</td>\n",
       "      <td>пер. Проезжий, д. 9</td>\n",
       "    </tr>\n",
       "  </tbody>\n",
       "</table>\n",
       "</div>"
      ],
      "text/plain": [
       "   event_id                            event_name event_type_description  \\\n",
       "0      4436  e4f26fba-da77-4c61-928a-6c3e434d793f              спектакль   \n",
       "1      5785  5cc08a60-fdea-4186-9bb2-bffc3603fb77              спектакль   \n",
       "2      8817  8e379a89-3a10-4811-ba06-ec22ebebe989              спектакль   \n",
       "3      8849  682e3129-6a32-4952-9d8a-ef7f60d4c247              спектакль   \n",
       "4      8850  d6e99176-c77f-4af0-9222-07c571f6c624              спектакль   \n",
       "\n",
       "  event_type_main organizers           region_name   city_name  city_id  \\\n",
       "0           театр      №4893  Североярская область      Озёрск        2   \n",
       "1           театр      №1931  Светополянский округ   Глиноград       54   \n",
       "2           театр      №4896  Североярская область      Озёрск        2   \n",
       "3           театр      №4960    Каменевский регион  Глиногорск      213   \n",
       "4           театр      №4770      Лесодальний край  Родниковец       55   \n",
       "\n",
       "   venue_id                               venue_name             venue_address  \n",
       "0      1600  Кладбище искусств \"Проблема\" и партнеры   наб. Загородная, д. 785  \n",
       "1      2196         Лекции по искусству \"Свет\" Групп       ул. Ягодная, д. 942  \n",
       "2      4043                Кинокомитет \"Золотая\" Инк  ш. Коммуны, д. 92 стр. 6  \n",
       "3      1987              Выставка ремесел \"Свет\" Лтд    пер. Набережный, д. 35  \n",
       "4      4230       Фестивальный проект \"Листья\" Групп       пер. Проезжий, д. 9  "
      ]
     },
     "execution_count": 5,
     "metadata": {},
     "output_type": "execute_result"
    }
   ],
   "source": [
    "events_df.head()"
   ]
  },
  {
   "cell_type": "code",
   "execution_count": 6,
   "id": "d21b9530-ffc5-445a-a9ab-4356ec23f203",
   "metadata": {},
   "outputs": [
    {
     "name": "stdout",
     "output_type": "stream",
     "text": [
      "<class 'pandas.core.frame.DataFrame'>\n",
      "RangeIndex: 22427 entries, 0 to 22426\n",
      "Data columns (total 11 columns):\n",
      " #   Column                  Non-Null Count  Dtype \n",
      "---  ------                  --------------  ----- \n",
      " 0   event_id                22427 non-null  int64 \n",
      " 1   event_name              22427 non-null  object\n",
      " 2   event_type_description  22427 non-null  object\n",
      " 3   event_type_main         22427 non-null  object\n",
      " 4   organizers              22427 non-null  object\n",
      " 5   region_name             22427 non-null  object\n",
      " 6   city_name               22427 non-null  object\n",
      " 7   city_id                 22427 non-null  int64 \n",
      " 8   venue_id                22427 non-null  int64 \n",
      " 9   venue_name              22427 non-null  object\n",
      " 10  venue_address           22427 non-null  object\n",
      "dtypes: int64(3), object(8)\n",
      "memory usage: 1.9+ MB\n"
     ]
    }
   ],
   "source": [
    "events_df.info()"
   ]
  },
  {
   "cell_type": "code",
   "execution_count": 7,
   "id": "553805e9-6e2c-49b8-8409-ff98f51f9a1a",
   "metadata": {},
   "outputs": [
    {
     "data": {
      "text/html": [
       "<div>\n",
       "<style scoped>\n",
       "    .dataframe tbody tr th:only-of-type {\n",
       "        vertical-align: middle;\n",
       "    }\n",
       "\n",
       "    .dataframe tbody tr th {\n",
       "        vertical-align: top;\n",
       "    }\n",
       "\n",
       "    .dataframe thead th {\n",
       "        text-align: right;\n",
       "    }\n",
       "</style>\n",
       "<table border=\"1\" class=\"dataframe\">\n",
       "  <thead>\n",
       "    <tr style=\"text-align: right;\">\n",
       "      <th></th>\n",
       "      <th>data</th>\n",
       "      <th>nominal</th>\n",
       "      <th>curs</th>\n",
       "      <th>cdx</th>\n",
       "    </tr>\n",
       "  </thead>\n",
       "  <tbody>\n",
       "    <tr>\n",
       "      <th>0</th>\n",
       "      <td>2024-01-10</td>\n",
       "      <td>100</td>\n",
       "      <td>19.9391</td>\n",
       "      <td>kzt</td>\n",
       "    </tr>\n",
       "    <tr>\n",
       "      <th>1</th>\n",
       "      <td>2024-01-11</td>\n",
       "      <td>100</td>\n",
       "      <td>19.7255</td>\n",
       "      <td>kzt</td>\n",
       "    </tr>\n",
       "    <tr>\n",
       "      <th>2</th>\n",
       "      <td>2024-01-12</td>\n",
       "      <td>100</td>\n",
       "      <td>19.5839</td>\n",
       "      <td>kzt</td>\n",
       "    </tr>\n",
       "    <tr>\n",
       "      <th>3</th>\n",
       "      <td>2024-01-13</td>\n",
       "      <td>100</td>\n",
       "      <td>19.4501</td>\n",
       "      <td>kzt</td>\n",
       "    </tr>\n",
       "    <tr>\n",
       "      <th>4</th>\n",
       "      <td>2024-01-14</td>\n",
       "      <td>100</td>\n",
       "      <td>19.4501</td>\n",
       "      <td>kzt</td>\n",
       "    </tr>\n",
       "  </tbody>\n",
       "</table>\n",
       "</div>"
      ],
      "text/plain": [
       "         data  nominal     curs  cdx\n",
       "0  2024-01-10      100  19.9391  kzt\n",
       "1  2024-01-11      100  19.7255  kzt\n",
       "2  2024-01-12      100  19.5839  kzt\n",
       "3  2024-01-13      100  19.4501  kzt\n",
       "4  2024-01-14      100  19.4501  kzt"
      ]
     },
     "execution_count": 7,
     "metadata": {},
     "output_type": "execute_result"
    }
   ],
   "source": [
    "tenge_df.head()"
   ]
  },
  {
   "cell_type": "code",
   "execution_count": 8,
   "id": "18943734-2924-437c-9c97-4b4add789020",
   "metadata": {},
   "outputs": [
    {
     "name": "stdout",
     "output_type": "stream",
     "text": [
      "<class 'pandas.core.frame.DataFrame'>\n",
      "RangeIndex: 357 entries, 0 to 356\n",
      "Data columns (total 4 columns):\n",
      " #   Column   Non-Null Count  Dtype  \n",
      "---  ------   --------------  -----  \n",
      " 0   data     357 non-null    object \n",
      " 1   nominal  357 non-null    int64  \n",
      " 2   curs     357 non-null    float64\n",
      " 3   cdx      357 non-null    object \n",
      "dtypes: float64(1), int64(1), object(2)\n",
      "memory usage: 11.3+ KB\n"
     ]
    }
   ],
   "source": [
    "tenge_df.info()"
   ]
  },
  {
   "cell_type": "markdown",
   "id": "1fed23b1-89a3-4161-b42f-015c969731b3",
   "metadata": {},
   "source": [
    "### Промежуточный вывод\n",
    "* Данные во всех трех датасетах не содержат явных пропусков, кроме столбца days_since_prev в order_df, их обрабатывать не нужно, пропуски обусловлены природой данных\n",
    "* Столбец revenue в order_df нужно привести к единой валюте с помощью tenge_df, возможно придется сформировать новый столбец\n",
    "* Столбцы user_id, days_since_prev нужно привести к типу int, created_dt_msk, created_ts_msk, data - к datetime64\n"
   ]
  },
  {
   "cell_type": "markdown",
   "id": "d2b490f8-4de4-43b5-8e22-c046476b681c",
   "metadata": {},
   "source": [
    "## Предобработка данных и подготовка их к исследованию"
   ]
  },
  {
   "cell_type": "markdown",
   "id": "cb6e28f7-42ac-4f1b-b992-1f5c5895b10e",
   "metadata": {},
   "source": [
    "На наличие явных пропусков датафреймы были проверены в предыдущем разделе"
   ]
  },
  {
   "cell_type": "markdown",
   "id": "ca7d1195-6bdd-4459-b8c3-c930c5c7f8df",
   "metadata": {},
   "source": [
    "### Изучение данных в ключевых столбцах"
   ]
  },
  {
   "cell_type": "code",
   "execution_count": 9,
   "id": "d85a1c8a-7737-49a0-8ab9-dab1d624c0c2",
   "metadata": {},
   "outputs": [
    {
     "name": "stdout",
     "output_type": "stream",
     "text": [
      "<class 'pandas.core.frame.DataFrame'>\n",
      "Int64Index: 290611 entries, 0 to 290610\n",
      "Data columns (total 24 columns):\n",
      " #   Column                  Non-Null Count   Dtype  \n",
      "---  ------                  --------------   -----  \n",
      " 0   order_id                290611 non-null  int64  \n",
      " 1   user_id                 290611 non-null  object \n",
      " 2   created_dt_msk          290611 non-null  object \n",
      " 3   created_ts_msk          290611 non-null  object \n",
      " 4   event_id                290611 non-null  int64  \n",
      " 5   cinema_circuit          290611 non-null  object \n",
      " 6   age_limit               290611 non-null  int64  \n",
      " 7   currency_code           290611 non-null  object \n",
      " 8   device_type_canonical   290611 non-null  object \n",
      " 9   revenue                 290611 non-null  float64\n",
      " 10  service_name            290611 non-null  object \n",
      " 11  tickets_count           290611 non-null  int64  \n",
      " 12  total                   290611 non-null  float64\n",
      " 13  days_since_prev         268698 non-null  float64\n",
      " 14  event_name              290611 non-null  object \n",
      " 15  event_type_description  290611 non-null  object \n",
      " 16  event_type_main         290611 non-null  object \n",
      " 17  organizers              290611 non-null  object \n",
      " 18  region_name             290611 non-null  object \n",
      " 19  city_name               290611 non-null  object \n",
      " 20  city_id                 290611 non-null  int64  \n",
      " 21  venue_id                290611 non-null  int64  \n",
      " 22  venue_name              290611 non-null  object \n",
      " 23  venue_address           290611 non-null  object \n",
      "dtypes: float64(3), int64(6), object(15)\n",
      "memory usage: 55.4+ MB\n"
     ]
    }
   ],
   "source": [
    "# перед предобработкой проведем объединение \n",
    "df = orders_df.merge(events_df, how='inner', on='event_id')\n",
    "df.info()"
   ]
  },
  {
   "cell_type": "markdown",
   "id": "c8eead6d-f5d5-4d51-b350-d60c4b18f072",
   "metadata": {},
   "source": [
    "#### Для категориальных значений"
   ]
  },
  {
   "cell_type": "code",
   "execution_count": 10,
   "id": "c97490ab-167d-4e8b-a879-a235c4b30d74",
   "metadata": {},
   "outputs": [],
   "source": [
    "# функция для проверки уникальных значений\n",
    "def unique_values(x):\n",
    "    return x.unique()"
   ]
  },
  {
   "cell_type": "code",
   "execution_count": 11,
   "id": "8ab276c4-7847-4c25-869b-613da54f8f70",
   "metadata": {},
   "outputs": [
    {
     "name": "stdout",
     "output_type": "stream",
     "text": [
      "cinema_circuit: ['нет' 'Другое' 'КиноСити' 'Киномакс' 'Москино' 'ЦентрФильм']\n",
      "age_limit: [16  0 18 12  6]\n",
      "currency_code: ['rub' 'kzt']\n",
      "device_type_canonical: ['mobile' 'desktop']\n",
      "event_type_main: ['театр' 'выставки' 'другое' 'стендап' 'концерты' 'спорт' 'ёлки']\n",
      "organizers: ['№3322' '№4850' '№1540' ... '№1161' '№3497' '№1904']\n",
      "region_name: ['Каменевский регион' 'Североярская область' 'Озернинский край'\n",
      " 'Лугоградская область' 'Поленовский край' 'Широковская область'\n",
      " 'Медовская область' 'Златопольский округ' 'Малиновоярский округ'\n",
      " 'Яблоневская область' 'Ветренский регион' 'Боровлянский край'\n",
      " 'Крутоводская область' 'Ягодиновская область' 'Серебряноярский округ'\n",
      " 'Лесодальний край' 'Верхоречная область' 'Горицветская область'\n",
      " 'Речиновская область' 'Травиницкий округ' 'Сосновская область'\n",
      " 'Серебринская область' 'Травяная область' 'Каменноярский край'\n",
      " 'Солнечноземская область' 'Светополянский округ' 'Заречная область'\n",
      " 'Ручейковский край' 'Глиногорская область' 'Тепляковская область'\n",
      " 'Каменноозёрный край' 'Солнечнореченская область' 'Зоринский регион'\n",
      " 'Берёзовская область' 'Лесостепной край' 'Малиновая область'\n",
      " 'Синегорский регион' 'Луговая область' 'Шанырский регион'\n",
      " 'Каменополянский округ' 'Речицкая область' 'Горностепной регион'\n",
      " 'Речицкий регион' 'Золотоключевской край' 'Лесоярская область'\n",
      " 'Зеленоградский округ' 'Миропольская область' 'Дальнеземская область'\n",
      " 'Озернопольская область' 'Берестовский округ' 'Ключеводский округ'\n",
      " 'Нежинская область' 'Дальнезорский край' 'Вишнёвский край'\n",
      " 'Каменичская область' 'Голубевский округ' 'Тихогорская область'\n",
      " 'Крутоводский регион' 'Чистогорская область' 'Североозёрский округ'\n",
      " 'Тихолесский край' 'Кристальная область' 'Горноземский регион'\n",
      " 'Радужнопольский край' 'Белоярская область' 'Островная область'\n",
      " 'Тихореченская область' 'Кристаловская область' 'Яснопольский округ'\n",
      " 'Островогорский округ' 'Радужногорская область' 'Дубравная область'\n",
      " 'Залесский край' 'Североключевской округ' 'Верховинская область'\n",
      " 'Светолесский край' 'Сосноводолинская область' 'Верхозёрский край'\n",
      " 'Лесноярский край' 'Теплоозёрский округ' 'Лесополянская область']\n",
      "city_name: ['Глиногорск' 'Озёрск' 'Родниковецк' 'Кристалевск' 'Дальнозолотск'\n",
      " 'Радужнополье' 'Радужсвет' 'Кумсай' 'Верховино' 'Светополье' 'Кокжар'\n",
      " 'Каменский' 'Лесоярич' 'Никольянов' 'Речинцево' 'Лесозолотск'\n",
      " 'Дальнозерск' 'Серебрянка' 'Островецк' 'Родниковец' 'Дальнесветск'\n",
      " 'Луговаярово' 'Ягодиновка' 'Дальнополин' 'Солчелуг' 'Озёрчане'\n",
      " 'Серебровино' 'Лесоярово' 'Глинополье' 'Глиноград' 'Дальнесветин'\n",
      " 'Северополье' 'Теплоозеро' 'Горнодолинск' 'Ордакент' 'Озёрово'\n",
      " 'Луговинск' 'Лугоград' 'Златопольск' 'Крутовинск' 'Сарыжар' 'Сосновечин'\n",
      " 'Тихоярск' 'Яблонецк' 'Жаркентай' 'Широковка' 'Синеводов' 'Синеводск'\n",
      " 'Тихосветск' 'Радужанов' 'Глиногорь' 'Каменосветск' 'Родниковск'\n",
      " 'Травогород' 'Глинянск' 'Радужинск' 'Поляногорье' 'Дальнолесье'\n",
      " 'Ручейник' 'Ключеград' 'Ключеводск' 'Поленовино' 'Речичанск'\n",
      " 'Ключевополье' 'Шаныртау' 'Дальнесоснов' 'Ордасай' 'Теплоозёрск'\n",
      " 'Чистогорье' 'Ручейный' 'Островярово' 'Ягодинск' 'Поленоозёрово'\n",
      " 'Акбасты' 'Медовино' 'Каменёвка' 'Рощино' 'Солнечнёвка' 'Верхозолотск'\n",
      " 'Боровлянск' 'Лугиново' 'Сосноград' 'Радужнояр' 'Кенесар' 'Островенск'\n",
      " 'Горнополец' 'Яблоновец' 'Вишнёво' 'Ясногородин' 'Нежинск' 'Малиноворск'\n",
      " 'Леснойск' 'Озёриново' 'Островополь' 'Тихоречка' 'Поленояр' 'Ручьевино'\n",
      " 'Травяниново' 'Кристаловец' 'Буркиттау' 'Ручейковск' 'Песковино'\n",
      " 'Горнополье' 'Зоревец' 'Акбастау' 'Заречиновка' 'Сосновогорец'\n",
      " 'Лесочистка' 'Лесоводск' 'Каменевовск' 'Сарытау' 'Малиновец' 'Речевинец'\n",
      " 'Кристалинск' 'Верхоозёров' 'Травяночистск' 'Байкуль' 'Светоярчик'\n",
      " 'Зориново' 'Лесореченск' 'Водниково' 'Берестовец' 'Мироярово'\n",
      " 'Медвежанск' 'Тихолесье' 'Каменичи' 'Тихогорово' 'Лесиново'\n",
      " 'Синегориново' 'Зелёнаярово' 'Лесозерск' 'Солнечеполье' 'Солнечеводск'\n",
      " 'Лесогорич' 'Ключевогорск' 'Нивинск' 'Травогорск' 'Лесоярка' 'Шынгысай'\n",
      " 'Луговское' 'Горноставинск' 'Зоречанск' 'Ручейновинск' 'Лесодолинск'\n",
      " 'Поленовец' 'Крутово' 'Зеленополье' 'Тепляковск' 'Желкаин' 'Березиноск'\n",
      " 'Горнополянск' 'Песчанская' 'Светополь' 'Поленоград' 'Вишнёвогорск'\n",
      " 'Северогорск' 'Речное' 'Каменевск' 'Травянский' 'Глинозорь' 'Луговинец'\n",
      " 'Серебровка' 'Горяново' 'Медовецк' 'Каменозолото' 'Желтоксан' 'Ясногорец'\n",
      " 'Горицветск' 'Ясносветск' 'Сосновинск' 'Белоярск' 'Солнечейск' 'Каменояр'\n",
      " 'Зеленолесье' 'Нуртас' 'Светогория' 'Беловодск' 'Малиновинск'\n",
      " 'Серебринск' 'Ключевинск' 'Тихозорин' 'Голубино' 'Долиновка' 'Шалкартау'\n",
      " 'Миросветск' 'Травяниково' 'Ясноград' 'Светочистенск' 'Кумсары'\n",
      " 'Зеленоградовск' 'Поленосветск' 'Каменодолин' 'Вишнёводск'\n",
      " 'Северобережье' 'Светозёринск' 'Каражар' 'Горнополёк' 'Ключезолотск'\n",
      " 'Горнолуг' 'Песчанец' 'Бережанка' 'Соловьёвка' 'Крутоводск' 'Бозарык'\n",
      " 'Родничанск' 'Берёзодальн' 'Озёречин' 'Поленосвет' 'Зоревичск' 'Коксуйск'\n",
      " 'Златоречинск' 'Жетисайск' 'Байтерековск' 'Акжолтау' 'Сереброяр'\n",
      " 'Яблоневое' 'Лесинск' 'Речинск' 'Заречнинск' 'Яснополянск' 'Речиноград'\n",
      " 'Радужнаярова' 'Светозорск' 'Горнополяровск' 'Речепольск' 'Тиходеревск'\n",
      " 'Ягодиноград' 'Желтау' 'Поленовичи' 'Тулебайск' 'Златоозёрово'\n",
      " 'Кристальевка' 'Сарыбулак' 'Сосновогорск' 'Теплоград' 'Яблоневск'\n",
      " 'Реченск' 'Бурьяново' 'Островозёров' 'Солнечёвино' 'Берёзоречье'\n",
      " 'Ветеринск' 'Тихолесьевск' 'Зореполин' 'Тихоозёрск' 'Родинсветск'\n",
      " 'Медвежник' 'Ясновский' 'Заречнаярово' 'Светоярич' 'Ручейницк'\n",
      " 'Лесогорский' 'Зелёново' 'Крутоводинск' 'Яснолесье' 'Солнечелесье'\n",
      " 'Луновка' 'Мироград' 'Светлоярск' 'Североград' 'Медвежиновск' 'Сосновецк'\n",
      " 'Зеленополин' 'Каражол' 'Заречка' 'Глинореч' 'Каменевский' 'Берёзогорск'\n",
      " 'Светозолотск' 'Гореловск' 'Малиновочист' 'Островской' 'Каменогорье'\n",
      " 'Чистояр' 'Ташбулак' 'Бережанск' 'Кристалин' 'Зареченец' 'Талдысай'\n",
      " 'Ягодино' 'Синеполинск' 'Берестяград' 'Алтынсай' 'Заречийск'\n",
      " 'Берёзополье' 'Зеленополец' 'Шынартас' 'Радужновка' 'Поленолесье'\n",
      " 'Златоречье' 'Островсков' 'Тогусжол' 'Светоречин' 'Айкольск'\n",
      " 'Радужовинск' 'Айсуак' 'Заречник' 'Глинолес' 'Зелёнояр' 'Синегорск'\n",
      " 'Каменогорский' 'Полянск' 'Крутовичи' 'Глинозолото' 'Ягодинска'\n",
      " 'Верховка' 'Тепляровск' 'Реченогор' 'Озёроярск' 'Тастай' 'Светоярово'\n",
      " 'Верхозорье' 'Поляноречинск' 'Малиновецк' 'Острововск' 'Светочистка'\n",
      " 'Долиновск' 'Мирополь' 'Озёряновск' 'Златополье' 'Кристаловка'\n",
      " 'Берёзореч' 'Зеленогорье' 'Солнечеград' 'Голубевск' 'Глинополянск'\n",
      " 'Радугорь' 'Кристолесье' 'Березиногорск' 'Миролесье' 'Заречинск'\n",
      " 'Ягодиноск' 'Байсары' 'Берёзиново' 'Солнечегорск' 'Глинополин'\n",
      " 'Озёроград' 'Ягодинец' 'Алтынкала' 'Горнолесье' 'Карасуй' 'Лесополин'\n",
      " 'Дальнеград' 'Горноград' 'Березовцево' 'Берёзовка' 'Дальнозелен'\n",
      " 'Травино' 'Карасуйск' 'Кызылжол' 'Поляновск' 'Лесогорск']\n",
      "venue_name: ['Сценический центр \"Деталь\" Групп'\n",
      " 'Музыкальная школа для детей \"Аккаунт\" Лтд'\n",
      " 'Училище искусств \"Нирвана\" Инк' ...\n",
      " 'Университет искусств \"Прогресс\" Групп' 'Творческая ярмарка \"График\" Инк'\n",
      " 'Школа музыки \"Парадигма\" Лтд']\n"
     ]
    }
   ],
   "source": [
    "# проверка на скрытые пропуски\n",
    "cols = ['cinema_circuit', 'age_limit','currency_code', 'device_type_canonical', 'event_type_main',  'organizers', 'region_name', 'city_name', 'venue_name']\n",
    "for col in cols:\n",
    "    print(f'{col}: {unique_values(df[col])}')"
   ]
  },
  {
   "cell_type": "markdown",
   "id": "04da064d-8b45-4a2c-bd53-b4d7028e373d",
   "metadata": {},
   "source": [
    "Судя по проверке категориальных переменных неявных пропусков в столбцах нет"
   ]
  },
  {
   "cell_type": "markdown",
   "id": "6a04c346-dc35-4b79-9998-d5bbb4843094",
   "metadata": {},
   "source": [
    "#### Для количественных значений"
   ]
  },
  {
   "cell_type": "code",
   "execution_count": 12,
   "id": "c56dcc34-a5c2-4bdf-8d95-9526806d9bca",
   "metadata": {},
   "outputs": [],
   "source": [
    "# Создание списка фильтрации\n",
    "cols.extend(['order_id', 'event_id', 'city_id', 'venue_id'])"
   ]
  },
  {
   "cell_type": "code",
   "execution_count": 13,
   "id": "7f5efb4d-304d-46ea-bef0-83dcd2e34d8a",
   "metadata": {},
   "outputs": [
    {
     "data": {
      "text/html": [
       "<div>\n",
       "<style scoped>\n",
       "    .dataframe tbody tr th:only-of-type {\n",
       "        vertical-align: middle;\n",
       "    }\n",
       "\n",
       "    .dataframe tbody tr th {\n",
       "        vertical-align: top;\n",
       "    }\n",
       "\n",
       "    .dataframe thead th {\n",
       "        text-align: right;\n",
       "    }\n",
       "</style>\n",
       "<table border=\"1\" class=\"dataframe\">\n",
       "  <thead>\n",
       "    <tr style=\"text-align: right;\">\n",
       "      <th></th>\n",
       "      <th>revenue</th>\n",
       "      <th>tickets_count</th>\n",
       "      <th>total</th>\n",
       "      <th>days_since_prev</th>\n",
       "    </tr>\n",
       "  </thead>\n",
       "  <tbody>\n",
       "    <tr>\n",
       "      <th>count</th>\n",
       "      <td>285542.000000</td>\n",
       "      <td>285542.000000</td>\n",
       "      <td>285542.000000</td>\n",
       "      <td>264497.000000</td>\n",
       "    </tr>\n",
       "    <tr>\n",
       "      <th>mean</th>\n",
       "      <td>548.013929</td>\n",
       "      <td>2.754159</td>\n",
       "      <td>6330.621221</td>\n",
       "      <td>3.209919</td>\n",
       "    </tr>\n",
       "    <tr>\n",
       "      <th>std</th>\n",
       "      <td>871.750181</td>\n",
       "      <td>1.171575</td>\n",
       "      <td>8619.327495</td>\n",
       "      <td>11.316096</td>\n",
       "    </tr>\n",
       "    <tr>\n",
       "      <th>min</th>\n",
       "      <td>-90.760000</td>\n",
       "      <td>1.000000</td>\n",
       "      <td>-358.850000</td>\n",
       "      <td>0.000000</td>\n",
       "    </tr>\n",
       "    <tr>\n",
       "      <th>25%</th>\n",
       "      <td>114.170000</td>\n",
       "      <td>2.000000</td>\n",
       "      <td>2120.070000</td>\n",
       "      <td>0.000000</td>\n",
       "    </tr>\n",
       "    <tr>\n",
       "      <th>50%</th>\n",
       "      <td>346.630000</td>\n",
       "      <td>3.000000</td>\n",
       "      <td>4673.850000</td>\n",
       "      <td>0.000000</td>\n",
       "    </tr>\n",
       "    <tr>\n",
       "      <th>75%</th>\n",
       "      <td>793.320000</td>\n",
       "      <td>4.000000</td>\n",
       "      <td>8783.220000</td>\n",
       "      <td>1.000000</td>\n",
       "    </tr>\n",
       "    <tr>\n",
       "      <th>max</th>\n",
       "      <td>81174.540000</td>\n",
       "      <td>57.000000</td>\n",
       "      <td>811745.400000</td>\n",
       "      <td>148.000000</td>\n",
       "    </tr>\n",
       "  </tbody>\n",
       "</table>\n",
       "</div>"
      ],
      "text/plain": [
       "             revenue  tickets_count          total  days_since_prev\n",
       "count  285542.000000  285542.000000  285542.000000    264497.000000\n",
       "mean      548.013929       2.754159    6330.621221         3.209919\n",
       "std       871.750181       1.171575    8619.327495        11.316096\n",
       "min       -90.760000       1.000000    -358.850000         0.000000\n",
       "25%       114.170000       2.000000    2120.070000         0.000000\n",
       "50%       346.630000       3.000000    4673.850000         0.000000\n",
       "75%       793.320000       4.000000    8783.220000         1.000000\n",
       "max     81174.540000      57.000000  811745.400000       148.000000"
      ]
     },
     "execution_count": 13,
     "metadata": {},
     "output_type": "execute_result"
    }
   ],
   "source": [
    "# Фильтрация количественных значений для операций в рублях\n",
    "df[df['currency_code'] == 'rub'].drop(columns=cols, inplace=False).describe()"
   ]
  },
  {
   "cell_type": "code",
   "execution_count": 14,
   "id": "a04e2f5e-0400-4b87-92ba-297bb0e2223d",
   "metadata": {},
   "outputs": [
    {
     "data": {
      "text/html": [
       "<div>\n",
       "<style scoped>\n",
       "    .dataframe tbody tr th:only-of-type {\n",
       "        vertical-align: middle;\n",
       "    }\n",
       "\n",
       "    .dataframe tbody tr th {\n",
       "        vertical-align: top;\n",
       "    }\n",
       "\n",
       "    .dataframe thead th {\n",
       "        text-align: right;\n",
       "    }\n",
       "</style>\n",
       "<table border=\"1\" class=\"dataframe\">\n",
       "  <thead>\n",
       "    <tr style=\"text-align: right;\">\n",
       "      <th></th>\n",
       "      <th>revenue</th>\n",
       "      <th>tickets_count</th>\n",
       "      <th>total</th>\n",
       "      <th>days_since_prev</th>\n",
       "    </tr>\n",
       "  </thead>\n",
       "  <tbody>\n",
       "    <tr>\n",
       "      <th>count</th>\n",
       "      <td>5069.000000</td>\n",
       "      <td>5069.000000</td>\n",
       "      <td>5069.000000</td>\n",
       "      <td>4201.000000</td>\n",
       "    </tr>\n",
       "    <tr>\n",
       "      <th>mean</th>\n",
       "      <td>4995.206767</td>\n",
       "      <td>2.762872</td>\n",
       "      <td>75236.969067</td>\n",
       "      <td>4.081171</td>\n",
       "    </tr>\n",
       "    <tr>\n",
       "      <th>std</th>\n",
       "      <td>4916.752776</td>\n",
       "      <td>1.115558</td>\n",
       "      <td>68039.218885</td>\n",
       "      <td>13.673274</td>\n",
       "    </tr>\n",
       "    <tr>\n",
       "      <th>min</th>\n",
       "      <td>0.000000</td>\n",
       "      <td>1.000000</td>\n",
       "      <td>0.000000</td>\n",
       "      <td>0.000000</td>\n",
       "    </tr>\n",
       "    <tr>\n",
       "      <th>25%</th>\n",
       "      <td>518.100000</td>\n",
       "      <td>2.000000</td>\n",
       "      <td>9353.700000</td>\n",
       "      <td>0.000000</td>\n",
       "    </tr>\n",
       "    <tr>\n",
       "      <th>50%</th>\n",
       "      <td>3698.830000</td>\n",
       "      <td>3.000000</td>\n",
       "      <td>61647.160000</td>\n",
       "      <td>0.000000</td>\n",
       "    </tr>\n",
       "    <tr>\n",
       "      <th>75%</th>\n",
       "      <td>7397.660000</td>\n",
       "      <td>4.000000</td>\n",
       "      <td>114868.830000</td>\n",
       "      <td>1.000000</td>\n",
       "    </tr>\n",
       "    <tr>\n",
       "      <th>max</th>\n",
       "      <td>26425.860000</td>\n",
       "      <td>6.000000</td>\n",
       "      <td>344606.500000</td>\n",
       "      <td>147.000000</td>\n",
       "    </tr>\n",
       "  </tbody>\n",
       "</table>\n",
       "</div>"
      ],
      "text/plain": [
       "            revenue  tickets_count          total  days_since_prev\n",
       "count   5069.000000    5069.000000    5069.000000      4201.000000\n",
       "mean    4995.206767       2.762872   75236.969067         4.081171\n",
       "std     4916.752776       1.115558   68039.218885        13.673274\n",
       "min        0.000000       1.000000       0.000000         0.000000\n",
       "25%      518.100000       2.000000    9353.700000         0.000000\n",
       "50%     3698.830000       3.000000   61647.160000         0.000000\n",
       "75%     7397.660000       4.000000  114868.830000         1.000000\n",
       "max    26425.860000       6.000000  344606.500000       147.000000"
      ]
     },
     "execution_count": 14,
     "metadata": {},
     "output_type": "execute_result"
    }
   ],
   "source": [
    "# Фильтрация количественных значений для операций в тенге\n",
    "df[df['currency_code'] == 'kzt'].drop(columns=cols, inplace=False).describe()"
   ]
  },
  {
   "cell_type": "markdown",
   "id": "318aef31-decc-4ad0-bf65-74e14605aee3",
   "metadata": {},
   "source": [
    "Судя по статистическим показателям в данных присудствуют выбросы \n",
    "* Минимальное значение выручки в рублях меньше 0, возможно данные свидельтельствуют о возвратах\n",
    "* Максимальное значение выручки  в рублях сильно больше чем 75 процентиль\n",
    "* Максимальное значение выручки в тенге больше чем 75 процентиль\n",
    "* Максимальное количество билетов для рублевых операций во много раз больше 75 процентиля"
   ]
  },
  {
   "cell_type": "code",
   "execution_count": 15,
   "id": "5b562d32-1138-4522-b9ba-a625be003d70",
   "metadata": {},
   "outputs": [
    {
     "data": {
      "image/png": "[encoded data removed]",
      "text/plain": [
       "<Figure size 432x288 with 1 Axes>"
      ]
     },
     "metadata": {
      "needs_background": "light"
     },
     "output_type": "display_data"
    }
   ],
   "source": [
    "# Построение визуализации распределений выручки в рублях\n",
    "df[df['currency_code'] == 'rub']['revenue'].plot(kind='hist', bins=50)\n",
    "plt.title('Распределение выручки в рублях')\n",
    "plt.xlabel('Выручка')\n",
    "plt.ylabel('Частота')\n",
    "plt.show()"
   ]
  },
  {
   "cell_type": "markdown",
   "id": "9f9622e0-f775-4318-a4db-755c75dcce60",
   "metadata": {},
   "source": [
    "Визуализация подтверждает выводы, сделаннные по статистическим показателям"
   ]
  },
  {
   "cell_type": "code",
   "execution_count": 16,
   "id": "3daee40e-1846-491b-bc9d-325c6d916b0a",
   "metadata": {},
   "outputs": [
    {
     "data": {
      "image/png": "[encoded data removed]",
      "text/plain": [
       "<Figure size 432x288 with 1 Axes>"
      ]
     },
     "metadata": {
      "needs_background": "light"
     },
     "output_type": "display_data"
    }
   ],
   "source": [
    "# Построение визуализации распределений выручки в тенге\n",
    "df[df['currency_code'] == 'kzt']['revenue'].plot(kind='hist', bins=50)\n",
    "plt.title('Распределение выручки в тенге')\n",
    "plt.xlabel('Выручка')\n",
    "plt.ylabel('Частота')\n",
    "plt.show()"
   ]
  },
  {
   "cell_type": "markdown",
   "id": "21dc3743-9f35-48e0-b55c-54c89d0ecfb6",
   "metadata": {},
   "source": [
    "Хотя распределение выручки в тенге более скачкообразное, чем в рублях, где все значения сосредоточены в одном месте, это не отменяет того, что выбросы присудствуют"
   ]
  },
  {
   "cell_type": "code",
   "execution_count": 17,
   "id": "0c951e93-385f-44e7-a929-160c1ec84349",
   "metadata": {},
   "outputs": [
    {
     "data": {
      "image/png": "[encoded data removed]",
      "text/plain": [
       "<Figure size 432x288 with 1 Axes>"
      ]
     },
     "metadata": {
      "needs_background": "light"
     },
     "output_type": "display_data"
    }
   ],
   "source": [
    "# Построение диаграммы размаха для количества билетов\n",
    "df['tickets_count'].plot(kind='box')\n",
    "plt.title('Размах значения количества билетов')\n",
    "plt.ylabel('Билеты')\n",
    "plt.show()"
   ]
  },
  {
   "cell_type": "markdown",
   "id": "c08704d6-5cfd-4a05-afc6-8b43043e6eec",
   "metadata": {},
   "source": [
    "Диаграмма размаха подтвердила выводы, сделанные по статистическим показателям. В столбце tickets_count действительно имеются выбросы "
   ]
  },
  {
   "cell_type": "code",
   "execution_count": 18,
   "id": "72a3feb4-742d-47d6-aac6-5dea9af79c44",
   "metadata": {},
   "outputs": [],
   "source": [
    "# Нахождение значений 99 процентиля для выручки в рублях и тенге\n",
    "q99_rub = df[df['currency_code'] == 'rub']['revenue'].quantile(.99)\n",
    "q99_kzt = df[df['currency_code'] == 'kzt']['revenue'].quantile(.99)"
   ]
  },
  {
   "cell_type": "code",
   "execution_count": 19,
   "id": "942757cf",
   "metadata": {},
   "outputs": [
    {
     "data": {
      "text/plain": [
       "2800"
      ]
     },
     "execution_count": 19,
     "metadata": {},
     "output_type": "execute_result"
    }
   ],
   "source": [
    "# Подсчет количества выбросов для рублевых операций\n",
    "df[((df['currency_code'] == 'rub') & (df['revenue'] > q99_rub))]['revenue'].count()"
   ]
  },
  {
   "cell_type": "markdown",
   "id": "b47a7911",
   "metadata": {},
   "source": [
    "Количество выбросов для рублевых операций 2800, что составляет около 1% от всех данных, поэтому можно такие выбросы отфильтровать"
   ]
  },
  {
   "cell_type": "code",
   "execution_count": 20,
   "id": "40d9bdbb",
   "metadata": {},
   "outputs": [
    {
     "data": {
      "text/plain": [
       "2969"
      ]
     },
     "execution_count": 20,
     "metadata": {},
     "output_type": "execute_result"
    }
   ],
   "source": [
    "# Подсчет количества выбросов для операций в тенге\n",
    "df[((df['currency_code'] == 'kzt') & (df['revenue'] > q99_rub))]['revenue'].count()"
   ]
  },
  {
   "cell_type": "markdown",
   "id": "8dd39130",
   "metadata": {},
   "source": [
    "Количество выбросов для операций в тенге 2969, что составляет более 58% от всех операций в тенге, такие выбросы удалять нельзя, иначе потеряем большое количество данных казахских пользователей"
   ]
  },
  {
   "cell_type": "code",
   "execution_count": 21,
   "id": "cf6d55c3-12cd-4e69-b516-07d5a6ba013d",
   "metadata": {},
   "outputs": [],
   "source": [
    "# Отбор значений по 99 процентилю\n",
    "df =  df[((df['currency_code'] == 'rub') & (df['revenue'] <= q99_rub)) | ((df['currency_code'] == 'kzt'))]"
   ]
  },
  {
   "cell_type": "code",
   "execution_count": 22,
   "id": "9a9c8c33-c061-4021-8efb-fb5d0a6a5e58",
   "metadata": {},
   "outputs": [],
   "source": [
    "# Нахождение 99 проценитиля для количества билетов\n",
    "q99 = df['tickets_count'].quantile(.99)"
   ]
  },
  {
   "cell_type": "code",
   "execution_count": 23,
   "id": "9149955d",
   "metadata": {},
   "outputs": [
    {
     "data": {
      "text/plain": [
       "180"
      ]
     },
     "execution_count": 23,
     "metadata": {},
     "output_type": "execute_result"
    }
   ],
   "source": [
    "df[df['tickets_count'] > q99]['tickets_count'].count()"
   ]
  },
  {
   "cell_type": "markdown",
   "id": "a9195e74",
   "metadata": {},
   "source": [
    "Количество выбросов для количества билетов 180, что составляет менее 1% от всех данных, поэтому такие выбросы можно отфильтровать"
   ]
  },
  {
   "cell_type": "code",
   "execution_count": 24,
   "id": "cacabe22",
   "metadata": {},
   "outputs": [],
   "source": [
    "# Отбор выбросов\n",
    "df = df[df['tickets_count'] <= q99]"
   ]
  },
  {
   "cell_type": "code",
   "execution_count": 25,
   "id": "53d9aa92-9790-401b-a213-8c42308c4261",
   "metadata": {},
   "outputs": [
    {
     "data": {
      "text/html": [
       "<div>\n",
       "<style scoped>\n",
       "    .dataframe tbody tr th:only-of-type {\n",
       "        vertical-align: middle;\n",
       "    }\n",
       "\n",
       "    .dataframe tbody tr th {\n",
       "        vertical-align: top;\n",
       "    }\n",
       "\n",
       "    .dataframe thead th {\n",
       "        text-align: right;\n",
       "    }\n",
       "</style>\n",
       "<table border=\"1\" class=\"dataframe\">\n",
       "  <thead>\n",
       "    <tr style=\"text-align: right;\">\n",
       "      <th></th>\n",
       "      <th>revenue</th>\n",
       "      <th>tickets_count</th>\n",
       "      <th>total</th>\n",
       "      <th>days_since_prev</th>\n",
       "    </tr>\n",
       "  </thead>\n",
       "  <tbody>\n",
       "    <tr>\n",
       "      <th>count</th>\n",
       "      <td>282562.000000</td>\n",
       "      <td>282562.000000</td>\n",
       "      <td>282562.000000</td>\n",
       "      <td>261722.000000</td>\n",
       "    </tr>\n",
       "    <tr>\n",
       "      <th>mean</th>\n",
       "      <td>510.561628</td>\n",
       "      <td>2.735127</td>\n",
       "      <td>6003.426681</td>\n",
       "      <td>3.206192</td>\n",
       "    </tr>\n",
       "    <tr>\n",
       "      <th>std</th>\n",
       "      <td>500.828305</td>\n",
       "      <td>1.136176</td>\n",
       "      <td>5113.085000</td>\n",
       "      <td>11.309738</td>\n",
       "    </tr>\n",
       "    <tr>\n",
       "      <th>min</th>\n",
       "      <td>-90.760000</td>\n",
       "      <td>1.000000</td>\n",
       "      <td>-358.850000</td>\n",
       "      <td>0.000000</td>\n",
       "    </tr>\n",
       "    <tr>\n",
       "      <th>25%</th>\n",
       "      <td>112.020000</td>\n",
       "      <td>2.000000</td>\n",
       "      <td>2101.252500</td>\n",
       "      <td>0.000000</td>\n",
       "    </tr>\n",
       "    <tr>\n",
       "      <th>50%</th>\n",
       "      <td>340.490000</td>\n",
       "      <td>3.000000</td>\n",
       "      <td>4595.120000</td>\n",
       "      <td>0.000000</td>\n",
       "    </tr>\n",
       "    <tr>\n",
       "      <th>75%</th>\n",
       "      <td>781.720000</td>\n",
       "      <td>3.000000</td>\n",
       "      <td>8632.430000</td>\n",
       "      <td>1.000000</td>\n",
       "    </tr>\n",
       "    <tr>\n",
       "      <th>max</th>\n",
       "      <td>2570.800000</td>\n",
       "      <td>6.000000</td>\n",
       "      <td>68049.590000</td>\n",
       "      <td>148.000000</td>\n",
       "    </tr>\n",
       "  </tbody>\n",
       "</table>\n",
       "</div>"
      ],
      "text/plain": [
       "             revenue  tickets_count          total  days_since_prev\n",
       "count  282562.000000  282562.000000  282562.000000    261722.000000\n",
       "mean      510.561628       2.735127    6003.426681         3.206192\n",
       "std       500.828305       1.136176    5113.085000        11.309738\n",
       "min       -90.760000       1.000000    -358.850000         0.000000\n",
       "25%       112.020000       2.000000    2101.252500         0.000000\n",
       "50%       340.490000       3.000000    4595.120000         0.000000\n",
       "75%       781.720000       3.000000    8632.430000         1.000000\n",
       "max      2570.800000       6.000000   68049.590000       148.000000"
      ]
     },
     "execution_count": 25,
     "metadata": {},
     "output_type": "execute_result"
    }
   ],
   "source": [
    "# Проверка статистических показателей для операций в рублях\n",
    "df[df['currency_code'] == 'rub'].drop(columns=cols, inplace=False).describe()"
   ]
  },
  {
   "cell_type": "code",
   "execution_count": 26,
   "id": "3478dfca-b061-482a-bf3c-7f3b6fbf3034",
   "metadata": {},
   "outputs": [
    {
     "data": {
      "text/html": [
       "<div>\n",
       "<style scoped>\n",
       "    .dataframe tbody tr th:only-of-type {\n",
       "        vertical-align: middle;\n",
       "    }\n",
       "\n",
       "    .dataframe tbody tr th {\n",
       "        vertical-align: top;\n",
       "    }\n",
       "\n",
       "    .dataframe thead th {\n",
       "        text-align: right;\n",
       "    }\n",
       "</style>\n",
       "<table border=\"1\" class=\"dataframe\">\n",
       "  <thead>\n",
       "    <tr style=\"text-align: right;\">\n",
       "      <th></th>\n",
       "      <th>revenue</th>\n",
       "      <th>tickets_count</th>\n",
       "      <th>total</th>\n",
       "      <th>days_since_prev</th>\n",
       "    </tr>\n",
       "  </thead>\n",
       "  <tbody>\n",
       "    <tr>\n",
       "      <th>count</th>\n",
       "      <td>5069.000000</td>\n",
       "      <td>5069.000000</td>\n",
       "      <td>5069.000000</td>\n",
       "      <td>4201.000000</td>\n",
       "    </tr>\n",
       "    <tr>\n",
       "      <th>mean</th>\n",
       "      <td>4995.206767</td>\n",
       "      <td>2.762872</td>\n",
       "      <td>75236.969067</td>\n",
       "      <td>4.081171</td>\n",
       "    </tr>\n",
       "    <tr>\n",
       "      <th>std</th>\n",
       "      <td>4916.752776</td>\n",
       "      <td>1.115558</td>\n",
       "      <td>68039.218885</td>\n",
       "      <td>13.673274</td>\n",
       "    </tr>\n",
       "    <tr>\n",
       "      <th>min</th>\n",
       "      <td>0.000000</td>\n",
       "      <td>1.000000</td>\n",
       "      <td>0.000000</td>\n",
       "      <td>0.000000</td>\n",
       "    </tr>\n",
       "    <tr>\n",
       "      <th>25%</th>\n",
       "      <td>518.100000</td>\n",
       "      <td>2.000000</td>\n",
       "      <td>9353.700000</td>\n",
       "      <td>0.000000</td>\n",
       "    </tr>\n",
       "    <tr>\n",
       "      <th>50%</th>\n",
       "      <td>3698.830000</td>\n",
       "      <td>3.000000</td>\n",
       "      <td>61647.160000</td>\n",
       "      <td>0.000000</td>\n",
       "    </tr>\n",
       "    <tr>\n",
       "      <th>75%</th>\n",
       "      <td>7397.660000</td>\n",
       "      <td>4.000000</td>\n",
       "      <td>114868.830000</td>\n",
       "      <td>1.000000</td>\n",
       "    </tr>\n",
       "    <tr>\n",
       "      <th>max</th>\n",
       "      <td>26425.860000</td>\n",
       "      <td>6.000000</td>\n",
       "      <td>344606.500000</td>\n",
       "      <td>147.000000</td>\n",
       "    </tr>\n",
       "  </tbody>\n",
       "</table>\n",
       "</div>"
      ],
      "text/plain": [
       "            revenue  tickets_count          total  days_since_prev\n",
       "count   5069.000000    5069.000000    5069.000000      4201.000000\n",
       "mean    4995.206767       2.762872   75236.969067         4.081171\n",
       "std     4916.752776       1.115558   68039.218885        13.673274\n",
       "min        0.000000       1.000000       0.000000         0.000000\n",
       "25%      518.100000       2.000000    9353.700000         0.000000\n",
       "50%     3698.830000       3.000000   61647.160000         0.000000\n",
       "75%     7397.660000       4.000000  114868.830000         1.000000\n",
       "max    26425.860000       6.000000  344606.500000       147.000000"
      ]
     },
     "execution_count": 26,
     "metadata": {},
     "output_type": "execute_result"
    }
   ],
   "source": [
    "# Проверка статистических показателей для операций в тенге\n",
    "df[df['currency_code'] == 'kzt'].drop(columns=cols, inplace=False).describe()"
   ]
  },
  {
   "cell_type": "markdown",
   "id": "6d195acc-681e-4cb1-9b53-bcd395d94714",
   "metadata": {},
   "source": [
    "### Проверка на явные и неявные дубликаты"
   ]
  },
  {
   "cell_type": "code",
   "execution_count": 27,
   "id": "6c11269f-a2ec-4006-b2cd-6973d873f2a6",
   "metadata": {},
   "outputs": [
    {
     "data": {
      "text/plain": [
       "0"
      ]
     },
     "execution_count": 27,
     "metadata": {},
     "output_type": "execute_result"
    }
   ],
   "source": [
    "# Проверка на явные дубликаты\n",
    "df.duplicated().sum()"
   ]
  },
  {
   "cell_type": "markdown",
   "id": "a15ba488-eb07-422c-a011-ace655ca3897",
   "metadata": {},
   "source": [
    "Явных дублитакатов не наблюдается"
   ]
  },
  {
   "cell_type": "code",
   "execution_count": 28,
   "id": "fff8c643-e4ba-4809-a91a-c1ee76fd2878",
   "metadata": {},
   "outputs": [
    {
     "data": {
      "text/plain": [
       "30"
      ]
     },
     "execution_count": 28,
     "metadata": {},
     "output_type": "execute_result"
    }
   ],
   "source": [
    "# Проверка на неявные дубликаты (совпадает все кромен номера заказа)\n",
    "df.drop(columns='order_id', inplace=False).duplicated().sum()"
   ]
  },
  {
   "cell_type": "code",
   "execution_count": 29,
   "id": "ce1b70b8-1fb6-4bd3-afc7-28b534ec913d",
   "metadata": {},
   "outputs": [
    {
     "data": {
      "text/html": [
       "<div>\n",
       "<style scoped>\n",
       "    .dataframe tbody tr th:only-of-type {\n",
       "        vertical-align: middle;\n",
       "    }\n",
       "\n",
       "    .dataframe tbody tr th {\n",
       "        vertical-align: top;\n",
       "    }\n",
       "\n",
       "    .dataframe thead th {\n",
       "        text-align: right;\n",
       "    }\n",
       "</style>\n",
       "<table border=\"1\" class=\"dataframe\">\n",
       "  <thead>\n",
       "    <tr style=\"text-align: right;\">\n",
       "      <th></th>\n",
       "      <th>order_id</th>\n",
       "      <th>user_id</th>\n",
       "      <th>created_dt_msk</th>\n",
       "      <th>created_ts_msk</th>\n",
       "      <th>event_id</th>\n",
       "      <th>cinema_circuit</th>\n",
       "      <th>age_limit</th>\n",
       "      <th>currency_code</th>\n",
       "      <th>device_type_canonical</th>\n",
       "      <th>revenue</th>\n",
       "      <th>...</th>\n",
       "      <th>event_name</th>\n",
       "      <th>event_type_description</th>\n",
       "      <th>event_type_main</th>\n",
       "      <th>organizers</th>\n",
       "      <th>region_name</th>\n",
       "      <th>city_name</th>\n",
       "      <th>city_id</th>\n",
       "      <th>venue_id</th>\n",
       "      <th>venue_name</th>\n",
       "      <th>venue_address</th>\n",
       "    </tr>\n",
       "  </thead>\n",
       "  <tbody>\n",
       "    <tr>\n",
       "      <th>3838</th>\n",
       "      <td>7299649</td>\n",
       "      <td>a0384c26d91e09e</td>\n",
       "      <td>2024-08-24</td>\n",
       "      <td>2024-08-24 00:07:14</td>\n",
       "      <td>534657</td>\n",
       "      <td>нет</td>\n",
       "      <td>16</td>\n",
       "      <td>rub</td>\n",
       "      <td>mobile</td>\n",
       "      <td>679.21</td>\n",
       "      <td>...</td>\n",
       "      <td>dff567b7-11a5-4c4c-b223-70c8ab7efd15</td>\n",
       "      <td>концерт</td>\n",
       "      <td>концерты</td>\n",
       "      <td>№1134</td>\n",
       "      <td>Ветренский регион</td>\n",
       "      <td>Кокжар</td>\n",
       "      <td>20</td>\n",
       "      <td>2866</td>\n",
       "      <td>Школа фотографии \"Золотое\" Инк</td>\n",
       "      <td>ш. Микрорайон, д. 79 стр. 50</td>\n",
       "    </tr>\n",
       "    <tr>\n",
       "      <th>3839</th>\n",
       "      <td>7299678</td>\n",
       "      <td>a0384c26d91e09e</td>\n",
       "      <td>2024-08-24</td>\n",
       "      <td>2024-08-24 00:07:14</td>\n",
       "      <td>534657</td>\n",
       "      <td>нет</td>\n",
       "      <td>16</td>\n",
       "      <td>rub</td>\n",
       "      <td>mobile</td>\n",
       "      <td>679.21</td>\n",
       "      <td>...</td>\n",
       "      <td>dff567b7-11a5-4c4c-b223-70c8ab7efd15</td>\n",
       "      <td>концерт</td>\n",
       "      <td>концерты</td>\n",
       "      <td>№1134</td>\n",
       "      <td>Ветренский регион</td>\n",
       "      <td>Кокжар</td>\n",
       "      <td>20</td>\n",
       "      <td>2866</td>\n",
       "      <td>Школа фотографии \"Золотое\" Инк</td>\n",
       "      <td>ш. Микрорайон, д. 79 стр. 50</td>\n",
       "    </tr>\n",
       "    <tr>\n",
       "      <th>8912</th>\n",
       "      <td>1585808</td>\n",
       "      <td>c7a762e320f0def</td>\n",
       "      <td>2024-06-19</td>\n",
       "      <td>2024-06-19 11:07:59</td>\n",
       "      <td>538926</td>\n",
       "      <td>нет</td>\n",
       "      <td>18</td>\n",
       "      <td>rub</td>\n",
       "      <td>mobile</td>\n",
       "      <td>0.00</td>\n",
       "      <td>...</td>\n",
       "      <td>7b378eca-5d03-4f42-9491-a32887424226</td>\n",
       "      <td>событие</td>\n",
       "      <td>другое</td>\n",
       "      <td>№4549</td>\n",
       "      <td>Каменевский регион</td>\n",
       "      <td>Глиногорск</td>\n",
       "      <td>213</td>\n",
       "      <td>3474</td>\n",
       "      <td>Креативное пространство \"Вдох\" Лимитед</td>\n",
       "      <td>бул. Пригородный, д. 7/1</td>\n",
       "    </tr>\n",
       "    <tr>\n",
       "      <th>8915</th>\n",
       "      <td>7927528</td>\n",
       "      <td>c7a762e320f0def</td>\n",
       "      <td>2024-06-19</td>\n",
       "      <td>2024-06-19 11:07:59</td>\n",
       "      <td>538926</td>\n",
       "      <td>нет</td>\n",
       "      <td>18</td>\n",
       "      <td>rub</td>\n",
       "      <td>mobile</td>\n",
       "      <td>0.00</td>\n",
       "      <td>...</td>\n",
       "      <td>7b378eca-5d03-4f42-9491-a32887424226</td>\n",
       "      <td>событие</td>\n",
       "      <td>другое</td>\n",
       "      <td>№4549</td>\n",
       "      <td>Каменевский регион</td>\n",
       "      <td>Глиногорск</td>\n",
       "      <td>213</td>\n",
       "      <td>3474</td>\n",
       "      <td>Креативное пространство \"Вдох\" Лимитед</td>\n",
       "      <td>бул. Пригородный, д. 7/1</td>\n",
       "    </tr>\n",
       "    <tr>\n",
       "      <th>48970</th>\n",
       "      <td>5372628</td>\n",
       "      <td>7eb4fc207ecc10f</td>\n",
       "      <td>2024-08-23</td>\n",
       "      <td>2024-08-23 14:08:19</td>\n",
       "      <td>298035</td>\n",
       "      <td>нет</td>\n",
       "      <td>6</td>\n",
       "      <td>rub</td>\n",
       "      <td>mobile</td>\n",
       "      <td>126.84</td>\n",
       "      <td>...</td>\n",
       "      <td>09164a56-0fb3-43c7-91d3-8ed22bb3d8ef</td>\n",
       "      <td>событие</td>\n",
       "      <td>другое</td>\n",
       "      <td>№4403</td>\n",
       "      <td>Североярская область</td>\n",
       "      <td>Озёрск</td>\n",
       "      <td>2</td>\n",
       "      <td>2795</td>\n",
       "      <td>Клуб исторических реконструкций \"Логос\" и парт...</td>\n",
       "      <td>пр. Пушкина, д. 8/6 к. 482</td>\n",
       "    </tr>\n",
       "    <tr>\n",
       "      <th>48973</th>\n",
       "      <td>5372831</td>\n",
       "      <td>7eb4fc207ecc10f</td>\n",
       "      <td>2024-08-23</td>\n",
       "      <td>2024-08-23 14:08:19</td>\n",
       "      <td>298035</td>\n",
       "      <td>нет</td>\n",
       "      <td>6</td>\n",
       "      <td>rub</td>\n",
       "      <td>mobile</td>\n",
       "      <td>126.84</td>\n",
       "      <td>...</td>\n",
       "      <td>09164a56-0fb3-43c7-91d3-8ed22bb3d8ef</td>\n",
       "      <td>событие</td>\n",
       "      <td>другое</td>\n",
       "      <td>№4403</td>\n",
       "      <td>Североярская область</td>\n",
       "      <td>Озёрск</td>\n",
       "      <td>2</td>\n",
       "      <td>2795</td>\n",
       "      <td>Клуб исторических реконструкций \"Логос\" и парт...</td>\n",
       "      <td>пр. Пушкина, д. 8/6 к. 482</td>\n",
       "    </tr>\n",
       "  </tbody>\n",
       "</table>\n",
       "<p>6 rows × 24 columns</p>\n",
       "</div>"
      ],
      "text/plain": [
       "       order_id          user_id created_dt_msk       created_ts_msk  \\\n",
       "3838    7299649  a0384c26d91e09e     2024-08-24  2024-08-24 00:07:14   \n",
       "3839    7299678  a0384c26d91e09e     2024-08-24  2024-08-24 00:07:14   \n",
       "8912    1585808  c7a762e320f0def     2024-06-19  2024-06-19 11:07:59   \n",
       "8915    7927528  c7a762e320f0def     2024-06-19  2024-06-19 11:07:59   \n",
       "48970   5372628  7eb4fc207ecc10f     2024-08-23  2024-08-23 14:08:19   \n",
       "48973   5372831  7eb4fc207ecc10f     2024-08-23  2024-08-23 14:08:19   \n",
       "\n",
       "       event_id cinema_circuit  age_limit currency_code device_type_canonical  \\\n",
       "3838     534657            нет         16           rub                mobile   \n",
       "3839     534657            нет         16           rub                mobile   \n",
       "8912     538926            нет         18           rub                mobile   \n",
       "8915     538926            нет         18           rub                mobile   \n",
       "48970    298035            нет          6           rub                mobile   \n",
       "48973    298035            нет          6           rub                mobile   \n",
       "\n",
       "       revenue  ...                            event_name  \\\n",
       "3838    679.21  ...  dff567b7-11a5-4c4c-b223-70c8ab7efd15   \n",
       "3839    679.21  ...  dff567b7-11a5-4c4c-b223-70c8ab7efd15   \n",
       "8912      0.00  ...  7b378eca-5d03-4f42-9491-a32887424226   \n",
       "8915      0.00  ...  7b378eca-5d03-4f42-9491-a32887424226   \n",
       "48970   126.84  ...  09164a56-0fb3-43c7-91d3-8ed22bb3d8ef   \n",
       "48973   126.84  ...  09164a56-0fb3-43c7-91d3-8ed22bb3d8ef   \n",
       "\n",
       "       event_type_description  event_type_main  organizers  \\\n",
       "3838                  концерт         концерты       №1134   \n",
       "3839                  концерт         концерты       №1134   \n",
       "8912                  событие           другое       №4549   \n",
       "8915                  событие           другое       №4549   \n",
       "48970                 событие           другое       №4403   \n",
       "48973                 событие           другое       №4403   \n",
       "\n",
       "                region_name   city_name city_id venue_id  \\\n",
       "3838      Ветренский регион      Кокжар      20     2866   \n",
       "3839      Ветренский регион      Кокжар      20     2866   \n",
       "8912     Каменевский регион  Глиногорск     213     3474   \n",
       "8915     Каменевский регион  Глиногорск     213     3474   \n",
       "48970  Североярская область      Озёрск       2     2795   \n",
       "48973  Североярская область      Озёрск       2     2795   \n",
       "\n",
       "                                              venue_name  \\\n",
       "3838                      Школа фотографии \"Золотое\" Инк   \n",
       "3839                      Школа фотографии \"Золотое\" Инк   \n",
       "8912              Креативное пространство \"Вдох\" Лимитед   \n",
       "8915              Креативное пространство \"Вдох\" Лимитед   \n",
       "48970  Клуб исторических реконструкций \"Логос\" и парт...   \n",
       "48973  Клуб исторических реконструкций \"Логос\" и парт...   \n",
       "\n",
       "                      venue_address  \n",
       "3838   ш. Микрорайон, д. 79 стр. 50  \n",
       "3839   ш. Микрорайон, д. 79 стр. 50  \n",
       "8912       бул. Пригородный, д. 7/1  \n",
       "8915       бул. Пригородный, д. 7/1  \n",
       "48970    пр. Пушкина, д. 8/6 к. 482  \n",
       "48973    пр. Пушкина, д. 8/6 к. 482  \n",
       "\n",
       "[6 rows x 24 columns]"
      ]
     },
     "execution_count": 29,
     "metadata": {},
     "output_type": "execute_result"
    }
   ],
   "source": [
    "# Просмотр обнаруженных дубликатов\n",
    "df[df.drop(columns='order_id', inplace=False).duplicated(keep=False) == True].head(6)"
   ]
  },
  {
   "cell_type": "markdown",
   "id": "5f5f76cf-da01-4c18-906b-63af969874c8",
   "metadata": {},
   "source": [
    "Неявных дубликатов обнаружено 30. По видимому произошло задвоение заказов: у двух заказов разные номера, но в остальном они совпадают. Такие заказы будут мешать дальнейшему анализу, их количество не большое по сравнению с объемом датасета, поэтому я удалю их"
   ]
  },
  {
   "cell_type": "code",
   "execution_count": 30,
   "id": "bc872141-b076-4f89-85db-bbe94f3c2382",
   "metadata": {},
   "outputs": [
    {
     "data": {
      "text/plain": [
       "0"
      ]
     },
     "execution_count": 30,
     "metadata": {},
     "output_type": "execute_result"
    }
   ],
   "source": [
    "# Удаление дубликатов\n",
    "df = df[~(df.drop(columns='order_id', inplace=False).duplicated() == True)]\n",
    "\n",
    "# Проверка удаления\n",
    "df.drop(columns='order_id', inplace=False).duplicated().sum()"
   ]
  },
  {
   "cell_type": "markdown",
   "id": "cbe99203-b41f-4932-9d50-2fae05489ec5",
   "metadata": {},
   "source": [
    "### Преобразование типов"
   ]
  },
  {
   "cell_type": "code",
   "execution_count": 31,
   "id": "0c105c26-c79d-4382-b0c1-9e658ce8c487",
   "metadata": {},
   "outputs": [],
   "source": [
    "# Преобразование к типу datetime для столбцов с датой и временем\n",
    "cols = ['created_dt_msk', 'created_ts_msk']\n",
    "for col in cols:\n",
    "    df[col] = pd.to_datetime(df[col])"
   ]
  },
  {
   "cell_type": "code",
   "execution_count": 32,
   "id": "d917ff50-34c8-4e7c-9d67-54ab5cb96250",
   "metadata": {},
   "outputs": [],
   "source": [
    "# Снижение размерности для количественных данных\n",
    "cols = ['tickets_count', 'age_limit']\n",
    "for col in cols:\n",
    "    df[col] = pd.to_numeric(df[col], downcast='integer')"
   ]
  },
  {
   "cell_type": "code",
   "execution_count": 33,
   "id": "e6d7214a-d9d0-407d-bcf5-33909dd1328d",
   "metadata": {},
   "outputs": [
    {
     "name": "stdout",
     "output_type": "stream",
     "text": [
      "<class 'pandas.core.frame.DataFrame'>\n",
      "Int64Index: 287601 entries, 0 to 290610\n",
      "Data columns (total 24 columns):\n",
      " #   Column                  Non-Null Count   Dtype         \n",
      "---  ------                  --------------   -----         \n",
      " 0   order_id                287601 non-null  int64         \n",
      " 1   user_id                 287601 non-null  object        \n",
      " 2   created_dt_msk          287601 non-null  datetime64[ns]\n",
      " 3   created_ts_msk          287601 non-null  datetime64[ns]\n",
      " 4   event_id                287601 non-null  int64         \n",
      " 5   cinema_circuit          287601 non-null  object        \n",
      " 6   age_limit               287601 non-null  int8          \n",
      " 7   currency_code           287601 non-null  object        \n",
      " 8   device_type_canonical   287601 non-null  object        \n",
      " 9   revenue                 287601 non-null  float64       \n",
      " 10  service_name            287601 non-null  object        \n",
      " 11  tickets_count           287601 non-null  int8          \n",
      " 12  total                   287601 non-null  float64       \n",
      " 13  days_since_prev         265893 non-null  float64       \n",
      " 14  event_name              287601 non-null  object        \n",
      " 15  event_type_description  287601 non-null  object        \n",
      " 16  event_type_main         287601 non-null  object        \n",
      " 17  organizers              287601 non-null  object        \n",
      " 18  region_name             287601 non-null  object        \n",
      " 19  city_name               287601 non-null  object        \n",
      " 20  city_id                 287601 non-null  int64         \n",
      " 21  venue_id                287601 non-null  int64         \n",
      " 22  venue_name              287601 non-null  object        \n",
      " 23  venue_address           287601 non-null  object        \n",
      "dtypes: datetime64[ns](2), float64(3), int64(4), int8(2), object(13)\n",
      "memory usage: 51.0+ MB\n"
     ]
    }
   ],
   "source": [
    "# Проверка преобразования типов\n",
    "df.info()"
   ]
  },
  {
   "cell_type": "markdown",
   "id": "b7df928c-f3c0-4cc0-8156-9c626070c931",
   "metadata": {},
   "source": [
    "### Создание новых столбцов"
   ]
  },
  {
   "cell_type": "code",
   "execution_count": 34,
   "id": "154f0ad3-4db6-48a0-a83c-a29fb7032840",
   "metadata": {},
   "outputs": [],
   "source": [
    "# Преобразование к типу datetime для столбца data, по которому буду объединять датафреймы\n",
    "tenge_df['data'] = pd.to_datetime(tenge_df['data'])"
   ]
  },
  {
   "cell_type": "code",
   "execution_count": 35,
   "id": "7eafac7c-0689-4030-aeef-4c11b80a8a60",
   "metadata": {},
   "outputs": [],
   "source": [
    "# Объединение датафреймов\n",
    "df = df.merge(tenge_df, how='inner', left_on='created_dt_msk', right_on='data')"
   ]
  },
  {
   "cell_type": "code",
   "execution_count": 36,
   "id": "ac65272f-44d0-4944-a8f8-6bdf4ff3fc1e",
   "metadata": {},
   "outputs": [],
   "source": [
    "# Функция для перевода тенге в рубли\n",
    "def count_rub(x):\n",
    "    if x['currency_code'] == 'rub':\n",
    "        return x['revenue']\n",
    "    else:\n",
    "        return x['revenue'] / x['nominal'] * x['curs']"
   ]
  },
  {
   "cell_type": "code",
   "execution_count": 37,
   "id": "6495c2a5-d07e-4a37-9962-5d1b540bb4ad",
   "metadata": {},
   "outputs": [],
   "source": [
    "# Создание столбца выручки в рублях \n",
    "df['revenue_rub'] = df.apply(count_rub, axis=1)"
   ]
  },
  {
   "cell_type": "code",
   "execution_count": 38,
   "id": "30b2b324-35d8-4547-9c94-c39860930c30",
   "metadata": {},
   "outputs": [
    {
     "data": {
      "text/html": [
       "<div>\n",
       "<style scoped>\n",
       "    .dataframe tbody tr th:only-of-type {\n",
       "        vertical-align: middle;\n",
       "    }\n",
       "\n",
       "    .dataframe tbody tr th {\n",
       "        vertical-align: top;\n",
       "    }\n",
       "\n",
       "    .dataframe thead th {\n",
       "        text-align: right;\n",
       "    }\n",
       "</style>\n",
       "<table border=\"1\" class=\"dataframe\">\n",
       "  <thead>\n",
       "    <tr style=\"text-align: right;\">\n",
       "      <th></th>\n",
       "      <th>order_id</th>\n",
       "      <th>user_id</th>\n",
       "      <th>created_dt_msk</th>\n",
       "      <th>created_ts_msk</th>\n",
       "      <th>event_id</th>\n",
       "      <th>cinema_circuit</th>\n",
       "      <th>age_limit</th>\n",
       "      <th>currency_code</th>\n",
       "      <th>device_type_canonical</th>\n",
       "      <th>revenue</th>\n",
       "      <th>...</th>\n",
       "      <th>event_type_description</th>\n",
       "      <th>event_type_main</th>\n",
       "      <th>organizers</th>\n",
       "      <th>region_name</th>\n",
       "      <th>city_name</th>\n",
       "      <th>city_id</th>\n",
       "      <th>venue_id</th>\n",
       "      <th>venue_name</th>\n",
       "      <th>venue_address</th>\n",
       "      <th>revenue_rub</th>\n",
       "    </tr>\n",
       "  </thead>\n",
       "  <tbody>\n",
       "    <tr>\n",
       "      <th>0</th>\n",
       "      <td>4359165</td>\n",
       "      <td>0002849b70a3ce2</td>\n",
       "      <td>2024-08-20</td>\n",
       "      <td>2024-08-20 16:08:03</td>\n",
       "      <td>169230</td>\n",
       "      <td>нет</td>\n",
       "      <td>16</td>\n",
       "      <td>rub</td>\n",
       "      <td>mobile</td>\n",
       "      <td>1521.94</td>\n",
       "      <td>...</td>\n",
       "      <td>спектакль</td>\n",
       "      <td>театр</td>\n",
       "      <td>№3322</td>\n",
       "      <td>Каменевский регион</td>\n",
       "      <td>Глиногорск</td>\n",
       "      <td>213</td>\n",
       "      <td>3972</td>\n",
       "      <td>Сценический центр \"Деталь\" Групп</td>\n",
       "      <td>алл. Машиностроителей, д. 19 стр. 6</td>\n",
       "      <td>1521.94</td>\n",
       "    </tr>\n",
       "    <tr>\n",
       "      <th>1</th>\n",
       "      <td>6274963</td>\n",
       "      <td>44c1c640a242aea</td>\n",
       "      <td>2024-08-20</td>\n",
       "      <td>2024-08-20 22:12:04</td>\n",
       "      <td>237325</td>\n",
       "      <td>нет</td>\n",
       "      <td>0</td>\n",
       "      <td>rub</td>\n",
       "      <td>mobile</td>\n",
       "      <td>144.73</td>\n",
       "      <td>...</td>\n",
       "      <td>событие</td>\n",
       "      <td>выставки</td>\n",
       "      <td>№4850</td>\n",
       "      <td>Каменевский регион</td>\n",
       "      <td>Глиногорск</td>\n",
       "      <td>213</td>\n",
       "      <td>2941</td>\n",
       "      <td>Музыкальная школа для детей \"Аккаунт\" Лтд</td>\n",
       "      <td>алл. Шмидта, д. 9 стр. 4</td>\n",
       "      <td>144.73</td>\n",
       "    </tr>\n",
       "    <tr>\n",
       "      <th>2</th>\n",
       "      <td>474528</td>\n",
       "      <td>2b1f730d7024681</td>\n",
       "      <td>2024-08-20</td>\n",
       "      <td>2024-08-20 15:29:56</td>\n",
       "      <td>373657</td>\n",
       "      <td>нет</td>\n",
       "      <td>18</td>\n",
       "      <td>rub</td>\n",
       "      <td>mobile</td>\n",
       "      <td>318.27</td>\n",
       "      <td>...</td>\n",
       "      <td>шоу</td>\n",
       "      <td>стендап</td>\n",
       "      <td>№1124</td>\n",
       "      <td>Североярская область</td>\n",
       "      <td>Озёрск</td>\n",
       "      <td>2</td>\n",
       "      <td>1631</td>\n",
       "      <td>Музей истории \"Воспоминание\" Групп</td>\n",
       "      <td>наб. Тамбовская, д. 1/4 к. 577</td>\n",
       "      <td>318.27</td>\n",
       "    </tr>\n",
       "    <tr>\n",
       "      <th>3</th>\n",
       "      <td>7477361</td>\n",
       "      <td>05ba93f1b1e1fdd</td>\n",
       "      <td>2024-08-20</td>\n",
       "      <td>2024-08-20 17:06:44</td>\n",
       "      <td>534657</td>\n",
       "      <td>нет</td>\n",
       "      <td>16</td>\n",
       "      <td>rub</td>\n",
       "      <td>mobile</td>\n",
       "      <td>339.61</td>\n",
       "      <td>...</td>\n",
       "      <td>концерт</td>\n",
       "      <td>концерты</td>\n",
       "      <td>№1134</td>\n",
       "      <td>Ветренский регион</td>\n",
       "      <td>Кокжар</td>\n",
       "      <td>20</td>\n",
       "      <td>2866</td>\n",
       "      <td>Школа фотографии \"Золотое\" Инк</td>\n",
       "      <td>ш. Микрорайон, д. 79 стр. 50</td>\n",
       "      <td>339.61</td>\n",
       "    </tr>\n",
       "    <tr>\n",
       "      <th>4</th>\n",
       "      <td>472150</td>\n",
       "      <td>3ee7dc2e115847f</td>\n",
       "      <td>2024-08-20</td>\n",
       "      <td>2024-08-20 02:57:22</td>\n",
       "      <td>534657</td>\n",
       "      <td>нет</td>\n",
       "      <td>16</td>\n",
       "      <td>rub</td>\n",
       "      <td>mobile</td>\n",
       "      <td>339.61</td>\n",
       "      <td>...</td>\n",
       "      <td>концерт</td>\n",
       "      <td>концерты</td>\n",
       "      <td>№1134</td>\n",
       "      <td>Ветренский регион</td>\n",
       "      <td>Кокжар</td>\n",
       "      <td>20</td>\n",
       "      <td>2866</td>\n",
       "      <td>Школа фотографии \"Золотое\" Инк</td>\n",
       "      <td>ш. Микрорайон, д. 79 стр. 50</td>\n",
       "      <td>339.61</td>\n",
       "    </tr>\n",
       "  </tbody>\n",
       "</table>\n",
       "<p>5 rows × 25 columns</p>\n",
       "</div>"
      ],
      "text/plain": [
       "   order_id          user_id created_dt_msk      created_ts_msk  event_id  \\\n",
       "0   4359165  0002849b70a3ce2     2024-08-20 2024-08-20 16:08:03    169230   \n",
       "1   6274963  44c1c640a242aea     2024-08-20 2024-08-20 22:12:04    237325   \n",
       "2    474528  2b1f730d7024681     2024-08-20 2024-08-20 15:29:56    373657   \n",
       "3   7477361  05ba93f1b1e1fdd     2024-08-20 2024-08-20 17:06:44    534657   \n",
       "4    472150  3ee7dc2e115847f     2024-08-20 2024-08-20 02:57:22    534657   \n",
       "\n",
       "  cinema_circuit  age_limit currency_code device_type_canonical  revenue  ...  \\\n",
       "0            нет         16           rub                mobile  1521.94  ...   \n",
       "1            нет          0           rub                mobile   144.73  ...   \n",
       "2            нет         18           rub                mobile   318.27  ...   \n",
       "3            нет         16           rub                mobile   339.61  ...   \n",
       "4            нет         16           rub                mobile   339.61  ...   \n",
       "\n",
       "  event_type_description  event_type_main  organizers           region_name  \\\n",
       "0              спектакль            театр       №3322    Каменевский регион   \n",
       "1                событие         выставки       №4850    Каменевский регион   \n",
       "2                    шоу          стендап       №1124  Североярская область   \n",
       "3                концерт         концерты       №1134     Ветренский регион   \n",
       "4                концерт         концерты       №1134     Ветренский регион   \n",
       "\n",
       "    city_name city_id venue_id                                 venue_name  \\\n",
       "0  Глиногорск     213     3972           Сценический центр \"Деталь\" Групп   \n",
       "1  Глиногорск     213     2941  Музыкальная школа для детей \"Аккаунт\" Лтд   \n",
       "2      Озёрск       2     1631         Музей истории \"Воспоминание\" Групп   \n",
       "3      Кокжар      20     2866             Школа фотографии \"Золотое\" Инк   \n",
       "4      Кокжар      20     2866             Школа фотографии \"Золотое\" Инк   \n",
       "\n",
       "                         venue_address revenue_rub  \n",
       "0  алл. Машиностроителей, д. 19 стр. 6     1521.94  \n",
       "1             алл. Шмидта, д. 9 стр. 4      144.73  \n",
       "2       наб. Тамбовская, д. 1/4 к. 577      318.27  \n",
       "3         ш. Микрорайон, д. 79 стр. 50      339.61  \n",
       "4         ш. Микрорайон, д. 79 стр. 50      339.61  \n",
       "\n",
       "[5 rows x 25 columns]"
      ]
     },
     "execution_count": 38,
     "metadata": {},
     "output_type": "execute_result"
    }
   ],
   "source": [
    "# Удаление уже не нужных столбцов\n",
    "df.drop(columns=['data', 'nominal', 'curs', 'cdx'], inplace=True)\n",
    "df.head()"
   ]
  },
  {
   "cell_type": "code",
   "execution_count": 39,
   "id": "8c1607f0-ca36-4ab3-b9e7-6ecdd8e44846",
   "metadata": {},
   "outputs": [
    {
     "data": {
      "text/html": [
       "<div>\n",
       "<style scoped>\n",
       "    .dataframe tbody tr th:only-of-type {\n",
       "        vertical-align: middle;\n",
       "    }\n",
       "\n",
       "    .dataframe tbody tr th {\n",
       "        vertical-align: top;\n",
       "    }\n",
       "\n",
       "    .dataframe thead th {\n",
       "        text-align: right;\n",
       "    }\n",
       "</style>\n",
       "<table border=\"1\" class=\"dataframe\">\n",
       "  <thead>\n",
       "    <tr style=\"text-align: right;\">\n",
       "      <th></th>\n",
       "      <th>order_id</th>\n",
       "      <th>user_id</th>\n",
       "      <th>created_dt_msk</th>\n",
       "      <th>created_ts_msk</th>\n",
       "      <th>event_id</th>\n",
       "      <th>cinema_circuit</th>\n",
       "      <th>age_limit</th>\n",
       "      <th>currency_code</th>\n",
       "      <th>device_type_canonical</th>\n",
       "      <th>revenue</th>\n",
       "      <th>...</th>\n",
       "      <th>event_type_main</th>\n",
       "      <th>organizers</th>\n",
       "      <th>region_name</th>\n",
       "      <th>city_name</th>\n",
       "      <th>city_id</th>\n",
       "      <th>venue_id</th>\n",
       "      <th>venue_name</th>\n",
       "      <th>venue_address</th>\n",
       "      <th>revenue_rub</th>\n",
       "      <th>one_ticket_revenue_rub</th>\n",
       "    </tr>\n",
       "  </thead>\n",
       "  <tbody>\n",
       "    <tr>\n",
       "      <th>0</th>\n",
       "      <td>4359165</td>\n",
       "      <td>0002849b70a3ce2</td>\n",
       "      <td>2024-08-20</td>\n",
       "      <td>2024-08-20 16:08:03</td>\n",
       "      <td>169230</td>\n",
       "      <td>нет</td>\n",
       "      <td>16</td>\n",
       "      <td>rub</td>\n",
       "      <td>mobile</td>\n",
       "      <td>1521.94</td>\n",
       "      <td>...</td>\n",
       "      <td>театр</td>\n",
       "      <td>№3322</td>\n",
       "      <td>Каменевский регион</td>\n",
       "      <td>Глиногорск</td>\n",
       "      <td>213</td>\n",
       "      <td>3972</td>\n",
       "      <td>Сценический центр \"Деталь\" Групп</td>\n",
       "      <td>алл. Машиностроителей, д. 19 стр. 6</td>\n",
       "      <td>1521.94</td>\n",
       "      <td>380.485</td>\n",
       "    </tr>\n",
       "    <tr>\n",
       "      <th>1</th>\n",
       "      <td>6274963</td>\n",
       "      <td>44c1c640a242aea</td>\n",
       "      <td>2024-08-20</td>\n",
       "      <td>2024-08-20 22:12:04</td>\n",
       "      <td>237325</td>\n",
       "      <td>нет</td>\n",
       "      <td>0</td>\n",
       "      <td>rub</td>\n",
       "      <td>mobile</td>\n",
       "      <td>144.73</td>\n",
       "      <td>...</td>\n",
       "      <td>выставки</td>\n",
       "      <td>№4850</td>\n",
       "      <td>Каменевский регион</td>\n",
       "      <td>Глиногорск</td>\n",
       "      <td>213</td>\n",
       "      <td>2941</td>\n",
       "      <td>Музыкальная школа для детей \"Аккаунт\" Лтд</td>\n",
       "      <td>алл. Шмидта, д. 9 стр. 4</td>\n",
       "      <td>144.73</td>\n",
       "      <td>144.730</td>\n",
       "    </tr>\n",
       "    <tr>\n",
       "      <th>2</th>\n",
       "      <td>474528</td>\n",
       "      <td>2b1f730d7024681</td>\n",
       "      <td>2024-08-20</td>\n",
       "      <td>2024-08-20 15:29:56</td>\n",
       "      <td>373657</td>\n",
       "      <td>нет</td>\n",
       "      <td>18</td>\n",
       "      <td>rub</td>\n",
       "      <td>mobile</td>\n",
       "      <td>318.27</td>\n",
       "      <td>...</td>\n",
       "      <td>стендап</td>\n",
       "      <td>№1124</td>\n",
       "      <td>Североярская область</td>\n",
       "      <td>Озёрск</td>\n",
       "      <td>2</td>\n",
       "      <td>1631</td>\n",
       "      <td>Музей истории \"Воспоминание\" Групп</td>\n",
       "      <td>наб. Тамбовская, д. 1/4 к. 577</td>\n",
       "      <td>318.27</td>\n",
       "      <td>106.090</td>\n",
       "    </tr>\n",
       "    <tr>\n",
       "      <th>3</th>\n",
       "      <td>7477361</td>\n",
       "      <td>05ba93f1b1e1fdd</td>\n",
       "      <td>2024-08-20</td>\n",
       "      <td>2024-08-20 17:06:44</td>\n",
       "      <td>534657</td>\n",
       "      <td>нет</td>\n",
       "      <td>16</td>\n",
       "      <td>rub</td>\n",
       "      <td>mobile</td>\n",
       "      <td>339.61</td>\n",
       "      <td>...</td>\n",
       "      <td>концерты</td>\n",
       "      <td>№1134</td>\n",
       "      <td>Ветренский регион</td>\n",
       "      <td>Кокжар</td>\n",
       "      <td>20</td>\n",
       "      <td>2866</td>\n",
       "      <td>Школа фотографии \"Золотое\" Инк</td>\n",
       "      <td>ш. Микрорайон, д. 79 стр. 50</td>\n",
       "      <td>339.61</td>\n",
       "      <td>339.610</td>\n",
       "    </tr>\n",
       "    <tr>\n",
       "      <th>4</th>\n",
       "      <td>472150</td>\n",
       "      <td>3ee7dc2e115847f</td>\n",
       "      <td>2024-08-20</td>\n",
       "      <td>2024-08-20 02:57:22</td>\n",
       "      <td>534657</td>\n",
       "      <td>нет</td>\n",
       "      <td>16</td>\n",
       "      <td>rub</td>\n",
       "      <td>mobile</td>\n",
       "      <td>339.61</td>\n",
       "      <td>...</td>\n",
       "      <td>концерты</td>\n",
       "      <td>№1134</td>\n",
       "      <td>Ветренский регион</td>\n",
       "      <td>Кокжар</td>\n",
       "      <td>20</td>\n",
       "      <td>2866</td>\n",
       "      <td>Школа фотографии \"Золотое\" Инк</td>\n",
       "      <td>ш. Микрорайон, д. 79 стр. 50</td>\n",
       "      <td>339.61</td>\n",
       "      <td>339.610</td>\n",
       "    </tr>\n",
       "  </tbody>\n",
       "</table>\n",
       "<p>5 rows × 26 columns</p>\n",
       "</div>"
      ],
      "text/plain": [
       "   order_id          user_id created_dt_msk      created_ts_msk  event_id  \\\n",
       "0   4359165  0002849b70a3ce2     2024-08-20 2024-08-20 16:08:03    169230   \n",
       "1   6274963  44c1c640a242aea     2024-08-20 2024-08-20 22:12:04    237325   \n",
       "2    474528  2b1f730d7024681     2024-08-20 2024-08-20 15:29:56    373657   \n",
       "3   7477361  05ba93f1b1e1fdd     2024-08-20 2024-08-20 17:06:44    534657   \n",
       "4    472150  3ee7dc2e115847f     2024-08-20 2024-08-20 02:57:22    534657   \n",
       "\n",
       "  cinema_circuit  age_limit currency_code device_type_canonical  revenue  ...  \\\n",
       "0            нет         16           rub                mobile  1521.94  ...   \n",
       "1            нет          0           rub                mobile   144.73  ...   \n",
       "2            нет         18           rub                mobile   318.27  ...   \n",
       "3            нет         16           rub                mobile   339.61  ...   \n",
       "4            нет         16           rub                mobile   339.61  ...   \n",
       "\n",
       "  event_type_main  organizers           region_name   city_name city_id  \\\n",
       "0           театр       №3322    Каменевский регион  Глиногорск     213   \n",
       "1        выставки       №4850    Каменевский регион  Глиногорск     213   \n",
       "2         стендап       №1124  Североярская область      Озёрск       2   \n",
       "3        концерты       №1134     Ветренский регион      Кокжар      20   \n",
       "4        концерты       №1134     Ветренский регион      Кокжар      20   \n",
       "\n",
       "  venue_id                                 venue_name  \\\n",
       "0     3972           Сценический центр \"Деталь\" Групп   \n",
       "1     2941  Музыкальная школа для детей \"Аккаунт\" Лтд   \n",
       "2     1631         Музей истории \"Воспоминание\" Групп   \n",
       "3     2866             Школа фотографии \"Золотое\" Инк   \n",
       "4     2866             Школа фотографии \"Золотое\" Инк   \n",
       "\n",
       "                         venue_address revenue_rub one_ticket_revenue_rub  \n",
       "0  алл. Машиностроителей, д. 19 стр. 6     1521.94                380.485  \n",
       "1             алл. Шмидта, д. 9 стр. 4      144.73                144.730  \n",
       "2       наб. Тамбовская, д. 1/4 к. 577      318.27                106.090  \n",
       "3         ш. Микрорайон, д. 79 стр. 50      339.61                339.610  \n",
       "4         ш. Микрорайон, д. 79 стр. 50      339.61                339.610  \n",
       "\n",
       "[5 rows x 26 columns]"
      ]
     },
     "execution_count": 39,
     "metadata": {},
     "output_type": "execute_result"
    }
   ],
   "source": [
    "# Создание столбца с выручкой с продажи одного билета\n",
    "df['one_ticket_revenue_rub'] = df['revenue_rub'] / df['tickets_count']\n",
    "df.head()"
   ]
  },
  {
   "cell_type": "code",
   "execution_count": 40,
   "id": "c7c0783a-2d13-49c9-b642-cc4716886784",
   "metadata": {},
   "outputs": [
    {
     "data": {
      "text/plain": [
       "0         8\n",
       "1         8\n",
       "2         8\n",
       "3         8\n",
       "4         8\n",
       "         ..\n",
       "287596    6\n",
       "287597    6\n",
       "287598    6\n",
       "287599    6\n",
       "287600    6\n",
       "Name: month, Length: 287601, dtype: int64"
      ]
     },
     "execution_count": 40,
     "metadata": {},
     "output_type": "execute_result"
    }
   ],
   "source": [
    "# Создание столбца с месяцем операции\n",
    "df['month'] = df['created_dt_msk'].dt.month\n",
    "df['month']"
   ]
  },
  {
   "cell_type": "code",
   "execution_count": 41,
   "id": "e57313e2-f63f-44e2-9752-74cf47c8267d",
   "metadata": {},
   "outputs": [],
   "source": [
    "# Функция для разделения на времена года\n",
    "def extract_season(month):\n",
    "    if month in [12, 1, 2]:\n",
    "        return 'зима'\n",
    "    elif month in [3, 4, 5]:\n",
    "        return 'весна'\n",
    "    elif month in [6, 7, 8]:\n",
    "        return 'лето'\n",
    "    else:\n",
    "        return 'осень'"
   ]
  },
  {
   "cell_type": "code",
   "execution_count": 42,
   "id": "2afdc303-4d86-49ae-9923-09ff0f05cb4b",
   "metadata": {
    "scrolled": true
   },
   "outputs": [
    {
     "data": {
      "text/plain": [
       "0         лето\n",
       "1         лето\n",
       "2         лето\n",
       "3         лето\n",
       "4         лето\n",
       "          ... \n",
       "287596    лето\n",
       "287597    лето\n",
       "287598    лето\n",
       "287599    лето\n",
       "287600    лето\n",
       "Name: season, Length: 287601, dtype: object"
      ]
     },
     "execution_count": 42,
     "metadata": {},
     "output_type": "execute_result"
    }
   ],
   "source": [
    "# Создание столбца времен года\n",
    "df['season'] = df['month'].apply(extract_season)\n",
    "df['season']"
   ]
  },
  {
   "cell_type": "markdown",
   "id": "551b585b",
   "metadata": {},
   "source": [
    "### Промежуточный вывод\n",
    "* Предобработка была проведена в полной мере\n",
    "* Явных и неявных пропусков в столбцах практичеки нет\n",
    "* На этапе проверки выбросов удалено 2980 строк, около 1% данных\n",
    "* На этапе проверки дубликатов было найдено и удалено 30 дубликатов\n",
    "* Добавлены новые столбцы revenue_rub, one_ticket_revenue_rub, month, season"
   ]
  },
  {
   "cell_type": "markdown",
   "id": "e4130cb9-8ccd-4366-b9d9-99c9ce56e29e",
   "metadata": {},
   "source": [
    "## Исследовательский анализ данных\n",
    "### Анализ распределения заказов по сегментам и их сезонные изменения\n",
    "#### Количество заказов для каждого месяца"
   ]
  },
  {
   "cell_type": "code",
   "execution_count": 44,
   "id": "d9ac0ebd-ccfa-4a0a-8793-62703fd6478e",
   "metadata": {},
   "outputs": [
    {
     "data": {
      "image/png": "[encoded data removed]",
      "text/plain": [
       "<Figure size 432x288 with 1 Axes>"
      ]
     },
     "metadata": {
      "needs_background": "light"
     },
     "output_type": "display_data"
    }
   ],
   "source": [
    "# Группировка заказов по месяцам\n",
    "grouped = df.groupby('month')['order_id'].count()\n",
    "\n",
    "# Визуализация количества заказов для каждого месяца\n",
    "grouped.plot(\n",
    "    kind='bar',\n",
    "    rot=0\n",
    ")\n",
    "plt.title('Количество заказов по месяцам')\n",
    "plt.xlabel('Месяц')\n",
    "plt.ylabel('Количество заказов')\n",
    "plt.grid()\n",
    "plt.show()"
   ]
  },
  {
   "cell_type": "markdown",
   "id": "499cabfa-2c7b-467d-9aa5-9f0f230f4fdd",
   "metadata": {},
   "source": [
    "На визуализации наглядно представлен рост количества заказов к ноябрю 2024 года"
   ]
  },
  {
   "cell_type": "markdown",
   "id": "2726fefe-d42f-4a70-97d6-21ab403c3d99",
   "metadata": {},
   "source": [
    "#### Сравнение распределения заказов для осеннего и летнего периода по разным категориям"
   ]
  },
  {
   "cell_type": "code",
   "execution_count": 45,
   "id": "4ffa325d-6088-4f09-921d-dd42c60b4edf",
   "metadata": {},
   "outputs": [],
   "source": [
    "# Выделение периодов\n",
    "autumn = df[df['season'] == 'осень']\n",
    "summer = df[df['season'] == 'лето']"
   ]
  },
  {
   "cell_type": "code",
   "execution_count": 46,
   "id": "1bb7c560-ab78-49ba-b6bf-8f78d74716f2",
   "metadata": {},
   "outputs": [
    {
     "data": {
      "image/png": "[encoded data removed]",
      "text/plain": [
       "<Figure size 1296x432 with 3 Axes>"
      ]
     },
     "metadata": {
      "needs_background": "light"
     },
     "output_type": "display_data"
    }
   ],
   "source": [
    "import matplotlib.pyplot as plt\n",
    "import numpy as np\n",
    "\n",
    "# Подготовка данных\n",
    "categories = {\n",
    "    'event_type_main': 'Тип мероприятия',\n",
    "    'device_type_canonical': 'Тип устройства', \n",
    "    'age_limit': 'Возрастное ограничение'\n",
    "}\n",
    "\n",
    "fig, axes = plt.subplots(1, 3, figsize=(18, 6))\n",
    "plt.suptitle('Сравнение распределения заказов летом и осенью')\n",
    "\n",
    "for ax, (col, title) in zip(axes, categories.items()):\n",
    "    # Получаем данные для обоих периодов\n",
    "    autumn_data = autumn[col].value_counts(normalize=True)\n",
    "    summer_data = summer[col].value_counts(normalize=True)\n",
    "    \n",
    "    # Объединяем все возможные категории\n",
    "    all_categories = sorted(set(autumn_data.index) | set(summer_data.index))\n",
    "    \n",
    "    # Позиции для столбцов\n",
    "    x = np.arange(len(all_categories))\n",
    "    width = 0.4\n",
    "    \n",
    "    # Рисуем столбцы\n",
    "    ax.bar(x - width/2, [autumn_data.get(cat, 0) for cat in all_categories], \n",
    "           width, label='Осень', alpha=0.8)\n",
    "    ax.bar(x + width/2, [summer_data.get(cat, 0) for cat in all_categories], \n",
    "           width, label='Лето', alpha=0.8)\n",
    "    \n",
    "    # Настройки графика\n",
    "    ax.set_title(title)\n",
    "    ax.set_xticks(x)\n",
    "    ax.set_xticklabels(all_categories, rotation=45)\n",
    "    ax.set_ylabel('Доля заказов')\n",
    "    ax.legend()\n",
    "    ax.grid()\n",
    "\n",
    "plt.tight_layout()\n",
    "plt.show()"
   ]
  },
  {
   "cell_type": "markdown",
   "id": "d595f009-2d5d-4b49-9ff5-203deb740798",
   "metadata": {},
   "source": [
    "По типам мероприятий:\n",
    "* Распределение количества заказов летом и осенью отличается, так категории другое, театр, стендап и спорт находятся на 2, 3, 4, 5 местах по популярности летом, осенью же эти категории занимают 3, 2, 5, 4 места соотвественно \n",
    "  \n",
    "По типам устройств:\n",
    "* Видны небольшие различия в распределении: доля заказов со стационарных устройств больше осенью, но доля заказов с мобильных устройст больше летом \n",
    "  \n",
    "По возрастному ограничению:\n",
    "* Так же есть различия в распределении: доля заказов с ограничением 0+ осень много больше чем летом, доля заказов с ограничением 18+ больше летом, чем осенью"
   ]
  },
  {
   "cell_type": "markdown",
   "id": "af229d0d-048f-4108-bbd2-c40b02fbd401",
   "metadata": {},
   "source": [
    "#### Изучение изменения выручки с продажи одного билета"
   ]
  },
  {
   "cell_type": "code",
   "execution_count": 47,
   "id": "fdb5c182-acae-43b2-93b9-45289ebce30f",
   "metadata": {},
   "outputs": [],
   "source": [
    "av_autumn = autumn.groupby('event_type_main')['one_ticket_revenue_rub'].mean()\n",
    "av_summer = summer.groupby('event_type_main')['one_ticket_revenue_rub'].mean()"
   ]
  },
  {
   "cell_type": "code",
   "execution_count": 48,
   "id": "cd60158c-e0e3-474b-88e1-72c3923c572a",
   "metadata": {},
   "outputs": [
    {
     "data": {
      "text/plain": [
       "event_type_main\n",
       "выставки     4.845634\n",
       "другое      -1.721268\n",
       "концерты   -12.040032\n",
       "спорт       -1.493869\n",
       "стендап      5.769255\n",
       "театр      -17.833395\n",
       "ёлки       -15.426081\n",
       "Name: one_ticket_revenue_rub, dtype: float64"
      ]
     },
     "execution_count": 48,
     "metadata": {},
     "output_type": "execute_result"
    }
   ],
   "source": [
    "pers = (av_autumn - av_summer) / av_summer * 100\n",
    "pers"
   ]
  },
  {
   "cell_type": "code",
   "execution_count": 54,
   "id": "9b374bd5",
   "metadata": {},
   "outputs": [],
   "source": [
    "colors = ['green' if per > 0 else 'red' for per in pers]"
   ]
  },
  {
   "cell_type": "code",
   "execution_count": 56,
   "id": "4770116d-36ab-48bd-9265-115ed58ee4aa",
   "metadata": {},
   "outputs": [
    {
     "data": {
      "image/png": "[encoded data removed]",
      "text/plain": [
       "<Figure size 432x288 with 1 Axes>"
      ]
     },
     "metadata": {
      "needs_background": "light"
     },
     "output_type": "display_data"
    }
   ],
   "source": [
    "plt.bar(\n",
    "    pers.index,\n",
    "    pers.values, \n",
    "    color=colors\n",
    ")\n",
    "plt.title('Относительное изменение осенней средней выручки с билетов в сравнении с летней')\n",
    "plt.xlabel('Тип мероприятия')\n",
    "plt.ylabel('Относительное изменение')\n",
    "plt.grid()\n",
    "plt.show()"
   ]
  },
  {
   "cell_type": "markdown",
   "id": "846afe57-e1fe-436e-8b79-8c6fb5edc802",
   "metadata": {},
   "source": [
    "По данным визуализации понятно, что осенью выручка с одного билета повышается в категориях выставки и стендап"
   ]
  },
  {
   "cell_type": "markdown",
   "id": "ba80043c-c3bc-4b1d-b7e4-d75b016b8f04",
   "metadata": {},
   "source": [
    "#### Промежуточный вывод\n",
    "* Предположение, что количество заказов увеличивается к ноябрю, подтвердилось\n",
    "* Осенью большая доля заказов находится в категориях: концерты, театр, другое; летом в тех же категориях, но распределены по другому: концерты, другое театр. Самые непопулярные категории меропрятий и летом, и осенью - выставки и елки\n",
    "* Осенью и летом доля заказов по разным типам устройств распределены примерно одинково, с небольшими различиями: и там, и там лидирующую позицию занимают заказы с мобильных устройств, но осенью доля чуть меньше, чем летом\n",
    "* Осенью большая доля заказов находится в возрастных ограничениях: 16, 0, 12. Летом: 16, 12, 6\n",
    "* Отрицательное относительное изменение средней стоимости билета наблюдалосьв категориях театр, елки, концерты, другое, спорт. Что приводит к выводу, что средняя стоимость билетов летом на эти категории больше"
   ]
  },
  {
   "cell_type": "markdown",
   "id": "7b892c0b-ff46-4b83-ae71-6500fc0a8eb8",
   "metadata": {},
   "source": [
    "### Осенняя активность пользователей\n",
    "#### Анализ динамики изменений по дням"
   ]
  },
  {
   "cell_type": "code",
   "execution_count": 57,
   "id": "0c7780fe-c98c-4bc2-a7ce-ab20cbdafe26",
   "metadata": {},
   "outputs": [],
   "source": [
    "# Создание отдельного датафрейма для сводной таблицы\n",
    "dinamic = pd.DataFrame()"
   ]
  },
  {
   "cell_type": "code",
   "execution_count": 58,
   "id": "ba9b6a4f-d592-4dc8-822c-f8429d2c95de",
   "metadata": {},
   "outputs": [
    {
     "data": {
      "image/png": "[encoded data removed]",
      "text/plain": [
       "<Figure size 432x288 with 1 Axes>"
      ]
     },
     "metadata": {
      "needs_background": "light"
     },
     "output_type": "display_data"
    }
   ],
   "source": [
    "# Создание столбца общего числа пользователей по дням\n",
    "dinamic['order_cnt'] = autumn.groupby('created_dt_msk')['order_id'].count()\n",
    "\n",
    "# Визуализация\n",
    "dinamic['order_cnt'].plot()\n",
    "plt.title('Динамика количества заказов осенью 2024')\n",
    "plt.xlabel('Дата')\n",
    "plt.ylabel('Количество заказов')\n",
    "plt.show()"
   ]
  },
  {
   "cell_type": "markdown",
   "id": "eec9c32a-862f-452e-9799-0db75739bb0f",
   "metadata": {},
   "source": [
    "Динамика скачкообразная, имеющая тенденцию к увеличению, пики наблюдались 3 сентября, 1 октября и 31 октября"
   ]
  },
  {
   "cell_type": "code",
   "execution_count": 59,
   "id": "d43f5673-0f71-4027-9ca8-a39e80157017",
   "metadata": {},
   "outputs": [
    {
     "data": {
      "image/png": "[encoded data removed]",
      "text/plain": [
       "<Figure size 432x288 with 1 Axes>"
      ]
     },
     "metadata": {
      "needs_background": "light"
     },
     "output_type": "display_data"
    }
   ],
   "source": [
    "# Создание столбца dau по датам\n",
    "dinamic['dau'] = autumn.groupby('created_dt_msk')['user_id'].nunique()\n",
    "\n",
    "# Визуализация\n",
    "dinamic['dau'].plot()\n",
    "plt.title('Динамика количества уникальных пользователей осенью 2024')\n",
    "plt.xlabel('Дата')\n",
    "plt.ylabel('Количество пользователей')\n",
    "plt.show()"
   ]
  },
  {
   "cell_type": "markdown",
   "id": "71ee9fb4-0ebc-4961-9413-928b1bcc5d4b",
   "metadata": {},
   "source": [
    "Динамика количества активных пользователей скачкообразная, имеющая тенденцию к увеличению"
   ]
  },
  {
   "cell_type": "code",
   "execution_count": 60,
   "id": "af44cb7b-7df4-4e4c-878d-21ba70f5e24d",
   "metadata": {},
   "outputs": [
    {
     "data": {
      "image/png": "[encoded data removed]",
      "text/plain": [
       "<Figure size 432x288 with 1 Axes>"
      ]
     },
     "metadata": {
      "needs_background": "light"
     },
     "output_type": "display_data"
    }
   ],
   "source": [
    "# Создание столбца среднего числа заказов на одного пользователя по датам\n",
    "dinamic['avg_orders_per_user'] = dinamic['order_cnt'] / dinamic['dau'] \n",
    "\n",
    "# Визуализация\n",
    "dinamic['avg_orders_per_user'].plot()\n",
    "plt.title('Динамика среднего количества заказов на пользователя осенью 2024')\n",
    "plt.xlabel('Дата')\n",
    "plt.ylabel('Количество заказов')\n",
    "plt.show()"
   ]
  },
  {
   "cell_type": "markdown",
   "id": "026c3e07-f40a-4cc7-b979-409e08dba7cf",
   "metadata": {},
   "source": [
    "Динамика скачкообразная, пики, как и в динамике общего количества заказов, наблюдались 3 сентября, 1 октября и 31 октября"
   ]
  },
  {
   "cell_type": "code",
   "execution_count": 61,
   "id": "bae6a07d-dd87-4dee-b1bf-cd48dc9c6dfa",
   "metadata": {},
   "outputs": [
    {
     "data": {
      "image/png": "[encoded data removed]",
      "text/plain": [
       "<Figure size 432x288 with 1 Axes>"
      ]
     },
     "metadata": {
      "needs_background": "light"
     },
     "output_type": "display_data"
    }
   ],
   "source": [
    "# Создание столбца средней стоимости одного билета по датам\n",
    "dinamic['avg_ticket_cost'] = autumn.groupby('created_dt_msk')['one_ticket_revenue_rub'].mean()\n",
    "\n",
    "# Визуализация\n",
    "dinamic['avg_ticket_cost'].plot()\n",
    "plt.title('Динамика средней стоимости билета осенью 2024')\n",
    "plt.xlabel('Дата')\n",
    "plt.ylabel('Стоимость')\n",
    "plt.show()"
   ]
  },
  {
   "cell_type": "markdown",
   "id": "ba15b96f-8169-49a5-a2e4-d12c708d52c2",
   "metadata": {},
   "source": [
    "Динамика скачкообразная, падения наблюдались 3 сентября, 1 октября и 31 октября"
   ]
  },
  {
   "cell_type": "markdown",
   "id": "78f00b9f-84bb-4767-9816-cd15130d5b7b",
   "metadata": {},
   "source": [
    "Судя по рассмотренным графикам 4 метрик, можно сделать вывод, что возможно 03 сентября, 1 и 31 октября, продавались билеты на какие-то очень массовые мероприятия. Средняя стоимость билетов в эти дни сильно падала, возможно из-за большого количества заказов или низкой цены билета, что может объяснить резкий скачок роста заказов"
   ]
  },
  {
   "cell_type": "markdown",
   "id": "bfb6dc5b-1158-48b8-9c9e-2ed8783cf7b1",
   "metadata": {},
   "source": [
    "#### Изучение недельной цикличности"
   ]
  },
  {
   "cell_type": "code",
   "execution_count": 62,
   "id": "691c067c-2359-493d-b245-74a5f3ca9bb7",
   "metadata": {},
   "outputs": [],
   "source": [
    "# Дата была индексом в сводной таблице, но чтобы извлечь из даты дни недели нужно сделать ее обычным столбцом\n",
    "dinamic = dinamic.reset_index()"
   ]
  },
  {
   "cell_type": "code",
   "execution_count": 68,
   "id": "2a2c3119-e047-4456-bde7-ceddc5ddef55",
   "metadata": {},
   "outputs": [
    {
     "data": {
      "image/png": "[encoded data removed]",
      "text/plain": [
       "<Figure size 720x360 with 1 Axes>"
      ]
     },
     "metadata": {
      "needs_background": "light"
     },
     "output_type": "display_data"
    }
   ],
   "source": [
    "# Извлечение дня недели из даты\n",
    "dinamic['day_of_week'] = dinamic['created_dt_msk'].dt.day_name()\n",
    "\n",
    "# Построение визуализации\n",
    "plt.figure(figsize=(10, 5))\n",
    "plt.bar( \n",
    "    dinamic['day_of_week'], \n",
    "    dinamic['order_cnt'])\n",
    "plt.title('Недельная цикличность заказов осенью 2024')\n",
    "plt.xlabel('День недели')\n",
    "plt.ylabel('Количество заказов')\n",
    "plt.show()"
   ]
  },
  {
   "cell_type": "markdown",
   "id": "76025a26-576e-4269-b7ae-58e7241494a2",
   "metadata": {},
   "source": [
    "Как можно заметить, что наибольшее количество заказов во вторник, четверг и пятницу. Возможно именно в эти дни выкладываются билеты"
   ]
  },
  {
   "cell_type": "markdown",
   "id": "193ec9a7-f6cc-4edc-8ba0-14b9fd109c5c",
   "metadata": {},
   "source": [
    "#### Промежуточный вывод\n",
    "* Все построенные графики отличались скачкообразностью\n",
    "* Пики (общее количество заказов, среднее число заказов на пользователя) и падения средней стоимости билета выпадали на 3 сентября, 1 и 31 октября, возможно в это время происходило размещение билетов на какие-то большие и желаемые мероприятия\n",
    "* Так же по недельной цикличности заметно, что рост количества заказов происходит во вторник и пятницу, возможно по этим дням выкладываются билеты"
   ]
  },
  {
   "cell_type": "markdown",
   "id": "24973d8a-a7fc-4de6-b789-2b9a98671100",
   "metadata": {},
   "source": [
    "### Популярные события и партнёры\n",
    "#### Для каждого региона"
   ]
  },
  {
   "cell_type": "code",
   "execution_count": 69,
   "id": "23bf2012-0a05-4ea9-bd50-acf7733bd430",
   "metadata": {},
   "outputs": [],
   "source": [
    "# Группируем заказы по регионам\n",
    "grouped_regions = df.groupby('region_name')"
   ]
  },
  {
   "cell_type": "code",
   "execution_count": 70,
   "id": "e2cfe405-0ff5-4f66-b5d1-b5ae6e1a2664",
   "metadata": {},
   "outputs": [
    {
     "data": {
      "image/png": "[encoded data removed]",
      "text/plain": [
       "<Figure size 1296x360 with 1 Axes>"
      ]
     },
     "metadata": {
      "needs_background": "light"
     },
     "output_type": "display_data"
    }
   ],
   "source": [
    "# Считаем количество уникальных мероприятий для каждого региона и визуализтруем\n",
    "plt.figure(figsize=(18, 5))\n",
    "grouped_regions['event_id'].nunique().sort_values(ascending=False).plot(kind='bar')\n",
    "plt.title('Распределение количества уникальных мероприятий по регионам')\n",
    "plt.xlabel('Регионы')\n",
    "plt.ylabel('Количество мероприятий')\n",
    "plt.show()"
   ]
  },
  {
   "cell_type": "code",
   "execution_count": 71,
   "id": "f523eb4f-d492-4890-843f-e9110a89cc2d",
   "metadata": {},
   "outputs": [
    {
     "data": {
      "image/png": "[encoded data removed]",
      "text/plain": [
       "<Figure size 1296x360 with 1 Axes>"
      ]
     },
     "metadata": {
      "needs_background": "light"
     },
     "output_type": "display_data"
    }
   ],
   "source": [
    "# Считаем количество заказов для каждого региона и визуализируем\n",
    "plt.figure(figsize=(18, 5))\n",
    "grouped_regions['order_id'].count().sort_values(ascending=False).plot(kind='bar')\n",
    "plt.title('Распределение количества заказов по регионам')\n",
    "plt.xlabel('Регионы')\n",
    "plt.ylabel('Количество заказов')\n",
    "plt.show()"
   ]
  },
  {
   "cell_type": "markdown",
   "id": "43522e3e-0c41-4f93-bf9a-f58d7855ca45",
   "metadata": {},
   "source": [
    "#### Для каждого патнера"
   ]
  },
  {
   "cell_type": "code",
   "execution_count": 72,
   "id": "6fb29808-225c-4bee-9b7c-e42296c3de58",
   "metadata": {},
   "outputs": [],
   "source": [
    "# Группируем заказы по билетным партнерам\n",
    "grouped_partners = df.groupby('service_name')"
   ]
  },
  {
   "cell_type": "code",
   "execution_count": 73,
   "id": "c1267a11-9699-4601-8aa5-569561dc25b4",
   "metadata": {},
   "outputs": [
    {
     "data": {
      "image/png": "[encoded data removed]",
      "text/plain": [
       "<Figure size 432x288 with 1 Axes>"
      ]
     },
     "metadata": {
      "needs_background": "light"
     },
     "output_type": "display_data"
    }
   ],
   "source": [
    "# Считаем количество уникальных мероприятий и визуализируем\n",
    "grouped_partners['event_id'].nunique().sort_values(ascending=False).plot(kind='bar')\n",
    "plt.title('Распределение количества уникальных мероприятий по партнерам')\n",
    "plt.xlabel('Партнеры')\n",
    "plt.ylabel('Количество мероприятий')\n",
    "plt.show()"
   ]
  },
  {
   "cell_type": "code",
   "execution_count": 74,
   "id": "b08ad699-0fcf-4383-9a5c-60e5839c9b52",
   "metadata": {},
   "outputs": [
    {
     "data": {
      "image/png": "[encoded data removed]",
      "text/plain": [
       "<Figure size 432x288 with 1 Axes>"
      ]
     },
     "metadata": {
      "needs_background": "light"
     },
     "output_type": "display_data"
    }
   ],
   "source": [
    "# Считаем количество заказов\n",
    "grouped_partners['order_id'].count().sort_values(ascending=False).plot(kind='bar')\n",
    "plt.title('Распределение количества заказов по партнерам')\n",
    "plt.xlabel('Партнеры')\n",
    "plt.ylabel('Количество заказов')\n",
    "plt.show()"
   ]
  },
  {
   "cell_type": "code",
   "execution_count": 75,
   "id": "a3f42233-c546-4985-8f2d-8c80ad51ac99",
   "metadata": {},
   "outputs": [
    {
     "data": {
      "image/png": "[encoded data removed]",
      "text/plain": [
       "<Figure size 432x288 with 1 Axes>"
      ]
     },
     "metadata": {
      "needs_background": "light"
     },
     "output_type": "display_data"
    }
   ],
   "source": [
    "# Считаем суммарную выручку с заказанных билетов в млн рублей\n",
    "(grouped_partners['revenue_rub'].sum().sort_values(ascending=False) / 10**6).plot(kind='bar')\n",
    "plt.title('Распределение суммарной выручки по партнерам')\n",
    "plt.xlabel('Партнеры')\n",
    "plt.ylabel('Выручка')\n",
    "plt.show()"
   ]
  },
  {
   "cell_type": "markdown",
   "id": "4124ad3d-8e60-4a01-b4a5-99452b4574af",
   "metadata": {},
   "source": [
    "#### Промежуточный вывод\n",
    "По регионам:\n",
    "* Топ-3 по количеству мероприятий и количеству заказов: Каменевский регион, Североярская и Широковская области\n",
    "* Мероприятия этих трех регионов составляют около 50% от всех мероприятий\n",
    "* Количество заказов для этих трех регионоа составляют 52%\n",
    "* Явный лидер среди всех регионов Каменевский район судя по визуализации\n",
    "  \n",
    "По билетным парнетрам:\n",
    "* Как видно по визуализациям распределение и количества мероприятий, и количества заказов, и суммарной выручки не равномерное\n",
    "* В топ-3 по количеству мероприятий выходят Лови билет!, Билеты без проблем и Билеты в руки\n",
    "* По количеству заказов топ-3: Билеты без проблем, Лови билетов!, Билеты в руки\n",
    "* По суммарной выручке топ-3:  Билеты без проблем, Мой билет, Облачко\n",
    "* Лидер - Билеты без проблем так как они продают одно из самых больших значений количества билетов, топ-1 и по количеству заказов и по суммарной выручке"
   ]
  },
  {
   "cell_type": "markdown",
   "id": "3b103c01-a43b-4284-b4f6-4b3cb2915923",
   "metadata": {},
   "source": [
    "## Статистический анализ данных"
   ]
  },
  {
   "cell_type": "code",
   "execution_count": 76,
   "id": "1f5a833a-5f23-4b68-891b-9a14876b6ff9",
   "metadata": {},
   "outputs": [
    {
     "data": {
      "image/png": "[encoded data removed]",
      "text/plain": [
       "<Figure size 720x360 with 2 Axes>"
      ]
     },
     "metadata": {
      "needs_background": "light"
     },
     "output_type": "display_data"
    }
   ],
   "source": [
    "fig, axes = plt.subplots(1, 2, figsize=(10, 5))\n",
    "\n",
    "autumn[autumn['device_type_canonical'] == 'desktop'].groupby('user_id')['order_id'].count().plot(kind = 'hist', bins=120,  ax=axes[0])\n",
    "axes[0].set_title('Стационарные устройства')\n",
    "axes[0].set_xlabel('Количество заказов')\n",
    "axes[0].set_ylabel('Частота')\n",
    "axes[0].grid()\n",
    "\n",
    "autumn[autumn['device_type_canonical'] == 'mobile'].groupby('user_id')['order_id'].count().plot(kind = 'hist', bins=120, ax=axes[1])\n",
    "axes[1].set_title('Мобильные устройства')\n",
    "axes[1].set_xlabel('Количество заказов')\n",
    "axes[1].set_ylabel('Частота')\n",
    "axes[1].grid()\n",
    "\n",
    "plt.suptitle('Сравнение распределениий количества заказов')\n",
    "plt.tight_layout()  \n",
    "plt.show()"
   ]
  },
  {
   "cell_type": "markdown",
   "id": "e76ab4cc-97e6-45f8-a88c-cffabb725a52",
   "metadata": {},
   "source": [
    "* Так как это гипотеза о среднем и размеры групп сильно не равны используем тест Уэлча для проверки гипотезы\n",
    "* Уровень значимости примем 0.05 \n",
    "  \n",
    "Н0: Среднее количество заказов между пользователями мобильного приложения и пользователями стационарных устройств не отличается \\\n",
    "Н1: Среднее количество заказов на одного пользователя мобильного приложения выше по сравнению с пользователями стационарных устройств"
   ]
  },
  {
   "cell_type": "code",
   "execution_count": 77,
   "id": "cb4ffbee-aa3a-46c6-bf5f-1932779d19a1",
   "metadata": {},
   "outputs": [],
   "source": [
    "A = autumn[autumn['device_type_canonical'] == 'desktop'].groupby('user_id')['order_id'].count()\n",
    "B = autumn[autumn['device_type_canonical'] == 'mobile'].groupby('user_id')['order_id'].count()"
   ]
  },
  {
   "cell_type": "code",
   "execution_count": 78,
   "id": "2ede93ea-078c-49a7-aaaa-97ba42bede6c",
   "metadata": {},
   "outputs": [
    {
     "name": "stdout",
     "output_type": "stream",
     "text": [
      "p-value = 0.0008044439824555602\n",
      "Нулевая гипотеза не находит подтверждения! Выборочные средние в группах A и B отличаются, среднее количество заказов в группе модильных устройств больше \n"
     ]
    }
   ],
   "source": [
    "alpha = 0.05 # Задание уровня значимости\n",
    "\n",
    "# Статистический тест Уэлча\n",
    "stat_welch_ttest, p = ttest_ind(\n",
    "    B, \n",
    "    A,\n",
    "    equal_var=False,\n",
    "    alternative='greater')\n",
    "\n",
    "print(f'p-value = {p}')\n",
    "if p > alpha:\n",
    "    print('Нулевая гипотеза находит подтверждение! Выборочные средние в группах A и B не отличаются')\n",
    "else:\n",
    "    print('Нулевая гипотеза не находит подтверждения! Выборочные средние в группах A и B отличаются, среднее количество заказов в группе модильных устройств больше ')"
   ]
  },
  {
   "cell_type": "code",
   "execution_count": 79,
   "id": "90a2d446-54e9-4407-ae5d-a55fe08fa4f8",
   "metadata": {},
   "outputs": [
    {
     "data": {
      "image/png": "[encoded data removed]",
      "text/plain": [
       "<Figure size 720x360 with 2 Axes>"
      ]
     },
     "metadata": {
      "needs_background": "light"
     },
     "output_type": "display_data"
    }
   ],
   "source": [
    "fig, axes = plt.subplots(1, 2, figsize=(10, 5))\n",
    "\n",
    "# Гистограмма для desktop\n",
    "autumn[(autumn['device_type_canonical'] == 'desktop') & (autumn['days_since_prev'].isna() == False)]['days_since_prev'].hist(\n",
    "    bins=120, ax=axes[0])\n",
    "axes[0].set_title('Стационарные устройства')\n",
    "axes[0].set_xlabel('Дни')\n",
    "axes[0].set_ylabel('Частота')\n",
    "\n",
    "# Гистограмма для mobile\n",
    "autumn[(autumn['device_type_canonical'] == 'mobile') & (autumn['days_since_prev'].isna() == False)]['days_since_prev'].hist(\n",
    "    bins=120, ax=axes[1])\n",
    "axes[1].set_title('Мобильные устройства')\n",
    "axes[1].set_xlabel('Дни')\n",
    "axes[1].set_ylabel('Частота')\n",
    "\n",
    "plt.suptitle('Сравнение распределениий количества дней между заказами')\n",
    "plt.tight_layout()  \n",
    "plt.show()"
   ]
  },
  {
   "cell_type": "markdown",
   "id": "c2d6b820-c845-4093-a808-f82bfb15f162",
   "metadata": {},
   "source": [
    "* Так как это гипотеза о среднем используем тест стьюдента для проверки гипотезы\n",
    "* Уровень значимости примем 0.05 \n",
    "\n",
    "Н0: Среднее время между заказами между пользователями мобильного приложения и пользователями стационарных устройств не отличается \\\n",
    "Н1: Среднее время между заказами пользователей мобильного приложения выше по сравнению с пользователями стационарных устройств"
   ]
  },
  {
   "cell_type": "code",
   "execution_count": 80,
   "id": "6345fd9f-e054-401b-8be5-bf9e6c4d2979",
   "metadata": {},
   "outputs": [],
   "source": [
    "A = autumn[(autumn['device_type_canonical'] == 'desktop') & (autumn['days_since_prev'].isna() == False)]['days_since_prev']\n",
    "B = autumn[(autumn['device_type_canonical'] == 'mobile') & (autumn['days_since_prev'].isna() == False)]['days_since_prev']"
   ]
  },
  {
   "cell_type": "code",
   "execution_count": 81,
   "id": "553cd2e3-5420-44e3-989d-71564536e7ce",
   "metadata": {},
   "outputs": [
    {
     "name": "stdout",
     "output_type": "stream",
     "text": [
      "p-value = 1.2634353801380486e-20\n",
      "Нулевая гипотеза не находит подтверждения! Выборочные средние в группах A и B отличаются, среднее время между заказами в группе мобильных устройств больше \n"
     ]
    }
   ],
   "source": [
    "alpha = 0.05 # Задание уровня значимости\n",
    "\n",
    "# Статистический тест Стьюдента\n",
    "stat_ttest, p = ttest_ind(\n",
    "    B, \n",
    "    A,\n",
    "    alternative='greater')\n",
    "\n",
    "print(f'p-value = {p}')\n",
    "if p > alpha:\n",
    "    print('Нулевая гипотеза находит подтверждение! Выборочные средние в группах A и B не отличаются')\n",
    "else:\n",
    "    print('Нулевая гипотеза не находит подтверждения! Выборочные средние в группах A и B отличаются, среднее время между заказами в группе мобильных устройств больше ')"
   ]
  },
  {
   "cell_type": "markdown",
   "id": "abe55c29-ee2e-4499-9a18-b148473df880",
   "metadata": {},
   "source": [
    "## Общий вывод и рекомендации\n",
    "### Результаты анализа\n",
    "* Работа была произведена с данными из двух датасетов final_tickets_orders_df и final_tickets_events_df, содержащие 14столбцов и 290849 строк и 11 столбцов и 22427 строк соотвественно\n",
    "* Датасеты были объеденены\n",
    "* Перед анализом была произведена предобработка: данные проверены на явные и неявные пропуски и дубликаты, столбцы с датой приведены правильному типу данных, размерности некоторых столбцов была уменьшена, созданы дополнительные столбцы\n",
    "* Наиболее востребованные категории осенью: концерты, театр, \"другое\". Наименее популярные: выставки и ёлки.\n",
    "* Пики заказов приходятся на 3 сентября, 1 и 31 октября, вероятно, из-за анонсов крупных мероприятий.\n",
    "* Рост активности наблюдается по вторникам и пятницам, что может быть связано с выходом новых билетов.\n",
    "* Количество заказов увеличивается к ноябрю.\n",
    "* Средняя стоимость билета осенью снизилась по сравнению с летом, особенно в категориях: театр, ёлки, концерты, \"другое\", спорт.\n",
    "* Основная доля заказов приходится на мобильные устройства.\n",
    "* Осенью преобладают заказы с возрастными ограничениями 16+, 0+, 12+; летом — 16+, 12+, 6+.\n",
    "* Топ-3 по количеству мероприятий и заказов: Каменевский регион, Североярская и Широковская области (52% заказов). Каменевский регион — явный лидер.\n",
    "* Лидеры по количеству мероприятий и заказов: \"Билеты без проблем\", \"Лови билет!\", \"Билеты в руки\". По выручке топ-3: \"Билеты без проблем\", \"Мой билет\", \"Облачко\". Абсолютный лидер — \"Билеты без проблем\" (максимальные показатели по заказам и выручке).\n",
    "* Обе продуктовые гипотезы подтвердились. Среднее количество заказов на одного пользователя мобильного приложения выше по сравнению с пользователями стационарных устройств (p-value = 5.552536682038302e-23). Среднее время между заказами пользователей мобильного приложения выше по сравнению с пользователями стационарных устройств (p-value = 1.208466401675543e-20)\n",
    "### Рекомендации\n",
    "* Стоит четко определить природу резких скачков количества заказов и среднего количества заказов на пользователя 3 сентября и 1 октября, что проводить больше подобных акций в будущем\n",
    "* Также стоит обратить внимание, что осень вырастает популярность мероприятий с возрастным ограничением 0 и 12+. возможно это связано с проведением экскурсий, совместных поездок в театр и на концерты для школьников\n",
    "* Не"
   ]
  }
 ],
 "metadata": {
  "ExecuteTimeLog": [
   {
    "duration": 1255,
    "start_time": "2025-06-20T23:57:24.072Z"
   },
   {
    "duration": 2215,
    "start_time": "2025-06-20T23:57:25.329Z"
   },
   {
    "duration": 16,
    "start_time": "2025-06-20T23:57:27.545Z"
   },
   {
    "duration": 114,
    "start_time": "2025-06-20T23:57:27.563Z"
   },
   {
    "duration": 10,
    "start_time": "2025-06-20T23:57:27.679Z"
   },
   {
    "duration": 44,
    "start_time": "2025-06-20T23:57:27.690Z"
   },
   {
    "duration": 7,
    "start_time": "2025-06-20T23:57:27.736Z"
   },
   {
    "duration": 10,
    "start_time": "2025-06-20T23:57:27.744Z"
   },
   {
    "duration": 632,
    "start_time": "2025-06-20T23:57:32.672Z"
   },
   {
    "duration": 3,
    "start_time": "2025-06-20T23:57:44.711Z"
   },
   {
    "duration": 144,
    "start_time": "2025-06-20T23:57:44.989Z"
   },
   {
    "duration": 2,
    "start_time": "2025-06-20T23:57:53.513Z"
   },
   {
    "duration": 341,
    "start_time": "2025-06-20T23:57:54.653Z"
   },
   {
    "duration": 299,
    "start_time": "2025-06-20T23:58:25.778Z"
   },
   {
    "duration": 208,
    "start_time": "2025-06-20T23:58:26.440Z"
   },
   {
    "duration": 108,
    "start_time": "2025-06-20T23:58:39.942Z"
   },
   {
    "duration": 97,
    "start_time": "2025-06-20T23:58:53.681Z"
   },
   {
    "duration": 91,
    "start_time": "2025-06-20T23:59:48.188Z"
   },
   {
    "duration": 29,
    "start_time": "2025-06-20T23:59:59.161Z"
   },
   {
    "duration": 26,
    "start_time": "2025-06-21T00:00:20.711Z"
   },
   {
    "duration": 23,
    "start_time": "2025-06-21T00:01:31.524Z"
   },
   {
    "duration": 23,
    "start_time": "2025-06-21T00:04:37.623Z"
   },
   {
    "duration": 101,
    "start_time": "2025-06-21T00:06:23.655Z"
   },
   {
    "duration": 7,
    "start_time": "2025-06-21T00:09:09.421Z"
   },
   {
    "duration": 7,
    "start_time": "2025-06-21T00:09:45.068Z"
   },
   {
    "duration": 78,
    "start_time": "2025-06-21T00:11:00.068Z"
   },
   {
    "duration": 198,
    "start_time": "2025-06-21T00:11:02.561Z"
   },
   {
    "duration": 48,
    "start_time": "2025-06-21T00:11:04.609Z"
   },
   {
    "duration": 66,
    "start_time": "2025-06-21T00:12:26.026Z"
   },
   {
    "duration": 190,
    "start_time": "2025-06-21T00:12:26.896Z"
   },
   {
    "duration": 42,
    "start_time": "2025-06-21T00:12:27.580Z"
   },
   {
    "duration": 606,
    "start_time": "2025-06-21T00:12:43.417Z"
   },
   {
    "duration": 681,
    "start_time": "2025-06-21T00:12:44.882Z"
   },
   {
    "duration": 694,
    "start_time": "2025-06-21T00:12:45.714Z"
   },
   {
    "duration": 1381,
    "start_time": "2025-06-21T00:13:04.265Z"
   },
   {
    "duration": 203,
    "start_time": "2025-06-21T00:13:07.168Z"
   },
   {
    "duration": 17,
    "start_time": "2025-06-21T00:13:07.373Z"
   },
   {
    "duration": 175,
    "start_time": "2025-06-21T00:13:07.553Z"
   },
   {
    "duration": 205,
    "start_time": "2025-06-21T00:16:51.277Z"
   },
   {
    "duration": 3,
    "start_time": "2025-06-21T00:17:15.072Z"
   },
   {
    "duration": 148,
    "start_time": "2025-06-21T00:17:15.361Z"
   },
   {
    "duration": 38,
    "start_time": "2025-06-21T00:17:15.860Z"
   },
   {
    "duration": 326,
    "start_time": "2025-06-21T00:17:15.928Z"
   },
   {
    "duration": 218,
    "start_time": "2025-06-21T00:17:16.256Z"
   },
   {
    "duration": 133,
    "start_time": "2025-06-21T00:17:16.476Z"
   },
   {
    "duration": 95,
    "start_time": "2025-06-21T00:17:16.611Z"
   },
   {
    "duration": 27,
    "start_time": "2025-06-21T00:17:16.707Z"
   },
   {
    "duration": 51,
    "start_time": "2025-06-21T00:17:16.735Z"
   },
   {
    "duration": 83,
    "start_time": "2025-06-21T00:17:17.189Z"
   },
   {
    "duration": 1217,
    "start_time": "2025-06-21T00:17:40.340Z"
   },
   {
    "duration": 2126,
    "start_time": "2025-06-21T00:17:41.559Z"
   },
   {
    "duration": 19,
    "start_time": "2025-06-21T00:17:43.687Z"
   },
   {
    "duration": 103,
    "start_time": "2025-06-21T00:17:43.708Z"
   },
   {
    "duration": 11,
    "start_time": "2025-06-21T00:17:43.813Z"
   },
   {
    "duration": 18,
    "start_time": "2025-06-21T00:17:43.825Z"
   },
   {
    "duration": 28,
    "start_time": "2025-06-21T00:17:43.845Z"
   },
   {
    "duration": 13,
    "start_time": "2025-06-21T00:17:43.874Z"
   },
   {
    "duration": 678,
    "start_time": "2025-06-21T00:17:43.889Z"
   },
   {
    "duration": 3,
    "start_time": "2025-06-21T00:17:44.570Z"
   },
   {
    "duration": 159,
    "start_time": "2025-06-21T00:17:44.574Z"
   },
   {
    "duration": 3,
    "start_time": "2025-06-21T00:17:45.077Z"
   },
   {
    "duration": 355,
    "start_time": "2025-06-21T00:17:45.292Z"
   },
   {
    "duration": 45,
    "start_time": "2025-06-21T00:17:45.649Z"
   },
   {
    "duration": 327,
    "start_time": "2025-06-21T00:17:45.957Z"
   },
   {
    "duration": 202,
    "start_time": "2025-06-21T00:17:46.823Z"
   },
   {
    "duration": 115,
    "start_time": "2025-06-21T00:17:47.730Z"
   },
   {
    "duration": 105,
    "start_time": "2025-06-21T00:17:48.680Z"
   },
   {
    "duration": 28,
    "start_time": "2025-06-21T00:17:49.252Z"
   },
   {
    "duration": 25,
    "start_time": "2025-06-21T00:17:52.308Z"
   },
   {
    "duration": 102,
    "start_time": "2025-06-21T00:17:53.419Z"
   },
   {
    "duration": 9,
    "start_time": "2025-06-21T00:17:55.194Z"
   },
   {
    "duration": 6,
    "start_time": "2025-06-21T00:17:55.571Z"
   },
   {
    "duration": 75,
    "start_time": "2025-06-21T00:17:56.311Z"
   },
   {
    "duration": 178,
    "start_time": "2025-06-21T00:17:56.983Z"
   },
   {
    "duration": 40,
    "start_time": "2025-06-21T00:17:57.630Z"
   },
   {
    "duration": 588,
    "start_time": "2025-06-21T00:18:00.640Z"
   },
   {
    "duration": 680,
    "start_time": "2025-06-21T00:18:01.230Z"
   },
   {
    "duration": 715,
    "start_time": "2025-06-21T00:18:01.912Z"
   },
   {
    "duration": 1439,
    "start_time": "2025-06-21T00:18:02.629Z"
   },
   {
    "duration": 230,
    "start_time": "2025-06-21T00:18:13.837Z"
   },
   {
    "duration": 17,
    "start_time": "2025-06-21T00:18:14.068Z"
   },
   {
    "duration": 169,
    "start_time": "2025-06-21T00:18:14.225Z"
   },
   {
    "duration": 5,
    "start_time": "2025-06-21T00:18:18.781Z"
   },
   {
    "duration": 524,
    "start_time": "2025-06-21T00:18:18.980Z"
   },
   {
    "duration": 3,
    "start_time": "2025-06-21T00:18:19.506Z"
   },
   {
    "duration": 5455,
    "start_time": "2025-06-21T00:18:19.510Z"
   },
   {
    "duration": 72,
    "start_time": "2025-06-21T00:18:24.970Z"
   },
   {
    "duration": 37,
    "start_time": "2025-06-21T00:18:25.044Z"
   },
   {
    "duration": 28,
    "start_time": "2025-06-21T00:18:25.082Z"
   },
   {
    "duration": 4,
    "start_time": "2025-06-21T00:18:25.112Z"
   },
   {
    "duration": 95,
    "start_time": "2025-06-21T00:18:25.117Z"
   },
   {
    "duration": 134,
    "start_time": "2025-06-21T00:25:45.066Z"
   },
   {
    "duration": 130,
    "start_time": "2025-06-21T00:26:18.193Z"
   },
   {
    "duration": 203,
    "start_time": "2025-06-21T00:26:19.957Z"
   },
   {
    "duration": 639,
    "start_time": "2025-06-21T00:26:21.239Z"
   },
   {
    "duration": 24,
    "start_time": "2025-06-21T00:26:33.662Z"
   },
   {
    "duration": 7,
    "start_time": "2025-06-21T00:27:21.045Z"
   },
   {
    "duration": 149,
    "start_time": "2025-06-21T00:27:21.862Z"
   },
   {
    "duration": 3,
    "start_time": "2025-06-21T00:33:36.000Z"
   },
   {
    "duration": 209,
    "start_time": "2025-06-21T00:33:39.489Z"
   },
   {
    "duration": 104,
    "start_time": "2025-06-21T00:34:40.218Z"
   },
   {
    "duration": 93,
    "start_time": "2025-06-21T00:34:51.015Z"
   },
   {
    "duration": 3,
    "start_time": "2025-06-21T00:36:47.746Z"
   },
   {
    "duration": 95,
    "start_time": "2025-06-21T00:37:09.358Z"
   },
   {
    "duration": 148,
    "start_time": "2025-06-21T00:37:56.168Z"
   },
   {
    "duration": 4,
    "start_time": "2025-06-21T00:39:32.468Z"
   },
   {
    "duration": 274,
    "start_time": "2025-06-21T00:39:32.840Z"
   },
   {
    "duration": 324,
    "start_time": "2025-06-21T00:39:33.252Z"
   },
   {
    "duration": 267,
    "start_time": "2025-06-21T00:39:36.312Z"
   },
   {
    "duration": 279,
    "start_time": "2025-06-21T00:39:37.717Z"
   },
   {
    "duration": 4,
    "start_time": "2025-06-21T00:40:10.495Z"
   },
   {
    "duration": 134,
    "start_time": "2025-06-21T00:40:11.764Z"
   },
   {
    "duration": 96,
    "start_time": "2025-06-21T00:40:24.954Z"
   },
   {
    "duration": 101,
    "start_time": "2025-06-21T00:40:49.783Z"
   },
   {
    "duration": 198,
    "start_time": "2025-06-21T00:41:11.037Z"
   },
   {
    "duration": 208,
    "start_time": "2025-06-21T00:41:41.236Z"
   },
   {
    "duration": 222,
    "start_time": "2025-06-21T00:41:49.825Z"
   },
   {
    "duration": 3,
    "start_time": "2025-06-21T00:42:45.349Z"
   },
   {
    "duration": 1838,
    "start_time": "2025-06-21T00:42:45.538Z"
   },
   {
    "duration": 1706,
    "start_time": "2025-06-21T00:42:47.378Z"
   },
   {
    "duration": 3,
    "start_time": "2025-06-21T00:42:49.085Z"
   },
   {
    "duration": 409,
    "start_time": "2025-06-21T00:42:49.090Z"
   },
   {
    "duration": 337,
    "start_time": "2025-06-21T00:42:49.501Z"
   },
   {
    "duration": 335,
    "start_time": "2025-06-21T00:42:49.840Z"
   },
   {
    "duration": 1152,
    "start_time": "2025-06-21T00:43:05.991Z"
   },
   {
    "duration": 94,
    "start_time": "2025-06-21T00:43:07.145Z"
   },
   {
    "duration": 6,
    "start_time": "2025-06-21T00:43:07.241Z"
   },
   {
    "duration": 812,
    "start_time": "2025-06-21T00:43:08.038Z"
   },
   {
    "duration": 68,
    "start_time": "2025-06-21T00:43:08.852Z"
   },
   {
    "duration": 7,
    "start_time": "2025-06-21T00:43:08.922Z"
   }
  ],
  "kernelspec": {
   "display_name": "Python 3 (ipykernel)",
   "language": "python",
   "name": "python3"
  },
  "language_info": {
   "codemirror_mode": {
    "name": "ipython",
    "version": 3
   },
   "file_extension": ".py",
   "mimetype": "text/x-python",
   "name": "python",
   "nbconvert_exporter": "python",
   "pygments_lexer": "ipython3",
   "version": "3.12.7"
  },
  "toc": {
   "base_numbering": 1,
   "nav_menu": {},
   "number_sections": true,
   "sideBar": true,
   "skip_h1_title": true,
   "title_cell": "Table of Contents",
   "title_sidebar": "Contents",
   "toc_cell": false,
   "toc_position": {},
   "toc_section_display": true,
   "toc_window_display": false
  }
 },
 "nbformat": 4,
 "nbformat_minor": 5
}
