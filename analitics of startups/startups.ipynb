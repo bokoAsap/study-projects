{
 "cells": [
  {
   "cell_type": "markdown",
   "id": "878c2271-71cd-4e91-905d-4ced65d082c5",
   "metadata": {},
   "source": [
    "# Исследование стартапов для финансовой компании"
   ]
  },
  {
   "cell_type": "markdown",
   "id": "d0ba4635-d5e0-4887-a2d8-3848b565049e",
   "metadata": {},
   "source": [
    "## Цель и задачи проекта\n",
    "**Цель:** Подготовить датасет и проверить, что данные в нём соответствуют здравому смыслу, а также ответить на вопросы заказчика как о предобработке, так и о значении данных для бизнеса. \\\n",
    "**Задачи:** \n",
    "* Загрузить и первично предобработать\n",
    "* Предобработать данные, предварительно исследовать\n",
    "* Выполнить исследовательский анализ объединённых таблиц\n",
    "* Сделать итоговый вывод и рекомендации\n",
    "\n",
    "## Структура проекта \n",
    "* Знакомство с данными: загрузка и первичная предобработка\n",
    "* Предобработка данных, предварительное исследование\n",
    "* Исследовательский анализ объединённых таблиц\n",
    "* Итоговый вывод и рекомендации"
   ]
  },
  {
   "cell_type": "markdown",
   "id": "26d51d42-683f-444d-9949-3e76bb57fe64",
   "metadata": {},
   "source": [
    "## Знакомство с данными: загрузка и первичная предобработка\n",
    "### Вывод общей информации, исправление названия столбцов"
   ]
  },
  {
   "cell_type": "code",
   "execution_count": 1,
   "id": "a47f5ba1-7bd0-4186-9a5e-006f5097403f",
   "metadata": {},
   "outputs": [],
   "source": [
    "# Импортируем библиотеки \n",
    "import matplotlib.pyplot as plt\n",
    "import pandas as pd\n",
    "import seaborn as sns"
   ]
  },
  {
   "cell_type": "code",
   "execution_count": 2,
   "id": "9e0f2bcb-5545-488d-8fbc-80308917ae6e",
   "metadata": {},
   "outputs": [],
   "source": [
    "# Глобальная настройка формата вывода вещественных чисел\n",
    "pd.options.display.float_format = '{:.2f}'.format"
   ]
  },
  {
   "cell_type": "markdown",
   "id": "8524dfdf-3b84-428c-8391-7ddedbee2962",
   "metadata": {},
   "source": [
    "Судя из описания данных, что названия столбцов в датафрейме `companies_df` находятся в неудобном виде, проверим это"
   ]
  },
  {
   "cell_type": "code",
   "execution_count": 4,
   "id": "e435f887-0e65-4f70-b2b0-378ee317ecfc",
   "metadata": {},
   "outputs": [
    {
     "data": {
      "text/plain": [
       "Index(['company  ID', 'name', 'category  code', 'status', 'founded  at',\n",
       "       'closed  at', 'domain', 'network  username', 'country  code',\n",
       "       'investment  rounds', 'funding  rounds', 'funding  total', 'milestones',\n",
       "       'funding  round  id', 'company  id', 'funded  at',\n",
       "       'funding  round  type', 'raised  amount', 'pre  money  valuation',\n",
       "       'participants', 'is  first  round', 'is  last  round'],\n",
       "      dtype='object')"
      ]
     },
     "execution_count": 4,
     "metadata": {},
     "output_type": "execute_result"
    }
   ],
   "source": [
    "companies_df.columns"
   ]
  },
  {
   "cell_type": "markdown",
   "id": "3eb27c45-b90c-40fc-af57-a742086356f3",
   "metadata": {},
   "source": [
    "Это действительно так, приведем их к snake_case"
   ]
  },
  {
   "cell_type": "code",
   "execution_count": 5,
   "id": "f8232810-5ca2-4015-8751-e1407182e1b1",
   "metadata": {},
   "outputs": [
    {
     "data": {
      "text/plain": [
       "Index(['company_ID', 'name', 'category_code', 'status', 'founded_at',\n",
       "       'closed_at', 'domain', 'network_username', 'country_code',\n",
       "       'investment_rounds', 'funding_rounds', 'funding_total', 'milestones',\n",
       "       'funding_round_id', 'company_id', 'funded_at', 'funding_round_type',\n",
       "       'raised_amount', 'pre_money_valuation', 'participants',\n",
       "       'is_first_round', 'is_last_round'],\n",
       "      dtype='object')"
      ]
     },
     "execution_count": 5,
     "metadata": {},
     "output_type": "execute_result"
    }
   ],
   "source": [
    "companies_df.columns = companies_df.columns.str.replace('  ', '_')\n",
    "companies_df.columns"
   ]
  },
  {
   "cell_type": "markdown",
   "id": "71198596-6b31-4ccc-b77f-f4375d3402a0",
   "metadata": {},
   "source": [
    "Посмотрим общую информацию о каждом датасете"
   ]
  },
  {
   "cell_type": "code",
   "execution_count": 6,
   "id": "d56bac0a-e823-4697-832d-336cf9a5cfc3",
   "metadata": {},
   "outputs": [
    {
     "name": "stdout",
     "output_type": "stream",
     "text": [
      "<class 'pandas.core.frame.DataFrame'>\n",
      "RangeIndex: 217774 entries, 0 to 217773\n",
      "Data columns (total 22 columns):\n",
      " #   Column               Non-Null Count   Dtype  \n",
      "---  ------               --------------   -----  \n",
      " 0   company_ID           217472 non-null  float64\n",
      " 1   name                 217471 non-null  object \n",
      " 2   category_code        143886 non-null  object \n",
      " 3   status               217472 non-null  object \n",
      " 4   founded_at           109956 non-null  object \n",
      " 5   closed_at            3449 non-null    object \n",
      " 6   domain               147159 non-null  object \n",
      " 7   network_username     95534 non-null   object \n",
      " 8   country_code         108607 non-null  object \n",
      " 9   investment_rounds    217472 non-null  float64\n",
      " 10  funding_rounds       217472 non-null  float64\n",
      " 11  funding_total        217472 non-null  float64\n",
      " 12  milestones           217472 non-null  float64\n",
      " 13  funding_round_id     52928 non-null   float64\n",
      " 14  company_id           52928 non-null   float64\n",
      " 15  funded_at            52680 non-null   object \n",
      " 16  funding_round_type   52928 non-null   object \n",
      " 17  raised_amount        52928 non-null   float64\n",
      " 18  pre_money_valuation  52928 non-null   float64\n",
      " 19  participants         52928 non-null   float64\n",
      " 20  is_first_round       52928 non-null   float64\n",
      " 21  is_last_round        52928 non-null   float64\n",
      "dtypes: float64(12), object(10)\n",
      "memory usage: 36.6+ MB\n"
     ]
    }
   ],
   "source": [
    "companies_df.info()"
   ]
  },
  {
   "cell_type": "code",
   "execution_count": 7,
   "id": "7f96536b-4bbe-4412-857c-536689de986d",
   "metadata": {},
   "outputs": [
    {
     "data": {
      "text/html": [
       "<div>\n",
       "<style scoped>\n",
       "    .dataframe tbody tr th:only-of-type {\n",
       "        vertical-align: middle;\n",
       "    }\n",
       "\n",
       "    .dataframe tbody tr th {\n",
       "        vertical-align: top;\n",
       "    }\n",
       "\n",
       "    .dataframe thead th {\n",
       "        text-align: right;\n",
       "    }\n",
       "</style>\n",
       "<table border=\"1\" class=\"dataframe\">\n",
       "  <thead>\n",
       "    <tr style=\"text-align: right;\">\n",
       "      <th></th>\n",
       "      <th>company_ID</th>\n",
       "      <th>name</th>\n",
       "      <th>category_code</th>\n",
       "      <th>status</th>\n",
       "      <th>founded_at</th>\n",
       "      <th>closed_at</th>\n",
       "      <th>domain</th>\n",
       "      <th>network_username</th>\n",
       "      <th>country_code</th>\n",
       "      <th>investment_rounds</th>\n",
       "      <th>...</th>\n",
       "      <th>milestones</th>\n",
       "      <th>funding_round_id</th>\n",
       "      <th>company_id</th>\n",
       "      <th>funded_at</th>\n",
       "      <th>funding_round_type</th>\n",
       "      <th>raised_amount</th>\n",
       "      <th>pre_money_valuation</th>\n",
       "      <th>participants</th>\n",
       "      <th>is_first_round</th>\n",
       "      <th>is_last_round</th>\n",
       "    </tr>\n",
       "  </thead>\n",
       "  <tbody>\n",
       "    <tr>\n",
       "      <th>0</th>\n",
       "      <td>1.00</td>\n",
       "      <td>Wetpaint</td>\n",
       "      <td>web</td>\n",
       "      <td>operating</td>\n",
       "      <td>2005-10-17</td>\n",
       "      <td>NaN</td>\n",
       "      <td>wetpaint-inc.com</td>\n",
       "      <td>BachelrWetpaint</td>\n",
       "      <td>USA</td>\n",
       "      <td>0.00</td>\n",
       "      <td>...</td>\n",
       "      <td>5.00</td>\n",
       "      <td>888.00</td>\n",
       "      <td>1.00</td>\n",
       "      <td>2005-10-01</td>\n",
       "      <td>series-a</td>\n",
       "      <td>5250000.00</td>\n",
       "      <td>0.00</td>\n",
       "      <td>2.00</td>\n",
       "      <td>0.00</td>\n",
       "      <td>1.00</td>\n",
       "    </tr>\n",
       "    <tr>\n",
       "      <th>1</th>\n",
       "      <td>1.00</td>\n",
       "      <td>Wetpaint</td>\n",
       "      <td>web</td>\n",
       "      <td>operating</td>\n",
       "      <td>2005-10-17</td>\n",
       "      <td>NaN</td>\n",
       "      <td>wetpaint-inc.com</td>\n",
       "      <td>BachelrWetpaint</td>\n",
       "      <td>USA</td>\n",
       "      <td>0.00</td>\n",
       "      <td>...</td>\n",
       "      <td>5.00</td>\n",
       "      <td>889.00</td>\n",
       "      <td>1.00</td>\n",
       "      <td>2007-01-01</td>\n",
       "      <td>series-b</td>\n",
       "      <td>9500000.00</td>\n",
       "      <td>0.00</td>\n",
       "      <td>3.00</td>\n",
       "      <td>0.00</td>\n",
       "      <td>0.00</td>\n",
       "    </tr>\n",
       "    <tr>\n",
       "      <th>2</th>\n",
       "      <td>1.00</td>\n",
       "      <td>Wetpaint</td>\n",
       "      <td>web</td>\n",
       "      <td>operating</td>\n",
       "      <td>2005-10-17</td>\n",
       "      <td>NaN</td>\n",
       "      <td>wetpaint-inc.com</td>\n",
       "      <td>BachelrWetpaint</td>\n",
       "      <td>USA</td>\n",
       "      <td>0.00</td>\n",
       "      <td>...</td>\n",
       "      <td>5.00</td>\n",
       "      <td>2312.00</td>\n",
       "      <td>1.00</td>\n",
       "      <td>2008-05-19</td>\n",
       "      <td>series-c+</td>\n",
       "      <td>25000000.00</td>\n",
       "      <td>0.00</td>\n",
       "      <td>4.00</td>\n",
       "      <td>1.00</td>\n",
       "      <td>0.00</td>\n",
       "    </tr>\n",
       "    <tr>\n",
       "      <th>3</th>\n",
       "      <td>10.00</td>\n",
       "      <td>Flektor</td>\n",
       "      <td>games_video</td>\n",
       "      <td>acquired</td>\n",
       "      <td>NaN</td>\n",
       "      <td>NaN</td>\n",
       "      <td>flektor.com</td>\n",
       "      <td>NaN</td>\n",
       "      <td>USA</td>\n",
       "      <td>0.00</td>\n",
       "      <td>...</td>\n",
       "      <td>0.00</td>\n",
       "      <td>NaN</td>\n",
       "      <td>NaN</td>\n",
       "      <td>NaN</td>\n",
       "      <td>NaN</td>\n",
       "      <td>NaN</td>\n",
       "      <td>NaN</td>\n",
       "      <td>NaN</td>\n",
       "      <td>NaN</td>\n",
       "      <td>NaN</td>\n",
       "    </tr>\n",
       "    <tr>\n",
       "      <th>4</th>\n",
       "      <td>100.00</td>\n",
       "      <td>There</td>\n",
       "      <td>games_video</td>\n",
       "      <td>acquired</td>\n",
       "      <td>NaN</td>\n",
       "      <td>NaN</td>\n",
       "      <td>there.com</td>\n",
       "      <td>NaN</td>\n",
       "      <td>USA</td>\n",
       "      <td>0.00</td>\n",
       "      <td>...</td>\n",
       "      <td>4.00</td>\n",
       "      <td>NaN</td>\n",
       "      <td>NaN</td>\n",
       "      <td>NaN</td>\n",
       "      <td>NaN</td>\n",
       "      <td>NaN</td>\n",
       "      <td>NaN</td>\n",
       "      <td>NaN</td>\n",
       "      <td>NaN</td>\n",
       "      <td>NaN</td>\n",
       "    </tr>\n",
       "  </tbody>\n",
       "</table>\n",
       "<p>5 rows × 22 columns</p>\n",
       "</div>"
      ],
      "text/plain": [
       "   company_ID      name category_code     status  founded_at closed_at  \\\n",
       "0        1.00  Wetpaint           web  operating  2005-10-17       NaN   \n",
       "1        1.00  Wetpaint           web  operating  2005-10-17       NaN   \n",
       "2        1.00  Wetpaint           web  operating  2005-10-17       NaN   \n",
       "3       10.00   Flektor   games_video   acquired         NaN       NaN   \n",
       "4      100.00     There   games_video   acquired         NaN       NaN   \n",
       "\n",
       "             domain network_username country_code  investment_rounds  ...  \\\n",
       "0  wetpaint-inc.com  BachelrWetpaint          USA               0.00  ...   \n",
       "1  wetpaint-inc.com  BachelrWetpaint          USA               0.00  ...   \n",
       "2  wetpaint-inc.com  BachelrWetpaint          USA               0.00  ...   \n",
       "3       flektor.com              NaN          USA               0.00  ...   \n",
       "4         there.com              NaN          USA               0.00  ...   \n",
       "\n",
       "   milestones  funding_round_id  company_id   funded_at  funding_round_type  \\\n",
       "0        5.00            888.00        1.00  2005-10-01            series-a   \n",
       "1        5.00            889.00        1.00  2007-01-01            series-b   \n",
       "2        5.00           2312.00        1.00  2008-05-19           series-c+   \n",
       "3        0.00               NaN         NaN         NaN                 NaN   \n",
       "4        4.00               NaN         NaN         NaN                 NaN   \n",
       "\n",
       "  raised_amount pre_money_valuation  participants  is_first_round  \\\n",
       "0    5250000.00                0.00          2.00            0.00   \n",
       "1    9500000.00                0.00          3.00            0.00   \n",
       "2   25000000.00                0.00          4.00            1.00   \n",
       "3           NaN                 NaN           NaN             NaN   \n",
       "4           NaN                 NaN           NaN             NaN   \n",
       "\n",
       "   is_last_round  \n",
       "0           1.00  \n",
       "1           0.00  \n",
       "2           0.00  \n",
       "3            NaN  \n",
       "4            NaN  \n",
       "\n",
       "[5 rows x 22 columns]"
      ]
     },
     "execution_count": 7,
     "metadata": {},
     "output_type": "execute_result"
    }
   ],
   "source": [
    "companies_df.head()"
   ]
  },
  {
   "cell_type": "code",
   "execution_count": 8,
   "id": "27cd6986-6899-48ad-9774-8cd06e318690",
   "metadata": {},
   "outputs": [
    {
     "name": "stdout",
     "output_type": "stream",
     "text": [
      "<class 'pandas.core.frame.DataFrame'>\n",
      "RangeIndex: 9407 entries, 0 to 9406\n",
      "Data columns (total 6 columns):\n",
      " #   Column                Non-Null Count  Dtype \n",
      "---  ------                --------------  ----- \n",
      " 0   id                    9407 non-null   int64 \n",
      " 1   acquiring_company_id  9407 non-null   int64 \n",
      " 2   acquired_company_id   9407 non-null   int64 \n",
      " 3   term_code             1831 non-null   object\n",
      " 4   price_amount          9407 non-null   int64 \n",
      " 5   acquired_at           9378 non-null   object\n",
      "dtypes: int64(4), object(2)\n",
      "memory usage: 441.1+ KB\n"
     ]
    }
   ],
   "source": [
    "acq_df.info()"
   ]
  },
  {
   "cell_type": "code",
   "execution_count": 9,
   "id": "0a566c08-8beb-4e79-8544-99a1d5f826ca",
   "metadata": {},
   "outputs": [
    {
     "name": "stdout",
     "output_type": "stream",
     "text": [
      "<class 'pandas.core.frame.DataFrame'>\n",
      "RangeIndex: 226709 entries, 0 to 226708\n",
      "Data columns (total 5 columns):\n",
      " #   Column            Non-Null Count   Dtype  \n",
      "---  ------            --------------   -----  \n",
      " 0   id                226709 non-null  int64  \n",
      " 1   first_name        226700 non-null  object \n",
      " 2   last_name         226705 non-null  object \n",
      " 3   company_id        34615 non-null   float64\n",
      " 4   network_username  38867 non-null   object \n",
      "dtypes: float64(1), int64(1), object(3)\n",
      "memory usage: 8.6+ MB\n"
     ]
    }
   ],
   "source": [
    "people_df.info()"
   ]
  },
  {
   "cell_type": "code",
   "execution_count": 10,
   "id": "feff1de1-14f4-487c-9c8a-044d0066d4c0",
   "metadata": {},
   "outputs": [
    {
     "name": "stdout",
     "output_type": "stream",
     "text": [
      "<class 'pandas.core.frame.DataFrame'>\n",
      "RangeIndex: 109610 entries, 0 to 109609\n",
      "Data columns (total 4 columns):\n",
      " #   Column        Non-Null Count   Dtype \n",
      "---  ------        --------------   ----- \n",
      " 0   id            109610 non-null  int64 \n",
      " 1   person_id     109610 non-null  int64 \n",
      " 2   instituition  109555 non-null  object\n",
      " 3   graduated_at  58054 non-null   object\n",
      "dtypes: int64(2), object(2)\n",
      "memory usage: 3.3+ MB\n"
     ]
    }
   ],
   "source": [
    "edu_df.info()"
   ]
  },
  {
   "cell_type": "code",
   "execution_count": 11,
   "id": "d9fc203a-d97a-45ef-8b5d-feba474c7c30",
   "metadata": {},
   "outputs": [
    {
     "name": "stdout",
     "output_type": "stream",
     "text": [
      "<class 'pandas.core.frame.DataFrame'>\n",
      "RangeIndex: 109610 entries, 0 to 109609\n",
      "Data columns (total 4 columns):\n",
      " #   Column       Non-Null Count   Dtype \n",
      "---  ------       --------------   ----- \n",
      " 0   id           109610 non-null  int64 \n",
      " 1   object_id    109610 non-null  object\n",
      " 2   degree_type  98389 non-null   object\n",
      " 3   subject      81298 non-null   object\n",
      "dtypes: int64(1), object(3)\n",
      "memory usage: 3.3+ MB\n"
     ]
    }
   ],
   "source": [
    "degr_df.info()"
   ]
  },
  {
   "cell_type": "markdown",
   "id": "e28f4e5e-4c79-4eca-92a3-1f1b9d4016f5",
   "metadata": {},
   "source": [
    "* Можно заметить что в `company_and_rounds.csv` есть два столбца с одинаковыми названиями company ID и company id, есть предположение, что это из-за того, что датасет \"склеен\" из двух датасетов, это будет проверено в пункте 6.3"
   ]
  },
  {
   "cell_type": "markdown",
   "id": "6f3377fa-7c06-48df-9770-5959d4537719",
   "metadata": {},
   "source": [
    "### Смена типов и анализ пропусков"
   ]
  },
  {
   "cell_type": "markdown",
   "id": "d6afc4cc-63a2-4cb4-b56d-5420f7f8aa39",
   "metadata": {},
   "source": [
    "В датафрейме companies_df имеется 12 столбцов с неправильными типами данных, которые нужно заменить:\n",
    "1. `company_ID` float -> int\n",
    "2. `founded_at` object -> datetime\n",
    "3. `closed_at` object -> datetime\n",
    "4. `investment_rounds` float -> int\n",
    "5. `funding_rounds` float -> int\n",
    "6. `milestones` float -> int\n",
    "7. `funding_round_id` float -> int\n",
    "8. `company_id` float -> int\n",
    "9. `funded_at` object -> datetime\n",
    "10. `participants` float -> int\n",
    "11. `is_first_round` float -> int\n",
    "12. `is_last_round` float -> int\n",
    "В датафрейме acq_df имеется 1 столбец с неправильным типом данных:\n",
    "1. `acquired_at`  object -> datetime\n",
    "В датафрейме people_df имеется 1 столбец с неправильным типом данных:\n",
    "1. `company_id` float -> int\n",
    "В датафрейме edu_df имеется 1 столбец с неправильным типом данных:\n",
    "1. `graduated_at` object -> datetime\n",
    "В датафрейме degr_df имеется 1 столбец с неправильным типом данных:\n",
    "1. `object_id` object -> int\n",
    "В стлучае со столбцами, которые значения даты произведем замену, столбцы же которые должны иметь целочисленный тип, пока трогать не будем так, сначала нужно поработать с пропусками в них"
   ]
  },
  {
   "cell_type": "code",
   "execution_count": 12,
   "id": "a903bf78-7a67-46d2-a2d9-9c8fda3f645d",
   "metadata": {},
   "outputs": [],
   "source": [
    "# Функция для изменения и проверки типа данных столбца датафрейма\n",
    "def change_dtype(df, col):\n",
    "    df[col] = pd.to_datetime(df[col])\n",
    "    print(f'Тип данных столбца {col} - {df[col].dtype}')"
   ]
  },
  {
   "cell_type": "code",
   "execution_count": 13,
   "id": "31e12ee4-9b05-4a92-ba79-243130d06a11",
   "metadata": {},
   "outputs": [
    {
     "name": "stdout",
     "output_type": "stream",
     "text": [
      "Тип данных столбца founded_at - datetime64[ns]\n",
      "Тип данных столбца closed_at - datetime64[ns]\n",
      "Тип данных столбца funded_at - datetime64[ns]\n",
      "Тип данных столбца acquired_at - datetime64[ns]\n",
      "Тип данных столбца graduated_at - datetime64[ns]\n"
     ]
    }
   ],
   "source": [
    "# Применение функции к нужным столбцам\n",
    "columns = ['founded_at', 'closed_at', 'funded_at']\n",
    "for col in columns:\n",
    "    change_dtype(companies_df, col)\n",
    "change_dtype(acq_df, 'acquired_at')\n",
    "change_dtype(edu_df, 'graduated_at')"
   ]
  },
  {
   "cell_type": "code",
   "execution_count": 14,
   "id": "de736b38-17f6-40a0-85a7-5ca389b9574a",
   "metadata": {},
   "outputs": [
    {
     "data": {
      "text/plain": [
       "company_ID             0.14\n",
       "name                   0.14\n",
       "category_code         33.93\n",
       "status                 0.14\n",
       "founded_at            49.51\n",
       "closed_at             98.42\n",
       "domain                32.43\n",
       "network_username      56.13\n",
       "country_code          50.13\n",
       "investment_rounds      0.14\n",
       "funding_rounds         0.14\n",
       "funding_total          0.14\n",
       "milestones             0.14\n",
       "funding_round_id      75.70\n",
       "company_id            75.70\n",
       "funded_at             75.81\n",
       "funding_round_type    75.70\n",
       "raised_amount         75.70\n",
       "pre_money_valuation   75.70\n",
       "participants          75.70\n",
       "is_first_round        75.70\n",
       "is_last_round         75.70\n",
       "dtype: float64"
      ]
     },
     "execution_count": 14,
     "metadata": {},
     "output_type": "execute_result"
    }
   ],
   "source": [
    "companies_df.isna().mean() * 100"
   ]
  },
  {
   "cell_type": "markdown",
   "id": "6d3373d4-216c-428b-8509-325a75eb8400",
   "metadata": {},
   "source": [
    "Разберем каждый датасет на предмет пропусков отдельно \\\n",
    "`company_and_rounds`: \n",
    "1. В датасете много пропусков\n",
    "2. В основном они находятся в столбцах в информации о раундах финансирования, эта информация важна для заказчика, над этим нужно поработать\n",
    "3. В основных столбцах тоже есть пропуски при чем одинаковое и незначительное количество (0.13%), эти данные в дальнейшем можно удалить\n",
    "4. есть два столбца `company_ID` и `company_id` возможно пропущенные значения из одного можно восполнить значениями другого \\\n",
    "`acquisition`:\n",
    "1. Имеется незначительное количество пропусков в `acquired_at`\n",
    "2. Имеется значительное количество пропусков в `term_code`, однако для дальнейшего анализа он потребуется \\\n",
    "`people`:\n",
    "1. Имеются пропуски в столбце `company_id`, скорее всего это не вызовет проблем в последующем анализе\n",
    "2. Имеются пропуски в столбце `network_username`, это незначительная для анализа информация \\\n",
    "`education`:\n",
    "1. В этом датасете находится информация не обо всех сотрудниках\n",
    "2. А также столбцы имеющие данные об образовании сотрудников имеют пропуски, пока неизвестно, это ошибка или особенность данных\n",
    "Тоже самое касается датасета `degrees`"
   ]
  },
  {
   "cell_type": "markdown",
   "id": "a9860359-cea1-438f-bac4-638623e7d193",
   "metadata": {},
   "source": [
    "### Промежуточные выводы\n",
    "1. загружены вс датасеты необходимые для проекта\n",
    "2. проверены и преведены к snake_case названия столбцов дататсета `company_and_rounds`\n",
    "3. тип данных столбцов с датой изменен на datetime\n",
    "4. оставльные столбцы с неправильными типами данных, пока не приведены к правильным типам, требуется обработка пропусков, однако для этого тркбуется более глубокое погружение в суть данных, возможно пропуски являются не ошибками, а индикаторами\n",
    "5. Достаточно большая часть данных, нужных заказчику, утеряна"
   ]
  },
  {
   "cell_type": "markdown",
   "id": "02fae77c-9681-4daa-89b9-766b5a894ffd",
   "metadata": {},
   "source": [
    "## Предобработка данных, предварительное исследование\n",
    "### Раунды финансирования по годам"
   ]
  },
  {
   "cell_type": "code",
   "execution_count": 15,
   "id": "edc1040f-53fd-4a9e-a1e1-9fc3575470ad",
   "metadata": {},
   "outputs": [
    {
     "data": {
      "text/html": [
       "<div>\n",
       "<style scoped>\n",
       "    .dataframe tbody tr th:only-of-type {\n",
       "        vertical-align: middle;\n",
       "    }\n",
       "\n",
       "    .dataframe tbody tr th {\n",
       "        vertical-align: top;\n",
       "    }\n",
       "\n",
       "    .dataframe thead th {\n",
       "        text-align: right;\n",
       "    }\n",
       "</style>\n",
       "<table border=\"1\" class=\"dataframe\">\n",
       "  <thead>\n",
       "    <tr style=\"text-align: right;\">\n",
       "      <th></th>\n",
       "      <th>invest_number</th>\n",
       "      <th>rounds</th>\n",
       "    </tr>\n",
       "    <tr>\n",
       "      <th>funded_at_year</th>\n",
       "      <th></th>\n",
       "      <th></th>\n",
       "    </tr>\n",
       "  </thead>\n",
       "  <tbody>\n",
       "    <tr>\n",
       "      <th>1999</th>\n",
       "      <td>2.00</td>\n",
       "      <td>76</td>\n",
       "    </tr>\n",
       "    <tr>\n",
       "      <th>2000</th>\n",
       "      <td>4.20</td>\n",
       "      <td>125</td>\n",
       "    </tr>\n",
       "    <tr>\n",
       "      <th>2001</th>\n",
       "      <td>3.00</td>\n",
       "      <td>96</td>\n",
       "    </tr>\n",
       "    <tr>\n",
       "      <th>2002</th>\n",
       "      <td>4.20</td>\n",
       "      <td>116</td>\n",
       "    </tr>\n",
       "    <tr>\n",
       "      <th>2003</th>\n",
       "      <td>3.00</td>\n",
       "      <td>159</td>\n",
       "    </tr>\n",
       "    <tr>\n",
       "      <th>2004</th>\n",
       "      <td>5.00</td>\n",
       "      <td>291</td>\n",
       "    </tr>\n",
       "    <tr>\n",
       "      <th>2005</th>\n",
       "      <td>5.50</td>\n",
       "      <td>1633</td>\n",
       "    </tr>\n",
       "    <tr>\n",
       "      <th>2006</th>\n",
       "      <td>5.00</td>\n",
       "      <td>2436</td>\n",
       "    </tr>\n",
       "    <tr>\n",
       "      <th>2007</th>\n",
       "      <td>3.97</td>\n",
       "      <td>3279</td>\n",
       "    </tr>\n",
       "    <tr>\n",
       "      <th>2008</th>\n",
       "      <td>3.11</td>\n",
       "      <td>3774</td>\n",
       "    </tr>\n",
       "    <tr>\n",
       "      <th>2009</th>\n",
       "      <td>2.00</td>\n",
       "      <td>4151</td>\n",
       "    </tr>\n",
       "    <tr>\n",
       "      <th>2010</th>\n",
       "      <td>1.60</td>\n",
       "      <td>6221</td>\n",
       "    </tr>\n",
       "    <tr>\n",
       "      <th>2011</th>\n",
       "      <td>1.20</td>\n",
       "      <td>9204</td>\n",
       "    </tr>\n",
       "    <tr>\n",
       "      <th>2012</th>\n",
       "      <td>1.00</td>\n",
       "      <td>9970</td>\n",
       "    </tr>\n",
       "    <tr>\n",
       "      <th>2013</th>\n",
       "      <td>1.20</td>\n",
       "      <td>11072</td>\n",
       "    </tr>\n",
       "  </tbody>\n",
       "</table>\n",
       "</div>"
      ],
      "text/plain": [
       "                invest_number  rounds\n",
       "funded_at_year                       \n",
       "1999                     2.00      76\n",
       "2000                     4.20     125\n",
       "2001                     3.00      96\n",
       "2002                     4.20     116\n",
       "2003                     3.00     159\n",
       "2004                     5.00     291\n",
       "2005                     5.50    1633\n",
       "2006                     5.00    2436\n",
       "2007                     3.97    3279\n",
       "2008                     3.11    3774\n",
       "2009                     2.00    4151\n",
       "2010                     1.60    6221\n",
       "2011                     1.20    9204\n",
       "2012                     1.00    9970\n",
       "2013                     1.20   11072"
      ]
     },
     "execution_count": 15,
     "metadata": {},
     "output_type": "execute_result"
    }
   ],
   "source": [
    "# Выделим год из даты финансирования\n",
    "companies_df['funded_at_year'] = companies_df['funded_at'].dt.year.astype('Int64')\n",
    "# Создадим сводную таблицу\n",
    "table = companies_df.groupby('funded_at_year')['raised_amount'].agg(['median', 'count'])\n",
    "table = table.rename(columns={'median': 'invest_number', 'count': 'rounds'})\n",
    "table['invest_number'] = table['invest_number'] / 1e6\n",
    "table = table[table['rounds'] > 50]\n",
    "table"
   ]
  },
  {
   "cell_type": "code",
   "execution_count": 16,
   "id": "308e69d7-7a48-4a15-bd5d-66b09eac85fc",
   "metadata": {},
   "outputs": [
    {
     "data": {
      "image/png": "[encoded data removed]",
      "text/plain": [
       "<Figure size 700x300 with 1 Axes>"
      ]
     },
     "metadata": {},
     "output_type": "display_data"
    }
   ],
   "source": [
    "# Визуализируем таблицу\n",
    "table['invest_number'].plot(\n",
    "    kind='bar',\n",
    "    figsize=(7, 3)\n",
    ")\n",
    "plt.xlabel('Год')\n",
    "plt.ylabel('Размеры средств, млн дол')\n",
    "plt.title('Типичный размер средств, которые стартапы получали в рамках одного раунда финансирования')\n",
    "plt.show()"
   ]
  },
  {
   "cell_type": "markdown",
   "id": "266a5668-5128-48ce-bd17-8333e88b67cf",
   "metadata": {},
   "source": [
    "* На визуализации видно, что типичный размер собранных в рамках одного раунда средств был максимален в 2005 году\n",
    "* 2013 году наблюдалось снижение темпов падения и даже небольшой рост количества выделяемых средств"
   ]
  },
  {
   "cell_type": "markdown",
   "id": "3f216fb8-ad5f-4acf-b5cc-8042e8c25da7",
   "metadata": {},
   "source": [
    "### Люди и их образование"
   ]
  },
  {
   "cell_type": "markdown",
   "id": "e3716032-f067-46ac-a271-f8473b350363",
   "metadata": {},
   "source": [
    "Чтобы оценить насколько информация об образовании сотрудников полна, объеденим датасеты people и education"
   ]
  },
  {
   "cell_type": "code",
   "execution_count": 17,
   "id": "2e114cc6-6a03-43be-bb0d-0507d56a16ab",
   "metadata": {},
   "outputs": [
    {
     "data": {
      "text/html": [
       "<div>\n",
       "<style scoped>\n",
       "    .dataframe tbody tr th:only-of-type {\n",
       "        vertical-align: middle;\n",
       "    }\n",
       "\n",
       "    .dataframe tbody tr th {\n",
       "        vertical-align: top;\n",
       "    }\n",
       "\n",
       "    .dataframe thead th {\n",
       "        text-align: right;\n",
       "    }\n",
       "</style>\n",
       "<table border=\"1\" class=\"dataframe\">\n",
       "  <thead>\n",
       "    <tr style=\"text-align: right;\">\n",
       "      <th></th>\n",
       "      <th>id_people</th>\n",
       "      <th>first_name</th>\n",
       "      <th>last_name</th>\n",
       "      <th>company_id</th>\n",
       "      <th>network_username</th>\n",
       "      <th>id_education</th>\n",
       "      <th>person_id</th>\n",
       "      <th>instituition</th>\n",
       "      <th>graduated_at</th>\n",
       "    </tr>\n",
       "  </thead>\n",
       "  <tbody>\n",
       "    <tr>\n",
       "      <th>4393</th>\n",
       "      <td>104800</td>\n",
       "      <td>Alex</td>\n",
       "      <td>Weinstein</td>\n",
       "      <td>1.00</td>\n",
       "      <td>alexweinstein</td>\n",
       "      <td>NaN</td>\n",
       "      <td>NaN</td>\n",
       "      <td>NaN</td>\n",
       "      <td>NaT</td>\n",
       "    </tr>\n",
       "    <tr>\n",
       "      <th>191139</th>\n",
       "      <td>3</td>\n",
       "      <td>Kevin</td>\n",
       "      <td>Flaherty</td>\n",
       "      <td>1.00</td>\n",
       "      <td>NaN</td>\n",
       "      <td>706.00</td>\n",
       "      <td>3.00</td>\n",
       "      <td>Washington University in St Louis</td>\n",
       "      <td>NaT</td>\n",
       "    </tr>\n",
       "    <tr>\n",
       "      <th>191140</th>\n",
       "      <td>3</td>\n",
       "      <td>Kevin</td>\n",
       "      <td>Flaherty</td>\n",
       "      <td>1.00</td>\n",
       "      <td>NaN</td>\n",
       "      <td>707.00</td>\n",
       "      <td>3.00</td>\n",
       "      <td>Indiana University</td>\n",
       "      <td>NaT</td>\n",
       "    </tr>\n",
       "  </tbody>\n",
       "</table>\n",
       "</div>"
      ],
      "text/plain": [
       "        id_people first_name  last_name  company_id network_username  \\\n",
       "4393       104800       Alex  Weinstein        1.00    alexweinstein   \n",
       "191139          3      Kevin   Flaherty        1.00              NaN   \n",
       "191140          3      Kevin   Flaherty        1.00              NaN   \n",
       "\n",
       "        id_education  person_id                       instituition  \\\n",
       "4393             NaN        NaN                                NaN   \n",
       "191139        706.00       3.00  Washington University in St Louis   \n",
       "191140        707.00       3.00                 Indiana University   \n",
       "\n",
       "       graduated_at  \n",
       "4393            NaT  \n",
       "191139          NaT  \n",
       "191140          NaT  "
      ]
     },
     "execution_count": 17,
     "metadata": {},
     "output_type": "execute_result"
    }
   ],
   "source": [
    "# Объединение датафреймов\n",
    "people_df = pd.merge(people_df, edu_df, left_on='id', right_on='person_id', how='left', suffixes = ('_people','_education'))\n",
    "people_df[people_df['company_id'] == 1]"
   ]
  },
  {
   "cell_type": "code",
   "execution_count": 18,
   "id": "e266398c-9882-44ce-a4d6-da026f0aff8d",
   "metadata": {},
   "outputs": [
    {
     "name": "stdout",
     "output_type": "stream",
     "text": [
      "<class 'pandas.core.frame.DataFrame'>\n",
      "RangeIndex: 267694 entries, 0 to 267693\n",
      "Data columns (total 9 columns):\n",
      " #   Column            Non-Null Count   Dtype         \n",
      "---  ------            --------------   -----         \n",
      " 0   id_people         267694 non-null  int64         \n",
      " 1   first_name        267685 non-null  object        \n",
      " 2   last_name         267690 non-null  object        \n",
      " 3   company_id        44789 non-null   float64       \n",
      " 4   network_username  50775 non-null   object        \n",
      " 5   id_education      109056 non-null  float64       \n",
      " 6   person_id         109056 non-null  float64       \n",
      " 7   instituition      109002 non-null  object        \n",
      " 8   graduated_at      57691 non-null   datetime64[ns]\n",
      "dtypes: datetime64[ns](1), float64(3), int64(1), object(4)\n",
      "memory usage: 18.4+ MB\n"
     ]
    }
   ],
   "source": [
    "# Проверка объединения\n",
    "people_df.info()"
   ]
  },
  {
   "cell_type": "code",
   "execution_count": 19,
   "id": "fcadfc00-2c22-4a0b-a587-b28ac04cc4aa",
   "metadata": {},
   "outputs": [
    {
     "data": {
      "text/plain": [
       "num_people\n",
       "1      18117\n",
       "2       2709\n",
       "3        921\n",
       "4        450\n",
       "5        237\n",
       "6        138\n",
       "7        100\n",
       "8         59\n",
       "9         46\n",
       "11        30\n",
       "10        25\n",
       "13        17\n",
       "12        16\n",
       "14         8\n",
       "17         5\n",
       "16         4\n",
       "23         3\n",
       "19         3\n",
       "20         3\n",
       "18         3\n",
       "15         3\n",
       "29         2\n",
       "25         2\n",
       "56         2\n",
       "22         2\n",
       "21         2\n",
       "31         1\n",
       "138        1\n",
       "35         1\n",
       "47         1\n",
       "32         1\n",
       "39         1\n",
       "63         1\n",
       "36         1\n",
       "51         1\n",
       "48         1\n",
       "244        1\n",
       "61         1\n",
       "150        1\n",
       "26         1\n",
       "72         1\n",
       "Name: count, dtype: int64"
      ]
     },
     "execution_count": 19,
     "metadata": {},
     "output_type": "execute_result"
    }
   ],
   "source": [
    "# Подсчет количества работников и количество записей об образовании в компаниях\n",
    "companies = (people_df.groupby('company_id').agg({\n",
    "    'id_people': 'nunique',   \n",
    "    'person_id': 'nunique'      \n",
    "})).reset_index()\n",
    "companies = companies.rename(columns={'id_people': 'num_people', 'person_id': 'num_educated'})\n",
    "# Вывод различных количеств сотрудников в компаниях\n",
    "companies['num_people'].value_counts()"
   ]
  },
  {
   "cell_type": "markdown",
   "id": "fece30e0-b91b-44a2-abd5-9a02b4f4c916",
   "metadata": {},
   "source": [
    "Разделим компании на 9 групп: 1, 2, 3, 4, 5, 6-7, 8-13, 14-29, 30+. Такие числа выбраны в зависимости от количества компаний с таким количеством сотрудников"
   ]
  },
  {
   "cell_type": "code",
   "execution_count": 20,
   "id": "21310642-3037-4a20-93bb-f8eec5101ef7",
   "metadata": {},
   "outputs": [
    {
     "data": {
      "text/html": [
       "<div>\n",
       "<style scoped>\n",
       "    .dataframe tbody tr th:only-of-type {\n",
       "        vertical-align: middle;\n",
       "    }\n",
       "\n",
       "    .dataframe tbody tr th {\n",
       "        vertical-align: top;\n",
       "    }\n",
       "\n",
       "    .dataframe thead th {\n",
       "        text-align: right;\n",
       "    }\n",
       "</style>\n",
       "<table border=\"1\" class=\"dataframe\">\n",
       "  <thead>\n",
       "    <tr style=\"text-align: right;\">\n",
       "      <th></th>\n",
       "      <th>company_id</th>\n",
       "      <th>num_people</th>\n",
       "      <th>num_educated</th>\n",
       "      <th>category</th>\n",
       "    </tr>\n",
       "  </thead>\n",
       "  <tbody>\n",
       "    <tr>\n",
       "      <th>0</th>\n",
       "      <td>1.00</td>\n",
       "      <td>2</td>\n",
       "      <td>1</td>\n",
       "      <td>2</td>\n",
       "    </tr>\n",
       "    <tr>\n",
       "      <th>1</th>\n",
       "      <td>2.00</td>\n",
       "      <td>1</td>\n",
       "      <td>1</td>\n",
       "      <td>1</td>\n",
       "    </tr>\n",
       "    <tr>\n",
       "      <th>2</th>\n",
       "      <td>3.00</td>\n",
       "      <td>3</td>\n",
       "      <td>2</td>\n",
       "      <td>3</td>\n",
       "    </tr>\n",
       "    <tr>\n",
       "      <th>3</th>\n",
       "      <td>4.00</td>\n",
       "      <td>13</td>\n",
       "      <td>12</td>\n",
       "      <td>8-13</td>\n",
       "    </tr>\n",
       "    <tr>\n",
       "      <th>4</th>\n",
       "      <td>5.00</td>\n",
       "      <td>61</td>\n",
       "      <td>45</td>\n",
       "      <td>30+</td>\n",
       "    </tr>\n",
       "    <tr>\n",
       "      <th>...</th>\n",
       "      <td>...</td>\n",
       "      <td>...</td>\n",
       "      <td>...</td>\n",
       "      <td>...</td>\n",
       "    </tr>\n",
       "    <tr>\n",
       "      <th>22917</th>\n",
       "      <td>285897.00</td>\n",
       "      <td>2</td>\n",
       "      <td>2</td>\n",
       "      <td>2</td>\n",
       "    </tr>\n",
       "    <tr>\n",
       "      <th>22918</th>\n",
       "      <td>285953.00</td>\n",
       "      <td>1</td>\n",
       "      <td>0</td>\n",
       "      <td>1</td>\n",
       "    </tr>\n",
       "    <tr>\n",
       "      <th>22919</th>\n",
       "      <td>285972.00</td>\n",
       "      <td>2</td>\n",
       "      <td>1</td>\n",
       "      <td>2</td>\n",
       "    </tr>\n",
       "    <tr>\n",
       "      <th>22920</th>\n",
       "      <td>285996.00</td>\n",
       "      <td>1</td>\n",
       "      <td>1</td>\n",
       "      <td>1</td>\n",
       "    </tr>\n",
       "    <tr>\n",
       "      <th>22921</th>\n",
       "      <td>286091.00</td>\n",
       "      <td>6</td>\n",
       "      <td>4</td>\n",
       "      <td>6-7</td>\n",
       "    </tr>\n",
       "  </tbody>\n",
       "</table>\n",
       "<p>22922 rows × 4 columns</p>\n",
       "</div>"
      ],
      "text/plain": [
       "       company_id  num_people  num_educated category\n",
       "0            1.00           2             1        2\n",
       "1            2.00           1             1        1\n",
       "2            3.00           3             2        3\n",
       "3            4.00          13            12     8-13\n",
       "4            5.00          61            45      30+\n",
       "...           ...         ...           ...      ...\n",
       "22917   285897.00           2             2        2\n",
       "22918   285953.00           1             0        1\n",
       "22919   285972.00           2             1        2\n",
       "22920   285996.00           1             1        1\n",
       "22921   286091.00           6             4      6-7\n",
       "\n",
       "[22922 rows x 4 columns]"
      ]
     },
     "execution_count": 20,
     "metadata": {},
     "output_type": "execute_result"
    }
   ],
   "source": [
    "# Делим на категории\n",
    "bins = [0, 1, 2, 3, 4, 5, 7, 13, 29, float('inf')]\n",
    "labels = ['1', '2', '3', '4', '5', '6-7', '8-13', '14-29', '30+']\n",
    "companies['category'] = pd.cut(companies['num_people'], bins=bins, labels=labels)\n",
    "companies"
   ]
  },
  {
   "cell_type": "code",
   "execution_count": 21,
   "id": "dcbc8b1e",
   "metadata": {},
   "outputs": [
    {
     "name": "stderr",
     "output_type": "stream",
     "text": [
      "C:\\Users\\never\\AppData\\Local\\Temp\\ipykernel_2136\\1014803766.py:3: FutureWarning: The default of observed=False is deprecated and will be changed to True in a future version of pandas. Pass observed=False to retain current behavior or observed=True to adopt the future default and silence this warning.\n",
      "  companies.groupby('category')['proportion_educated'].mean()\n"
     ]
    },
    {
     "data": {
      "text/plain": [
       "category\n",
       "1       0.54\n",
       "2       0.53\n",
       "3       0.51\n",
       "4       0.52\n",
       "5       0.48\n",
       "6-7     0.48\n",
       "8-13    0.48\n",
       "14-29   0.55\n",
       "30+     0.76\n",
       "Name: proportion_educated, dtype: float64"
      ]
     },
     "execution_count": 21,
     "metadata": {},
     "output_type": "execute_result"
    }
   ],
   "source": [
    "# Подсчитаем долю людей без информации об образовании\n",
    "companies['proportion_educated'] = companies['num_educated'] / companies['num_people']\n",
    "companies.groupby('category')['proportion_educated'].mean()"
   ]
  },
  {
   "cell_type": "markdown",
   "id": "54691e47-eac1-40c6-9860-6871fa9317e1",
   "metadata": {},
   "source": [
    "По моему мнению присоединеник таблицы degrees.csv необязательно, так как о наличии или отсудствии информации об образовании можно судить и по данным из таблицы education.csv"
   ]
  },
  {
   "cell_type": "markdown",
   "id": "7651f0a6-10b9-4002-b925-b7a1073ba979",
   "metadata": {},
   "source": [
    "Гипотеза заказчика о том, что полнота сведений зависит от размеров компании частично подтвердилась. Как видно из таблицы в средних стартапах средняя доля сотрудников без образования выше чем в крупных и мелких"
   ]
  },
  {
   "cell_type": "markdown",
   "id": "7e6c9cfb-ea6c-4b8c-a77a-23d990f022c2",
   "metadata": {},
   "source": [
    "### Объединять или не объединять — вот в чём вопрос"
   ]
  },
  {
   "cell_type": "markdown",
   "id": "ed8412b8-9f6b-4b06-a1bd-7270de99fc42",
   "metadata": {},
   "source": [
    "Для того чтобы понять можно ли объединять таблицы по столбцу `network_username` необходимо понять если пересечения между `network_username` из `company_and_rounds.csv` и  `network_username` из `people.csv`"
   ]
  },
  {
   "cell_type": "code",
   "execution_count": 22,
   "id": "19cd12ca-558b-4d97-8156-3692deeb99d6",
   "metadata": {},
   "outputs": [
    {
     "data": {
      "text/plain": [
       "2199"
      ]
     },
     "execution_count": 22,
     "metadata": {},
     "output_type": "execute_result"
    }
   ],
   "source": [
    "# Подсчитываем количество пересечений в двух столбцах\n",
    "len(set(companies_df['network_username'].dropna().unique()).intersection(set(people_df['network_username'].dropna().unique())))"
   ]
  },
  {
   "cell_type": "markdown",
   "id": "2d17256e-c396-4161-a633-5818488c562f",
   "metadata": {},
   "source": [
    "Определенно совпадения есть, однако в первом датасете 217774 строк, во втором - 226709, явно при объединении по этому столбцу произойдет большая потеря данных, поэтому по столбцу `network_username` нельзя объединять таблицы"
   ]
  },
  {
   "cell_type": "markdown",
   "id": "8fa4d026-c875-49d5-8a85-2958af0efecf",
   "metadata": {},
   "source": [
    "### Проблемный датасет и причина возникновения пропусков"
   ]
  },
  {
   "cell_type": "markdown",
   "id": "9422e279-6879-4c6f-a179-a48f98c00b64",
   "metadata": {},
   "source": [
    "Судя по информации о таблице `company_and_rounds.csv`, которая была получена при знакомстве с данными, гипотеза заказчика верна, изначально этот датасет состоял из двух:\n",
    "* датасета `company`, в котором содержалась информация о компаниях, с первичным ключом `company_ID`\n",
    "* датасета `rounds`, в котором содержалась информация о раундах финансирования, с первичным ключом `funding_round_id` и `company_id` внешним, посредством которого таблица соединялась с таблицей `companies`\n",
    "Приведем таблицы в первоначальный вид"
   ]
  },
  {
   "cell_type": "code",
   "execution_count": 23,
   "id": "e2ad884f-7afa-4751-a044-a6ddb8665e6b",
   "metadata": {},
   "outputs": [],
   "source": [
    "# Составляем списки столбцов для разделения\n",
    "company_lst = [\n",
    "    'company_ID', 'name', 'category_code', 'status', 'founded_at', 'closed_at',\n",
    "    'domain', 'network_username', 'country_code', 'investment_rounds',\n",
    "    'funding_rounds', 'funding_total', 'milestones'\n",
    "]\n",
    "rounds_lst = [\n",
    "    'funding_round_id', 'company_id', 'funded_at', 'funding_round_type',\n",
    "    'raised_amount', 'pre_money_valuation', 'participants',\n",
    "    'is_first_round', 'is_last_round'\n",
    "]\n",
    "#Разделяем датафрейм\n",
    "company_df = companies_df[company_lst]\n",
    "rounds_df = companies_df[rounds_lst]"
   ]
  },
  {
   "cell_type": "code",
   "execution_count": 24,
   "id": "446dbdd0-e77c-4299-b83c-45473d62c45a",
   "metadata": {},
   "outputs": [
    {
     "name": "stderr",
     "output_type": "stream",
     "text": [
      "C:\\Users\\never\\AppData\\Local\\Temp\\ipykernel_2136\\2796491751.py:2: SettingWithCopyWarning: \n",
      "A value is trying to be set on a copy of a slice from a DataFrame\n",
      "\n",
      "See the caveats in the documentation: https://pandas.pydata.org/pandas-docs/stable/user_guide/indexing.html#returning-a-view-versus-a-copy\n",
      "  company_df.drop_duplicates(keep='first', inplace=True)\n"
     ]
    }
   ],
   "source": [
    "# Дополнительно удалим полные дупликаты в company_df и переименуем столбец id\n",
    "company_df.drop_duplicates(keep='first', inplace=True)\n",
    "company_df.columns = company_df.columns.str.lower()"
   ]
  },
  {
   "cell_type": "code",
   "execution_count": 25,
   "id": "e23803c1-fb10-4661-a308-30dc871de6aa",
   "metadata": {},
   "outputs": [
    {
     "name": "stdout",
     "output_type": "stream",
     "text": [
      "<class 'pandas.core.frame.DataFrame'>\n",
      "Index: 196554 entries, 0 to 217472\n",
      "Data columns (total 13 columns):\n",
      " #   Column             Non-Null Count   Dtype         \n",
      "---  ------             --------------   -----         \n",
      " 0   company_id         196553 non-null  float64       \n",
      " 1   name               196552 non-null  object        \n",
      " 2   category_code      123186 non-null  object        \n",
      " 3   status             196553 non-null  object        \n",
      " 4   founded_at         91227 non-null   datetime64[ns]\n",
      " 5   closed_at          2620 non-null    datetime64[ns]\n",
      " 6   domain             126545 non-null  object        \n",
      " 7   network_username   80591 non-null   object        \n",
      " 8   country_code       87990 non-null   object        \n",
      " 9   investment_rounds  196553 non-null  float64       \n",
      " 10  funding_rounds     196553 non-null  float64       \n",
      " 11  funding_total      196553 non-null  float64       \n",
      " 12  milestones         196553 non-null  float64       \n",
      "dtypes: datetime64[ns](2), float64(5), object(6)\n",
      "memory usage: 21.0+ MB\n",
      "<class 'pandas.core.frame.DataFrame'>\n",
      "RangeIndex: 217774 entries, 0 to 217773\n",
      "Data columns (total 9 columns):\n",
      " #   Column               Non-Null Count  Dtype         \n",
      "---  ------               --------------  -----         \n",
      " 0   funding_round_id     52928 non-null  float64       \n",
      " 1   company_id           52928 non-null  float64       \n",
      " 2   funded_at            52680 non-null  datetime64[ns]\n",
      " 3   funding_round_type   52928 non-null  object        \n",
      " 4   raised_amount        52928 non-null  float64       \n",
      " 5   pre_money_valuation  52928 non-null  float64       \n",
      " 6   participants         52928 non-null  float64       \n",
      " 7   is_first_round       52928 non-null  float64       \n",
      " 8   is_last_round        52928 non-null  float64       \n",
      "dtypes: datetime64[ns](1), float64(7), object(1)\n",
      "memory usage: 15.0+ MB\n"
     ]
    }
   ],
   "source": [
    "# Проверяем\n",
    "company_df.info()\n",
    "rounds_df.info()"
   ]
  },
  {
   "cell_type": "markdown",
   "id": "a4a59a44-d8ee-40cf-a5fe-ccc43460ed9c",
   "metadata": {},
   "source": [
    "## Исследовательский анализ объединённых таблиц\n",
    "### Объединение данных"
   ]
  },
  {
   "cell_type": "code",
   "execution_count": 26,
   "id": "504d63c1-b47f-431e-88b7-7b00bc299579",
   "metadata": {},
   "outputs": [],
   "source": [
    "# Объединение данных\n",
    "df = pd.merge(company_df, acq_df, left_on='company_id', right_on='acquired_company_id', how='left')"
   ]
  },
  {
   "cell_type": "code",
   "execution_count": 27,
   "id": "7338dd33-340a-4dbe-8a08-e2e77d791bc2",
   "metadata": {},
   "outputs": [
    {
     "name": "stdout",
     "output_type": "stream",
     "text": [
      "<class 'pandas.core.frame.DataFrame'>\n",
      "Index: 40890 entries, 0 to 196695\n",
      "Data columns (total 19 columns):\n",
      " #   Column                Non-Null Count  Dtype         \n",
      "---  ------                --------------  -----         \n",
      " 0   company_id            40890 non-null  float64       \n",
      " 1   name                  40890 non-null  object        \n",
      " 2   category_code         35436 non-null  object        \n",
      " 3   status                40890 non-null  object        \n",
      " 4   founded_at            27911 non-null  datetime64[ns]\n",
      " 5   closed_at             2128 non-null   datetime64[ns]\n",
      " 6   domain                35883 non-null  object        \n",
      " 7   network_username      20938 non-null  object        \n",
      " 8   country_code          34858 non-null  object        \n",
      " 9   investment_rounds     40890 non-null  float64       \n",
      " 10  funding_rounds        40890 non-null  float64       \n",
      " 11  funding_total         40890 non-null  float64       \n",
      " 12  milestones            40890 non-null  float64       \n",
      " 13  id                    9390 non-null   float64       \n",
      " 14  acquiring_company_id  9390 non-null   float64       \n",
      " 15  acquired_company_id   9390 non-null   float64       \n",
      " 16  term_code             1830 non-null   object        \n",
      " 17  price_amount          9390 non-null   float64       \n",
      " 18  acquired_at           9361 non-null   datetime64[ns]\n",
      "dtypes: datetime64[ns](3), float64(9), object(7)\n",
      "memory usage: 6.2+ MB\n"
     ]
    }
   ],
   "source": [
    "# Фильтрация данных\n",
    "df = df[(df['funding_rounds'] > 0) | (df['investment_rounds'] > 0) | (df['status'] == 'acquired')]\n",
    "df.info()"
   ]
  },
  {
   "cell_type": "code",
   "execution_count": 28,
   "id": "aa088714-f367-4f16-a65a-83fbb5f94bcc",
   "metadata": {},
   "outputs": [
    {
     "data": {
      "text/html": [
       "<div>\n",
       "<style scoped>\n",
       "    .dataframe tbody tr th:only-of-type {\n",
       "        vertical-align: middle;\n",
       "    }\n",
       "\n",
       "    .dataframe tbody tr th {\n",
       "        vertical-align: top;\n",
       "    }\n",
       "\n",
       "    .dataframe thead th {\n",
       "        text-align: right;\n",
       "    }\n",
       "</style>\n",
       "<table border=\"1\" class=\"dataframe\">\n",
       "  <thead>\n",
       "    <tr style=\"text-align: right;\">\n",
       "      <th></th>\n",
       "      <th>company_id</th>\n",
       "      <th>name</th>\n",
       "      <th>category_code</th>\n",
       "      <th>status</th>\n",
       "      <th>founded_at</th>\n",
       "      <th>closed_at</th>\n",
       "      <th>domain</th>\n",
       "      <th>network_username</th>\n",
       "      <th>country_code</th>\n",
       "      <th>investment_rounds</th>\n",
       "      <th>funding_rounds</th>\n",
       "      <th>funding_total</th>\n",
       "      <th>milestones</th>\n",
       "      <th>id</th>\n",
       "      <th>acquiring_company_id</th>\n",
       "      <th>acquired_company_id</th>\n",
       "      <th>term_code</th>\n",
       "      <th>price_amount</th>\n",
       "      <th>acquired_at</th>\n",
       "    </tr>\n",
       "  </thead>\n",
       "  <tbody>\n",
       "    <tr>\n",
       "      <th>1731</th>\n",
       "      <td>10963.00</td>\n",
       "      <td>TNC</td>\n",
       "      <td>web</td>\n",
       "      <td>acquired</td>\n",
       "      <td>2004-01-01</td>\n",
       "      <td>NaT</td>\n",
       "      <td>tnccompany.com</td>\n",
       "      <td>NaN</td>\n",
       "      <td>NaN</td>\n",
       "      <td>0.00</td>\n",
       "      <td>1.00</td>\n",
       "      <td>0.00</td>\n",
       "      <td>2.00</td>\n",
       "      <td>542.00</td>\n",
       "      <td>59.00</td>\n",
       "      <td>10963.00</td>\n",
       "      <td>NaN</td>\n",
       "      <td>0.00</td>\n",
       "      <td>2008-09-12</td>\n",
       "    </tr>\n",
       "    <tr>\n",
       "      <th>1732</th>\n",
       "      <td>10963.00</td>\n",
       "      <td>TNC</td>\n",
       "      <td>web</td>\n",
       "      <td>acquired</td>\n",
       "      <td>2004-01-01</td>\n",
       "      <td>NaT</td>\n",
       "      <td>tnccompany.com</td>\n",
       "      <td>NaN</td>\n",
       "      <td>NaN</td>\n",
       "      <td>0.00</td>\n",
       "      <td>1.00</td>\n",
       "      <td>0.00</td>\n",
       "      <td>2.00</td>\n",
       "      <td>2484.00</td>\n",
       "      <td>59.00</td>\n",
       "      <td>10963.00</td>\n",
       "      <td>NaN</td>\n",
       "      <td>0.00</td>\n",
       "      <td>2008-09-12</td>\n",
       "    </tr>\n",
       "    <tr>\n",
       "      <th>2600</th>\n",
       "      <td>11716.00</td>\n",
       "      <td>Hotjobs</td>\n",
       "      <td>NaN</td>\n",
       "      <td>acquired</td>\n",
       "      <td>NaT</td>\n",
       "      <td>NaT</td>\n",
       "      <td>NaN</td>\n",
       "      <td>NaN</td>\n",
       "      <td>NaN</td>\n",
       "      <td>0.00</td>\n",
       "      <td>0.00</td>\n",
       "      <td>0.00</td>\n",
       "      <td>3.00</td>\n",
       "      <td>2985.00</td>\n",
       "      <td>1735.00</td>\n",
       "      <td>11716.00</td>\n",
       "      <td>cash</td>\n",
       "      <td>225000000.00</td>\n",
       "      <td>2010-02-03</td>\n",
       "    </tr>\n",
       "    <tr>\n",
       "      <th>2601</th>\n",
       "      <td>11716.00</td>\n",
       "      <td>Hotjobs</td>\n",
       "      <td>NaN</td>\n",
       "      <td>acquired</td>\n",
       "      <td>NaT</td>\n",
       "      <td>NaT</td>\n",
       "      <td>NaN</td>\n",
       "      <td>NaN</td>\n",
       "      <td>NaN</td>\n",
       "      <td>0.00</td>\n",
       "      <td>0.00</td>\n",
       "      <td>0.00</td>\n",
       "      <td>3.00</td>\n",
       "      <td>9033.00</td>\n",
       "      <td>29.00</td>\n",
       "      <td>11716.00</td>\n",
       "      <td>cash</td>\n",
       "      <td>436000000.00</td>\n",
       "      <td>2002-01-11</td>\n",
       "    </tr>\n",
       "    <tr>\n",
       "      <th>2892</th>\n",
       "      <td>11943.00</td>\n",
       "      <td>Opusforum.org</td>\n",
       "      <td>NaN</td>\n",
       "      <td>acquired</td>\n",
       "      <td>NaT</td>\n",
       "      <td>NaT</td>\n",
       "      <td>NaN</td>\n",
       "      <td>NaN</td>\n",
       "      <td>DEU</td>\n",
       "      <td>0.00</td>\n",
       "      <td>0.00</td>\n",
       "      <td>0.00</td>\n",
       "      <td>0.00</td>\n",
       "      <td>633.00</td>\n",
       "      <td>20.00</td>\n",
       "      <td>11943.00</td>\n",
       "      <td>NaN</td>\n",
       "      <td>0.00</td>\n",
       "      <td>2005-06-30</td>\n",
       "    </tr>\n",
       "    <tr>\n",
       "      <th>2893</th>\n",
       "      <td>11943.00</td>\n",
       "      <td>Opusforum.org</td>\n",
       "      <td>NaN</td>\n",
       "      <td>acquired</td>\n",
       "      <td>NaT</td>\n",
       "      <td>NaT</td>\n",
       "      <td>NaN</td>\n",
       "      <td>NaN</td>\n",
       "      <td>DEU</td>\n",
       "      <td>0.00</td>\n",
       "      <td>0.00</td>\n",
       "      <td>0.00</td>\n",
       "      <td>0.00</td>\n",
       "      <td>8562.00</td>\n",
       "      <td>204845.00</td>\n",
       "      <td>11943.00</td>\n",
       "      <td>NaN</td>\n",
       "      <td>0.00</td>\n",
       "      <td>2005-01-01</td>\n",
       "    </tr>\n",
       "    <tr>\n",
       "      <th>3185</th>\n",
       "      <td>1216.00</td>\n",
       "      <td>Evite</td>\n",
       "      <td>web</td>\n",
       "      <td>acquired</td>\n",
       "      <td>1998-01-01</td>\n",
       "      <td>NaT</td>\n",
       "      <td>evite.com</td>\n",
       "      <td>evite</td>\n",
       "      <td>USA</td>\n",
       "      <td>0.00</td>\n",
       "      <td>0.00</td>\n",
       "      <td>0.00</td>\n",
       "      <td>2.00</td>\n",
       "      <td>198.00</td>\n",
       "      <td>185.00</td>\n",
       "      <td>1216.00</td>\n",
       "      <td>NaN</td>\n",
       "      <td>0.00</td>\n",
       "      <td>2001-03-09</td>\n",
       "    </tr>\n",
       "    <tr>\n",
       "      <th>3186</th>\n",
       "      <td>1216.00</td>\n",
       "      <td>Evite</td>\n",
       "      <td>web</td>\n",
       "      <td>acquired</td>\n",
       "      <td>1998-01-01</td>\n",
       "      <td>NaT</td>\n",
       "      <td>evite.com</td>\n",
       "      <td>evite</td>\n",
       "      <td>USA</td>\n",
       "      <td>0.00</td>\n",
       "      <td>0.00</td>\n",
       "      <td>0.00</td>\n",
       "      <td>2.00</td>\n",
       "      <td>6238.00</td>\n",
       "      <td>1504.00</td>\n",
       "      <td>1216.00</td>\n",
       "      <td>stock</td>\n",
       "      <td>0.00</td>\n",
       "      <td>2010-12-02</td>\n",
       "    </tr>\n",
       "    <tr>\n",
       "      <th>4025</th>\n",
       "      <td>12829.00</td>\n",
       "      <td>Menupages</td>\n",
       "      <td>web</td>\n",
       "      <td>acquired</td>\n",
       "      <td>NaT</td>\n",
       "      <td>NaT</td>\n",
       "      <td>menupages.com</td>\n",
       "      <td>NaN</td>\n",
       "      <td>NaN</td>\n",
       "      <td>0.00</td>\n",
       "      <td>0.00</td>\n",
       "      <td>0.00</td>\n",
       "      <td>2.00</td>\n",
       "      <td>1810.00</td>\n",
       "      <td>8252.00</td>\n",
       "      <td>12829.00</td>\n",
       "      <td>NaN</td>\n",
       "      <td>0.00</td>\n",
       "      <td>2008-07-16</td>\n",
       "    </tr>\n",
       "    <tr>\n",
       "      <th>4026</th>\n",
       "      <td>12829.00</td>\n",
       "      <td>Menupages</td>\n",
       "      <td>web</td>\n",
       "      <td>acquired</td>\n",
       "      <td>NaT</td>\n",
       "      <td>NaT</td>\n",
       "      <td>menupages.com</td>\n",
       "      <td>NaN</td>\n",
       "      <td>NaN</td>\n",
       "      <td>0.00</td>\n",
       "      <td>0.00</td>\n",
       "      <td>0.00</td>\n",
       "      <td>2.00</td>\n",
       "      <td>6213.00</td>\n",
       "      <td>117902.00</td>\n",
       "      <td>12829.00</td>\n",
       "      <td>NaN</td>\n",
       "      <td>0.00</td>\n",
       "      <td>2011-09-26</td>\n",
       "    </tr>\n",
       "    <tr>\n",
       "      <th>4272</th>\n",
       "      <td>13.00</td>\n",
       "      <td>StumbleUpon</td>\n",
       "      <td>web</td>\n",
       "      <td>acquired</td>\n",
       "      <td>2002-02-01</td>\n",
       "      <td>NaT</td>\n",
       "      <td>stumbleupon.com</td>\n",
       "      <td>stumbleupon</td>\n",
       "      <td>USA</td>\n",
       "      <td>0.00</td>\n",
       "      <td>4.00</td>\n",
       "      <td>18500000.00</td>\n",
       "      <td>5.00</td>\n",
       "      <td>4283.00</td>\n",
       "      <td>20.00</td>\n",
       "      <td>13.00</td>\n",
       "      <td>NaN</td>\n",
       "      <td>0.00</td>\n",
       "      <td>2007-05-30</td>\n",
       "    </tr>\n",
       "    <tr>\n",
       "      <th>4273</th>\n",
       "      <td>13.00</td>\n",
       "      <td>StumbleUpon</td>\n",
       "      <td>web</td>\n",
       "      <td>acquired</td>\n",
       "      <td>2002-02-01</td>\n",
       "      <td>NaT</td>\n",
       "      <td>stumbleupon.com</td>\n",
       "      <td>stumbleupon</td>\n",
       "      <td>USA</td>\n",
       "      <td>0.00</td>\n",
       "      <td>4.00</td>\n",
       "      <td>18500000.00</td>\n",
       "      <td>5.00</td>\n",
       "      <td>5984.00</td>\n",
       "      <td>13.00</td>\n",
       "      <td>13.00</td>\n",
       "      <td>NaN</td>\n",
       "      <td>29000000.00</td>\n",
       "      <td>2009-04-01</td>\n",
       "    </tr>\n",
       "    <tr>\n",
       "      <th>4274</th>\n",
       "      <td>130.00</td>\n",
       "      <td>KickApps</td>\n",
       "      <td>enterprise</td>\n",
       "      <td>acquired</td>\n",
       "      <td>2004-03-01</td>\n",
       "      <td>NaT</td>\n",
       "      <td>kickapps.com</td>\n",
       "      <td>KickApps</td>\n",
       "      <td>USA</td>\n",
       "      <td>0.00</td>\n",
       "      <td>3.00</td>\n",
       "      <td>39007800.00</td>\n",
       "      <td>5.00</td>\n",
       "      <td>5073.00</td>\n",
       "      <td>475.00</td>\n",
       "      <td>130.00</td>\n",
       "      <td>NaN</td>\n",
       "      <td>0.00</td>\n",
       "      <td>2011-01-31</td>\n",
       "    </tr>\n",
       "    <tr>\n",
       "      <th>4275</th>\n",
       "      <td>130.00</td>\n",
       "      <td>KickApps</td>\n",
       "      <td>enterprise</td>\n",
       "      <td>acquired</td>\n",
       "      <td>2004-03-01</td>\n",
       "      <td>NaT</td>\n",
       "      <td>kickapps.com</td>\n",
       "      <td>KickApps</td>\n",
       "      <td>USA</td>\n",
       "      <td>0.00</td>\n",
       "      <td>3.00</td>\n",
       "      <td>39007800.00</td>\n",
       "      <td>5.00</td>\n",
       "      <td>9040.00</td>\n",
       "      <td>234881.00</td>\n",
       "      <td>130.00</td>\n",
       "      <td>NaN</td>\n",
       "      <td>0.00</td>\n",
       "      <td>2012-12-12</td>\n",
       "    </tr>\n",
       "    <tr>\n",
       "      <th>4302</th>\n",
       "      <td>13020.00</td>\n",
       "      <td>ICQ</td>\n",
       "      <td>public_relations</td>\n",
       "      <td>acquired</td>\n",
       "      <td>1997-01-01</td>\n",
       "      <td>NaT</td>\n",
       "      <td>icq.com</td>\n",
       "      <td>ICQ</td>\n",
       "      <td>NaN</td>\n",
       "      <td>0.00</td>\n",
       "      <td>0.00</td>\n",
       "      <td>0.00</td>\n",
       "      <td>3.00</td>\n",
       "      <td>723.00</td>\n",
       "      <td>351.00</td>\n",
       "      <td>13020.00</td>\n",
       "      <td>cash</td>\n",
       "      <td>407000000.00</td>\n",
       "      <td>1998-06-08</td>\n",
       "    </tr>\n",
       "    <tr>\n",
       "      <th>4303</th>\n",
       "      <td>13020.00</td>\n",
       "      <td>ICQ</td>\n",
       "      <td>public_relations</td>\n",
       "      <td>acquired</td>\n",
       "      <td>1997-01-01</td>\n",
       "      <td>NaT</td>\n",
       "      <td>icq.com</td>\n",
       "      <td>ICQ</td>\n",
       "      <td>NaN</td>\n",
       "      <td>0.00</td>\n",
       "      <td>0.00</td>\n",
       "      <td>0.00</td>\n",
       "      <td>3.00</td>\n",
       "      <td>6999.00</td>\n",
       "      <td>2534.00</td>\n",
       "      <td>13020.00</td>\n",
       "      <td>cash</td>\n",
       "      <td>187500000.00</td>\n",
       "      <td>2010-04-01</td>\n",
       "    </tr>\n",
       "  </tbody>\n",
       "</table>\n",
       "</div>"
      ],
      "text/plain": [
       "      company_id           name     category_code    status founded_at  \\\n",
       "1731    10963.00            TNC               web  acquired 2004-01-01   \n",
       "1732    10963.00            TNC               web  acquired 2004-01-01   \n",
       "2600    11716.00        Hotjobs               NaN  acquired        NaT   \n",
       "2601    11716.00        Hotjobs               NaN  acquired        NaT   \n",
       "2892    11943.00  Opusforum.org               NaN  acquired        NaT   \n",
       "2893    11943.00  Opusforum.org               NaN  acquired        NaT   \n",
       "3185     1216.00          Evite               web  acquired 1998-01-01   \n",
       "3186     1216.00          Evite               web  acquired 1998-01-01   \n",
       "4025    12829.00      Menupages               web  acquired        NaT   \n",
       "4026    12829.00      Menupages               web  acquired        NaT   \n",
       "4272       13.00    StumbleUpon               web  acquired 2002-02-01   \n",
       "4273       13.00    StumbleUpon               web  acquired 2002-02-01   \n",
       "4274      130.00       KickApps        enterprise  acquired 2004-03-01   \n",
       "4275      130.00       KickApps        enterprise  acquired 2004-03-01   \n",
       "4302    13020.00            ICQ  public_relations  acquired 1997-01-01   \n",
       "4303    13020.00            ICQ  public_relations  acquired 1997-01-01   \n",
       "\n",
       "     closed_at           domain network_username country_code  \\\n",
       "1731       NaT   tnccompany.com              NaN          NaN   \n",
       "1732       NaT   tnccompany.com              NaN          NaN   \n",
       "2600       NaT              NaN              NaN          NaN   \n",
       "2601       NaT              NaN              NaN          NaN   \n",
       "2892       NaT              NaN              NaN          DEU   \n",
       "2893       NaT              NaN              NaN          DEU   \n",
       "3185       NaT        evite.com            evite          USA   \n",
       "3186       NaT        evite.com            evite          USA   \n",
       "4025       NaT    menupages.com              NaN          NaN   \n",
       "4026       NaT    menupages.com              NaN          NaN   \n",
       "4272       NaT  stumbleupon.com      stumbleupon          USA   \n",
       "4273       NaT  stumbleupon.com      stumbleupon          USA   \n",
       "4274       NaT     kickapps.com         KickApps          USA   \n",
       "4275       NaT     kickapps.com         KickApps          USA   \n",
       "4302       NaT          icq.com              ICQ          NaN   \n",
       "4303       NaT          icq.com              ICQ          NaN   \n",
       "\n",
       "      investment_rounds  funding_rounds  funding_total  milestones      id  \\\n",
       "1731               0.00            1.00           0.00        2.00  542.00   \n",
       "1732               0.00            1.00           0.00        2.00 2484.00   \n",
       "2600               0.00            0.00           0.00        3.00 2985.00   \n",
       "2601               0.00            0.00           0.00        3.00 9033.00   \n",
       "2892               0.00            0.00           0.00        0.00  633.00   \n",
       "2893               0.00            0.00           0.00        0.00 8562.00   \n",
       "3185               0.00            0.00           0.00        2.00  198.00   \n",
       "3186               0.00            0.00           0.00        2.00 6238.00   \n",
       "4025               0.00            0.00           0.00        2.00 1810.00   \n",
       "4026               0.00            0.00           0.00        2.00 6213.00   \n",
       "4272               0.00            4.00    18500000.00        5.00 4283.00   \n",
       "4273               0.00            4.00    18500000.00        5.00 5984.00   \n",
       "4274               0.00            3.00    39007800.00        5.00 5073.00   \n",
       "4275               0.00            3.00    39007800.00        5.00 9040.00   \n",
       "4302               0.00            0.00           0.00        3.00  723.00   \n",
       "4303               0.00            0.00           0.00        3.00 6999.00   \n",
       "\n",
       "      acquiring_company_id  acquired_company_id term_code  price_amount  \\\n",
       "1731                 59.00             10963.00       NaN          0.00   \n",
       "1732                 59.00             10963.00       NaN          0.00   \n",
       "2600               1735.00             11716.00      cash  225000000.00   \n",
       "2601                 29.00             11716.00      cash  436000000.00   \n",
       "2892                 20.00             11943.00       NaN          0.00   \n",
       "2893             204845.00             11943.00       NaN          0.00   \n",
       "3185                185.00              1216.00       NaN          0.00   \n",
       "3186               1504.00              1216.00     stock          0.00   \n",
       "4025               8252.00             12829.00       NaN          0.00   \n",
       "4026             117902.00             12829.00       NaN          0.00   \n",
       "4272                 20.00                13.00       NaN          0.00   \n",
       "4273                 13.00                13.00       NaN   29000000.00   \n",
       "4274                475.00               130.00       NaN          0.00   \n",
       "4275             234881.00               130.00       NaN          0.00   \n",
       "4302                351.00             13020.00      cash  407000000.00   \n",
       "4303               2534.00             13020.00      cash  187500000.00   \n",
       "\n",
       "     acquired_at  \n",
       "1731  2008-09-12  \n",
       "1732  2008-09-12  \n",
       "2600  2010-02-03  \n",
       "2601  2002-01-11  \n",
       "2892  2005-06-30  \n",
       "2893  2005-01-01  \n",
       "3185  2001-03-09  \n",
       "3186  2010-12-02  \n",
       "4025  2008-07-16  \n",
       "4026  2011-09-26  \n",
       "4272  2007-05-30  \n",
       "4273  2009-04-01  \n",
       "4274  2011-01-31  \n",
       "4275  2012-12-12  \n",
       "4302  1998-06-08  \n",
       "4303  2010-04-01  "
      ]
     },
     "execution_count": 28,
     "metadata": {},
     "output_type": "execute_result"
    }
   ],
   "source": [
    "# Проверка на дубликаты \n",
    "df[df.duplicated('company_id', keep=False) == True].head(16)"
   ]
  },
  {
   "cell_type": "markdown",
   "id": "8e56b1b7-5932-406e-9d40-1765ea09960e",
   "metadata": {},
   "source": [
    "Да дубликаты по столбцу `company_id` имеются, однако это указывает на то, что одна компания покупала (поглощала) несколько других, эти данные нужны для дальнейшего анализа, избавляться от дубликатов не будем "
   ]
  },
  {
   "cell_type": "markdown",
   "id": "3bd7f818-3726-4a78-aaab-ce5d8d24337e",
   "metadata": {},
   "source": [
    "### Анализ выбросов"
   ]
  },
  {
   "cell_type": "code",
   "execution_count": 29,
   "id": "2ece2fac-5598-4a31-b001-41736090b6fb",
   "metadata": {},
   "outputs": [
    {
     "data": {
      "image/png": "[encoded data removed]",
      "text/plain": [
       "<Figure size 640x480 with 1 Axes>"
      ]
     },
     "metadata": {},
     "output_type": "display_data"
    }
   ],
   "source": [
    "# Постороим диаграмму для оценки типичных размеров финансирования\n",
    "sns.boxplot(data=df, x='funding_total')\n",
    "plt.xlabel('Размер общего финансирования')\n",
    "plt.title('Распределение размера общего финансирования')\n",
    "plt.show()"
   ]
  },
  {
   "cell_type": "markdown",
   "id": "165563c9-dab5-41e8-9fc5-e0ce97b0cc04",
   "metadata": {},
   "source": [
    "Судя по данным типичным объемом финансирования будет 0 долларов, выбивающимися же значениями будут значения больше нескольких миллионов долларов"
   ]
  },
  {
   "cell_type": "code",
   "execution_count": 30,
   "id": "e14e363d-8b5e-4e36-a6e3-a0627b2845d4",
   "metadata": {},
   "outputs": [
    {
     "data": {
      "text/plain": [
       "count        40890.00\n",
       "mean      10135585.95\n",
       "std       56412886.91\n",
       "min              0.00\n",
       "25%              0.00\n",
       "50%         600000.00\n",
       "75%        5631320.00\n",
       "max     5700000000.00\n",
       "Name: funding_total, dtype: float64"
      ]
     },
     "execution_count": 30,
     "metadata": {},
     "output_type": "execute_result"
    }
   ],
   "source": [
    "df['funding_total'].describe()"
   ]
  },
  {
   "cell_type": "markdown",
   "id": "a6ea799b-80f6-4db1-b316-f4fb2476c167",
   "metadata": {},
   "source": [
    "Из описания данных столбца видим, что четверть данных это 0, значение медианы меньше миллиона, а максимальное значение больше 3 квартиля почти в 1000 раз. Среднее существено больше медианы, а среднее отклонение достаточно, что говорит нам об сильной положительной скошенности и большом количестве выбросов. Возможно большие значения выбросов это не аномалия, а особенность.\\\n",
    "Обычные методы нахождения типичных значений неподойдут из-за большого разброса значений. "
   ]
  },
  {
   "cell_type": "markdown",
   "id": "5673a62e-8ac6-4733-9aa8-0a37930a8ce4",
   "metadata": {},
   "source": [
    "### Куплены забесплатно?"
   ]
  },
  {
   "cell_type": "code",
   "execution_count": 31,
   "id": "8d90ca85-d83b-42d8-aeb9-e55bbc8c61a0",
   "metadata": {},
   "outputs": [
    {
     "data": {
      "text/html": [
       "<div>\n",
       "<style scoped>\n",
       "    .dataframe tbody tr th:only-of-type {\n",
       "        vertical-align: middle;\n",
       "    }\n",
       "\n",
       "    .dataframe tbody tr th {\n",
       "        vertical-align: top;\n",
       "    }\n",
       "\n",
       "    .dataframe thead th {\n",
       "        text-align: right;\n",
       "    }\n",
       "</style>\n",
       "<table border=\"1\" class=\"dataframe\">\n",
       "  <thead>\n",
       "    <tr style=\"text-align: right;\">\n",
       "      <th></th>\n",
       "      <th>company_id</th>\n",
       "      <th>name</th>\n",
       "      <th>category_code</th>\n",
       "      <th>status</th>\n",
       "      <th>founded_at</th>\n",
       "      <th>closed_at</th>\n",
       "      <th>domain</th>\n",
       "      <th>network_username</th>\n",
       "      <th>country_code</th>\n",
       "      <th>investment_rounds</th>\n",
       "      <th>funding_rounds</th>\n",
       "      <th>funding_total</th>\n",
       "      <th>milestones</th>\n",
       "      <th>id</th>\n",
       "      <th>acquiring_company_id</th>\n",
       "      <th>acquired_company_id</th>\n",
       "      <th>term_code</th>\n",
       "      <th>price_amount</th>\n",
       "      <th>acquired_at</th>\n",
       "    </tr>\n",
       "  </thead>\n",
       "  <tbody>\n",
       "    <tr>\n",
       "      <th>66</th>\n",
       "      <td>10054.00</td>\n",
       "      <td>Jumptap</td>\n",
       "      <td>mobile</td>\n",
       "      <td>acquired</td>\n",
       "      <td>2005-01-01</td>\n",
       "      <td>NaT</td>\n",
       "      <td>jumptap.com</td>\n",
       "      <td>jumptap</td>\n",
       "      <td>USA</td>\n",
       "      <td>0.00</td>\n",
       "      <td>7.00</td>\n",
       "      <td>121500000.00</td>\n",
       "      <td>3.00</td>\n",
       "      <td>9288.00</td>\n",
       "      <td>23283.00</td>\n",
       "      <td>10054.00</td>\n",
       "      <td>cash_and_stock</td>\n",
       "      <td>0.00</td>\n",
       "      <td>2013-08-13</td>\n",
       "    </tr>\n",
       "    <tr>\n",
       "      <th>170</th>\n",
       "      <td>101312.00</td>\n",
       "      <td>SideTour</td>\n",
       "      <td>web</td>\n",
       "      <td>acquired</td>\n",
       "      <td>2011-06-01</td>\n",
       "      <td>NaT</td>\n",
       "      <td>sidetour.com</td>\n",
       "      <td>sidetour</td>\n",
       "      <td>USA</td>\n",
       "      <td>0.00</td>\n",
       "      <td>3.00</td>\n",
       "      <td>4000000.00</td>\n",
       "      <td>2.00</td>\n",
       "      <td>9653.00</td>\n",
       "      <td>11391.00</td>\n",
       "      <td>101312.00</td>\n",
       "      <td>NaN</td>\n",
       "      <td>0.00</td>\n",
       "      <td>2013-09-18</td>\n",
       "    </tr>\n",
       "    <tr>\n",
       "      <th>177</th>\n",
       "      <td>101340.00</td>\n",
       "      <td>ChoicePass</td>\n",
       "      <td>enterprise</td>\n",
       "      <td>acquired</td>\n",
       "      <td>2011-07-01</td>\n",
       "      <td>NaT</td>\n",
       "      <td>choicepass.com</td>\n",
       "      <td>choicepass</td>\n",
       "      <td>USA</td>\n",
       "      <td>0.00</td>\n",
       "      <td>1.00</td>\n",
       "      <td>250000.00</td>\n",
       "      <td>1.00</td>\n",
       "      <td>7272.00</td>\n",
       "      <td>1972.00</td>\n",
       "      <td>101340.00</td>\n",
       "      <td>NaN</td>\n",
       "      <td>0.00</td>\n",
       "      <td>2012-06-18</td>\n",
       "    </tr>\n",
       "    <tr>\n",
       "      <th>181</th>\n",
       "      <td>10137.00</td>\n",
       "      <td>Producteev</td>\n",
       "      <td>software</td>\n",
       "      <td>acquired</td>\n",
       "      <td>2008-07-08</td>\n",
       "      <td>NaT</td>\n",
       "      <td>producteev.com</td>\n",
       "      <td>producteev</td>\n",
       "      <td>USA</td>\n",
       "      <td>0.00</td>\n",
       "      <td>3.00</td>\n",
       "      <td>1310000.00</td>\n",
       "      <td>2.00</td>\n",
       "      <td>8254.00</td>\n",
       "      <td>757.00</td>\n",
       "      <td>10137.00</td>\n",
       "      <td>cash_and_stock</td>\n",
       "      <td>0.00</td>\n",
       "      <td>2012-11-05</td>\n",
       "    </tr>\n",
       "    <tr>\n",
       "      <th>184</th>\n",
       "      <td>10139.00</td>\n",
       "      <td>TradeCard</td>\n",
       "      <td>enterprise</td>\n",
       "      <td>acquired</td>\n",
       "      <td>1999-01-01</td>\n",
       "      <td>NaT</td>\n",
       "      <td>tradecard.com</td>\n",
       "      <td>TradeCard</td>\n",
       "      <td>USA</td>\n",
       "      <td>0.00</td>\n",
       "      <td>2.00</td>\n",
       "      <td>44925000.00</td>\n",
       "      <td>1.00</td>\n",
       "      <td>9326.00</td>\n",
       "      <td>44008.00</td>\n",
       "      <td>10139.00</td>\n",
       "      <td>NaN</td>\n",
       "      <td>0.00</td>\n",
       "      <td>2013-04-01</td>\n",
       "    </tr>\n",
       "  </tbody>\n",
       "</table>\n",
       "</div>"
      ],
      "text/plain": [
       "     company_id        name category_code    status founded_at closed_at  \\\n",
       "66     10054.00     Jumptap        mobile  acquired 2005-01-01       NaT   \n",
       "170   101312.00    SideTour           web  acquired 2011-06-01       NaT   \n",
       "177   101340.00  ChoicePass    enterprise  acquired 2011-07-01       NaT   \n",
       "181    10137.00  Producteev      software  acquired 2008-07-08       NaT   \n",
       "184    10139.00   TradeCard    enterprise  acquired 1999-01-01       NaT   \n",
       "\n",
       "             domain network_username country_code  investment_rounds  \\\n",
       "66      jumptap.com          jumptap          USA               0.00   \n",
       "170    sidetour.com         sidetour          USA               0.00   \n",
       "177  choicepass.com       choicepass          USA               0.00   \n",
       "181  producteev.com       producteev          USA               0.00   \n",
       "184   tradecard.com        TradeCard          USA               0.00   \n",
       "\n",
       "     funding_rounds  funding_total  milestones      id  acquiring_company_id  \\\n",
       "66             7.00   121500000.00        3.00 9288.00              23283.00   \n",
       "170            3.00     4000000.00        2.00 9653.00              11391.00   \n",
       "177            1.00      250000.00        1.00 7272.00               1972.00   \n",
       "181            3.00     1310000.00        2.00 8254.00                757.00   \n",
       "184            2.00    44925000.00        1.00 9326.00              44008.00   \n",
       "\n",
       "     acquired_company_id       term_code  price_amount acquired_at  \n",
       "66              10054.00  cash_and_stock          0.00  2013-08-13  \n",
       "170            101312.00             NaN          0.00  2013-09-18  \n",
       "177            101340.00             NaN          0.00  2012-06-18  \n",
       "181             10137.00  cash_and_stock          0.00  2012-11-05  \n",
       "184             10139.00             NaN          0.00  2013-04-01  "
      ]
     },
     "execution_count": 31,
     "metadata": {},
     "output_type": "execute_result"
    }
   ],
   "source": [
    "# Отфильтруем компании, в которых был ненулевой объём финансирования, но при этом купленых за 0 или 1 доллар\n",
    "df_filtered = df[(df['price_amount'] < 2) & (df['funding_total'] != 0)]\n",
    "df_filtered.head()"
   ]
  },
  {
   "cell_type": "code",
   "execution_count": 32,
   "id": "616bfcef-9fd8-4c9e-8894-04b475e3ace2",
   "metadata": {},
   "outputs": [
    {
     "name": "stdout",
     "output_type": "stream",
     "text": [
      "0 14078300.0\n"
     ]
    }
   ],
   "source": [
    "# Найдем верхнюю и нижнюю границу выбросов для столбца funding_total\n",
    "q1, q3 = df['funding_total'].quantile(.25), df['funding_total'].quantile(.75)\n",
    "iqr = q3 - q1\n",
    "low_whisker = max(q1 - 1.5 * iqr, 0)\n",
    "up_whisker = q3 + 1.5 * iqr\n",
    "print(low_whisker, up_whisker) "
   ]
  },
  {
   "cell_type": "code",
   "execution_count": 33,
   "id": "d3fc6bfa-fb3a-4165-93a4-c446b3601850",
   "metadata": {},
   "outputs": [
    {
     "name": "stdout",
     "output_type": "stream",
     "text": [
      "Нижняя граница соотвествует 0.0 процентилю, верхняя граница - 86.0\n"
     ]
    }
   ],
   "source": [
    "# Определение процентилям \n",
    "low_percentile = df['funding_total'][df['funding_total'] < low_whisker].count() / df.shape[0]\n",
    "up_percentile = round(df['funding_total'][df['funding_total'] < up_whisker].count() / df.shape[0], 2)\n",
    "print('Нижняя граница соотвествует ' + str(low_percentile) + ' процентилю, верхняя граница - ' + str(up_percentile * 100))"
   ]
  },
  {
   "cell_type": "markdown",
   "id": "024c58d6-a5f1-4aa1-a9e1-a15743c891d9",
   "metadata": {},
   "source": [
    "### Цены стартапов по категориям"
   ]
  },
  {
   "cell_type": "code",
   "execution_count": 34,
   "id": "4d3a4f50-1d1a-41ca-8794-1bfd10f58899",
   "metadata": {},
   "outputs": [
    {
     "data": {
      "text/html": [
       "<div>\n",
       "<style scoped>\n",
       "    .dataframe tbody tr th:only-of-type {\n",
       "        vertical-align: middle;\n",
       "    }\n",
       "\n",
       "    .dataframe tbody tr th {\n",
       "        vertical-align: top;\n",
       "    }\n",
       "\n",
       "    .dataframe thead th {\n",
       "        text-align: right;\n",
       "    }\n",
       "</style>\n",
       "<table border=\"1\" class=\"dataframe\">\n",
       "  <thead>\n",
       "    <tr style=\"text-align: right;\">\n",
       "      <th></th>\n",
       "      <th>median</th>\n",
       "      <th>dif</th>\n",
       "    </tr>\n",
       "    <tr>\n",
       "      <th>category_code</th>\n",
       "      <th></th>\n",
       "      <th></th>\n",
       "    </tr>\n",
       "  </thead>\n",
       "  <tbody>\n",
       "    <tr>\n",
       "      <th>advertising</th>\n",
       "      <td>60000000.00</td>\n",
       "      <td>719690000.00</td>\n",
       "    </tr>\n",
       "    <tr>\n",
       "      <th>analytics</th>\n",
       "      <td>200000000.00</td>\n",
       "      <td>170400000.00</td>\n",
       "    </tr>\n",
       "    <tr>\n",
       "      <th>automotive</th>\n",
       "      <td>2400000000.00</td>\n",
       "      <td>4597000000.00</td>\n",
       "    </tr>\n",
       "    <tr>\n",
       "      <th>biotech</th>\n",
       "      <td>200000000.00</td>\n",
       "      <td>1189891000.00</td>\n",
       "    </tr>\n",
       "    <tr>\n",
       "      <th>cleantech</th>\n",
       "      <td>185000000.00</td>\n",
       "      <td>1185550000.00</td>\n",
       "    </tr>\n",
       "    <tr>\n",
       "      <th>consulting</th>\n",
       "      <td>32150000.00</td>\n",
       "      <td>506100000.00</td>\n",
       "    </tr>\n",
       "    <tr>\n",
       "      <th>ecommerce</th>\n",
       "      <td>157500000.00</td>\n",
       "      <td>547999989.00</td>\n",
       "    </tr>\n",
       "    <tr>\n",
       "      <th>education</th>\n",
       "      <td>16250000.00</td>\n",
       "      <td>381800000.00</td>\n",
       "    </tr>\n",
       "    <tr>\n",
       "      <th>enterprise</th>\n",
       "      <td>54750000.00</td>\n",
       "      <td>1549980000.00</td>\n",
       "    </tr>\n",
       "    <tr>\n",
       "      <th>fashion</th>\n",
       "      <td>195000000.00</td>\n",
       "      <td>157500000.00</td>\n",
       "    </tr>\n",
       "    <tr>\n",
       "      <th>finance</th>\n",
       "      <td>171500000.00</td>\n",
       "      <td>1548800000.00</td>\n",
       "    </tr>\n",
       "    <tr>\n",
       "      <th>games_video</th>\n",
       "      <td>58250000.00</td>\n",
       "      <td>505399940.00</td>\n",
       "    </tr>\n",
       "    <tr>\n",
       "      <th>hardware</th>\n",
       "      <td>76000000.00</td>\n",
       "      <td>632999951.00</td>\n",
       "    </tr>\n",
       "    <tr>\n",
       "      <th>health</th>\n",
       "      <td>140000000.00</td>\n",
       "      <td>4047500000.00</td>\n",
       "    </tr>\n",
       "    <tr>\n",
       "      <th>hospitality</th>\n",
       "      <td>57500000.00</td>\n",
       "      <td>1218000000.00</td>\n",
       "    </tr>\n",
       "    <tr>\n",
       "      <th>manufacturing</th>\n",
       "      <td>351000000.00</td>\n",
       "      <td>1799999627.00</td>\n",
       "    </tr>\n",
       "    <tr>\n",
       "      <th>medical</th>\n",
       "      <td>165000000.00</td>\n",
       "      <td>296000000.00</td>\n",
       "    </tr>\n",
       "    <tr>\n",
       "      <th>messaging</th>\n",
       "      <td>100000000.00</td>\n",
       "      <td>140200000.00</td>\n",
       "    </tr>\n",
       "    <tr>\n",
       "      <th>mobile</th>\n",
       "      <td>56000000.00</td>\n",
       "      <td>604795000.00</td>\n",
       "    </tr>\n",
       "    <tr>\n",
       "      <th>music</th>\n",
       "      <td>4860000.00</td>\n",
       "      <td>223972000.00</td>\n",
       "    </tr>\n",
       "    <tr>\n",
       "      <th>network_hosting</th>\n",
       "      <td>102500000.00</td>\n",
       "      <td>1241990000.00</td>\n",
       "    </tr>\n",
       "    <tr>\n",
       "      <th>news</th>\n",
       "      <td>40000000.00</td>\n",
       "      <td>196900000.00</td>\n",
       "    </tr>\n",
       "    <tr>\n",
       "      <th>other</th>\n",
       "      <td>71550000.00</td>\n",
       "      <td>1090999999.00</td>\n",
       "    </tr>\n",
       "    <tr>\n",
       "      <th>photo_video</th>\n",
       "      <td>50000000.00</td>\n",
       "      <td>593782000.00</td>\n",
       "    </tr>\n",
       "    <tr>\n",
       "      <th>public_relations</th>\n",
       "      <td>110000000.00</td>\n",
       "      <td>1181975000.00</td>\n",
       "    </tr>\n",
       "    <tr>\n",
       "      <th>real_estate</th>\n",
       "      <td>400000000.00</td>\n",
       "      <td>3972000000.00</td>\n",
       "    </tr>\n",
       "    <tr>\n",
       "      <th>search</th>\n",
       "      <td>90000000.00</td>\n",
       "      <td>597950000.00</td>\n",
       "    </tr>\n",
       "    <tr>\n",
       "      <th>security</th>\n",
       "      <td>164500000.00</td>\n",
       "      <td>1038150000.00</td>\n",
       "    </tr>\n",
       "    <tr>\n",
       "      <th>semiconductor</th>\n",
       "      <td>100000000.00</td>\n",
       "      <td>603500000.00</td>\n",
       "    </tr>\n",
       "    <tr>\n",
       "      <th>social</th>\n",
       "      <td>45750000.00</td>\n",
       "      <td>115200000.00</td>\n",
       "    </tr>\n",
       "    <tr>\n",
       "      <th>software</th>\n",
       "      <td>48140000.00</td>\n",
       "      <td>715998142.00</td>\n",
       "    </tr>\n",
       "    <tr>\n",
       "      <th>sports</th>\n",
       "      <td>622500000.00</td>\n",
       "      <td>652500000.00</td>\n",
       "    </tr>\n",
       "    <tr>\n",
       "      <th>transportation</th>\n",
       "      <td>230000000.00</td>\n",
       "      <td>906000000.00</td>\n",
       "    </tr>\n",
       "    <tr>\n",
       "      <th>travel</th>\n",
       "      <td>62500000.00</td>\n",
       "      <td>172600000.00</td>\n",
       "    </tr>\n",
       "    <tr>\n",
       "      <th>web</th>\n",
       "      <td>55500000.00</td>\n",
       "      <td>571195000.00</td>\n",
       "    </tr>\n",
       "  </tbody>\n",
       "</table>\n",
       "</div>"
      ],
      "text/plain": [
       "                        median           dif\n",
       "category_code                               \n",
       "advertising        60000000.00  719690000.00\n",
       "analytics         200000000.00  170400000.00\n",
       "automotive       2400000000.00 4597000000.00\n",
       "biotech           200000000.00 1189891000.00\n",
       "cleantech         185000000.00 1185550000.00\n",
       "consulting         32150000.00  506100000.00\n",
       "ecommerce         157500000.00  547999989.00\n",
       "education          16250000.00  381800000.00\n",
       "enterprise         54750000.00 1549980000.00\n",
       "fashion           195000000.00  157500000.00\n",
       "finance           171500000.00 1548800000.00\n",
       "games_video        58250000.00  505399940.00\n",
       "hardware           76000000.00  632999951.00\n",
       "health            140000000.00 4047500000.00\n",
       "hospitality        57500000.00 1218000000.00\n",
       "manufacturing     351000000.00 1799999627.00\n",
       "medical           165000000.00  296000000.00\n",
       "messaging         100000000.00  140200000.00\n",
       "mobile             56000000.00  604795000.00\n",
       "music               4860000.00  223972000.00\n",
       "network_hosting   102500000.00 1241990000.00\n",
       "news               40000000.00  196900000.00\n",
       "other              71550000.00 1090999999.00\n",
       "photo_video        50000000.00  593782000.00\n",
       "public_relations  110000000.00 1181975000.00\n",
       "real_estate       400000000.00 3972000000.00\n",
       "search             90000000.00  597950000.00\n",
       "security          164500000.00 1038150000.00\n",
       "semiconductor     100000000.00  603500000.00\n",
       "social             45750000.00  115200000.00\n",
       "software           48140000.00  715998142.00\n",
       "sports            622500000.00  652500000.00\n",
       "transportation    230000000.00  906000000.00\n",
       "travel             62500000.00  172600000.00\n",
       "web                55500000.00  571195000.00"
      ]
     },
     "execution_count": 34,
     "metadata": {},
     "output_type": "execute_result"
    }
   ],
   "source": [
    "# Расчитаем среднюю цену и разброс цен для каждой категории\n",
    "def dif(x):\n",
    "    return x.quantile(.90) - x.min()\n",
    "df_grouped = df[df['price_amount'] > 0].groupby('category_code')['price_amount'].agg(['count', 'median', dif])\n",
    "df_grouped  = df_grouped[df_grouped['count'] > 1][['median', 'dif']]\n",
    "df_grouped"
   ]
  },
  {
   "cell_type": "code",
   "execution_count": 35,
   "id": "2290d993-d198-42d3-bdab-1f4ee01925b3",
   "metadata": {},
   "outputs": [
    {
     "data": {
      "text/html": [
       "<div>\n",
       "<style scoped>\n",
       "    .dataframe tbody tr th:only-of-type {\n",
       "        vertical-align: middle;\n",
       "    }\n",
       "\n",
       "    .dataframe tbody tr th {\n",
       "        vertical-align: top;\n",
       "    }\n",
       "\n",
       "    .dataframe thead th {\n",
       "        text-align: right;\n",
       "    }\n",
       "</style>\n",
       "<table border=\"1\" class=\"dataframe\">\n",
       "  <thead>\n",
       "    <tr style=\"text-align: right;\">\n",
       "      <th></th>\n",
       "      <th>median</th>\n",
       "      <th>dif</th>\n",
       "    </tr>\n",
       "    <tr>\n",
       "      <th>category_code</th>\n",
       "      <th></th>\n",
       "      <th></th>\n",
       "    </tr>\n",
       "  </thead>\n",
       "  <tbody>\n",
       "    <tr>\n",
       "      <th>automotive</th>\n",
       "      <td>2400000000.00</td>\n",
       "      <td>4597000000.00</td>\n",
       "    </tr>\n",
       "    <tr>\n",
       "      <th>real_estate</th>\n",
       "      <td>400000000.00</td>\n",
       "      <td>3972000000.00</td>\n",
       "    </tr>\n",
       "    <tr>\n",
       "      <th>manufacturing</th>\n",
       "      <td>351000000.00</td>\n",
       "      <td>1799999627.00</td>\n",
       "    </tr>\n",
       "    <tr>\n",
       "      <th>biotech</th>\n",
       "      <td>200000000.00</td>\n",
       "      <td>1189891000.00</td>\n",
       "    </tr>\n",
       "  </tbody>\n",
       "</table>\n",
       "</div>"
      ],
      "text/plain": [
       "                     median           dif\n",
       "category_code                            \n",
       "automotive    2400000000.00 4597000000.00\n",
       "real_estate    400000000.00 3972000000.00\n",
       "manufacturing  351000000.00 1799999627.00\n",
       "biotech        200000000.00 1189891000.00"
      ]
     },
     "execution_count": 35,
     "metadata": {},
     "output_type": "execute_result"
    }
   ],
   "source": [
    "# Рассчитаем среднее для каждого столбца\n",
    "avg_price = df_grouped['median'].mean()\n",
    "avg_dif = df_grouped['dif'].mean()\n",
    "# Выберем категории, в которых типичная цена выше средней цены \n",
    "#и имеет наибольший разрос (т.е. выше среднего)\n",
    "df_grouped[(df_grouped['median'] > avg_price ) & (df_grouped['dif'] > avg_dif)].sort_values(['median', 'dif'], ascending=False)"
   ]
  },
  {
   "cell_type": "markdown",
   "id": "61b83ae5-5b6a-402b-b5d8-c7790dc4dfd1",
   "metadata": {},
   "source": [
    "Топ был составлен исходя из того, что для крупных инвесторов интересны стартапы с большим разбросом цен и высокой ценой, поэтому были отбраны категории с типичной ценой выше средней и разбросом по категории выше среднего"
   ]
  },
  {
   "cell_type": "markdown",
   "id": "4c05a0f5-1b60-45d6-b653-cde2eb3a42ec",
   "metadata": {},
   "source": [
    "### Сколько раундов продержится стартап перед покупкой"
   ]
  },
  {
   "cell_type": "code",
   "execution_count": 36,
   "id": "0fc74ff2-449c-4f70-a03a-937f70f731a8",
   "metadata": {},
   "outputs": [
    {
     "data": {
      "text/html": [
       "<div>\n",
       "<style scoped>\n",
       "    .dataframe tbody tr th:only-of-type {\n",
       "        vertical-align: middle;\n",
       "    }\n",
       "\n",
       "    .dataframe tbody tr th {\n",
       "        vertical-align: top;\n",
       "    }\n",
       "\n",
       "    .dataframe thead th {\n",
       "        text-align: right;\n",
       "    }\n",
       "</style>\n",
       "<table border=\"1\" class=\"dataframe\">\n",
       "  <thead>\n",
       "    <tr style=\"text-align: right;\">\n",
       "      <th></th>\n",
       "      <th>status</th>\n",
       "      <th>funding_rounds</th>\n",
       "    </tr>\n",
       "  </thead>\n",
       "  <tbody>\n",
       "    <tr>\n",
       "      <th>0</th>\n",
       "      <td>acquired</td>\n",
       "      <td>0.53</td>\n",
       "    </tr>\n",
       "    <tr>\n",
       "      <th>1</th>\n",
       "      <td>closed</td>\n",
       "      <td>1.38</td>\n",
       "    </tr>\n",
       "    <tr>\n",
       "      <th>2</th>\n",
       "      <td>ipo</td>\n",
       "      <td>1.93</td>\n",
       "    </tr>\n",
       "    <tr>\n",
       "      <th>3</th>\n",
       "      <td>operating</td>\n",
       "      <td>1.52</td>\n",
       "    </tr>\n",
       "  </tbody>\n",
       "</table>\n",
       "</div>"
      ],
      "text/plain": [
       "      status  funding_rounds\n",
       "0   acquired            0.53\n",
       "1     closed            1.38\n",
       "2        ipo            1.93\n",
       "3  operating            1.52"
      ]
     },
     "execution_count": 36,
     "metadata": {},
     "output_type": "execute_result"
    }
   ],
   "source": [
    "# Рассчитаем типичное количество раундов для каждого возможного статуса стартапа\n",
    "df_grouped = df.groupby('status')['funding_rounds'].mean().reset_index()\n",
    "df_grouped"
   ]
  },
  {
   "cell_type": "code",
   "execution_count": 37,
   "id": "4742109f-56d5-4f43-a4d3-9f43dfb9bf29",
   "metadata": {},
   "outputs": [
    {
     "data": {
      "image/png": "[encoded data removed]",
      "text/plain": [
       "<Figure size 700x500 with 1 Axes>"
      ]
     },
     "metadata": {},
     "output_type": "display_data"
    }
   ],
   "source": [
    "plt.figure(figsize=(7,5))\n",
    "plt.bar(df_grouped['status'], df_grouped['funding_rounds'])\n",
    "plt.xlabel('Статус стартапа')\n",
    "plt.ylabel('Среднее количество раундов финансирования')\n",
    "plt.title('Среднее количество раундов финансирования для каждой группы стартапов')\n",
    "plt.grid(axis='y')\n",
    "plt.show()"
   ]
  },
  {
   "cell_type": "markdown",
   "id": "6c456e8a-9d93-48ce-bb98-b0c724546cff",
   "metadata": {},
   "source": [
    "По полученным результатам можно заметить, что в среднем чтобы стартапу стать активно действующим (operating) он должен пройти около 2 раундов финансирования, для становления публичным - 1.5 раундов, компании, которые прошли меньше одного раунда поглощаются"
   ]
  },
  {
   "cell_type": "markdown",
   "id": "b7b0aaac-bf44-422d-a973-ee1e345c4d6a",
   "metadata": {},
   "source": [
    "### Промежуточный вывод\n",
    "В ходе исследовательского анализа были выполнены следующие действия:\n",
    "* Объеденены датафреймы `company_df` (данные компаний) и `acq_df`(данные о продаже компаний)\n",
    "* Были проанализированы выбросы в столбце `funding_total`, был сделан вывод, что выбросы возможно не являются аномальными\n",
    "* Были расчитаны верхняя и нижняя границы выбросов для столбца `funding_total`, определено что они соотвествуют 0 и 86 процентилям\n",
    "* Был создан список категорий стартапов, которые могут заинтересовать крупных инвесторов\n",
    "* Было определено среднее количество раундов финансирования проходило до продажи, закрытия, выхода на биржу и активного функционирования, было обнаружено что необходимо пройти около 2 раундов, чтобы стать активно действующим стартапам, компании, которые проходили меньше 1 раунда как правило были проданы  "
   ]
  },
  {
   "cell_type": "markdown",
   "id": "fa99a6ff-e4e4-4da9-8ed6-66394613ee66",
   "metadata": {},
   "source": [
    "## Итоговый вывод и рекомендации\n",
    "### Что было сделано\n",
    "1. Проведено знакомство с данными\n",
    "2. В таблице `company_and_rounds.csv` названия столбцов были приведены к snake_case\n",
    "3. Столбцы содержащие временные сведения были приведены к типу datetime, оставльные столбцы с неверным типом данных пока не были приведены к верному из-за пропусков, чья обработка требует более глубокого погружения \n",
    "4. Была оценена полнота данных: да большое количество данных, нужное заказчику утерено, но оставшегося объема достаточно, чтобы сделать выводы\n",
    "6. Была сотавлена сводная таблица, содержащая типичные размеры средств, выделяемых в рамках 1 раунда, и общее количество раундов финансирования по годам\n",
    "7. На основе этой таблицы был построен график, отражающий динамику типичного размера средств, на его основе сделан вывод, что максимальный объем средств был достигнут в 2005 году, далее наблюдалось падение, замедление которого было отмечено в 2013 году\n",
    "8. Была оценена полната сведений об образовании сотрудников стартапов, замечено, что закономерность нелинейная доля сведений об образовании в средних компаниях выше, чем в маленьких и крупных, возможно из-за более строго учета и того, что в маленьких стартапах пока работает только 1 человек\n",
    "9. Было установлено что объединять таблицы `people.csv` и `company_and_rounds.csv` по столбцу `network_username`, нельзя да информация дублируется, но скорее всего это из-за того что стартап был назван именем создателя\n",
    "10. Было обнаружено, что таблица `company_and_rounds.csv` была создана из двух, сейчас эта таблица разделена на 2 датафрейма company_df и rounds_df\n",
    "11. Данные из датафреймов `company_df` (данные компаний) и `acq_df` соединены и отфильтрованы по требованиям, указанным в брифе\n",
    "12. Был произведен анализ выбросов в столбце `funding_total`: установлено  что 1/4 столбца содержит нули, в столбце имеются выбросы, значение наибольшего равно 5,7 млрд, однако возможно это особенность данных\n",
    "13. Были расчитаны верхняя и нижняя границы выбросов для столбца `funding_total`, определено что они соотвествуют 0 и 86 процентилям\n",
    "14. Был составлен список категорий, в которых могли бы быть заинтересованы инвесторы\n",
    "15. Было подсчитано среднее количество раундов финансирования для каждого статуса стартапа, на основе этих расчётов была построена диаграмма\n",
    "### Рекомендации\n",
    "1. В дальнейшем стоит обрать внимание на столбец `funding_total` и узнать точную природу выбросов\n",
    "2. Инвестроам стоит обрать внимание на такие категории стартапов как автомобильные, недвижимость, производство и биотехнологии, инвестирования в этих категориях может быть рискованым, но должно принести высокую прибыль в будущем\n",
    "3. Также бля компаний. которые заинтересованы в покупке стартапа стоит обратить внимание на стартапы, которые прошли меньше обного раунда финансирования"
   ]
  }
 ],
 "metadata": {
  "ExecuteTimeLog": [
   {
    "duration": 1215,
    "start_time": "2025-03-27T19:19:44.374Z"
   },
   {
    "duration": 0,
    "start_time": "2025-03-27T19:19:45.591Z"
   },
   {
    "duration": 0,
    "start_time": "2025-03-27T19:19:45.592Z"
   },
   {
    "duration": 0,
    "start_time": "2025-03-27T19:19:45.593Z"
   },
   {
    "duration": 0,
    "start_time": "2025-03-27T19:19:45.594Z"
   },
   {
    "duration": 0,
    "start_time": "2025-03-27T19:19:45.595Z"
   },
   {
    "duration": 0,
    "start_time": "2025-03-27T19:19:45.596Z"
   },
   {
    "duration": 0,
    "start_time": "2025-03-27T19:19:45.597Z"
   },
   {
    "duration": 0,
    "start_time": "2025-03-27T19:19:45.598Z"
   },
   {
    "duration": 0,
    "start_time": "2025-03-27T19:19:45.599Z"
   },
   {
    "duration": 0,
    "start_time": "2025-03-27T19:19:45.600Z"
   },
   {
    "duration": 0,
    "start_time": "2025-03-27T19:19:45.601Z"
   },
   {
    "duration": 0,
    "start_time": "2025-03-27T19:19:45.602Z"
   },
   {
    "duration": 0,
    "start_time": "2025-03-27T19:19:45.603Z"
   },
   {
    "duration": 0,
    "start_time": "2025-03-27T19:19:45.603Z"
   },
   {
    "duration": 0,
    "start_time": "2025-03-27T19:19:45.604Z"
   },
   {
    "duration": 0,
    "start_time": "2025-03-27T19:19:45.605Z"
   },
   {
    "duration": 0,
    "start_time": "2025-03-27T19:19:45.606Z"
   },
   {
    "duration": 0,
    "start_time": "2025-03-27T19:19:45.607Z"
   },
   {
    "duration": 0,
    "start_time": "2025-03-27T19:19:45.608Z"
   },
   {
    "duration": 0,
    "start_time": "2025-03-27T19:19:45.609Z"
   },
   {
    "duration": 0,
    "start_time": "2025-03-27T19:19:45.610Z"
   },
   {
    "duration": 1193,
    "start_time": "2025-03-27T19:19:54.842Z"
   },
   {
    "duration": 2989,
    "start_time": "2025-03-27T19:19:56.037Z"
   },
   {
    "duration": 6,
    "start_time": "2025-03-27T19:19:59.028Z"
   },
   {
    "duration": 10,
    "start_time": "2025-03-27T19:19:59.035Z"
   },
   {
    "duration": 106,
    "start_time": "2025-03-27T19:19:59.047Z"
   },
   {
    "duration": 30,
    "start_time": "2025-03-27T19:19:59.154Z"
   },
   {
    "duration": 11,
    "start_time": "2025-03-27T19:19:59.186Z"
   },
   {
    "duration": 65,
    "start_time": "2025-03-27T19:19:59.198Z"
   },
   {
    "duration": 20,
    "start_time": "2025-03-27T19:19:59.265Z"
   },
   {
    "duration": 25,
    "start_time": "2025-03-27T19:19:59.287Z"
   },
   {
    "duration": 91,
    "start_time": "2025-03-27T19:19:59.313Z"
   },
   {
    "duration": 168,
    "start_time": "2025-03-27T19:19:59.405Z"
   },
   {
    "duration": 73,
    "start_time": "2025-03-27T19:19:59.574Z"
   },
   {
    "duration": 25,
    "start_time": "2025-03-27T19:19:59.662Z"
   },
   {
    "duration": 218,
    "start_time": "2025-03-27T19:19:59.689Z"
   },
   {
    "duration": 118,
    "start_time": "2025-03-27T19:19:59.909Z"
   },
   {
    "duration": 67,
    "start_time": "2025-03-27T19:20:00.028Z"
   },
   {
    "duration": 113,
    "start_time": "2025-03-27T19:20:00.097Z"
   },
   {
    "duration": 10,
    "start_time": "2025-03-27T19:20:00.212Z"
   },
   {
    "duration": 67,
    "start_time": "2025-03-27T19:20:00.224Z"
   },
   {
    "duration": 86,
    "start_time": "2025-03-27T19:20:00.292Z"
   },
   {
    "duration": 90,
    "start_time": "2025-03-27T19:20:00.379Z"
   },
   {
    "duration": 19,
    "start_time": "2025-03-27T19:20:17.972Z"
   },
   {
    "duration": 13,
    "start_time": "2025-03-27T19:20:39.811Z"
   },
   {
    "duration": 14,
    "start_time": "2025-03-27T19:22:07.091Z"
   },
   {
    "duration": 4,
    "start_time": "2025-03-27T19:22:28.548Z"
   },
   {
    "duration": 101,
    "start_time": "2025-03-27T19:22:41.330Z"
   },
   {
    "duration": 8,
    "start_time": "2025-03-27T19:22:45.331Z"
   },
   {
    "duration": 6,
    "start_time": "2025-03-27T19:22:58.388Z"
   },
   {
    "duration": 14,
    "start_time": "2025-03-27T19:24:17.580Z"
   }
  ],
  "kernelspec": {
   "display_name": "Python 3 (ipykernel)",
   "language": "python",
   "name": "python3"
  },
  "language_info": {
   "codemirror_mode": {
    "name": "ipython",
    "version": 3
   },
   "file_extension": ".py",
   "mimetype": "text/x-python",
   "name": "python",
   "nbconvert_exporter": "python",
   "pygments_lexer": "ipython3",
   "version": "3.12.7"
  },
  "toc": {
   "base_numbering": 1,
   "nav_menu": {},
   "number_sections": true,
   "sideBar": true,
   "skip_h1_title": true,
   "title_cell": "Table of Contents",
   "title_sidebar": "Contents",
   "toc_cell": false,
   "toc_position": {},
   "toc_section_display": true,
   "toc_window_display": false
  }
 },
 "nbformat": 4,
 "nbformat_minor": 5
}
