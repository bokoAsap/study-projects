{
 "cells": [
  {
   "cell_type": "markdown",
   "metadata": {
    "id": "u98L9TgH0eMk"
   },
   "source": [
    "# Разработка A/B-тестирования и анализ результатов"
   ]
  },
  {
   "cell_type": "markdown",
   "metadata": {
    "id": "LJBRALHs0eMf"
   },
   "source": [
    "### Задачи: \n",
    " - рассчитать параметры теста, оценить корректность его проведения и проанализировать результаты эксперимента."
   ]
  },
  {
   "cell_type": "markdown",
   "metadata": {
    "id": "UpOucjID0eMl"
   },
   "source": [
    "## 1. Работа с историческими данными (EDA)"
   ]
  },
  {
   "cell_type": "markdown",
   "metadata": {
    "id": "8iJMtL-30eMl"
   },
   "source": [
    "### 1.1. Загрузка исторических данных"
   ]
  },
  {
   "cell_type": "code",
   "execution_count": 1,
   "metadata": {
    "id": "6TPR2-1RPboT"
   },
   "outputs": [],
   "source": [
    "import pandas as pd\n",
    "import numpy as np\n",
    "import matplotlib.pyplot as plt\n",
    "from statsmodels.stats.power import NormalIndPower\n",
    "from math import ceil\n",
    "from scipy.stats import ttest_ind\n",
    "from statsmodels.stats.proportion import proportions_ztest"
   ]
  },
  {
   "cell_type": "markdown",
   "metadata": {
    "id": "qTDoiODz0eMo"
   },
   "source": [
    "### 1.2. Знакомство с данными"
   ]
  },
  {
   "cell_type": "code",
   "execution_count": 3,
   "metadata": {
    "id": "PWZO9vTIPbPN"
   },
   "outputs": [
    {
     "data": {
      "text/html": [
       "<div>\n",
       "<style scoped>\n",
       "    .dataframe tbody tr th:only-of-type {\n",
       "        vertical-align: middle;\n",
       "    }\n",
       "\n",
       "    .dataframe tbody tr th {\n",
       "        vertical-align: top;\n",
       "    }\n",
       "\n",
       "    .dataframe thead th {\n",
       "        text-align: right;\n",
       "    }\n",
       "</style>\n",
       "<table border=\"1\" class=\"dataframe\">\n",
       "  <thead>\n",
       "    <tr style=\"text-align: right;\">\n",
       "      <th></th>\n",
       "      <th>user_id</th>\n",
       "      <th>session_id</th>\n",
       "      <th>session_date</th>\n",
       "      <th>session_start_ts</th>\n",
       "      <th>install_date</th>\n",
       "      <th>session_number</th>\n",
       "      <th>registration_flag</th>\n",
       "      <th>page_counter</th>\n",
       "      <th>region</th>\n",
       "      <th>device</th>\n",
       "    </tr>\n",
       "  </thead>\n",
       "  <tbody>\n",
       "    <tr>\n",
       "      <th>115558</th>\n",
       "      <td>10E0DEFC1ABDBBE0</td>\n",
       "      <td>B8F0423BBFFCF5DC</td>\n",
       "      <td>2025-08-14</td>\n",
       "      <td>2025-08-14 13:57:39</td>\n",
       "      <td>2025-08-14</td>\n",
       "      <td>1</td>\n",
       "      <td>0</td>\n",
       "      <td>4</td>\n",
       "      <td>CIS</td>\n",
       "      <td>Android</td>\n",
       "    </tr>\n",
       "    <tr>\n",
       "      <th>191751</th>\n",
       "      <td>10E0DEFC1ABDBBE0</td>\n",
       "      <td>87CA2FA549473837</td>\n",
       "      <td>2025-08-15</td>\n",
       "      <td>2025-08-15 16:42:10</td>\n",
       "      <td>2025-08-14</td>\n",
       "      <td>2</td>\n",
       "      <td>0</td>\n",
       "      <td>3</td>\n",
       "      <td>CIS</td>\n",
       "      <td>Android</td>\n",
       "    </tr>\n",
       "    <tr>\n",
       "      <th>239370</th>\n",
       "      <td>10E0DEFC1ABDBBE0</td>\n",
       "      <td>4ADD8011DCDCE318</td>\n",
       "      <td>2025-08-16</td>\n",
       "      <td>2025-08-16 19:53:21</td>\n",
       "      <td>2025-08-14</td>\n",
       "      <td>3</td>\n",
       "      <td>0</td>\n",
       "      <td>3</td>\n",
       "      <td>CIS</td>\n",
       "      <td>Android</td>\n",
       "    </tr>\n",
       "    <tr>\n",
       "      <th>274629</th>\n",
       "      <td>10E0DEFC1ABDBBE0</td>\n",
       "      <td>DF0FD0E09BF1F3D7</td>\n",
       "      <td>2025-08-17</td>\n",
       "      <td>2025-08-17 15:03:43</td>\n",
       "      <td>2025-08-14</td>\n",
       "      <td>4</td>\n",
       "      <td>0</td>\n",
       "      <td>1</td>\n",
       "      <td>CIS</td>\n",
       "      <td>Android</td>\n",
       "    </tr>\n",
       "    <tr>\n",
       "      <th>302501</th>\n",
       "      <td>10E0DEFC1ABDBBE0</td>\n",
       "      <td>3C221774B4DE6885</td>\n",
       "      <td>2025-08-18</td>\n",
       "      <td>2025-08-18 17:29:14</td>\n",
       "      <td>2025-08-14</td>\n",
       "      <td>5</td>\n",
       "      <td>0</td>\n",
       "      <td>4</td>\n",
       "      <td>CIS</td>\n",
       "      <td>Android</td>\n",
       "    </tr>\n",
       "    <tr>\n",
       "      <th>325557</th>\n",
       "      <td>10E0DEFC1ABDBBE0</td>\n",
       "      <td>031BD7A67048105B</td>\n",
       "      <td>2025-08-19</td>\n",
       "      <td>2025-08-19 13:23:55</td>\n",
       "      <td>2025-08-14</td>\n",
       "      <td>6</td>\n",
       "      <td>0</td>\n",
       "      <td>2</td>\n",
       "      <td>CIS</td>\n",
       "      <td>Android</td>\n",
       "    </tr>\n",
       "    <tr>\n",
       "      <th>345336</th>\n",
       "      <td>10E0DEFC1ABDBBE0</td>\n",
       "      <td>FF4315CF4AD4B100</td>\n",
       "      <td>2025-08-20</td>\n",
       "      <td>2025-08-20 19:31:54</td>\n",
       "      <td>2025-08-14</td>\n",
       "      <td>7</td>\n",
       "      <td>0</td>\n",
       "      <td>2</td>\n",
       "      <td>CIS</td>\n",
       "      <td>Android</td>\n",
       "    </tr>\n",
       "    <tr>\n",
       "      <th>377532</th>\n",
       "      <td>10E0DEFC1ABDBBE0</td>\n",
       "      <td>4045FEA0747203B4</td>\n",
       "      <td>2025-08-22</td>\n",
       "      <td>2025-08-22 17:54:13</td>\n",
       "      <td>2025-08-14</td>\n",
       "      <td>8</td>\n",
       "      <td>0</td>\n",
       "      <td>2</td>\n",
       "      <td>CIS</td>\n",
       "      <td>Android</td>\n",
       "    </tr>\n",
       "    <tr>\n",
       "      <th>403538</th>\n",
       "      <td>10E0DEFC1ABDBBE0</td>\n",
       "      <td>344B086C421C7F37</td>\n",
       "      <td>2025-08-24</td>\n",
       "      <td>2025-08-24 14:46:13</td>\n",
       "      <td>2025-08-14</td>\n",
       "      <td>9</td>\n",
       "      <td>0</td>\n",
       "      <td>2</td>\n",
       "      <td>CIS</td>\n",
       "      <td>Android</td>\n",
       "    </tr>\n",
       "    <tr>\n",
       "      <th>414743</th>\n",
       "      <td>10E0DEFC1ABDBBE0</td>\n",
       "      <td>054F20BA371E4C9D</td>\n",
       "      <td>2025-08-25</td>\n",
       "      <td>2025-08-25 18:36:41</td>\n",
       "      <td>2025-08-14</td>\n",
       "      <td>10</td>\n",
       "      <td>0</td>\n",
       "      <td>3</td>\n",
       "      <td>CIS</td>\n",
       "      <td>Android</td>\n",
       "    </tr>\n",
       "  </tbody>\n",
       "</table>\n",
       "</div>"
      ],
      "text/plain": [
       "                 user_id        session_id session_date     session_start_ts  \\\n",
       "115558  10E0DEFC1ABDBBE0  B8F0423BBFFCF5DC   2025-08-14  2025-08-14 13:57:39   \n",
       "191751  10E0DEFC1ABDBBE0  87CA2FA549473837   2025-08-15  2025-08-15 16:42:10   \n",
       "239370  10E0DEFC1ABDBBE0  4ADD8011DCDCE318   2025-08-16  2025-08-16 19:53:21   \n",
       "274629  10E0DEFC1ABDBBE0  DF0FD0E09BF1F3D7   2025-08-17  2025-08-17 15:03:43   \n",
       "302501  10E0DEFC1ABDBBE0  3C221774B4DE6885   2025-08-18  2025-08-18 17:29:14   \n",
       "325557  10E0DEFC1ABDBBE0  031BD7A67048105B   2025-08-19  2025-08-19 13:23:55   \n",
       "345336  10E0DEFC1ABDBBE0  FF4315CF4AD4B100   2025-08-20  2025-08-20 19:31:54   \n",
       "377532  10E0DEFC1ABDBBE0  4045FEA0747203B4   2025-08-22  2025-08-22 17:54:13   \n",
       "403538  10E0DEFC1ABDBBE0  344B086C421C7F37   2025-08-24  2025-08-24 14:46:13   \n",
       "414743  10E0DEFC1ABDBBE0  054F20BA371E4C9D   2025-08-25  2025-08-25 18:36:41   \n",
       "\n",
       "       install_date  session_number  registration_flag  page_counter region  \\\n",
       "115558   2025-08-14               1                  0             4    CIS   \n",
       "191751   2025-08-14               2                  0             3    CIS   \n",
       "239370   2025-08-14               3                  0             3    CIS   \n",
       "274629   2025-08-14               4                  0             1    CIS   \n",
       "302501   2025-08-14               5                  0             4    CIS   \n",
       "325557   2025-08-14               6                  0             2    CIS   \n",
       "345336   2025-08-14               7                  0             2    CIS   \n",
       "377532   2025-08-14               8                  0             2    CIS   \n",
       "403538   2025-08-14               9                  0             2    CIS   \n",
       "414743   2025-08-14              10                  0             3    CIS   \n",
       "\n",
       "         device  \n",
       "115558  Android  \n",
       "191751  Android  \n",
       "239370  Android  \n",
       "274629  Android  \n",
       "302501  Android  \n",
       "325557  Android  \n",
       "345336  Android  \n",
       "377532  Android  \n",
       "403538  Android  \n",
       "414743  Android  "
      ]
     },
     "execution_count": 3,
     "metadata": {},
     "output_type": "execute_result"
    }
   ],
   "source": [
    "# Подчет количества уникальных сессий для каждого пользователя\n",
    "uniq_ses = sessions_history.groupby('user_id')['session_id'].nunique()\n",
    "\n",
    "# Находжение id пользователя с максимальных количеством сессий\n",
    "max_ses = uniq_ses.idxmax()\n",
    "\n",
    "# Вывод данных их таблицы для этого пользователя\n",
    "sessions_history[sessions_history['user_id'] == max_ses]"
   ]
  },
  {
   "cell_type": "markdown",
   "metadata": {
    "id": "CmcGpJTP0eMq"
   },
   "source": [
    "### 1.3. Анализ числа регистраций"
   ]
  },
  {
   "cell_type": "code",
   "execution_count": 4,
   "metadata": {
    "id": "tN_6Ml3EPatS"
   },
   "outputs": [
    {
     "data": {
      "image/png": "[encoded data removed]",
      "text/plain": [
       "<Figure size 1000x500 with 1 Axes>"
      ]
     },
     "metadata": {},
     "output_type": "display_data"
    }
   ],
   "source": [
    "# Агрегирование данных\n",
    "users = sessions_history.groupby('session_date').agg({'user_id': 'nunique', 'registration_flag': 'sum'})\n",
    "\n",
    "# Визуализация динамики количества пользователей\n",
    "users.plot(figsize=(10, 5))\n",
    "plt.title('Динамика количества пользователей')\n",
    "plt.xlabel('Дата')\n",
    "plt.ylabel('Количество')\n",
    "plt.grid()\n",
    "plt.legend(('Уникальные пользователи', 'Зарегистрированные пользователи'))\n",
    "plt.show()"
   ]
  },
  {
   "cell_type": "markdown",
   "metadata": {},
   "source": [
    "Судя по графику количество не зарегистрированных пользователй гораздо больше чем зарегистрированных. \\\n",
    "В целом динамика общего количества пользователей по дням скачкообразная. Пики наблюдаются в основном по пятницам 15.08, 22.08, 29.08.\n",
    "Динамика количества зарегистрированных пользователй плавная, резких скачков нет. "
   ]
  },
  {
   "cell_type": "code",
   "execution_count": 5,
   "metadata": {},
   "outputs": [
    {
     "data": {
      "image/png": "[encoded data removed]",
      "text/plain": [
       "<Figure size 1000x500 with 1 Axes>"
      ]
     },
     "metadata": {},
     "output_type": "display_data"
    }
   ],
   "source": [
    "# Нахождение доли зарегистриванных пользователей\n",
    "users['part'] = users['registration_flag'] / users['user_id'] \n",
    "\n",
    "# Визуализация доли зарегистриванных пользователей\n",
    "users['part'].plot(figsize=(10, 5), label='Доля зарегистрированных пользователей')\n",
    "plt.title('Динамика доли зарегистрированных пользователей')\n",
    "plt.xlabel('Дата')\n",
    "plt.ylabel('')\n",
    "plt.legend()\n",
    "plt.grid()\n",
    "plt.show()"
   ]
  },
  {
   "cell_type": "markdown",
   "metadata": {},
   "source": [
    "Доля зарегистрированных пользователей показывает скачкообразный рост. Пик достигается 22.09."
   ]
  },
  {
   "cell_type": "markdown",
   "metadata": {
    "id": "UR7D7RhF0eMr"
   },
   "source": [
    "### 1.4. Анализ числа просмотренных страниц\n"
   ]
  },
  {
   "cell_type": "code",
   "execution_count": 6,
   "metadata": {
    "id": "cb6hPlVzPaSf"
   },
   "outputs": [
    {
     "data": {
      "image/png": "[encoded data removed]",
      "text/plain": [
       "<Figure size 1000x500 with 1 Axes>"
      ]
     },
     "metadata": {},
     "output_type": "display_data"
    }
   ],
   "source": [
    "# Нахождение количества сессий для каждого количетсва страниц\n",
    "pages = sessions_history.groupby('page_counter')['session_id'].count()\n",
    "\n",
    "# Визуализация количетва сессий по страницам\n",
    "pages.plot(kind='bar',\n",
    "          figsize=(10, 5),\n",
    "          rot=0)\n",
    "plt.title('Количество сессий для количества просмотренных страниц')\n",
    "plt.xlabel('Количество страниц')\n",
    "plt.ylabel('Количество сессий')\n",
    "plt.show()"
   ]
  },
  {
   "cell_type": "markdown",
   "metadata": {},
   "source": [
    "В наибольшее количество сессий было просмотрено 3 страницы. Наименьшее количество сессий установлено для 7 страниц.\n"
   ]
  },
  {
   "cell_type": "markdown",
   "metadata": {
    "id": "xDltSpVP0eMr"
   },
   "source": [
    "### 1.5. Доля пользователей, просмотревших более четырёх страниц"
   ]
  },
  {
   "cell_type": "code",
   "execution_count": 7,
   "metadata": {},
   "outputs": [],
   "source": [
    "# Функция для заполения столбца успешности сессии\n",
    "def create_new_column(pages):\n",
    "    if pages >= 4:\n",
    "        return 1\n",
    "    else:\n",
    "        return 0"
   ]
  },
  {
   "cell_type": "code",
   "execution_count": 8,
   "metadata": {
    "id": "iygaPfixPYMW"
   },
   "outputs": [
    {
     "data": {
      "image/png": "[encoded data removed]",
      "text/plain": [
       "<Figure size 1000x500 with 1 Axes>"
      ]
     },
     "metadata": {},
     "output_type": "display_data"
    }
   ],
   "source": [
    "# Создание столбца успешности сессии\n",
    "sessions_history['good_session'] = sessions_history['page_counter'].apply(create_new_column)\n",
    "\n",
    "# Визуализация доли успешных сессий\n",
    "sessions_history.groupby('session_date')['good_session'].mean().plot(figsize=(10, 5))\n",
    "plt.title('Доля успешных сессий')\n",
    "plt.xlabel('Дата')\n",
    "plt.ylabel('Доля')\n",
    "plt.grid()\n",
    "plt.show()"
   ]
  },
  {
   "cell_type": "markdown",
   "metadata": {},
   "source": [
    "График доли успешных сессий очень скачкообразен. Какую-то тенденцию сложно выделить."
   ]
  },
  {
   "cell_type": "code",
   "execution_count": 9,
   "metadata": {},
   "outputs": [
    {
     "data": {
      "text/plain": [
       "30.754410439546792"
      ]
     },
     "execution_count": 9,
     "metadata": {},
     "output_type": "execute_result"
    }
   ],
   "source": [
    "# Расчет среднего значения доли успешных сессий \n",
    "(sessions_history.groupby('session_date')['good_session'].sum() / sessions_history.groupby('session_date')['session_id'].count()).mean() * 100"
   ]
  },
  {
   "cell_type": "markdown",
   "metadata": {
    "id": "21JcG77Y0eMt"
   },
   "source": [
    "## 2. Подготовка к тесту\n",
    "### Целевая метрика - доля упешных сессий (те сессий, где было просмотрено более 4 страниц)"
   ]
  },
  {
   "cell_type": "markdown",
   "metadata": {
    "id": "uzaeln270eMt"
   },
   "source": [
    "### Расчёт размера выборки"
   ]
  },
  {
   "attachments": {
    "image.png": {
     "image/png": "[encoded data removed]"
    }
   },
   "cell_type": "markdown",
   "metadata": {},
   "source": [
    "![image.png](attachment:image.png)"
   ]
  },
  {
   "cell_type": "markdown",
   "metadata": {
    "id": "qLEv4RoV0eMu"
   },
   "source": [
    "### 2.1. Расчёт длительности A/B-теста\n"
   ]
  },
  {
   "cell_type": "code",
   "execution_count": 11,
   "metadata": {
    "id": "KZDRbryDOGHa"
   },
   "outputs": [
    {
     "name": "stdout",
     "output_type": "stream",
     "text": [
      "Рассчитанная длительность A/B-теста при текущем уровене трафика в 9907.36 пользователей в день составит 4 дней\n"
     ]
    }
   ],
   "source": [
    "# Среднее количество пользователей приложения в день по историческим данным\n",
    "avg_daily_users = users['user_id'].mean()\n",
    "\n",
    "# Рассчитываем длительность теста в днях как отношение размера выборки к среднему числу пользователей\n",
    "test_duration = ceil(39376 / avg_daily_users)\n",
    "\n",
    "print(f\"Рассчитанная длительность A/B-теста при текущем уровене трафика в {round(avg_daily_users, 2)} пользователей в день составит {test_duration} дней\")"
   ]
  },
  {
   "cell_type": "markdown",
   "metadata": {
    "id": "ZuvtAdha0eMv"
   },
   "source": [
    "## 3. Мониторинг А/В-теста"
   ]
  },
  {
   "cell_type": "markdown",
   "metadata": {
    "id": "jq5sE3Ya0eMv"
   },
   "source": [
    "### 3.1. Проверка распределения пользователей\n"
   ]
  },
  {
   "cell_type": "code",
   "execution_count": 12,
   "metadata": {
    "id": "G1bqIzDJOUiz"
   },
   "outputs": [
    {
     "data": {
      "text/html": [
       "<div>\n",
       "<style scoped>\n",
       "    .dataframe tbody tr th:only-of-type {\n",
       "        vertical-align: middle;\n",
       "    }\n",
       "\n",
       "    .dataframe tbody tr th {\n",
       "        vertical-align: top;\n",
       "    }\n",
       "\n",
       "    .dataframe thead th {\n",
       "        text-align: right;\n",
       "    }\n",
       "</style>\n",
       "<table border=\"1\" class=\"dataframe\">\n",
       "  <thead>\n",
       "    <tr style=\"text-align: right;\">\n",
       "      <th></th>\n",
       "      <th>user_id</th>\n",
       "      <th>session_id</th>\n",
       "      <th>session_date</th>\n",
       "      <th>session_start_ts</th>\n",
       "      <th>install_date</th>\n",
       "      <th>session_number</th>\n",
       "      <th>registration_flag</th>\n",
       "      <th>page_counter</th>\n",
       "      <th>region</th>\n",
       "      <th>device</th>\n",
       "      <th>test_group</th>\n",
       "    </tr>\n",
       "  </thead>\n",
       "  <tbody>\n",
       "    <tr>\n",
       "      <th>0</th>\n",
       "      <td>3404844B53442747</td>\n",
       "      <td>B4901323BD537E45</td>\n",
       "      <td>2025-10-14</td>\n",
       "      <td>2025-10-14 19:28:49</td>\n",
       "      <td>2025-10-14</td>\n",
       "      <td>1</td>\n",
       "      <td>0</td>\n",
       "      <td>3</td>\n",
       "      <td>CIS</td>\n",
       "      <td>Android</td>\n",
       "      <td>B</td>\n",
       "    </tr>\n",
       "    <tr>\n",
       "      <th>1</th>\n",
       "      <td>3A2BF4D364E62D89</td>\n",
       "      <td>216FC619308F8788</td>\n",
       "      <td>2025-10-14</td>\n",
       "      <td>2025-10-14 21:11:04</td>\n",
       "      <td>2025-10-14</td>\n",
       "      <td>1</td>\n",
       "      <td>0</td>\n",
       "      <td>3</td>\n",
       "      <td>MENA</td>\n",
       "      <td>iPhone</td>\n",
       "      <td>A</td>\n",
       "    </tr>\n",
       "    <tr>\n",
       "      <th>2</th>\n",
       "      <td>79CDAE11E32B1597</td>\n",
       "      <td>EDFCE4AC1A504074</td>\n",
       "      <td>2025-10-14</td>\n",
       "      <td>2025-10-14 21:44:03</td>\n",
       "      <td>2025-10-14</td>\n",
       "      <td>1</td>\n",
       "      <td>0</td>\n",
       "      <td>3</td>\n",
       "      <td>CIS</td>\n",
       "      <td>iPhone</td>\n",
       "      <td>A</td>\n",
       "    </tr>\n",
       "    <tr>\n",
       "      <th>3</th>\n",
       "      <td>D6AF8D78297A931F</td>\n",
       "      <td>CF0AC0EEDE92C690</td>\n",
       "      <td>2025-10-14</td>\n",
       "      <td>2025-10-14 19:07:55</td>\n",
       "      <td>2025-10-14</td>\n",
       "      <td>1</td>\n",
       "      <td>0</td>\n",
       "      <td>4</td>\n",
       "      <td>CIS</td>\n",
       "      <td>PC</td>\n",
       "      <td>A</td>\n",
       "    </tr>\n",
       "    <tr>\n",
       "      <th>4</th>\n",
       "      <td>37E0CE723AE568E0</td>\n",
       "      <td>2E6ED45E8C86C4E9</td>\n",
       "      <td>2025-10-14</td>\n",
       "      <td>2025-10-14 15:39:44</td>\n",
       "      <td>2025-10-14</td>\n",
       "      <td>1</td>\n",
       "      <td>0</td>\n",
       "      <td>3</td>\n",
       "      <td>CIS</td>\n",
       "      <td>Mac</td>\n",
       "      <td>B</td>\n",
       "    </tr>\n",
       "  </tbody>\n",
       "</table>\n",
       "</div>"
      ],
      "text/plain": [
       "            user_id        session_id session_date     session_start_ts  \\\n",
       "0  3404844B53442747  B4901323BD537E45   2025-10-14  2025-10-14 19:28:49   \n",
       "1  3A2BF4D364E62D89  216FC619308F8788   2025-10-14  2025-10-14 21:11:04   \n",
       "2  79CDAE11E32B1597  EDFCE4AC1A504074   2025-10-14  2025-10-14 21:44:03   \n",
       "3  D6AF8D78297A931F  CF0AC0EEDE92C690   2025-10-14  2025-10-14 19:07:55   \n",
       "4  37E0CE723AE568E0  2E6ED45E8C86C4E9   2025-10-14  2025-10-14 15:39:44   \n",
       "\n",
       "  install_date  session_number  registration_flag  page_counter region  \\\n",
       "0   2025-10-14               1                  0             3    CIS   \n",
       "1   2025-10-14               1                  0             3   MENA   \n",
       "2   2025-10-14               1                  0             3    CIS   \n",
       "3   2025-10-14               1                  0             4    CIS   \n",
       "4   2025-10-14               1                  0             3    CIS   \n",
       "\n",
       "    device test_group  \n",
       "0  Android          B  \n",
       "1   iPhone          A  \n",
       "2   iPhone          A  \n",
       "3       PC          A  \n",
       "4      Mac          B  "
      ]
     },
     "execution_count": 12,
     "metadata": {},
     "output_type": "execute_result"
    }
   ],
   "source": [
    "sessions_test_part = pd.read_csv('https://code.s3.yandex.net/datasets/sessions_project_test_part.csv')\n",
    "sessions_test_part.head()"
   ]
  },
  {
   "cell_type": "code",
   "execution_count": 13,
   "metadata": {},
   "outputs": [],
   "source": [
    "# Расчет количества уникальных пользователей каждой группы для одного дня \n",
    "daily_un_users = sessions_test_part.groupby(['test_group', 'session_date'])['user_id'].nunique().reset_index()\n",
    "avg_daily_users = daily_un_users.groupby('test_group')['user_id'].mean()"
   ]
  },
  {
   "cell_type": "code",
   "execution_count": 14,
   "metadata": {},
   "outputs": [
    {
     "name": "stdout",
     "output_type": "stream",
     "text": [
      "Разница между объемом групп А и В равна 0.74%\n"
     ]
    }
   ],
   "source": [
    "# Расчет процентной разницы по формуле\n",
    "pers = round(100 * abs(avg_daily_users.iloc[0] - avg_daily_users.iloc[1]) / avg_daily_users.iloc[0], 2)\n",
    "print(f'Разница между объемом групп А и В равна {pers}%')"
   ]
  },
  {
   "cell_type": "code",
   "execution_count": 15,
   "metadata": {},
   "outputs": [
    {
     "data": {
      "image/png": "[encoded data removed]",
      "text/plain": [
       "<Figure size 600x600 with 1 Axes>"
      ]
     },
     "metadata": {},
     "output_type": "display_data"
    }
   ],
   "source": [
    "# Визуализация разницы между двумя группами\n",
    "plt.figure(figsize=(6, 6))\n",
    "avg_daily_users.plot(kind='pie')\n",
    "plt.title('Разница между группами А и B')\n",
    "plt.ylabel('')\n",
    "plt.show()"
   ]
  },
  {
   "cell_type": "markdown",
   "metadata": {},
   "source": [
    " Так как разница между группами всего 0.74%, на визуализации ее практически не видно"
   ]
  },
  {
   "cell_type": "markdown",
   "metadata": {
    "id": "sgpNY5bv0eM0"
   },
   "source": [
    "### 3.2. Проверка пересечений пользователей"
   ]
  },
  {
   "cell_type": "code",
   "execution_count": 16,
   "metadata": {
    "id": "E72ozN9FOX1u"
   },
   "outputs": [
    {
     "data": {
      "text/plain": [
       "[]"
      ]
     },
     "execution_count": 16,
     "metadata": {},
     "output_type": "execute_result"
    }
   ],
   "source": [
    "# Выборка id пользователей по группам\n",
    "A = sessions_test_part[sessions_test_part['test_group'] == 'A']['user_id']\n",
    "B = sessions_test_part[sessions_test_part['test_group'] == 'B']['user_id']\n",
    "\n",
    "# Проверка пересечения групп\n",
    "intersection = list(set(A) & set(B))\n",
    "intersection"
   ]
  },
  {
   "cell_type": "markdown",
   "metadata": {},
   "source": [
    "Проверка показала пустое множество, значит группы не пересекаются"
   ]
  },
  {
   "cell_type": "markdown",
   "metadata": {
    "id": "6RvkNLrg0eM1"
   },
   "source": [
    "### 3.3. Равномерность разделения пользователей по устройствам\n"
   ]
  },
  {
   "cell_type": "code",
   "execution_count": 17,
   "metadata": {
    "id": "x_IP6PUNPWHC"
   },
   "outputs": [
    {
     "data": {
      "image/png": "[encoded data removed]",
      "text/plain": [
       "<Figure size 1500x500 with 2 Axes>"
      ]
     },
     "metadata": {},
     "output_type": "display_data"
    }
   ],
   "source": [
    "# Расчет долей каждого типа устройств по разным группам\n",
    "A = sessions_test_part[sessions_test_part['test_group'] == 'A'].groupby('device')['user_id'].nunique() / sessions_test_part[sessions_test_part['test_group'] == 'A']['user_id'].nunique() \n",
    "B = sessions_test_part[sessions_test_part['test_group'] == 'B'].groupby('device')['user_id'].nunique() / sessions_test_part[sessions_test_part['test_group'] == 'B']['user_id'].nunique()\n",
    "\n",
    "# Подготовка подписей к долям\n",
    "labels = sessions_test_part['device'].unique()\n",
    "\n",
    "# Визуализация\n",
    "fig, axes = plt.subplots(nrows=1, ncols=2, figsize=(15, 5))\n",
    "axes[0].pie(A, labels=labels, autopct='%1.1f%%')\n",
    "axes[0].set_title('Доля каждого типа устройства для пользователей из группы A')\n",
    "axes[1].pie(B, labels=labels, autopct='%1.1f%%')\n",
    "axes[1].set_title('Доля каждого типа устройства для пользователей из группы B')\n",
    "\n",
    "plt.show()"
   ]
  },
  {
   "cell_type": "markdown",
   "metadata": {
    "id": "gAgmP6vo0eM1"
   },
   "source": [
    "### 3.4. Равномерность распределения пользователей по регионам\n"
   ]
  },
  {
   "cell_type": "code",
   "execution_count": 18,
   "metadata": {
    "id": "3hAq-FG4OdYM"
   },
   "outputs": [
    {
     "data": {
      "image/png": "[encoded data removed]",
      "text/plain": [
       "<Figure size 1500x500 with 2 Axes>"
      ]
     },
     "metadata": {},
     "output_type": "display_data"
    }
   ],
   "source": [
    "# Расчет долей каждого региона по разным группам\n",
    "A = sessions_test_part[sessions_test_part['test_group'] == 'A'].groupby('region')['user_id'].nunique() / sessions_test_part[sessions_test_part['test_group'] == 'A']['user_id'].nunique() \n",
    "B = sessions_test_part[sessions_test_part['test_group'] == 'B'].groupby('region')['user_id'].nunique() / sessions_test_part[sessions_test_part['test_group'] == 'B']['user_id'].nunique()\n",
    "\n",
    "# Подготовка подписей к долям\n",
    "labels = sessions_test_part['region'].unique()\n",
    "\n",
    "# Визуализация\n",
    "fig, axes = plt.subplots(nrows=1, ncols=2, figsize=(15, 5))\n",
    "axes[0].pie(A, labels=labels, autopct='%1.1f%%')\n",
    "axes[0].set_title('Доля каждого региона для пользователей из группы A')\n",
    "axes[1].pie(B, labels=labels, autopct='%1.1f%%')\n",
    "axes[1].set_title('Доля каждого региона устройства для пользователей из группы B')\n",
    "fig.legend(['СНГ','Ближний восток и серверная Африка','Евросоюз'], loc=3)\n",
    "\n",
    "plt.show()"
   ]
  },
  {
   "cell_type": "markdown",
   "metadata": {},
   "source": [
    "### 3.5. Вывод \n",
    "- Да, между группами присудствует незначительное различие в 0,74%\n",
    "- Выборки независимы, пересечния не обнаружены\n",
    "- Распределение пользователей по категориальным переменным (устройства, регионы) примерно равномерное"
   ]
  },
  {
   "cell_type": "markdown",
   "metadata": {
    "id": "nudRr_BQ0eM2"
   },
   "source": [
    "## 4. Проверка результатов A/B-теста\n"
   ]
  },
  {
   "cell_type": "markdown",
   "metadata": {
    "id": "JVve-YBB0eM2"
   },
   "source": [
    "### 4.1. Получение результатов теста и подсчёт основной метрики\n"
   ]
  },
  {
   "cell_type": "code",
   "execution_count": 19,
   "metadata": {
    "id": "EqRlwMtKPTir"
   },
   "outputs": [
    {
     "data": {
      "text/html": [
       "<div>\n",
       "<style scoped>\n",
       "    .dataframe tbody tr th:only-of-type {\n",
       "        vertical-align: middle;\n",
       "    }\n",
       "\n",
       "    .dataframe tbody tr th {\n",
       "        vertical-align: top;\n",
       "    }\n",
       "\n",
       "    .dataframe thead th {\n",
       "        text-align: right;\n",
       "    }\n",
       "</style>\n",
       "<table border=\"1\" class=\"dataframe\">\n",
       "  <thead>\n",
       "    <tr style=\"text-align: right;\">\n",
       "      <th></th>\n",
       "      <th>user_id</th>\n",
       "      <th>session_id</th>\n",
       "      <th>session_date</th>\n",
       "      <th>session_start_ts</th>\n",
       "      <th>install_date</th>\n",
       "      <th>session_number</th>\n",
       "      <th>registration_flag</th>\n",
       "      <th>page_counter</th>\n",
       "      <th>region</th>\n",
       "      <th>device</th>\n",
       "      <th>test_group</th>\n",
       "    </tr>\n",
       "  </thead>\n",
       "  <tbody>\n",
       "    <tr>\n",
       "      <th>0</th>\n",
       "      <td>6DAE3B3654DA738E</td>\n",
       "      <td>C69249E26E58F6E2</td>\n",
       "      <td>2025-10-26</td>\n",
       "      <td>2025-10-26 18:15:05</td>\n",
       "      <td>2025-10-16</td>\n",
       "      <td>3</td>\n",
       "      <td>0</td>\n",
       "      <td>3</td>\n",
       "      <td>MENA</td>\n",
       "      <td>Android</td>\n",
       "      <td>A</td>\n",
       "    </tr>\n",
       "    <tr>\n",
       "      <th>1</th>\n",
       "      <td>0A3FE5D1DD59110A</td>\n",
       "      <td>66D66D7C9F5181B7</td>\n",
       "      <td>2025-10-21</td>\n",
       "      <td>2025-10-21 17:04:53</td>\n",
       "      <td>2025-10-15</td>\n",
       "      <td>2</td>\n",
       "      <td>1</td>\n",
       "      <td>2</td>\n",
       "      <td>CIS</td>\n",
       "      <td>Android</td>\n",
       "      <td>B</td>\n",
       "    </tr>\n",
       "    <tr>\n",
       "      <th>2</th>\n",
       "      <td>2041F1D7AA740B88</td>\n",
       "      <td>50DE51D42215E74C</td>\n",
       "      <td>2025-10-23</td>\n",
       "      <td>2025-10-23 17:39:29</td>\n",
       "      <td>2025-10-19</td>\n",
       "      <td>3</td>\n",
       "      <td>0</td>\n",
       "      <td>2</td>\n",
       "      <td>MENA</td>\n",
       "      <td>Android</td>\n",
       "      <td>A</td>\n",
       "    </tr>\n",
       "    <tr>\n",
       "      <th>3</th>\n",
       "      <td>43D7585009168086</td>\n",
       "      <td>5763C0C353C22263</td>\n",
       "      <td>2025-10-24</td>\n",
       "      <td>2025-10-24 15:01:57</td>\n",
       "      <td>2025-10-18</td>\n",
       "      <td>4</td>\n",
       "      <td>0</td>\n",
       "      <td>1</td>\n",
       "      <td>CIS</td>\n",
       "      <td>iPhone</td>\n",
       "      <td>B</td>\n",
       "    </tr>\n",
       "    <tr>\n",
       "      <th>4</th>\n",
       "      <td>15AD68B14D62D88C</td>\n",
       "      <td>B1AD09F93C1053BC</td>\n",
       "      <td>2025-10-17</td>\n",
       "      <td>2025-10-17 17:34:39</td>\n",
       "      <td>2025-10-17</td>\n",
       "      <td>1</td>\n",
       "      <td>0</td>\n",
       "      <td>2</td>\n",
       "      <td>MENA</td>\n",
       "      <td>Android</td>\n",
       "      <td>B</td>\n",
       "    </tr>\n",
       "  </tbody>\n",
       "</table>\n",
       "</div>"
      ],
      "text/plain": [
       "            user_id        session_id session_date     session_start_ts  \\\n",
       "0  6DAE3B3654DA738E  C69249E26E58F6E2   2025-10-26  2025-10-26 18:15:05   \n",
       "1  0A3FE5D1DD59110A  66D66D7C9F5181B7   2025-10-21  2025-10-21 17:04:53   \n",
       "2  2041F1D7AA740B88  50DE51D42215E74C   2025-10-23  2025-10-23 17:39:29   \n",
       "3  43D7585009168086  5763C0C353C22263   2025-10-24  2025-10-24 15:01:57   \n",
       "4  15AD68B14D62D88C  B1AD09F93C1053BC   2025-10-17  2025-10-17 17:34:39   \n",
       "\n",
       "  install_date  session_number  registration_flag  page_counter region  \\\n",
       "0   2025-10-16               3                  0             3   MENA   \n",
       "1   2025-10-15               2                  1             2    CIS   \n",
       "2   2025-10-19               3                  0             2   MENA   \n",
       "3   2025-10-18               4                  0             1    CIS   \n",
       "4   2025-10-17               1                  0             2   MENA   \n",
       "\n",
       "    device test_group  \n",
       "0  Android          A  \n",
       "1  Android          B  \n",
       "2  Android          A  \n",
       "3   iPhone          B  \n",
       "4  Android          B  "
      ]
     },
     "execution_count": 19,
     "metadata": {},
     "output_type": "execute_result"
    }
   ],
   "source": [
    "sessions_test = pd.read_csv('https://code.s3.yandex.net/datasets/sessions_project_test.csv')\n",
    "sessions_test.head()"
   ]
  },
  {
   "cell_type": "code",
   "execution_count": 20,
   "metadata": {},
   "outputs": [
    {
     "data": {
      "text/html": [
       "<div>\n",
       "<style scoped>\n",
       "    .dataframe tbody tr th:only-of-type {\n",
       "        vertical-align: middle;\n",
       "    }\n",
       "\n",
       "    .dataframe tbody tr th {\n",
       "        vertical-align: top;\n",
       "    }\n",
       "\n",
       "    .dataframe thead th {\n",
       "        text-align: right;\n",
       "    }\n",
       "</style>\n",
       "<table border=\"1\" class=\"dataframe\">\n",
       "  <thead>\n",
       "    <tr style=\"text-align: right;\">\n",
       "      <th></th>\n",
       "      <th>user_id</th>\n",
       "      <th>session_id</th>\n",
       "      <th>session_date</th>\n",
       "      <th>session_start_ts</th>\n",
       "      <th>install_date</th>\n",
       "      <th>session_number</th>\n",
       "      <th>registration_flag</th>\n",
       "      <th>page_counter</th>\n",
       "      <th>region</th>\n",
       "      <th>device</th>\n",
       "      <th>test_group</th>\n",
       "      <th>good_session</th>\n",
       "    </tr>\n",
       "  </thead>\n",
       "  <tbody>\n",
       "    <tr>\n",
       "      <th>0</th>\n",
       "      <td>6DAE3B3654DA738E</td>\n",
       "      <td>C69249E26E58F6E2</td>\n",
       "      <td>2025-10-26</td>\n",
       "      <td>2025-10-26 18:15:05</td>\n",
       "      <td>2025-10-16</td>\n",
       "      <td>3</td>\n",
       "      <td>0</td>\n",
       "      <td>3</td>\n",
       "      <td>MENA</td>\n",
       "      <td>Android</td>\n",
       "      <td>A</td>\n",
       "      <td>0</td>\n",
       "    </tr>\n",
       "    <tr>\n",
       "      <th>1</th>\n",
       "      <td>0A3FE5D1DD59110A</td>\n",
       "      <td>66D66D7C9F5181B7</td>\n",
       "      <td>2025-10-21</td>\n",
       "      <td>2025-10-21 17:04:53</td>\n",
       "      <td>2025-10-15</td>\n",
       "      <td>2</td>\n",
       "      <td>1</td>\n",
       "      <td>2</td>\n",
       "      <td>CIS</td>\n",
       "      <td>Android</td>\n",
       "      <td>B</td>\n",
       "      <td>0</td>\n",
       "    </tr>\n",
       "    <tr>\n",
       "      <th>2</th>\n",
       "      <td>2041F1D7AA740B88</td>\n",
       "      <td>50DE51D42215E74C</td>\n",
       "      <td>2025-10-23</td>\n",
       "      <td>2025-10-23 17:39:29</td>\n",
       "      <td>2025-10-19</td>\n",
       "      <td>3</td>\n",
       "      <td>0</td>\n",
       "      <td>2</td>\n",
       "      <td>MENA</td>\n",
       "      <td>Android</td>\n",
       "      <td>A</td>\n",
       "      <td>0</td>\n",
       "    </tr>\n",
       "    <tr>\n",
       "      <th>3</th>\n",
       "      <td>43D7585009168086</td>\n",
       "      <td>5763C0C353C22263</td>\n",
       "      <td>2025-10-24</td>\n",
       "      <td>2025-10-24 15:01:57</td>\n",
       "      <td>2025-10-18</td>\n",
       "      <td>4</td>\n",
       "      <td>0</td>\n",
       "      <td>1</td>\n",
       "      <td>CIS</td>\n",
       "      <td>iPhone</td>\n",
       "      <td>B</td>\n",
       "      <td>0</td>\n",
       "    </tr>\n",
       "    <tr>\n",
       "      <th>4</th>\n",
       "      <td>15AD68B14D62D88C</td>\n",
       "      <td>B1AD09F93C1053BC</td>\n",
       "      <td>2025-10-17</td>\n",
       "      <td>2025-10-17 17:34:39</td>\n",
       "      <td>2025-10-17</td>\n",
       "      <td>1</td>\n",
       "      <td>0</td>\n",
       "      <td>2</td>\n",
       "      <td>MENA</td>\n",
       "      <td>Android</td>\n",
       "      <td>B</td>\n",
       "      <td>0</td>\n",
       "    </tr>\n",
       "  </tbody>\n",
       "</table>\n",
       "</div>"
      ],
      "text/plain": [
       "            user_id        session_id session_date     session_start_ts  \\\n",
       "0  6DAE3B3654DA738E  C69249E26E58F6E2   2025-10-26  2025-10-26 18:15:05   \n",
       "1  0A3FE5D1DD59110A  66D66D7C9F5181B7   2025-10-21  2025-10-21 17:04:53   \n",
       "2  2041F1D7AA740B88  50DE51D42215E74C   2025-10-23  2025-10-23 17:39:29   \n",
       "3  43D7585009168086  5763C0C353C22263   2025-10-24  2025-10-24 15:01:57   \n",
       "4  15AD68B14D62D88C  B1AD09F93C1053BC   2025-10-17  2025-10-17 17:34:39   \n",
       "\n",
       "  install_date  session_number  registration_flag  page_counter region  \\\n",
       "0   2025-10-16               3                  0             3   MENA   \n",
       "1   2025-10-15               2                  1             2    CIS   \n",
       "2   2025-10-19               3                  0             2   MENA   \n",
       "3   2025-10-18               4                  0             1    CIS   \n",
       "4   2025-10-17               1                  0             2   MENA   \n",
       "\n",
       "    device test_group  good_session  \n",
       "0  Android          A             0  \n",
       "1  Android          B             0  \n",
       "2  Android          A             0  \n",
       "3   iPhone          B             0  \n",
       "4  Android          B             0  "
      ]
     },
     "execution_count": 20,
     "metadata": {},
     "output_type": "execute_result"
    }
   ],
   "source": [
    "# Создание столбца успешности сессии\n",
    "sessions_test['good_session'] = sessions_test['page_counter'].apply(create_new_column)\n",
    "sessions_test.head()"
   ]
  },
  {
   "cell_type": "markdown",
   "metadata": {
    "id": "aeYhrMYy0eM2"
   },
   "source": [
    "### 4.2. Проверка корректности результатов теста\n"
   ]
  },
  {
   "cell_type": "code",
   "execution_count": 21,
   "metadata": {
    "id": "5NUlcltkTTSU"
   },
   "outputs": [],
   "source": [
    "# Расчет количества уникальных сессий по дням и группам\n",
    "sessions_number_per_day = sessions_test.groupby(['test_group','session_date'])['session_id'].nunique().reset_index()"
   ]
  },
  {
   "cell_type": "markdown",
   "metadata": {},
   "source": [
    "Так как метрика не долевая, и по заданию нам нужно проверить равенство средних выборок, выбираем тест Стьюдента \\\n",
    "Н0: Выборочные средние в группах A и B равны \\\n",
    "Н1: Выборочные средние в группах A и B не равны"
   ]
  },
  {
   "cell_type": "code",
   "execution_count": 22,
   "metadata": {},
   "outputs": [
    {
     "name": "stdout",
     "output_type": "stream",
     "text": [
      "p-value = 0.94\n",
      "Нулевая гипотеза находит подтверждение! Выборочные средние в группах A и B равны\n"
     ]
    }
   ],
   "source": [
    "# Выборка для групп А и В\n",
    "A = sessions_number_per_day[sessions_number_per_day.test_group=='A']['session_id']\n",
    "B = sessions_number_per_day[sessions_number_per_day.test_group=='B']['session_id']\n",
    "\n",
    "alpha = 0.05 # Задание уровня значимости\n",
    "\n",
    "\n",
    "stat_ttest, p = ttest_ind(\n",
    "    A, \n",
    "    B)\n",
    "\n",
    "print(f'p-value = {round(p, 2)}')\n",
    "if p > alpha:\n",
    "    print('Нулевая гипотеза находит подтверждение! Выборочные средние в группах A и B равны')\n",
    "else:\n",
    "    print('Нулевая гипотеза не находит подтверждения! Выборочные средние в группах A и B не равны')"
   ]
  },
  {
   "cell_type": "markdown",
   "metadata": {
    "id": "7kwRxzg70eM3"
   },
   "source": [
    "### 4.3. Сравнение доли успешных сессий\n"
   ]
  },
  {
   "cell_type": "code",
   "execution_count": 23,
   "metadata": {
    "id": "Uku-V1CpPRCz"
   },
   "outputs": [
    {
     "name": "stdout",
     "output_type": "stream",
     "text": [
      "Доля успешных сессий для группы А = 0.15, для группы B = 0.16, разница = 0.81%\n"
     ]
    }
   ],
   "source": [
    "# Подсчет долей успешных сессий для групп А и В\n",
    "A = sessions_test[sessions_test.test_group=='A']['good_session'].sum() / sessions_test.shape[0] \n",
    "B = sessions_test[sessions_test.test_group=='B']['good_session'].sum() / sessions_test.shape[0]\n",
    "\n",
    "# Подсчет разницы \n",
    "dif = B - A\n",
    "\n",
    "print(f'Доля успешных сессий для группы А = {round(A, 2)}, для группы B = {round(B, 2)}, разница = {round(dif*100, 2)}%')"
   ]
  },
  {
   "cell_type": "markdown",
   "metadata": {
    "id": "9fMFuja10eM4"
   },
   "source": [
    "### 4.4. Насколько статистически значимо изменение ключевой метрики\n",
    "\n"
   ]
  },
  {
   "cell_type": "markdown",
   "metadata": {},
   "source": [
    "Так как метрика долевая выбираем Z-тест\\\n",
    "Н0: Доли успешных сессий в группах A и B равны \\\n",
    "Н1: Доли успешных сессий в группе B больше чем в A"
   ]
  },
  {
   "cell_type": "code",
   "execution_count": 24,
   "metadata": {
    "id": "gFvhRGwlPLS0"
   },
   "outputs": [
    {
     "name": "stdout",
     "output_type": "stream",
     "text": [
      "Предпосылка о достаточном количестве данных выполняется\n"
     ]
    }
   ],
   "source": [
    "# Проверка достаточности данных\n",
    "# Размеры выборок A и B\n",
    "n_a, n_b = sessions_test[sessions_test.test_group=='A'].shape[0], sessions_test[sessions_test.test_group=='B'].shape[0] \n",
    "# Количество успешных сессий в группе A\n",
    "m_a = sessions_test[(sessions_test.test_group=='A')&(sessions_test.good_session==1)].shape[0] \n",
    "# Количество успешных сессий в группе В\n",
    "m_b = sessions_test[(sessions_test.test_group=='B')&(sessions_test.good_session==1)].shape[0] \n",
    "# Рассчитываем доли успешных сессий A и B\n",
    "p_a, p_b = m_a/n_a, m_b/n_b \n",
    "\n",
    "if (p_a*n_a > 10)and((1-p_a)*n_a > 10)and(p_b*n_b > 10)and((1-p_b)*n_b > 10):\n",
    "    print('Предпосылка о достаточном количестве данных выполняется')\n",
    "else:\n",
    "    print('Предпосылка о достаточном количестве данных не выполняется')"
   ]
  },
  {
   "cell_type": "code",
   "execution_count": 25,
   "metadata": {},
   "outputs": [
    {
     "name": "stdout",
     "output_type": "stream",
     "text": [
      "p-value теста Z-теста = 0.0001574739988036123\n",
      "Нулевая гипотеза не находит подтверждения! Изменение в метрике является статистически значимым\n"
     ]
    }
   ],
   "source": [
    "# Проведение Z-теста\n",
    "stats_ztest, p = proportions_ztest(\n",
    "    [m_a, m_b],\n",
    "    [n_a, n_b],\n",
    "    alternative='smaller'\n",
    ")\n",
    "\n",
    "print(f'p-value теста Z-теста = {p}')\n",
    "if p > alpha:\n",
    "    print('Нулевая гипотеза находит подтверждение! Изменение в метрике не является статистически значимым')\n",
    "else:\n",
    "    print('Нулевая гипотеза не находит подтверждения! Изменение в метрике является статистически значимым')"
   ]
  },
  {
   "cell_type": "markdown",
   "metadata": {},
   "source": [
    "Это значит новый алгоритм действителььно повлиял на рост доли успешных сессий, и рост это положительный"
   ]
  },
  {
   "cell_type": "markdown",
   "metadata": {},
   "source": [
    "### 4.6. Вывод\n",
    "* Количество пользователей 78752 человек, длительность эксперимента составлила 8 дней\n",
    "* Внедрение нового алгоритма позволило добиться прироста целевой метрики\n",
    "* P-value Z-теста составило 0.0001574739988036123\n",
    "* Определенно проведение A/B теста показало, что новый алгоритм стоит ввести"
   ]
  }
 ],
 "metadata": {
  "ExecuteTimeLog": [
   {
    "duration": 437,
    "start_time": "2025-05-19T08:45:24.437Z"
   },
   {
    "duration": 2,
    "start_time": "2025-05-19T08:45:30.840Z"
   },
   {
    "duration": 2159,
    "start_time": "2025-05-19T08:45:37.630Z"
   },
   {
    "duration": 357,
    "start_time": "2025-05-19T08:47:38.562Z"
   },
   {
    "duration": 381,
    "start_time": "2025-05-19T08:48:02.431Z"
   },
   {
    "duration": 346,
    "start_time": "2025-05-19T08:48:16.793Z"
   },
   {
    "duration": 333,
    "start_time": "2025-05-19T08:48:32.980Z"
   },
   {
    "duration": 408,
    "start_time": "2025-05-19T08:51:09.523Z"
   },
   {
    "duration": 341,
    "start_time": "2025-05-19T08:51:28.905Z"
   },
   {
    "duration": 1544,
    "start_time": "2025-05-19T08:51:39.489Z"
   },
   {
    "duration": 339,
    "start_time": "2025-05-19T08:51:43.041Z"
   },
   {
    "duration": 1851,
    "start_time": "2025-05-19T08:52:03.863Z"
   },
   {
    "duration": 365,
    "start_time": "2025-05-19T08:52:07.491Z"
   },
   {
    "duration": 382,
    "start_time": "2025-05-19T08:52:54.503Z"
   },
   {
    "duration": 347,
    "start_time": "2025-05-19T08:54:18.628Z"
   },
   {
    "duration": 355,
    "start_time": "2025-05-19T08:54:58.331Z"
   },
   {
    "duration": 338,
    "start_time": "2025-05-19T08:55:35.319Z"
   },
   {
    "duration": 1744,
    "start_time": "2025-05-19T08:57:22.546Z"
   },
   {
    "duration": 322,
    "start_time": "2025-05-19T08:57:32.999Z"
   },
   {
    "duration": 330,
    "start_time": "2025-05-19T08:57:40.634Z"
   },
   {
    "duration": 373,
    "start_time": "2025-05-19T08:58:44.897Z"
   },
   {
    "duration": 366,
    "start_time": "2025-05-19T08:58:53.433Z"
   },
   {
    "duration": 644,
    "start_time": "2025-05-19T08:59:16.197Z"
   },
   {
    "duration": 645,
    "start_time": "2025-05-19T08:59:57.254Z"
   },
   {
    "duration": 651,
    "start_time": "2025-05-19T09:00:12.711Z"
   },
   {
    "duration": 601,
    "start_time": "2025-05-19T09:00:38.764Z"
   },
   {
    "duration": 637,
    "start_time": "2025-05-19T09:00:44.725Z"
   },
   {
    "duration": 549,
    "start_time": "2025-05-19T09:02:35.445Z"
   },
   {
    "duration": 1927,
    "start_time": "2025-05-19T09:02:44.844Z"
   },
   {
    "duration": 619,
    "start_time": "2025-05-19T09:02:49.186Z"
   },
   {
    "duration": 591,
    "start_time": "2025-05-19T09:03:03.116Z"
   },
   {
    "duration": 552,
    "start_time": "2025-05-19T09:03:26.844Z"
   },
   {
    "duration": 1913,
    "start_time": "2025-05-19T09:03:36.314Z"
   },
   {
    "duration": 575,
    "start_time": "2025-05-19T09:03:43.597Z"
   },
   {
    "duration": 627,
    "start_time": "2025-05-19T09:03:55.795Z"
   },
   {
    "duration": 570,
    "start_time": "2025-05-19T09:04:11.129Z"
   },
   {
    "duration": 568,
    "start_time": "2025-05-19T09:04:21.537Z"
   },
   {
    "duration": 565,
    "start_time": "2025-05-19T09:05:08.546Z"
   },
   {
    "duration": 649,
    "start_time": "2025-05-19T09:07:13.093Z"
   },
   {
    "duration": 81,
    "start_time": "2025-05-19T11:07:06.912Z"
   },
   {
    "duration": 60,
    "start_time": "2025-05-19T11:07:20.323Z"
   },
   {
    "duration": 446,
    "start_time": "2025-05-19T11:08:08.975Z"
   },
   {
    "duration": 1928,
    "start_time": "2025-05-19T11:08:10.493Z"
   },
   {
    "duration": 630,
    "start_time": "2025-05-19T11:08:12.423Z"
   },
   {
    "duration": 58,
    "start_time": "2025-05-19T11:08:13.055Z"
   },
   {
    "duration": 64,
    "start_time": "2025-05-19T11:10:43.565Z"
   },
   {
    "duration": 209,
    "start_time": "2025-05-19T11:10:48.059Z"
   },
   {
    "duration": 206,
    "start_time": "2025-05-19T11:14:23.345Z"
   },
   {
    "duration": 199,
    "start_time": "2025-05-19T11:14:32.512Z"
   },
   {
    "duration": 276,
    "start_time": "2025-05-19T11:14:38.530Z"
   },
   {
    "duration": 212,
    "start_time": "2025-05-19T11:14:42.532Z"
   },
   {
    "duration": 81,
    "start_time": "2025-05-19T11:17:46.931Z"
   },
   {
    "duration": 75,
    "start_time": "2025-05-19T11:17:57.245Z"
   },
   {
    "duration": 219,
    "start_time": "2025-05-19T11:18:14.886Z"
   },
   {
    "duration": 51,
    "start_time": "2025-05-19T11:21:00.800Z"
   },
   {
    "duration": 8,
    "start_time": "2025-05-19T11:21:01.731Z"
   },
   {
    "duration": 660,
    "start_time": "2025-05-19T11:21:11.946Z"
   },
   {
    "duration": 1929,
    "start_time": "2025-05-19T11:21:12.607Z"
   },
   {
    "duration": 709,
    "start_time": "2025-05-19T11:21:14.539Z"
   },
   {
    "duration": 299,
    "start_time": "2025-05-19T11:21:15.250Z"
   },
   {
    "duration": 0,
    "start_time": "2025-05-19T11:21:15.551Z"
   },
   {
    "duration": 235,
    "start_time": "2025-05-19T11:21:39.250Z"
   },
   {
    "duration": 646,
    "start_time": "2025-05-19T11:21:58.157Z"
   },
   {
    "duration": 1961,
    "start_time": "2025-05-19T11:21:58.805Z"
   },
   {
    "duration": 675,
    "start_time": "2025-05-19T11:22:00.768Z"
   },
   {
    "duration": 270,
    "start_time": "2025-05-19T11:22:01.445Z"
   },
   {
    "duration": 9,
    "start_time": "2025-05-19T11:23:00.006Z"
   },
   {
    "duration": 73,
    "start_time": "2025-05-19T11:24:50.850Z"
   },
   {
    "duration": 155,
    "start_time": "2025-05-19T11:24:58.278Z"
   },
   {
    "duration": 233,
    "start_time": "2025-05-19T11:25:46.322Z"
   },
   {
    "duration": 165,
    "start_time": "2025-05-19T11:25:56.945Z"
   },
   {
    "duration": 211,
    "start_time": "2025-05-19T11:26:41.895Z"
   },
   {
    "duration": 167,
    "start_time": "2025-05-19T11:26:52.138Z"
   },
   {
    "duration": 185,
    "start_time": "2025-05-19T11:41:21.938Z"
   },
   {
    "duration": 176,
    "start_time": "2025-05-19T11:41:45.251Z"
   },
   {
    "duration": 185,
    "start_time": "2025-05-19T11:41:51.967Z"
   },
   {
    "duration": 9,
    "start_time": "2025-05-19T11:54:18.150Z"
   },
   {
    "duration": 3,
    "start_time": "2025-05-19T11:54:26.884Z"
   },
   {
    "duration": 235,
    "start_time": "2025-05-19T11:55:44.066Z"
   },
   {
    "duration": 260,
    "start_time": "2025-05-19T11:56:20.142Z"
   },
   {
    "duration": 420,
    "start_time": "2025-05-19T11:56:41.331Z"
   },
   {
    "duration": 424,
    "start_time": "2025-05-19T12:01:14.163Z"
   },
   {
    "duration": 864,
    "start_time": "2025-05-20T06:34:06.075Z"
   },
   {
    "duration": 88,
    "start_time": "2025-05-20T07:27:52.767Z"
   },
   {
    "duration": 8,
    "start_time": "2025-05-20T07:28:05.121Z"
   },
   {
    "duration": 386,
    "start_time": "2025-05-20T07:28:14.836Z"
   },
   {
    "duration": 2077,
    "start_time": "2025-05-20T07:28:15.224Z"
   },
   {
    "duration": 594,
    "start_time": "2025-05-20T07:28:17.302Z"
   },
   {
    "duration": 278,
    "start_time": "2025-05-20T07:28:17.897Z"
   },
   {
    "duration": 165,
    "start_time": "2025-05-20T07:28:18.177Z"
   },
   {
    "duration": 180,
    "start_time": "2025-05-20T07:28:18.343Z"
   },
   {
    "duration": 2,
    "start_time": "2025-05-20T07:28:18.525Z"
   },
   {
    "duration": 364,
    "start_time": "2025-05-20T07:28:18.529Z"
   },
   {
    "duration": 15,
    "start_time": "2025-05-20T07:28:19.972Z"
   },
   {
    "duration": 4,
    "start_time": "2025-05-20T07:28:21.594Z"
   },
   {
    "duration": 5,
    "start_time": "2025-05-20T07:29:49.547Z"
   },
   {
    "duration": 4,
    "start_time": "2025-05-20T07:30:03.167Z"
   },
   {
    "duration": 6,
    "start_time": "2025-05-20T08:25:14.767Z"
   },
   {
    "duration": 4,
    "start_time": "2025-05-20T08:25:28.467Z"
   },
   {
    "duration": 4,
    "start_time": "2025-05-20T08:26:16.310Z"
   },
   {
    "duration": 4,
    "start_time": "2025-05-20T08:41:24.160Z"
   },
   {
    "duration": 87,
    "start_time": "2025-05-20T08:43:58.574Z"
   },
   {
    "duration": 4,
    "start_time": "2025-05-20T08:50:39.975Z"
   },
   {
    "duration": 7,
    "start_time": "2025-05-20T08:51:01.892Z"
   },
   {
    "duration": 28,
    "start_time": "2025-05-20T08:51:27.193Z"
   },
   {
    "duration": 6,
    "start_time": "2025-05-20T08:51:42.929Z"
   },
   {
    "duration": 10,
    "start_time": "2025-05-20T08:52:13.905Z"
   },
   {
    "duration": 7,
    "start_time": "2025-05-20T08:52:23.599Z"
   },
   {
    "duration": 6,
    "start_time": "2025-05-20T08:53:52.578Z"
   },
   {
    "duration": 54,
    "start_time": "2025-05-21T09:41:17.581Z"
   },
   {
    "duration": 966,
    "start_time": "2025-05-21T09:41:36.854Z"
   },
   {
    "duration": 2223,
    "start_time": "2025-05-21T09:41:37.825Z"
   },
   {
    "duration": 750,
    "start_time": "2025-05-21T09:41:40.873Z"
   },
   {
    "duration": 446,
    "start_time": "2025-05-21T09:41:45.127Z"
   },
   {
    "duration": 219,
    "start_time": "2025-05-21T09:41:51.887Z"
   },
   {
    "duration": 188,
    "start_time": "2025-05-21T09:42:04.454Z"
   },
   {
    "duration": 5,
    "start_time": "2025-05-21T09:42:15.024Z"
   },
   {
    "duration": 410,
    "start_time": "2025-05-21T09:42:15.491Z"
   },
   {
    "duration": 6,
    "start_time": "2025-05-21T09:42:16.660Z"
   },
   {
    "duration": 522,
    "start_time": "2025-05-21T09:42:20.501Z"
   },
   {
    "duration": 4,
    "start_time": "2025-05-21T09:42:24.074Z"
   },
   {
    "duration": 124,
    "start_time": "2025-05-21T09:42:28.347Z"
   },
   {
    "duration": 8,
    "start_time": "2025-05-21T09:42:29.595Z"
   },
   {
    "duration": 14,
    "start_time": "2025-05-21T09:44:14.842Z"
   },
   {
    "duration": 103,
    "start_time": "2025-05-21T09:45:32.552Z"
   },
   {
    "duration": 9,
    "start_time": "2025-05-21T09:45:37.028Z"
   },
   {
    "duration": 4,
    "start_time": "2025-05-21T09:45:38.981Z"
   },
   {
    "duration": 12,
    "start_time": "2025-05-21T09:45:48.185Z"
   },
   {
    "duration": 5,
    "start_time": "2025-05-21T09:45:59.326Z"
   },
   {
    "duration": 5,
    "start_time": "2025-05-21T09:46:12.775Z"
   },
   {
    "duration": 3,
    "start_time": "2025-05-21T09:46:59.558Z"
   },
   {
    "duration": 5,
    "start_time": "2025-05-21T09:47:06.429Z"
   },
   {
    "duration": 6,
    "start_time": "2025-05-21T09:47:39.159Z"
   },
   {
    "duration": 52,
    "start_time": "2025-05-22T12:50:08.296Z"
   },
   {
    "duration": 906,
    "start_time": "2025-05-22T12:50:33.541Z"
   },
   {
    "duration": 2038,
    "start_time": "2025-05-22T12:50:34.450Z"
   },
   {
    "duration": 675,
    "start_time": "2025-05-22T12:50:36.490Z"
   },
   {
    "duration": 433,
    "start_time": "2025-05-22T12:50:37.167Z"
   },
   {
    "duration": 188,
    "start_time": "2025-05-22T12:50:37.602Z"
   },
   {
    "duration": 210,
    "start_time": "2025-05-22T12:50:37.791Z"
   },
   {
    "duration": 3,
    "start_time": "2025-05-22T12:50:38.003Z"
   },
   {
    "duration": 412,
    "start_time": "2025-05-22T12:50:38.008Z"
   },
   {
    "duration": 5,
    "start_time": "2025-05-22T12:50:38.422Z"
   },
   {
    "duration": 559,
    "start_time": "2025-05-22T12:50:38.440Z"
   },
   {
    "duration": 5,
    "start_time": "2025-05-22T12:50:40.127Z"
   },
   {
    "duration": 93,
    "start_time": "2025-05-22T12:50:42.358Z"
   },
   {
    "duration": 10,
    "start_time": "2025-05-22T12:50:45.707Z"
   },
   {
    "duration": 5,
    "start_time": "2025-05-22T12:50:46.600Z"
   },
   {
    "duration": 120,
    "start_time": "2025-05-22T12:50:49.782Z"
   },
   {
    "duration": 214,
    "start_time": "2025-05-22T12:51:10.988Z"
   },
   {
    "duration": 118,
    "start_time": "2025-05-22T12:54:59.639Z"
   },
   {
    "duration": 59,
    "start_time": "2025-05-22T12:59:01.007Z"
   },
   {
    "duration": 80,
    "start_time": "2025-05-22T13:01:23.625Z"
   },
   {
    "duration": 160,
    "start_time": "2025-05-22T13:01:30.937Z"
   },
   {
    "duration": 183,
    "start_time": "2025-05-22T13:01:34.997Z"
   },
   {
    "duration": 186,
    "start_time": "2025-05-22T13:01:37.457Z"
   },
   {
    "duration": 76,
    "start_time": "2025-05-22T13:01:44.202Z"
   },
   {
    "duration": 70,
    "start_time": "2025-05-22T13:01:58.879Z"
   },
   {
    "duration": 4,
    "start_time": "2025-05-22T13:03:41.334Z"
   },
   {
    "duration": 75,
    "start_time": "2025-05-22T13:04:06.171Z"
   },
   {
    "duration": 74,
    "start_time": "2025-05-22T13:04:21.972Z"
   },
   {
    "duration": 75,
    "start_time": "2025-05-22T13:04:29.257Z"
   },
   {
    "duration": 10,
    "start_time": "2025-05-22T13:09:32.960Z"
   },
   {
    "duration": 16,
    "start_time": "2025-05-22T13:09:57.538Z"
   },
   {
    "duration": 8,
    "start_time": "2025-05-22T13:10:04.703Z"
   },
   {
    "duration": 9,
    "start_time": "2025-05-22T13:10:18.389Z"
   },
   {
    "duration": 189,
    "start_time": "2025-05-22T13:21:15.425Z"
   },
   {
    "duration": 125,
    "start_time": "2025-05-22T13:21:31.421Z"
   },
   {
    "duration": 145,
    "start_time": "2025-05-22T13:22:55.390Z"
   },
   {
    "duration": 166,
    "start_time": "2025-05-22T13:23:26.581Z"
   },
   {
    "duration": 307,
    "start_time": "2025-05-22T13:23:57.625Z"
   },
   {
    "duration": 161,
    "start_time": "2025-05-22T13:25:56.670Z"
   },
   {
    "duration": 180,
    "start_time": "2025-05-22T13:26:29.673Z"
   },
   {
    "duration": 377,
    "start_time": "2025-05-22T13:27:18.212Z"
   },
   {
    "duration": 167,
    "start_time": "2025-05-22T13:30:27.578Z"
   },
   {
    "duration": 223,
    "start_time": "2025-05-22T13:34:36.927Z"
   },
   {
    "duration": 237,
    "start_time": "2025-05-22T13:35:24.992Z"
   },
   {
    "duration": 244,
    "start_time": "2025-05-22T13:35:33.755Z"
   },
   {
    "duration": 223,
    "start_time": "2025-05-22T13:35:59.490Z"
   },
   {
    "duration": 234,
    "start_time": "2025-05-22T13:36:22.279Z"
   },
   {
    "duration": 345,
    "start_time": "2025-05-22T13:36:38.015Z"
   },
   {
    "duration": 239,
    "start_time": "2025-05-22T13:36:52.565Z"
   },
   {
    "duration": 213,
    "start_time": "2025-05-22T13:36:57.751Z"
   },
   {
    "duration": 185,
    "start_time": "2025-05-22T13:37:11.306Z"
   },
   {
    "duration": 210,
    "start_time": "2025-05-22T13:37:38.809Z"
   },
   {
    "duration": 197,
    "start_time": "2025-05-22T13:37:56.087Z"
   },
   {
    "duration": 209,
    "start_time": "2025-05-22T13:38:00.747Z"
   },
   {
    "duration": 206,
    "start_time": "2025-05-22T13:38:04.024Z"
   },
   {
    "duration": 210,
    "start_time": "2025-05-22T13:38:08.016Z"
   },
   {
    "duration": 189,
    "start_time": "2025-05-22T13:39:04.807Z"
   },
   {
    "duration": 197,
    "start_time": "2025-05-22T13:39:09.681Z"
   },
   {
    "duration": 302,
    "start_time": "2025-05-22T13:39:16.330Z"
   },
   {
    "duration": 199,
    "start_time": "2025-05-22T13:39:20.490Z"
   },
   {
    "duration": 217,
    "start_time": "2025-05-22T13:40:13.959Z"
   },
   {
    "duration": 825,
    "start_time": "2025-05-24T07:55:41.717Z"
   },
   {
    "duration": 1934,
    "start_time": "2025-05-24T07:55:42.544Z"
   },
   {
    "duration": 616,
    "start_time": "2025-05-24T07:55:44.479Z"
   },
   {
    "duration": 409,
    "start_time": "2025-05-24T07:55:45.097Z"
   },
   {
    "duration": 191,
    "start_time": "2025-05-24T07:55:45.508Z"
   },
   {
    "duration": 190,
    "start_time": "2025-05-24T07:55:45.700Z"
   },
   {
    "duration": 2,
    "start_time": "2025-05-24T07:55:45.892Z"
   },
   {
    "duration": 374,
    "start_time": "2025-05-24T07:55:45.896Z"
   },
   {
    "duration": 5,
    "start_time": "2025-05-24T07:55:46.273Z"
   },
   {
    "duration": 521,
    "start_time": "2025-05-24T07:55:46.280Z"
   },
   {
    "duration": 4,
    "start_time": "2025-05-24T07:55:46.803Z"
   },
   {
    "duration": 52,
    "start_time": "2025-05-24T07:55:48.523Z"
   },
   {
    "duration": 13,
    "start_time": "2025-05-24T07:55:49.264Z"
   },
   {
    "duration": 4,
    "start_time": "2025-05-24T07:55:49.864Z"
   },
   {
    "duration": 88,
    "start_time": "2025-05-24T07:55:50.474Z"
   },
   {
    "duration": 9,
    "start_time": "2025-05-24T07:55:51.689Z"
   },
   {
    "duration": 201,
    "start_time": "2025-05-24T07:55:53.371Z"
   },
   {
    "duration": 204,
    "start_time": "2025-05-24T07:55:54.983Z"
   },
   {
    "duration": 517,
    "start_time": "2025-05-24T07:57:21.441Z"
   },
   {
    "duration": 32,
    "start_time": "2025-05-24T07:58:17.111Z"
   },
   {
    "duration": 41,
    "start_time": "2025-05-24T07:58:29.456Z"
   },
   {
    "duration": 41,
    "start_time": "2025-05-24T08:01:45.447Z"
   },
   {
    "duration": 102,
    "start_time": "2025-05-24T08:07:55.257Z"
   },
   {
    "duration": 8,
    "start_time": "2025-05-24T08:08:18.518Z"
   },
   {
    "duration": 8,
    "start_time": "2025-05-24T08:08:29.262Z"
   },
   {
    "duration": 40,
    "start_time": "2025-05-24T08:08:34.975Z"
   },
   {
    "duration": 4,
    "start_time": "2025-05-24T08:08:37.225Z"
   },
   {
    "duration": 6,
    "start_time": "2025-05-24T08:08:41.542Z"
   },
   {
    "duration": 39,
    "start_time": "2025-05-24T08:09:05.494Z"
   },
   {
    "duration": 10,
    "start_time": "2025-05-24T08:09:08.756Z"
   },
   {
    "duration": 6,
    "start_time": "2025-05-24T08:10:14.844Z"
   },
   {
    "duration": 3,
    "start_time": "2025-05-24T08:11:10.943Z"
   },
   {
    "duration": 7,
    "start_time": "2025-05-24T08:16:01.626Z"
   },
   {
    "duration": 7,
    "start_time": "2025-05-24T08:19:13.282Z"
   },
   {
    "duration": 4,
    "start_time": "2025-05-24T08:19:44.807Z"
   },
   {
    "duration": 21,
    "start_time": "2025-05-24T08:20:40.774Z"
   },
   {
    "duration": 31,
    "start_time": "2025-05-24T08:22:12.231Z"
   },
   {
    "duration": 33,
    "start_time": "2025-05-24T08:22:31.734Z"
   },
   {
    "duration": 47,
    "start_time": "2025-05-24T08:23:05.184Z"
   },
   {
    "duration": 33,
    "start_time": "2025-05-24T08:23:29.829Z"
   },
   {
    "duration": 31,
    "start_time": "2025-05-24T08:23:47.920Z"
   },
   {
    "duration": 32,
    "start_time": "2025-05-24T08:23:52.103Z"
   },
   {
    "duration": 31,
    "start_time": "2025-05-24T08:24:14.784Z"
   },
   {
    "duration": 6,
    "start_time": "2025-05-24T08:30:30.695Z"
   },
   {
    "duration": 8,
    "start_time": "2025-05-24T08:30:39.278Z"
   },
   {
    "duration": 6,
    "start_time": "2025-05-24T08:31:00.406Z"
   },
   {
    "duration": 307,
    "start_time": "2025-05-24T08:42:30.713Z"
   },
   {
    "duration": 34,
    "start_time": "2025-05-24T08:49:04.043Z"
   },
   {
    "duration": 33,
    "start_time": "2025-05-24T08:49:17.357Z"
   },
   {
    "duration": 32,
    "start_time": "2025-05-24T08:49:44.098Z"
   },
   {
    "duration": 24,
    "start_time": "2025-05-24T08:55:32.352Z"
   },
   {
    "duration": 25,
    "start_time": "2025-05-24T08:55:43.400Z"
   },
   {
    "duration": 50,
    "start_time": "2025-05-24T08:55:53.885Z"
   },
   {
    "duration": 6,
    "start_time": "2025-05-24T09:00:06.836Z"
   },
   {
    "duration": 111,
    "start_time": "2025-05-24T09:00:13.160Z"
   },
   {
    "duration": 15,
    "start_time": "2025-05-24T09:02:32.228Z"
   },
   {
    "duration": 5,
    "start_time": "2025-05-24T09:03:03.669Z"
   },
   {
    "duration": 6,
    "start_time": "2025-05-24T09:03:15.645Z"
   },
   {
    "duration": 48,
    "start_time": "2025-05-25T05:52:20.958Z"
   },
   {
    "duration": 808,
    "start_time": "2025-05-25T05:52:26.526Z"
   },
   {
    "duration": 1920,
    "start_time": "2025-05-25T05:52:27.336Z"
   },
   {
    "duration": 592,
    "start_time": "2025-05-25T05:53:58.900Z"
   },
   {
    "duration": 581,
    "start_time": "2025-05-25T05:54:49.347Z"
   },
   {
    "duration": 348,
    "start_time": "2025-05-25T05:57:10.016Z"
   },
   {
    "duration": 159,
    "start_time": "2025-05-25T05:57:35.657Z"
   },
   {
    "duration": 166,
    "start_time": "2025-05-25T05:59:34.995Z"
   },
   {
    "duration": 158,
    "start_time": "2025-05-25T05:59:48.297Z"
   },
   {
    "duration": 232,
    "start_time": "2025-05-25T06:01:21.226Z"
   },
   {
    "duration": 172,
    "start_time": "2025-05-25T06:01:58.054Z"
   },
   {
    "duration": 39,
    "start_time": "2025-05-25T06:09:14.889Z"
   },
   {
    "duration": 3,
    "start_time": "2025-05-25T06:09:22.289Z"
   },
   {
    "duration": 285,
    "start_time": "2025-05-25T06:09:23.198Z"
   },
   {
    "duration": 32,
    "start_time": "2025-05-25T06:09:25.789Z"
   },
   {
    "duration": 30,
    "start_time": "2025-05-25T06:10:13.759Z"
   },
   {
    "duration": 30,
    "start_time": "2025-05-25T06:10:40.081Z"
   },
   {
    "duration": 32,
    "start_time": "2025-05-25T06:10:44.362Z"
   },
   {
    "duration": 32,
    "start_time": "2025-05-25T06:11:44.306Z"
   },
   {
    "duration": 5,
    "start_time": "2025-05-25T06:13:07.398Z"
   },
   {
    "duration": 4,
    "start_time": "2025-05-25T06:13:15.992Z"
   },
   {
    "duration": 5,
    "start_time": "2025-05-25T06:17:17.030Z"
   },
   {
    "duration": 620,
    "start_time": "2025-05-25T06:17:56.587Z"
   },
   {
    "duration": 1864,
    "start_time": "2025-05-25T06:17:57.209Z"
   },
   {
    "duration": 610,
    "start_time": "2025-05-25T06:17:59.075Z"
   },
   {
    "duration": 346,
    "start_time": "2025-05-25T06:17:59.687Z"
   },
   {
    "duration": 157,
    "start_time": "2025-05-25T06:18:01.128Z"
   },
   {
    "duration": 167,
    "start_time": "2025-05-25T06:18:04.439Z"
   },
   {
    "duration": 3,
    "start_time": "2025-05-25T06:18:09.418Z"
   },
   {
    "duration": 292,
    "start_time": "2025-05-25T06:18:11.073Z"
   },
   {
    "duration": 6,
    "start_time": "2025-05-25T06:18:13.790Z"
   },
   {
    "duration": 316,
    "start_time": "2025-05-25T06:19:14.566Z"
   },
   {
    "duration": 113,
    "start_time": "2025-05-25T06:19:46.509Z"
   },
   {
    "duration": 74,
    "start_time": "2025-05-25T06:19:57.127Z"
   },
   {
    "duration": 76,
    "start_time": "2025-05-25T06:20:14.881Z"
   },
   {
    "duration": 72,
    "start_time": "2025-05-25T06:20:26.877Z"
   },
   {
    "duration": 73,
    "start_time": "2025-05-25T06:22:53.764Z"
   },
   {
    "duration": 483,
    "start_time": "2025-05-25T06:23:03.720Z"
   },
   {
    "duration": 568,
    "start_time": "2025-05-25T06:24:28.299Z"
   },
   {
    "duration": 4,
    "start_time": "2025-05-25T06:25:30.804Z"
   },
   {
    "duration": 4,
    "start_time": "2025-05-25T06:25:51.121Z"
   },
   {
    "duration": 44,
    "start_time": "2025-05-25T06:26:20.203Z"
   },
   {
    "duration": 104,
    "start_time": "2025-05-25T06:26:29.270Z"
   },
   {
    "duration": 9,
    "start_time": "2025-05-25T06:26:31.488Z"
   },
   {
    "duration": 10,
    "start_time": "2025-05-25T06:28:53.594Z"
   },
   {
    "duration": 5,
    "start_time": "2025-05-25T06:33:08.686Z"
   },
   {
    "duration": 128,
    "start_time": "2025-05-25T06:34:27.944Z"
   },
   {
    "duration": 118,
    "start_time": "2025-05-25T06:34:39.100Z"
   },
   {
    "duration": 7,
    "start_time": "2025-05-25T06:35:27.518Z"
   },
   {
    "duration": 30,
    "start_time": "2025-05-25T06:36:20.869Z"
   },
   {
    "duration": 78,
    "start_time": "2025-05-25T06:36:42.274Z"
   },
   {
    "duration": 154,
    "start_time": "2025-05-25T06:37:05.357Z"
   },
   {
    "duration": 9,
    "start_time": "2025-05-25T06:37:25.883Z"
   },
   {
    "duration": 13,
    "start_time": "2025-05-25T06:37:49.621Z"
   },
   {
    "duration": 5,
    "start_time": "2025-05-25T06:37:53.210Z"
   },
   {
    "duration": 10,
    "start_time": "2025-05-25T06:38:12.734Z"
   },
   {
    "duration": 4,
    "start_time": "2025-05-25T06:38:16.055Z"
   },
   {
    "duration": 124,
    "start_time": "2025-05-25T06:39:18.925Z"
   },
   {
    "duration": 14,
    "start_time": "2025-05-25T06:39:36.711Z"
   },
   {
    "duration": 217,
    "start_time": "2025-05-25T06:39:57.527Z"
   },
   {
    "duration": 123,
    "start_time": "2025-05-25T06:40:30.158Z"
   },
   {
    "duration": 131,
    "start_time": "2025-05-25T06:40:41.679Z"
   },
   {
    "duration": 79,
    "start_time": "2025-05-25T06:41:06.838Z"
   },
   {
    "duration": 72,
    "start_time": "2025-05-25T06:41:58.587Z"
   },
   {
    "duration": 74,
    "start_time": "2025-05-25T06:42:39.797Z"
   },
   {
    "duration": 70,
    "start_time": "2025-05-25T06:43:52.460Z"
   },
   {
    "duration": 8,
    "start_time": "2025-05-25T06:45:16.323Z"
   },
   {
    "duration": 195,
    "start_time": "2025-05-25T06:46:49.543Z"
   },
   {
    "duration": 167,
    "start_time": "2025-05-25T06:47:01.848Z"
   },
   {
    "duration": 179,
    "start_time": "2025-05-25T06:49:34.175Z"
   },
   {
    "duration": 202,
    "start_time": "2025-05-25T06:49:40.250Z"
   },
   {
    "duration": 598,
    "start_time": "2025-05-25T06:50:26.434Z"
   },
   {
    "duration": 41,
    "start_time": "2025-05-25T06:50:27.678Z"
   },
   {
    "duration": 2,
    "start_time": "2025-05-25T06:51:51.330Z"
   },
   {
    "duration": 34,
    "start_time": "2025-05-25T07:01:15.807Z"
   },
   {
    "duration": 34,
    "start_time": "2025-05-25T07:02:52.857Z"
   },
   {
    "duration": 59,
    "start_time": "2025-05-25T07:07:24.360Z"
   },
   {
    "duration": 133,
    "start_time": "2025-05-25T07:07:27.280Z"
   },
   {
    "duration": 7,
    "start_time": "2025-05-25T07:08:17.996Z"
   },
   {
    "duration": 5,
    "start_time": "2025-05-25T07:10:41.318Z"
   },
   {
    "duration": 4,
    "start_time": "2025-05-25T07:11:47.919Z"
   },
   {
    "duration": 65,
    "start_time": "2025-05-25T07:13:39.839Z"
   },
   {
    "duration": 1431,
    "start_time": "2025-05-25T13:18:30.152Z"
   },
   {
    "duration": 3853,
    "start_time": "2025-05-25T13:18:31.585Z"
   },
   {
    "duration": 683,
    "start_time": "2025-05-25T13:18:35.440Z"
   },
   {
    "duration": 421,
    "start_time": "2025-05-25T13:18:36.125Z"
   },
   {
    "duration": 185,
    "start_time": "2025-05-25T13:18:36.550Z"
   },
   {
    "duration": 201,
    "start_time": "2025-05-25T13:18:36.738Z"
   },
   {
    "duration": 3,
    "start_time": "2025-05-25T13:18:36.941Z"
   },
   {
    "duration": 360,
    "start_time": "2025-05-25T13:18:36.946Z"
   },
   {
    "duration": 120,
    "start_time": "2025-05-25T13:18:37.308Z"
   },
   {
    "duration": 18,
    "start_time": "2025-05-25T13:18:37.430Z"
   },
   {
    "duration": 22,
    "start_time": "2025-05-25T13:18:37.450Z"
   },
   {
    "duration": 120,
    "start_time": "2025-05-25T13:18:37.474Z"
   },
   {
    "duration": 109,
    "start_time": "2025-05-25T13:18:37.595Z"
   },
   {
    "duration": 0,
    "start_time": "2025-05-25T13:18:37.706Z"
   },
   {
    "duration": 1,
    "start_time": "2025-05-25T13:18:37.707Z"
   },
   {
    "duration": 0,
    "start_time": "2025-05-25T13:18:37.709Z"
   },
   {
    "duration": 0,
    "start_time": "2025-05-25T13:18:37.710Z"
   },
   {
    "duration": 0,
    "start_time": "2025-05-25T13:18:37.711Z"
   },
   {
    "duration": 0,
    "start_time": "2025-05-25T13:18:37.712Z"
   },
   {
    "duration": 0,
    "start_time": "2025-05-25T13:18:37.713Z"
   },
   {
    "duration": 0,
    "start_time": "2025-05-25T13:18:37.714Z"
   },
   {
    "duration": 0,
    "start_time": "2025-05-25T13:18:37.715Z"
   },
   {
    "duration": 0,
    "start_time": "2025-05-25T13:18:37.716Z"
   },
   {
    "duration": 0,
    "start_time": "2025-05-25T13:18:37.718Z"
   },
   {
    "duration": 0,
    "start_time": "2025-05-25T13:18:37.719Z"
   },
   {
    "duration": 4,
    "start_time": "2025-05-25T13:24:06.277Z"
   },
   {
    "duration": 5,
    "start_time": "2025-05-25T13:24:08.325Z"
   },
   {
    "duration": 5,
    "start_time": "2025-05-25T13:25:34.733Z"
   },
   {
    "duration": 5,
    "start_time": "2025-05-25T13:25:37.307Z"
   },
   {
    "duration": 1309,
    "start_time": "2025-05-26T03:10:01.110Z"
   },
   {
    "duration": 1944,
    "start_time": "2025-05-26T03:10:04.464Z"
   },
   {
    "duration": 564,
    "start_time": "2025-05-26T03:10:19.582Z"
   },
   {
    "duration": 542,
    "start_time": "2025-05-26T03:11:16.493Z"
   },
   {
    "duration": 355,
    "start_time": "2025-05-26T03:13:34.371Z"
   },
   {
    "duration": 169,
    "start_time": "2025-05-26T03:13:42.550Z"
   },
   {
    "duration": 163,
    "start_time": "2025-05-26T03:15:16.493Z"
   },
   {
    "duration": 3,
    "start_time": "2025-05-26T03:15:18.095Z"
   },
   {
    "duration": 270,
    "start_time": "2025-05-26T03:15:18.994Z"
   },
   {
    "duration": 75,
    "start_time": "2025-05-26T03:15:19.946Z"
   },
   {
    "duration": 15,
    "start_time": "2025-05-26T03:15:22.772Z"
   },
   {
    "duration": 5,
    "start_time": "2025-05-26T03:15:26.594Z"
   },
   {
    "duration": 70,
    "start_time": "2025-05-26T03:15:40.038Z"
   },
   {
    "duration": 98,
    "start_time": "2025-05-26T03:15:40.977Z"
   },
   {
    "duration": 8,
    "start_time": "2025-05-26T03:15:52.359Z"
   },
   {
    "duration": 2,
    "start_time": "2025-05-26T03:40:40.612Z"
   },
   {
    "duration": 1170,
    "start_time": "2025-05-26T03:42:28.367Z"
   },
   {
    "duration": 4,
    "start_time": "2025-05-26T03:42:41.119Z"
   },
   {
    "duration": 3,
    "start_time": "2025-05-26T03:43:06.646Z"
   },
   {
    "duration": 4,
    "start_time": "2025-05-26T03:43:28.382Z"
   },
   {
    "duration": 287,
    "start_time": "2025-05-26T03:43:46.797Z"
   },
   {
    "duration": 312,
    "start_time": "2025-05-26T03:45:00.462Z"
   },
   {
    "duration": 310,
    "start_time": "2025-05-26T03:45:29.962Z"
   },
   {
    "duration": 160,
    "start_time": "2025-05-26T05:03:31.892Z"
   },
   {
    "duration": 292,
    "start_time": "2025-05-26T05:05:40.730Z"
   },
   {
    "duration": 338,
    "start_time": "2025-05-26T05:05:43.924Z"
   },
   {
    "duration": 51,
    "start_time": "2025-05-26T05:08:14.344Z"
   },
   {
    "duration": 9,
    "start_time": "2025-05-26T05:08:14.598Z"
   },
   {
    "duration": 9,
    "start_time": "2025-05-26T05:08:15.931Z"
   },
   {
    "duration": 4,
    "start_time": "2025-05-26T05:08:33.375Z"
   },
   {
    "duration": 74,
    "start_time": "2025-05-26T05:08:37.831Z"
   },
   {
    "duration": 5,
    "start_time": "2025-05-26T05:09:04.961Z"
   },
   {
    "duration": 85,
    "start_time": "2025-05-26T05:09:05.428Z"
   },
   {
    "duration": 10,
    "start_time": "2025-05-26T05:09:07.654Z"
   },
   {
    "duration": 169,
    "start_time": "2025-05-26T05:09:10.063Z"
   },
   {
    "duration": 184,
    "start_time": "2025-05-26T05:09:11.755Z"
   },
   {
    "duration": 582,
    "start_time": "2025-05-26T05:09:19.274Z"
   },
   {
    "duration": 42,
    "start_time": "2025-05-26T05:09:19.857Z"
   },
   {
    "duration": 42,
    "start_time": "2025-05-26T05:09:20.294Z"
   },
   {
    "duration": 7,
    "start_time": "2025-05-26T05:09:21.063Z"
   },
   {
    "duration": 31,
    "start_time": "2025-05-26T05:09:21.759Z"
   },
   {
    "duration": 49,
    "start_time": "2025-05-26T05:09:22.753Z"
   },
   {
    "duration": 5,
    "start_time": "2025-05-26T05:09:23.379Z"
   },
   {
    "duration": 1210,
    "start_time": "2025-05-26T19:49:13.366Z"
   },
   {
    "duration": 2180,
    "start_time": "2025-05-26T19:49:14.578Z"
   },
   {
    "duration": 658,
    "start_time": "2025-05-26T19:49:16.760Z"
   },
   {
    "duration": 383,
    "start_time": "2025-05-26T19:49:17.420Z"
   },
   {
    "duration": 180,
    "start_time": "2025-05-26T19:49:17.805Z"
   },
   {
    "duration": 191,
    "start_time": "2025-05-26T19:49:17.987Z"
   },
   {
    "duration": 4,
    "start_time": "2025-05-26T19:49:18.180Z"
   },
   {
    "duration": 329,
    "start_time": "2025-05-26T19:49:18.186Z"
   },
   {
    "duration": 119,
    "start_time": "2025-05-26T19:49:18.517Z"
   },
   {
    "duration": 16,
    "start_time": "2025-05-26T19:49:18.638Z"
   },
   {
    "duration": 21,
    "start_time": "2025-05-26T19:49:18.656Z"
   },
   {
    "duration": 95,
    "start_time": "2025-05-26T19:49:18.679Z"
   },
   {
    "duration": 9,
    "start_time": "2025-05-26T19:49:18.776Z"
   },
   {
    "duration": 3,
    "start_time": "2025-05-26T19:49:18.788Z"
   },
   {
    "duration": 89,
    "start_time": "2025-05-26T19:49:18.792Z"
   },
   {
    "duration": 8,
    "start_time": "2025-05-26T19:49:18.883Z"
   },
   {
    "duration": 217,
    "start_time": "2025-05-26T19:49:18.892Z"
   },
   {
    "duration": 227,
    "start_time": "2025-05-26T19:49:19.110Z"
   },
   {
    "duration": 572,
    "start_time": "2025-05-26T19:49:19.339Z"
   },
   {
    "duration": 44,
    "start_time": "2025-05-26T19:49:19.913Z"
   },
   {
    "duration": 57,
    "start_time": "2025-05-26T19:49:19.959Z"
   },
   {
    "duration": 9,
    "start_time": "2025-05-26T19:49:20.018Z"
   },
   {
    "duration": 74,
    "start_time": "2025-05-26T19:49:20.029Z"
   },
   {
    "duration": 61,
    "start_time": "2025-05-26T19:49:20.106Z"
   },
   {
    "duration": 6,
    "start_time": "2025-05-26T19:49:20.176Z"
   }
  ],
  "colab": {
   "provenance": []
  },
  "kernelspec": {
   "display_name": "Python 3 (ipykernel)",
   "language": "python",
   "name": "python3"
  },
  "language_info": {
   "codemirror_mode": {
    "name": "ipython",
    "version": 3
   },
   "file_extension": ".py",
   "mimetype": "text/x-python",
   "name": "python",
   "nbconvert_exporter": "python",
   "pygments_lexer": "ipython3",
   "version": "3.12.7"
  },
  "toc": {
   "base_numbering": 1,
   "nav_menu": {},
   "number_sections": true,
   "sideBar": true,
   "skip_h1_title": true,
   "title_cell": "Table of Contents",
   "title_sidebar": "Contents",
   "toc_cell": false,
   "toc_position": {},
   "toc_section_display": true,
   "toc_window_display": true
  }
 },
 "nbformat": 4,
 "nbformat_minor": 4
}
