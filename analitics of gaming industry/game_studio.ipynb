{
 "cells": [
  {
   "cell_type": "markdown",
   "id": "af30e73b-0825-49ec-a178-c607432dd2f6",
   "metadata": {},
   "source": [
    "# Изучение развития игровой индустрии для \"Секретов Темнолесья\""
   ]
  },
  {
   "cell_type": "markdown",
   "id": "67312806-0d59-48f4-ab9b-90759386f1d9",
   "metadata": {},
   "source": [
    "## Задача\n",
    "Познакомиться с данными, проверить их корректность и провести предобработку, получив необходимый срез данных."
   ]
  },
  {
   "cell_type": "markdown",
   "id": "fdc539d7-9093-400f-aa33-382487ff278d",
   "metadata": {},
   "source": [
    "### Содержание проекта\n",
    "1. Загрузка и знакомство с данными\n",
    "2. Проверка ошибок в данных и их предобработка\n",
    "3. Фильтрация данных\n",
    "4. Категоризация данных"
   ]
  },
  {
   "cell_type": "markdown",
   "id": "c84f0c71-e82f-4010-a635-18b45b93d932",
   "metadata": {},
   "source": [
    "## Загрузка и знакомство с данными"
   ]
  },
  {
   "cell_type": "code",
   "execution_count": 1,
   "id": "c67283cb-3dd7-453c-a174-e9c5e6f96eb2",
   "metadata": {},
   "outputs": [],
   "source": [
    "import pandas as pd"
   ]
  },
  {
   "cell_type": "code",
   "execution_count": 3,
   "id": "4aee0c59-5c41-42ba-85c1-897582d45819",
   "metadata": {},
   "outputs": [
    {
     "name": "stdout",
     "output_type": "stream",
     "text": [
      "<class 'pandas.core.frame.DataFrame'>\n",
      "RangeIndex: 16956 entries, 0 to 16955\n",
      "Data columns (total 11 columns):\n",
      " #   Column           Non-Null Count  Dtype  \n",
      "---  ------           --------------  -----  \n",
      " 0   Name             16954 non-null  object \n",
      " 1   Platform         16956 non-null  object \n",
      " 2   Year of Release  16681 non-null  float64\n",
      " 3   Genre            16954 non-null  object \n",
      " 4   NA sales         16956 non-null  float64\n",
      " 5   EU sales         16956 non-null  object \n",
      " 6   JP sales         16956 non-null  object \n",
      " 7   Other sales      16956 non-null  float64\n",
      " 8   Critic Score     8242 non-null   float64\n",
      " 9   User Score       10152 non-null  object \n",
      " 10  Rating           10085 non-null  object \n",
      "dtypes: float64(4), object(7)\n",
      "memory usage: 1.4+ MB\n"
     ]
    }
   ],
   "source": [
    "df.info()"
   ]
  },
  {
   "cell_type": "markdown",
   "id": "ea99a30c-2a96-4e77-98ba-933f2027ff28",
   "metadata": {},
   "source": [
    "### Вывод о полученных данных\n",
    "Объем данного датасета 16956 строк и 11 столбцов. Данные соответствуют описанию.\n",
    "Пропуски присудствуют в следующих столбцах:\n",
    " - `Name` \n",
    " - `Year of Release` \n",
    " - `Genre` \n",
    " - `Critic Score` \n",
    " - `User Score` \n",
    " - `Rating` \\\n",
    "Также в некоторых столбцах имеются неверные типы данных, а именно в `Year of Release` стоит заменить тип float на int, так как номер года - целое число, в `EU sales`, `JP sales`, `User Score` следует заменить тип object на float "
   ]
  },
  {
   "cell_type": "code",
   "execution_count": 4,
   "id": "a0197caa-cc50-41e1-a4cb-106adc42c8fe",
   "metadata": {},
   "outputs": [],
   "source": [
    "# Изменим названия столбцов на более удобные для работы\n",
    "df = df.rename(columns={\n",
    "    'Name': 'name',\n",
    "    'Platform': 'platform',\n",
    "    'Year of Release': 'year_of_release',\n",
    "    'Genre': 'genre',\n",
    "    'NA sales': 'NA_sales',\n",
    "    'EU sales': 'EU_sales',\n",
    "    'JP sales': 'JP_sales',\n",
    "    'Other sales': 'other_sales',\n",
    "    'Critic Score': 'critic_score',\n",
    "    'User Score': 'user_score', \n",
    "    'Rating': 'rating'\n",
    "})"
   ]
  },
  {
   "cell_type": "markdown",
   "id": "b4520679-c224-4aab-acd1-5ea9034c2be4",
   "metadata": {},
   "source": [
    "## Проверка ошибок в данных и их предобработка"
   ]
  },
  {
   "cell_type": "markdown",
   "id": "c3572601-9021-4ecf-82f9-1a795f32e6e3",
   "metadata": {},
   "source": [
    "### Названий стобцов"
   ]
  },
  {
   "cell_type": "code",
   "execution_count": 6,
   "id": "41259ca4-089c-4ff9-9456-8c3abb82ade6",
   "metadata": {},
   "outputs": [
    {
     "data": {
      "text/plain": [
       "Index(['name', 'platform', 'year_of_release', 'genre', 'NA_sales', 'EU_sales',\n",
       "       'JP_sales', 'other_sales', 'critic_score', 'user_score', 'rating'],\n",
       "      dtype='object')"
      ]
     },
     "execution_count": 6,
     "metadata": {},
     "output_type": "execute_result"
    }
   ],
   "source": [
    "df.columns"
   ]
  },
  {
   "cell_type": "markdown",
   "id": "e3fa0b93-ab93-4900-b2fa-e5a4caf39dfa",
   "metadata": {},
   "source": [
    "### Типы данных"
   ]
  },
  {
   "cell_type": "code",
   "execution_count": 7,
   "id": "ff2e4fb0-f374-4264-9384-3bc0f952d5dc",
   "metadata": {},
   "outputs": [
    {
     "name": "stdout",
     "output_type": "stream",
     "text": [
      "<class 'pandas.core.frame.DataFrame'>\n",
      "RangeIndex: 16956 entries, 0 to 16955\n",
      "Data columns (total 11 columns):\n",
      " #   Column           Non-Null Count  Dtype  \n",
      "---  ------           --------------  -----  \n",
      " 0   name             16954 non-null  object \n",
      " 1   platform         16956 non-null  object \n",
      " 2   year_of_release  16681 non-null  float64\n",
      " 3   genre            16954 non-null  object \n",
      " 4   NA_sales         16956 non-null  float64\n",
      " 5   EU_sales         16956 non-null  object \n",
      " 6   JP_sales         16956 non-null  object \n",
      " 7   other_sales      16956 non-null  float64\n",
      " 8   critic_score     8242 non-null   float64\n",
      " 9   user_score       10152 non-null  object \n",
      " 10  rating           10085 non-null  object \n",
      "dtypes: float64(4), object(7)\n",
      "memory usage: 1.4+ MB\n"
     ]
    }
   ],
   "source": [
    "df.info()"
   ]
  },
  {
   "cell_type": "markdown",
   "id": "a80e046f-6b23-4280-845d-6d0a8ace089e",
   "metadata": {},
   "source": [
    "В столбце year_of_release имеются пропуски, поэтому нельзя сразу привести его к типу int, сначало следует поработать с пропусками. В столбцах year_of_release, EU_sales, JP_sales, user_score имеются неправильные типы данных, узнаем причину почему числовые данные имеют не числовой тип"
   ]
  },
  {
   "cell_type": "code",
   "execution_count": 8,
   "id": "33636cb4-ab9c-47d4-a908-28548bff43b2",
   "metadata": {},
   "outputs": [
    {
     "data": {
      "text/plain": [
       "array(['28.96', '3.58', '12.76', '10.93', '8.89', '2.26', '9.14', '9.18',\n",
       "       '6.94', '0.63', '10.95', '7.47', '6.18', '8.03', '4.89', '8.49',\n",
       "       '9.09', '0.4', '3.75', '9.2', '4.46', '2.71', '3.44', '5.14',\n",
       "       '5.49', '3.9', '5.35', '3.17', '5.09', '4.24', '5.04', '5.86',\n",
       "       '3.68', '4.19', '5.73', '3.59', '4.51', '2.55', '4.02', '4.37',\n",
       "       '6.31', '3.45', '2.81', '2.85', '3.49', '0.01', '3.35', '2.04',\n",
       "       '3.07', '3.87', '3.0', '4.82', '3.64', '2.15', '3.69', '2.65',\n",
       "       '2.56', '3.11', '3.14', '1.94', '1.95', '2.47', '2.28', '3.42',\n",
       "       '3.63', '2.36', '1.71', '1.85', '2.79', '1.24', '6.12', '1.53',\n",
       "       '3.47', '2.24', '5.01', '2.01', '1.72', '2.07', '6.42', '3.86',\n",
       "       '0.45', '3.48', '1.89', '5.75', '2.17', '1.37', '2.35', '1.18',\n",
       "       '2.11', '1.88', '2.83', '2.99', '2.89', '3.27', '2.22', '2.14',\n",
       "       '1.45', '1.75', '1.04', '1.77', '3.02', '2.75', '2.16', '1.9',\n",
       "       '2.59', '2.2', '4.3', '0.93', '2.53', '2.52', '1.79', '1.3', '2.6',\n",
       "       '1.58', '1.2', '1.56', '1.34', '1.26', '0.83', '6.21', '2.8',\n",
       "       '1.59', '1.73', '4.33', '1.83', '0.0', '2.18', '1.98', '1.47',\n",
       "       '0.67', '1.55', '1.91', '0.69', '0.6', '1.93', '1.64', '0.55',\n",
       "       '2.19', '1.11', '2.29', '2.5', '0.96', '1.21', '1.12', '0.77',\n",
       "       '1.69', '1.08', '0.79', '2.37', '2.46', '0.26', '0.75', '1.25',\n",
       "       '2.43', '0.98', '0.74', '2.23', '0.61', '2.45', '1.41', '1.8',\n",
       "       '3.28', '1.16', '1.99', '1.38', '1.36', '1.17', '1.19', '0.99',\n",
       "       '1.68', '2.0', '1.33', '1.57', '1.48', '2.1', '1.27', '1.97',\n",
       "       '0.91', '1.39', '1.96', '0.24', '1.51', '0.14', '1.29', '2.39',\n",
       "       '1.03', '0.5', '0.58', '1.31', '2.02', '1.32', '1.01', '2.27',\n",
       "       '2.3', '1.82', '2.78', '0.44', '0.48', '0.27', '0.21', '2.48',\n",
       "       '0.51', '1.52', '0.04', '0.28', '1.35', '0.87', '2.13', '1.13',\n",
       "       '1.76', '0.76', '2.12', '0.66', '1.6', '1.44', '1.43', '1.7',\n",
       "       '0.47', '1.87', '0.86', '0.73', '1.28', '0.81', '1.09', '0.68',\n",
       "       '1.22', '1.4', '1.02', '1.49', '1.14', '0.49', '0.9', '0.38',\n",
       "       '1.42', '0.95', '1.62', '0.71', '1.05', '0.92', '0.33', '0.3',\n",
       "       '1.67', '1.0', '0.89', '0.1', '0.72', '0.59', '0.56', '0.16',\n",
       "       '0.97', '0.62', 'unknown', '0.85', '0.94', '0.88', '0.84', '1.06',\n",
       "       '0.2', '1.15', '0.8', '1.1', '0.7', '1.92', '0.32', '0.15', '0.53',\n",
       "       '0.09', '1.46', '0.29', '0.22', '1.23', '0.07', '0.17', '0.54',\n",
       "       '0.36', '0.31', '1.84', '0.52', '0.11', '0.64', '0.12', '2.05',\n",
       "       '1.63', '0.82', '0.08', '0.57', '1.65', '0.19', '0.02', '0.43',\n",
       "       '0.25', '1.5', '0.18', '0.39', '0.13', '1.07', '0.46', '0.41',\n",
       "       '0.06', '0.03', '0.37', '0.05', '0.23', '0.65', '0.42', '0.34',\n",
       "       '0.35', '0.78'], dtype=object)"
      ]
     },
     "metadata": {},
     "output_type": "display_data"
    },
    {
     "data": {
      "text/plain": [
       "array(['3.77', '6.81', '3.79', '3.28', '10.22', '4.22', '6.5', '2.93',\n",
       "       '4.7', '0.28', '1.93', '4.13', '7.2', '3.6', '0.24', '2.53',\n",
       "       '0.98', '0.41', '3.54', '4.16', '6.04', '4.18', '3.84', '0.06',\n",
       "       '0.47', '5.38', '5.32', '5.65', '1.87', '0.13', '3.12', '0.36',\n",
       "       '0.11', '4.35', '0.65', '0.07', '0.08', '0.49', '0.3', '2.66',\n",
       "       '2.69', '0.48', '0.38', '5.33', '1.91', '3.96', '3.1', '1.1',\n",
       "       '1.2', '0.14', '2.54', '2.14', '0.81', '2.12', '0.44', '3.15',\n",
       "       '1.25', '0.04', '0.0', '2.47', '2.23', '1.69', '0.01', '3.0',\n",
       "       '0.02', '4.39', '1.98', '0.1', '3.81', '0.05', '2.49', '1.58',\n",
       "       '3.14', '2.73', '0.66', '0.22', '3.63', '1.45', '1.31', '2.43',\n",
       "       '0.7', '0.35', '1.4', '0.6', '2.26', '1.42', '1.28', '1.39',\n",
       "       '0.87', '0.17', '0.94', '0.19', '0.21', '1.6', '0.16', '1.03',\n",
       "       '0.25', '2.06', '1.49', '1.29', '0.09', '2.87', '0.03', '0.78',\n",
       "       '0.83', '2.33', '2.02', '1.36', '1.81', '1.97', '0.91', '0.99',\n",
       "       '0.95', '2.0', '1.01', '2.78', '2.11', '1.09', '0.2', '1.9',\n",
       "       '1.27', '3.61', '1.57', '2.2', '1.7', '1.08', '0.15', '1.11',\n",
       "       '0.29', '1.54', '0.12', '0.89', '4.87', '1.52', '1.32', '1.15',\n",
       "       '4.1', '1.46', '0.46', '1.05', '1.61', '0.26', '1.38', '0.62',\n",
       "       '0.73', '0.57', '0.31', '0.58', '1.76', '2.1', '0.9', '0.51',\n",
       "       '0.64', '2.46', '0.23', '0.37', '0.92', '1.07', '2.62', '1.12',\n",
       "       '0.54', '0.27', '0.59', '3.67', '0.55', '1.75', '3.44', '0.33',\n",
       "       '2.55', '2.32', '2.79', '0.74', '3.18', '0.82', '0.77', '0.4',\n",
       "       '2.35', '3.19', '0.8', '0.76', '3.03', '0.88', 'unknown', '0.45',\n",
       "       '1.16', '0.34', '1.19', '1.13', '2.13', '1.96', '0.71', '1.04',\n",
       "       '2.68', '0.68', '2.65', '0.96', '2.41', '0.52', '0.18', '1.34',\n",
       "       '1.48', '2.34', '1.06', '1.21', '2.29', '1.63', '2.05', '2.17',\n",
       "       '1.56', '1.35', '1.33', '0.63', '0.79', '0.75', '0.53', '1.53',\n",
       "       '1.3', '0.39', '0.69', '0.42', '0.93', '0.56', '0.84', '0.72',\n",
       "       '0.32', '1.71', '1.65', '0.61', '1.51', '1.5', '1.44', '1.24',\n",
       "       '1.18', '1.37', '1.0', '1.26', '0.85', '0.43', '0.67', '1.14',\n",
       "       '0.86', '1.17', '0.5', '1.02', '0.97'], dtype=object)"
      ]
     },
     "metadata": {},
     "output_type": "display_data"
    },
    {
     "data": {
      "text/plain": [
       "array(['8', nan, '8.3', '8.5', '6.6', '8.4', '8.6', '7.7', '6.3', '7.4',\n",
       "       '8.2', '9', '7.9', '8.1', '8.7', '7.1', '3.4', '5.3', '4.8', '3.2',\n",
       "       '8.9', '6.4', '7.8', '7.5', '2.6', '7.2', '9.2', '7', '7.3', '4.3',\n",
       "       '7.6', '5.7', '5', '9.1', '6.5', 'tbd', '8.8', '6.9', '9.4', '6.8',\n",
       "       '6.1', '6.7', '5.4', '4', '4.9', '4.5', '9.3', '6.2', '4.2', '6',\n",
       "       '3.7', '4.1', '5.8', '5.6', '5.5', '4.4', '4.6', '5.9', '3.9',\n",
       "       '3.1', '2.9', '5.2', '3.3', '4.7', '5.1', '3.5', '2.5', '1.9', '3',\n",
       "       '2.7', '2.2', '2', '9.5', '2.1', '3.6', '2.8', '1.8', '3.8', '0',\n",
       "       '1.6', '9.6', '2.4', '1.7', '1.1', '0.3', '1.5', '0.7', '1.2',\n",
       "       '2.3', '0.5', '1.3', '0.2', '0.6', '1.4', '0.9', '1', '9.7'],\n",
       "      dtype=object)"
      ]
     },
     "metadata": {},
     "output_type": "display_data"
    }
   ],
   "source": [
    "for col in ['EU_sales', 'JP_sales', 'user_score']:\n",
    "    display(df[col].unique())"
   ]
  },
  {
   "cell_type": "markdown",
   "id": "5801038a-2632-48a8-aa25-52af9bd49ce7",
   "metadata": {},
   "source": [
    "####  Промежуточный вывод\n",
    "В столбцах EU_sales, JP_sales имеется строковое значение 'unknown' из-за этого тип столбца object. В столбце же user_score имеется строкое значение 'tbd' - это означает что пользовательский рейтинг еще не определен, возможно игра еще не вышла на рынок. Чтобы избежать ошибок при замене типов импользуем значение параметра errors='coerce', таким образом строковые значения будут заменены на пропуски"
   ]
  },
  {
   "cell_type": "code",
   "execution_count": 9,
   "id": "6b98cbd7-1575-4308-b8f6-386f85b498cb",
   "metadata": {},
   "outputs": [],
   "source": [
    "# преобразуем данные к типам которые упомянуты выше\n",
    "for column in ['EU_sales', 'JP_sales', 'user_score']:\n",
    "    df[column] = pd.to_numeric(df[column], downcast='float', errors='coerce')"
   ]
  },
  {
   "cell_type": "code",
   "execution_count": 10,
   "id": "6393862a-c17f-4351-bc88-36ddb5ed9496",
   "metadata": {},
   "outputs": [
    {
     "data": {
      "text/plain": [
       "name                object\n",
       "platform            object\n",
       "year_of_release    float64\n",
       "genre               object\n",
       "NA_sales           float64\n",
       "EU_sales           float32\n",
       "JP_sales           float32\n",
       "other_sales        float64\n",
       "critic_score       float64\n",
       "user_score         float32\n",
       "rating              object\n",
       "dtype: object"
      ]
     },
     "execution_count": 10,
     "metadata": {},
     "output_type": "execute_result"
    }
   ],
   "source": [
    "# Проверка преобразования типов\n",
    "df.dtypes"
   ]
  },
  {
   "cell_type": "markdown",
   "id": "f23e0052-ec93-4c2a-9d70-c49eb5cd0c1c",
   "metadata": {},
   "source": [
    "####  Промежуточный вывод\n",
    "Все столбцы преобразованы к подходящему типу данных, кроме year_of_release, он будет преобразован к типу int после обработки пропусков"
   ]
  },
  {
   "cell_type": "markdown",
   "id": "ebb07c50-21e8-46d1-9f8a-45c281e426b3",
   "metadata": {},
   "source": [
    "### Наличия пропусков в данных"
   ]
  },
  {
   "cell_type": "code",
   "execution_count": 11,
   "id": "cbb1a52f-8b27-481e-a572-88d4ed14e9cb",
   "metadata": {},
   "outputs": [
    {
     "data": {
      "text/plain": [
       "name                  2\n",
       "platform              0\n",
       "year_of_release     275\n",
       "genre                 2\n",
       "NA_sales              0\n",
       "EU_sales              6\n",
       "JP_sales              4\n",
       "other_sales           0\n",
       "critic_score       8714\n",
       "user_score         9268\n",
       "rating             6871\n",
       "dtype: int64"
      ]
     },
     "metadata": {},
     "output_type": "display_data"
    },
    {
     "data": {
      "text/plain": [
       "name                0.011795\n",
       "platform            0.000000\n",
       "year_of_release     1.621845\n",
       "genre               0.011795\n",
       "NA_sales            0.000000\n",
       "EU_sales            0.035386\n",
       "JP_sales            0.023590\n",
       "other_sales         0.000000\n",
       "critic_score       51.391838\n",
       "user_score         54.659118\n",
       "rating             40.522529\n",
       "dtype: float64"
      ]
     },
     "metadata": {},
     "output_type": "display_data"
    }
   ],
   "source": [
    "display(df.isna().sum(), df.isna().sum() / df.shape[0] * 100)"
   ]
  },
  {
   "cell_type": "markdown",
   "id": "1ada36f5-695d-4a36-a04c-9b0ae5f09399",
   "metadata": {},
   "source": [
    "####  Промежуточный вывод\n",
    "Пропуски присудствуют в следующих столбцах:\n",
    " - `name` (0.01%)\n",
    " - `year_of_release` (1.62%)\n",
    " - `genre` (0.01%)\n",
    " - `EU_sales` (0.04%)\n",
    " - `JP_sales` (0.024%)\n",
    " - `critic_score` (более 50%)\n",
    " - `user_score` (54%)\n",
    " - `rating` (41%) \\\n",
    "Пропуски в столбцах JP_sales и EU_sales объясняются тем, что при замене типов мы заменили строковы значения на пропуски, их заполним средним значением по году и платформе \\\n",
    "Столбцы name и genre имеют одинаковое количество пропусков, возможно эти пропуски содержатся в одних и тех же строках"
   ]
  },
  {
   "cell_type": "code",
   "execution_count": 13,
   "id": "3aa0793e-dbdd-4b73-99b1-aa3a40acd73c",
   "metadata": {},
   "outputs": [],
   "source": [
    "# Проверим предположение вышем\n",
    "df[df['name'].isna()]\n",
    "missed_name = df[df['name'].isna()].shape[0]"
   ]
  },
  {
   "cell_type": "markdown",
   "id": "07b42200-a4a3-49c4-959d-923f393de31b",
   "metadata": {},
   "source": [
    "Дела обстоят так, как и предполагалось. И так как и жанр, и имя игры отсудствуют мы не можем их однозначно идентифицировать, следовательно такие строки следует удалить"
   ]
  },
  {
   "cell_type": "code",
   "execution_count": 14,
   "id": "e50114a2-26e6-44b3-b31f-d6f3a7db7d3f",
   "metadata": {},
   "outputs": [],
   "source": [
    "#Проверим столбец year_of_release\n",
    "df[df['year_of_release'].isna()].head(20)\n",
    "missed_year = df[df['year_of_release'].isna()].shape[0]"
   ]
  },
  {
   "cell_type": "markdown",
   "id": "9ae8ae78-1529-4520-b195-f29ac5cee0a4",
   "metadata": {},
   "source": [
    "Как видно выше в большенстве игр год содержится в названии, пропуски в столбце могут объясняться этим. Поскольку данных столбец имеет лишь 1.62% пропусков, удалим пропущенные значения"
   ]
  },
  {
   "cell_type": "markdown",
   "id": "b26865bb-54f0-4430-9345-3dcff1aaefda",
   "metadata": {},
   "source": [
    "В столбцах critic_score, user_score пропуски возможно вызваны тем, что в источниках просто не было оценок критиков и игроков и возрастного рейтинга. В столбцах critic_score, user_score на индикаторное значение -1. "
   ]
  },
  {
   "cell_type": "markdown",
   "id": "86be1e86-9256-47bd-ac3d-6d899b80e00c",
   "metadata": {},
   "source": [
    "В столбце rating представлены значения рейтинга организации ESRB, эта система  действует с 1994 года и используется в США, Канаде и Мексике, соотвественно для игр из других стран в этом столбце будет пропуск. Заполним его заглушкой 'absent'"
   ]
  },
  {
   "cell_type": "code",
   "execution_count": 15,
   "id": "5ddd004f-e15c-4a90-981f-b48e19c2a2e3",
   "metadata": {},
   "outputs": [],
   "source": [
    "# удалим строки с играми без названия и жанра\n",
    "df = df[~(df['name'].isna())]"
   ]
  },
  {
   "cell_type": "code",
   "execution_count": 16,
   "id": "1acb29e2-0da4-418b-885b-73903a921c69",
   "metadata": {},
   "outputs": [],
   "source": [
    "# удалим строки с играми без года и приведем столбец к типу int\n",
    "df = df[~(df['year_of_release'].isna())]\n",
    "df['year_of_release'] = pd.to_numeric(df['year_of_release'], downcast='integer')"
   ]
  },
  {
   "cell_type": "code",
   "execution_count": 17,
   "id": "50780e74-fc26-4609-9f0b-1530fa16ef9e",
   "metadata": {},
   "outputs": [],
   "source": [
    "# Заполним пропуски в столбцах critic_score, user_score индикаторным значением -1\n",
    "for column in ['critic_score', 'user_score']:\n",
    "    df[column] = df[column].fillna(-1)"
   ]
  },
  {
   "cell_type": "code",
   "execution_count": 18,
   "id": "585f8be4-23f0-4f91-8f64-ecec4f8ae61a",
   "metadata": {},
   "outputs": [],
   "source": [
    "# Заполним пропуски в столбцe EU_sales средним значением продаж по году и платформе \n",
    "def mean_group_EU(row):\n",
    "    if pd.isna(row['EU_sales']):\n",
    "        group = df[(df['platform'] == row['platform']) & (df['year_of_release'] == row['year_of_release'])]\n",
    "        return group['EU_sales'].mean()\n",
    "    else: \n",
    "        return row['EU_sales']\n",
    "df['EU_sales'] = df.apply(mean_group_EU, axis=1)"
   ]
  },
  {
   "cell_type": "code",
   "execution_count": 19,
   "id": "bdce41d0-6ca2-4ee6-acbd-a014ed66211c",
   "metadata": {},
   "outputs": [],
   "source": [
    "# Заполним пропуски в столбцe JP_sales средним значением продаж по году и платформе \n",
    "def mean_group_JP(row):\n",
    "    if pd.isna(row['JP_sales']):\n",
    "        group = df[(df['platform'] == row['platform']) & (df['year_of_release'] == row['year_of_release'])]\n",
    "        return group['JP_sales'].mean()\n",
    "    else:\n",
    "        return row['JP_sales']\n",
    "df['JP_sales'] = df.apply(mean_group_JP, axis=1)"
   ]
  },
  {
   "cell_type": "code",
   "execution_count": 20,
   "id": "f88316fb-13a5-49f6-8076-1111245ffe54",
   "metadata": {},
   "outputs": [],
   "source": [
    "# Заполним пропуски в столбце rating заглушкой 'absent'\n",
    "df['rating'] = df['rating'].fillna('absent')"
   ]
  },
  {
   "cell_type": "code",
   "execution_count": 21,
   "id": "373597f6-06e3-40cf-b3c7-ddb39c7fa7e9",
   "metadata": {},
   "outputs": [
    {
     "data": {
      "text/plain": [
       "name               0\n",
       "platform           0\n",
       "year_of_release    0\n",
       "genre              0\n",
       "NA_sales           0\n",
       "EU_sales           0\n",
       "JP_sales           0\n",
       "other_sales        0\n",
       "critic_score       0\n",
       "user_score         0\n",
       "rating             0\n",
       "dtype: int64"
      ]
     },
     "execution_count": 21,
     "metadata": {},
     "output_type": "execute_result"
    }
   ],
   "source": [
    "df.isna().sum()"
   ]
  },
  {
   "cell_type": "code",
   "execution_count": 22,
   "id": "7b9376ce-8ea0-428c-85a6-8293800a33b0",
   "metadata": {},
   "outputs": [
    {
     "data": {
      "text/plain": [
       "1.63"
      ]
     },
     "execution_count": 22,
     "metadata": {},
     "output_type": "execute_result"
    }
   ],
   "source": [
    "# Подсчитаем поличество удаленных строк в относительном значении\n",
    "round((missed_name + missed_year) / lenght * 100, 2)"
   ]
  },
  {
   "cell_type": "markdown",
   "id": "8ccf1442-67b7-43d5-8e6b-6800503043e4",
   "metadata": {},
   "source": [
    "####  Промежуточный вывод\n",
    "Все пропуски обработаны. Удалено 1.63% строк. На данный момент количество пропусков в каждом столбце 0"
   ]
  },
  {
   "cell_type": "markdown",
   "id": "8d04f544-0904-40b8-88bf-9784d52e8f45",
   "metadata": {},
   "source": [
    "### Явные и неявные дубликаты в данных"
   ]
  },
  {
   "cell_type": "code",
   "execution_count": 23,
   "id": "e01eccb5-389d-4c04-8008-56dad9621763",
   "metadata": {},
   "outputs": [
    {
     "data": {
      "text/plain": [
       "array(['Sports', 'Platform', 'Racing', 'Role-Playing', 'Puzzle', 'Misc',\n",
       "       'Shooter', 'Simulation', 'Action', 'Fighting', 'Adventure',\n",
       "       'Strategy', 'MISC', 'ROLE-PLAYING', 'RACING', 'ACTION', 'SHOOTER',\n",
       "       'FIGHTING', 'SPORTS', 'PLATFORM', 'ADVENTURE', 'SIMULATION',\n",
       "       'PUZZLE', 'STRATEGY'], dtype=object)"
      ]
     },
     "execution_count": 23,
     "metadata": {},
     "output_type": "execute_result"
    }
   ],
   "source": [
    "## Проверим категориальные данные на наличие неявных дубликатов\n",
    "df['genre'].unique()"
   ]
  },
  {
   "cell_type": "code",
   "execution_count": 24,
   "id": "62e942ab-ae28-4eb4-8cb2-e9ac1206b800",
   "metadata": {},
   "outputs": [
    {
     "data": {
      "text/plain": [
       "array(['Wii', 'NES', 'GB', 'DS', 'X360', 'PS3', 'PS2', 'SNES', 'GBA',\n",
       "       'PS4', '3DS', 'N64', 'PS', 'XB', 'PC', '2600', 'PSP', 'XOne',\n",
       "       'WiiU', 'GC', 'GEN', 'DC', 'PSV', 'SAT', 'SCD', 'WS', 'NG', 'TG16',\n",
       "       '3DO', 'GG', 'PCFX'], dtype=object)"
      ]
     },
     "execution_count": 24,
     "metadata": {},
     "output_type": "execute_result"
    }
   ],
   "source": [
    "df['platform'].unique()"
   ]
  },
  {
   "cell_type": "code",
   "execution_count": 25,
   "id": "b40b28cf-5882-4ab5-8f4e-22e21c4c64b5",
   "metadata": {},
   "outputs": [
    {
     "data": {
      "text/plain": [
       "array([2006, 1985, 2008, 2009, 1996, 1989, 1984, 2005, 1999, 2007, 2010,\n",
       "       2013, 2004, 1990, 1988, 2002, 2001, 2011, 1998, 2015, 2012, 2014,\n",
       "       1992, 1997, 1993, 1994, 1982, 2016, 2003, 1986, 2000, 1995, 1991,\n",
       "       1981, 1987, 1980, 1983], dtype=int16)"
      ]
     },
     "execution_count": 25,
     "metadata": {},
     "output_type": "execute_result"
    }
   ],
   "source": [
    "df['year_of_release'].unique()"
   ]
  },
  {
   "cell_type": "code",
   "execution_count": 26,
   "id": "de2e9a18-f290-4c6f-9b91-c9a6167c3350",
   "metadata": {},
   "outputs": [
    {
     "data": {
      "text/plain": [
       "array(['E', 'absent', 'M', 'T', 'E10+', 'K-A', 'AO', 'EC', 'RP'],\n",
       "      dtype=object)"
      ]
     },
     "execution_count": 26,
     "metadata": {},
     "output_type": "execute_result"
    }
   ],
   "source": [
    "df['rating'].unique()"
   ]
  },
  {
   "cell_type": "markdown",
   "id": "ffe656fc-b6c5-445d-828e-ea256e236a88",
   "metadata": {},
   "source": [
    "Как видно выше только в столбце genre есть неявные повторы из-за написания названий жанров в разном регистре"
   ]
  },
  {
   "cell_type": "code",
   "execution_count": 27,
   "id": "74a7df35-2486-4eca-b9f4-fc2ff1e3fec3",
   "metadata": {},
   "outputs": [],
   "source": [
    "df['genre'] = df['genre'].str.lower()"
   ]
  },
  {
   "cell_type": "code",
   "execution_count": 28,
   "id": "9fbc6cfc-0371-42bb-a08f-ecadac43826e",
   "metadata": {},
   "outputs": [
    {
     "data": {
      "text/plain": [
       "235"
      ]
     },
     "execution_count": 28,
     "metadata": {},
     "output_type": "execute_result"
    }
   ],
   "source": [
    "# Проверим датафрем на наличие явных дупликатов\n",
    "dupl = df.duplicated(keep='first').sum()\n",
    "dupl"
   ]
  },
  {
   "cell_type": "markdown",
   "id": "7d9f44c4-527c-4c86-b7d7-7e600165f56b",
   "metadata": {},
   "source": [
    "Явных дубликатов 235 строк, удалим из с помощью метода drop_duplicates(), будем сохранять первую встреченную запись дубликат"
   ]
  },
  {
   "cell_type": "code",
   "execution_count": 29,
   "id": "07455492-d908-4fd4-afd8-125500e247ad",
   "metadata": {},
   "outputs": [],
   "source": [
    "# Удаляем дубоикаты\n",
    "df.drop_duplicates(subset=None, keep='first', inplace=True)"
   ]
  },
  {
   "cell_type": "code",
   "execution_count": 30,
   "id": "8c88ec01-5fa5-4724-ae44-c041a3a5d94b",
   "metadata": {},
   "outputs": [
    {
     "data": {
      "text/plain": [
       "512"
      ]
     },
     "execution_count": 30,
     "metadata": {},
     "output_type": "execute_result"
    }
   ],
   "source": [
    "# Расчет удаленных строк в абсолютном значении\n",
    "deleted = dupl + missed_name + missed_year\n",
    "deleted"
   ]
  },
  {
   "cell_type": "code",
   "execution_count": 31,
   "id": "904d386f-d599-4afb-822e-a5cc06995505",
   "metadata": {},
   "outputs": [
    {
     "data": {
      "text/plain": [
       "0.03019580089643784"
      ]
     },
     "execution_count": 31,
     "metadata": {},
     "output_type": "execute_result"
    }
   ],
   "source": [
    "# Расчет удаленных строк в относительном значении\n",
    "deleted / lenght"
   ]
  },
  {
   "cell_type": "code",
   "execution_count": 32,
   "id": "e68e57d6",
   "metadata": {},
   "outputs": [
    {
     "name": "stdout",
     "output_type": "stream",
     "text": [
      " Было строк в исходном датасете 16956 \n",
      " Осталось строк в датасете после обработки 16444 \n",
      " Удалено строк в датасете после обработки 512 \n",
      " Процент потерь 3.02\n"
     ]
    }
   ],
   "source": [
    "# Комментарий ревьюера 2\n",
    "# Проверим сколько удалено строк датасета\n",
    "a, b = len(tmp), len(df)\n",
    "print(\" Было строк в исходном датасете\", a,\n",
    "      '\\n', \"Осталось строк в датасете после обработки\", b,\n",
    "      '\\n', \"Удалено строк в датасете после обработки\", a-b,\n",
    "      '\\n', \"Процент потерь\", round((a-b)/a*100, 2))"
   ]
  },
  {
   "cell_type": "markdown",
   "id": "0d73a486-6584-4b02-88b8-27aee37115af",
   "metadata": {},
   "source": [
    "###  Промежуточный вывод\n",
    "Значения в столбцах year_of_release, EU_sales, JP_sales, user_score приведены к правильным типам, пропуски обработаны: удалено 1.63% строк из-за пропусков в столбцах name, genre, year_of_release, в столбцах critic_score, user_score поставлена заглушка -1, в столбце rating - 'absent', в столбцах EU_sales и JP_sales средним значением продаж по году и платформе. Неявные дубликаты в столбце genre приведены к общем виду, тем самым удалены. Было найдено 235 явных дубликатов, все они были удалены, так как могли бы исказить анализ. Всего было удалено 3% строк от первоначального размера датасета"
   ]
  },
  {
   "cell_type": "markdown",
   "id": "f004a06d-5717-4b29-b75f-4ea0a198ff03",
   "metadata": {},
   "source": [
    "## Фильтрация данных"
   ]
  },
  {
   "cell_type": "markdown",
   "id": "f4a79450-017b-404a-960e-d2fc532e767b",
   "metadata": {},
   "source": [
    "Отфильтруем данные за период с 2000 по 2013 год включительно"
   ]
  },
  {
   "cell_type": "code",
   "execution_count": 33,
   "id": "a75f42c6-8a93-4ea3-a9f2-853bf98ec24b",
   "metadata": {},
   "outputs": [],
   "source": [
    "df_actual = df[(df['year_of_release'] >= 2000) & (df['year_of_release'] <= 2013)].copy()"
   ]
  },
  {
   "cell_type": "code",
   "execution_count": 34,
   "id": "789033aa-d475-423c-9abb-df7cc4159f3c",
   "metadata": {},
   "outputs": [
    {
     "data": {
      "text/plain": [
       "array([2006, 2008, 2009, 2005, 2007, 2010, 2013, 2004, 2002, 2001, 2011,\n",
       "       2012, 2003, 2000], dtype=int16)"
      ]
     },
     "execution_count": 34,
     "metadata": {},
     "output_type": "execute_result"
    }
   ],
   "source": [
    "df_actual['year_of_release'].unique()"
   ]
  },
  {
   "cell_type": "markdown",
   "id": "d95e7cc6-daaf-4591-966c-1f6455d59977",
   "metadata": {},
   "source": [
    "## Категоризация данных"
   ]
  },
  {
   "cell_type": "code",
   "execution_count": 35,
   "id": "dcc348b5-9c59-44d7-ac36-04265eae5619",
   "metadata": {},
   "outputs": [],
   "source": [
    "# Категории по рейтингу игроков\n",
    "df_actual['user_score_group'] = pd.cut(df_actual['user_score'], bins=[-1, 0, 3, 8, 10], right=False, labels=['без оценки', 'низкая оценка', 'средняя оценка', 'высокая оценка'])"
   ]
  },
  {
   "cell_type": "code",
   "execution_count": 36,
   "id": "91885ba9-4b24-4d0c-b9de-7ab5ed20c621",
   "metadata": {},
   "outputs": [],
   "source": [
    "# Категории по рейтингу критиков\n",
    "df_actual['critic_score_group'] = pd.cut(df_actual['critic_score'], bins=[-1, 0, 30, 80, 100], right=False, labels=['без оценки','низкая оценка', 'средняя оценка', 'высокая оценка'])"
   ]
  },
  {
   "cell_type": "code",
   "execution_count": 37,
   "id": "95b74c0d-d433-4b74-9e46-836b03afabb1",
   "metadata": {},
   "outputs": [
    {
     "data": {
      "text/html": [
       "<div>\n",
       "<style scoped>\n",
       "    .dataframe tbody tr th:only-of-type {\n",
       "        vertical-align: middle;\n",
       "    }\n",
       "\n",
       "    .dataframe tbody tr th {\n",
       "        vertical-align: top;\n",
       "    }\n",
       "\n",
       "    .dataframe thead th {\n",
       "        text-align: right;\n",
       "    }\n",
       "</style>\n",
       "<table border=\"1\" class=\"dataframe\">\n",
       "  <thead>\n",
       "    <tr style=\"text-align: right;\">\n",
       "      <th></th>\n",
       "      <th>name</th>\n",
       "    </tr>\n",
       "    <tr>\n",
       "      <th>user_score_group</th>\n",
       "      <th></th>\n",
       "    </tr>\n",
       "  </thead>\n",
       "  <tbody>\n",
       "    <tr>\n",
       "      <th>без оценки</th>\n",
       "      <td>6298</td>\n",
       "    </tr>\n",
       "    <tr>\n",
       "      <th>низкая оценка</th>\n",
       "      <td>116</td>\n",
       "    </tr>\n",
       "    <tr>\n",
       "      <th>средняя оценка</th>\n",
       "      <td>4081</td>\n",
       "    </tr>\n",
       "    <tr>\n",
       "      <th>высокая оценка</th>\n",
       "      <td>2286</td>\n",
       "    </tr>\n",
       "  </tbody>\n",
       "</table>\n",
       "</div>"
      ],
      "text/plain": [
       "                  name\n",
       "user_score_group      \n",
       "без оценки        6298\n",
       "низкая оценка      116\n",
       "средняя оценка    4081\n",
       "высокая оценка    2286"
      ]
     },
     "execution_count": 37,
     "metadata": {},
     "output_type": "execute_result"
    }
   ],
   "source": [
    "df_actual.groupby('user_score_group').agg({'name': 'count'})"
   ]
  },
  {
   "cell_type": "code",
   "execution_count": 38,
   "id": "03346e40-6eca-4eb0-b391-714a311b4cb8",
   "metadata": {},
   "outputs": [
    {
     "data": {
      "text/html": [
       "<div>\n",
       "<style scoped>\n",
       "    .dataframe tbody tr th:only-of-type {\n",
       "        vertical-align: middle;\n",
       "    }\n",
       "\n",
       "    .dataframe tbody tr th {\n",
       "        vertical-align: top;\n",
       "    }\n",
       "\n",
       "    .dataframe thead th {\n",
       "        text-align: right;\n",
       "    }\n",
       "</style>\n",
       "<table border=\"1\" class=\"dataframe\">\n",
       "  <thead>\n",
       "    <tr style=\"text-align: right;\">\n",
       "      <th></th>\n",
       "      <th>name</th>\n",
       "    </tr>\n",
       "    <tr>\n",
       "      <th>critic_score_group</th>\n",
       "      <th></th>\n",
       "    </tr>\n",
       "  </thead>\n",
       "  <tbody>\n",
       "    <tr>\n",
       "      <th>без оценки</th>\n",
       "      <td>5612</td>\n",
       "    </tr>\n",
       "    <tr>\n",
       "      <th>низкая оценка</th>\n",
       "      <td>55</td>\n",
       "    </tr>\n",
       "    <tr>\n",
       "      <th>средняя оценка</th>\n",
       "      <td>5422</td>\n",
       "    </tr>\n",
       "    <tr>\n",
       "      <th>высокая оценка</th>\n",
       "      <td>1692</td>\n",
       "    </tr>\n",
       "  </tbody>\n",
       "</table>\n",
       "</div>"
      ],
      "text/plain": [
       "                    name\n",
       "critic_score_group      \n",
       "без оценки          5612\n",
       "низкая оценка         55\n",
       "средняя оценка      5422\n",
       "высокая оценка      1692"
      ]
     },
     "execution_count": 38,
     "metadata": {},
     "output_type": "execute_result"
    }
   ],
   "source": [
    "df_actual.groupby('critic_score_group').agg({'name': 'count'})"
   ]
  },
  {
   "cell_type": "code",
   "execution_count": 39,
   "id": "b280091b-55e6-4c4d-9ce8-fa5daf374d7a",
   "metadata": {},
   "outputs": [],
   "source": [
    "# Подсчитаем количество игр для каждой платформы\n",
    "grouped_platforms = df_actual.groupby('platform')['name'].count()"
   ]
  },
  {
   "cell_type": "code",
   "execution_count": 40,
   "id": "cda3c89e-983f-4d46-9b10-7066fcdb93d0",
   "metadata": {},
   "outputs": [
    {
     "data": {
      "text/plain": [
       "platform\n",
       "PS2     2127\n",
       "DS      2120\n",
       "Wii     1275\n",
       "PSP     1180\n",
       "X360    1121\n",
       "PS3     1087\n",
       "GBA      811\n",
       "Name: name, dtype: int64"
      ]
     },
     "execution_count": 40,
     "metadata": {},
     "output_type": "execute_result"
    }
   ],
   "source": [
    "# Топ-7 платформ по количеству игр, выпущенных за весь актуальный период\n",
    "grouped_platforms.sort_values(ascending=False)[:7]"
   ]
  },
  {
   "cell_type": "markdown",
   "id": "ce154544-865e-4e12-b87a-acdd775513f7",
   "metadata": {},
   "source": [
    "## Итоговый вывод\n",
    "- Целью проекта Было помочь \"Секретам темнолестья\" подготорить статью о развитии игровой индустрии. Для этого нужно было познакомиться с данными, проверить их корректность и провести предобработку, получив необходимый срез данных. \n",
    "- Было проведено знакомство с данным, а далее их предобработка: названия столбцов приведены к snake_case, что сделало датасет более удобным для работы \\\n",
    "Значения в столбцах приведены к нужным типам данных, таким образом к числовым столбца после обработки можно применять числовые функции.\\\n",
    "Была проведена работа с пропусками и дубликатами, теперь они не могу исказить анализ \\\n",
    "Далее данные были отфильтрованы по году выпуска игр: с 2003 до 2016 включительно, в соотвествии с требованиями. \\\n",
    "После этого была проведена категоризация, выделены категории по оценкам игроков и критиков, а также топ-7 платформ по количеству выпущенных для них игр, это можно использовать в статьи\n",
    "- На основе полученных после обработки данных можно сделать детальный анализ развития игровой индустрии в XXI веке, выделить тенденции и сделать прогноз дальнейшей судьбы индустрии"
   ]
  }
 ],
 "metadata": {
  "ExecuteTimeLog": [
   {
    "duration": 439,
    "start_time": "2025-02-26T09:14:57.767Z"
   },
   {
    "duration": 118,
    "start_time": "2025-02-26T09:14:58.208Z"
   },
   {
    "duration": 0,
    "start_time": "2025-02-26T09:14:58.329Z"
   },
   {
    "duration": 0,
    "start_time": "2025-02-26T09:14:58.330Z"
   },
   {
    "duration": 0,
    "start_time": "2025-02-26T09:14:58.331Z"
   },
   {
    "duration": 0,
    "start_time": "2025-02-26T09:14:58.332Z"
   },
   {
    "duration": 0,
    "start_time": "2025-02-26T09:14:58.334Z"
   },
   {
    "duration": 0,
    "start_time": "2025-02-26T09:14:58.335Z"
   },
   {
    "duration": 0,
    "start_time": "2025-02-26T09:14:58.336Z"
   },
   {
    "duration": 0,
    "start_time": "2025-02-26T09:14:58.337Z"
   },
   {
    "duration": 0,
    "start_time": "2025-02-26T09:14:58.338Z"
   },
   {
    "duration": 0,
    "start_time": "2025-02-26T09:14:58.340Z"
   },
   {
    "duration": 0,
    "start_time": "2025-02-26T09:14:58.342Z"
   },
   {
    "duration": 0,
    "start_time": "2025-02-26T09:14:58.343Z"
   },
   {
    "duration": 0,
    "start_time": "2025-02-26T09:14:58.344Z"
   },
   {
    "duration": 0,
    "start_time": "2025-02-26T09:14:58.346Z"
   },
   {
    "duration": 0,
    "start_time": "2025-02-26T09:14:58.347Z"
   },
   {
    "duration": 0,
    "start_time": "2025-02-26T09:14:58.348Z"
   },
   {
    "duration": 0,
    "start_time": "2025-02-26T09:14:58.349Z"
   },
   {
    "duration": 0,
    "start_time": "2025-02-26T09:14:58.350Z"
   },
   {
    "duration": 0,
    "start_time": "2025-02-26T09:14:58.351Z"
   },
   {
    "duration": 0,
    "start_time": "2025-02-26T09:14:58.352Z"
   },
   {
    "duration": 0,
    "start_time": "2025-02-26T09:14:58.353Z"
   },
   {
    "duration": 0,
    "start_time": "2025-02-26T09:14:58.355Z"
   },
   {
    "duration": 0,
    "start_time": "2025-02-26T09:14:58.402Z"
   },
   {
    "duration": 0,
    "start_time": "2025-02-26T09:14:58.403Z"
   },
   {
    "duration": 0,
    "start_time": "2025-02-26T09:14:58.405Z"
   },
   {
    "duration": 0,
    "start_time": "2025-02-26T09:14:58.406Z"
   },
   {
    "duration": 0,
    "start_time": "2025-02-26T09:14:58.407Z"
   },
   {
    "duration": 0,
    "start_time": "2025-02-26T09:14:58.407Z"
   },
   {
    "duration": 161,
    "start_time": "2025-02-26T09:39:58.808Z"
   },
   {
    "duration": 447,
    "start_time": "2025-02-26T09:40:05.792Z"
   },
   {
    "duration": 123,
    "start_time": "2025-02-26T09:40:06.241Z"
   },
   {
    "duration": 17,
    "start_time": "2025-02-26T09:40:06.365Z"
   },
   {
    "duration": 49,
    "start_time": "2025-02-26T09:40:06.383Z"
   },
   {
    "duration": 20,
    "start_time": "2025-02-26T09:40:06.435Z"
   },
   {
    "duration": 49,
    "start_time": "2025-02-26T09:40:06.457Z"
   },
   {
    "duration": 65,
    "start_time": "2025-02-26T09:40:06.507Z"
   },
   {
    "duration": 74,
    "start_time": "2025-02-26T09:40:06.574Z"
   },
   {
    "duration": 84,
    "start_time": "2025-02-26T09:40:06.649Z"
   },
   {
    "duration": 6,
    "start_time": "2025-02-26T09:40:06.735Z"
   },
   {
    "duration": 14,
    "start_time": "2025-02-26T09:40:06.743Z"
   },
   {
    "duration": 131,
    "start_time": "2025-02-26T09:40:06.759Z"
   },
   {
    "duration": 40,
    "start_time": "2025-02-26T09:40:06.891Z"
   },
   {
    "duration": 192,
    "start_time": "2025-02-26T09:40:06.934Z"
   },
   {
    "duration": 112,
    "start_time": "2025-02-26T09:40:07.128Z"
   },
   {
    "duration": 80,
    "start_time": "2025-02-26T09:40:07.242Z"
   },
   {
    "duration": 69,
    "start_time": "2025-02-26T09:40:07.323Z"
   },
   {
    "duration": 31,
    "start_time": "2025-02-26T09:40:07.394Z"
   },
   {
    "duration": 17,
    "start_time": "2025-02-26T09:40:07.427Z"
   },
   {
    "duration": 5,
    "start_time": "2025-02-26T09:40:07.446Z"
   },
   {
    "duration": 16,
    "start_time": "2025-02-26T09:40:07.452Z"
   },
   {
    "duration": 39,
    "start_time": "2025-02-26T09:40:07.470Z"
   },
   {
    "duration": 40,
    "start_time": "2025-02-26T09:40:07.510Z"
   },
   {
    "duration": 7,
    "start_time": "2025-02-26T09:40:07.552Z"
   },
   {
    "duration": 46,
    "start_time": "2025-02-26T09:40:07.560Z"
   },
   {
    "duration": 37,
    "start_time": "2025-02-26T09:40:07.607Z"
   },
   {
    "duration": 18,
    "start_time": "2025-02-26T09:40:07.646Z"
   },
   {
    "duration": 49,
    "start_time": "2025-02-26T09:40:07.666Z"
   },
   {
    "duration": 46,
    "start_time": "2025-02-26T09:40:07.717Z"
   },
   {
    "duration": 28,
    "start_time": "2025-02-26T09:40:07.765Z"
   },
   {
    "duration": 6,
    "start_time": "2025-02-26T10:24:34.783Z"
   },
   {
    "duration": 385,
    "start_time": "2025-02-26T10:24:40.732Z"
   },
   {
    "duration": 101,
    "start_time": "2025-02-26T10:24:41.119Z"
   },
   {
    "duration": 46,
    "start_time": "2025-02-26T10:24:41.222Z"
   },
   {
    "duration": 10,
    "start_time": "2025-02-26T10:24:41.270Z"
   },
   {
    "duration": 21,
    "start_time": "2025-02-26T10:24:41.282Z"
   },
   {
    "duration": 5,
    "start_time": "2025-02-26T10:24:41.304Z"
   },
   {
    "duration": 22,
    "start_time": "2025-02-26T10:24:41.310Z"
   },
   {
    "duration": 16,
    "start_time": "2025-02-26T10:24:41.334Z"
   },
   {
    "duration": 21,
    "start_time": "2025-02-26T10:24:41.351Z"
   },
   {
    "duration": 7,
    "start_time": "2025-02-26T10:24:41.402Z"
   },
   {
    "duration": 9,
    "start_time": "2025-02-26T10:24:41.410Z"
   },
   {
    "duration": 11,
    "start_time": "2025-02-26T10:24:41.421Z"
   },
   {
    "duration": 29,
    "start_time": "2025-02-26T10:24:41.434Z"
   },
   {
    "duration": 71,
    "start_time": "2025-02-26T10:24:41.466Z"
   },
   {
    "duration": 32,
    "start_time": "2025-02-26T10:24:41.539Z"
   },
   {
    "duration": 34,
    "start_time": "2025-02-26T10:24:41.572Z"
   },
   {
    "duration": 86,
    "start_time": "2025-02-26T10:24:41.607Z"
   },
   {
    "duration": 18,
    "start_time": "2025-02-26T10:24:41.695Z"
   },
   {
    "duration": 29,
    "start_time": "2025-02-26T10:24:41.714Z"
   },
   {
    "duration": 33,
    "start_time": "2025-02-26T10:24:41.745Z"
   },
   {
    "duration": 40,
    "start_time": "2025-02-26T10:24:41.780Z"
   },
   {
    "duration": 40,
    "start_time": "2025-02-26T10:24:41.822Z"
   },
   {
    "duration": 47,
    "start_time": "2025-02-26T10:24:41.864Z"
   },
   {
    "duration": 77,
    "start_time": "2025-02-26T10:24:41.913Z"
   },
   {
    "duration": 68,
    "start_time": "2025-02-26T10:24:41.992Z"
   },
   {
    "duration": 32,
    "start_time": "2025-02-26T10:24:42.061Z"
   },
   {
    "duration": 33,
    "start_time": "2025-02-26T10:24:42.095Z"
   },
   {
    "duration": 44,
    "start_time": "2025-02-26T10:24:42.130Z"
   },
   {
    "duration": 30,
    "start_time": "2025-02-26T10:24:42.175Z"
   },
   {
    "duration": 228,
    "start_time": "2025-02-26T10:24:42.207Z"
   },
   {
    "duration": 9,
    "start_time": "2025-02-26T10:24:42.437Z"
   },
   {
    "duration": 521,
    "start_time": "2025-02-26T10:41:14.531Z"
   },
   {
    "duration": 469,
    "start_time": "2025-02-26T10:41:25.674Z"
   },
   {
    "duration": 104,
    "start_time": "2025-02-26T10:41:26.145Z"
   },
   {
    "duration": 16,
    "start_time": "2025-02-26T10:41:26.251Z"
   },
   {
    "duration": 95,
    "start_time": "2025-02-26T10:41:26.269Z"
   },
   {
    "duration": 117,
    "start_time": "2025-02-26T10:41:26.366Z"
   },
   {
    "duration": 35,
    "start_time": "2025-02-26T10:41:26.485Z"
   },
   {
    "duration": 94,
    "start_time": "2025-02-26T10:41:26.522Z"
   },
   {
    "duration": 359,
    "start_time": "2025-02-26T10:41:26.618Z"
   },
   {
    "duration": 24,
    "start_time": "2025-02-26T10:41:26.979Z"
   },
   {
    "duration": 22,
    "start_time": "2025-02-26T10:41:27.006Z"
   },
   {
    "duration": 10,
    "start_time": "2025-02-26T10:41:27.030Z"
   },
   {
    "duration": 147,
    "start_time": "2025-02-26T10:41:27.041Z"
   },
   {
    "duration": 13,
    "start_time": "2025-02-26T10:41:27.190Z"
   },
   {
    "duration": 149,
    "start_time": "2025-02-26T10:41:27.205Z"
   },
   {
    "duration": 50,
    "start_time": "2025-02-26T10:41:27.356Z"
   },
   {
    "duration": 45,
    "start_time": "2025-02-26T10:41:27.408Z"
   },
   {
    "duration": 24,
    "start_time": "2025-02-26T10:41:27.455Z"
   },
   {
    "duration": 67,
    "start_time": "2025-02-26T10:41:27.481Z"
   },
   {
    "duration": 79,
    "start_time": "2025-02-26T10:41:27.549Z"
   },
   {
    "duration": 26,
    "start_time": "2025-02-26T10:41:27.630Z"
   },
   {
    "duration": 95,
    "start_time": "2025-02-26T10:41:27.657Z"
   },
   {
    "duration": 18,
    "start_time": "2025-02-26T10:41:27.754Z"
   },
   {
    "duration": 11,
    "start_time": "2025-02-26T10:41:27.774Z"
   },
   {
    "duration": 51,
    "start_time": "2025-02-26T10:41:27.786Z"
   },
   {
    "duration": 36,
    "start_time": "2025-02-26T10:41:27.839Z"
   },
   {
    "duration": 48,
    "start_time": "2025-02-26T10:41:27.877Z"
   },
   {
    "duration": 40,
    "start_time": "2025-02-26T10:41:27.927Z"
   },
   {
    "duration": 16,
    "start_time": "2025-02-26T10:41:27.971Z"
   },
   {
    "duration": 169,
    "start_time": "2025-02-26T10:41:27.988Z"
   },
   {
    "duration": 93,
    "start_time": "2025-02-26T10:41:28.158Z"
   },
   {
    "duration": 22,
    "start_time": "2025-02-26T10:41:28.253Z"
   },
   {
    "duration": 226,
    "start_time": "2025-02-26T10:41:28.277Z"
   },
   {
    "duration": 17,
    "start_time": "2025-02-26T10:56:59.164Z"
   },
   {
    "duration": 21,
    "start_time": "2025-02-26T11:00:44.848Z"
   },
   {
    "duration": 19,
    "start_time": "2025-02-26T11:03:35.787Z"
   },
   {
    "duration": 420,
    "start_time": "2025-02-27T20:19:22.573Z"
   },
   {
    "duration": 114,
    "start_time": "2025-02-27T20:19:22.995Z"
   },
   {
    "duration": 18,
    "start_time": "2025-02-27T20:19:23.110Z"
   },
   {
    "duration": 16,
    "start_time": "2025-02-27T20:19:23.130Z"
   },
   {
    "duration": 4,
    "start_time": "2025-02-27T20:19:23.149Z"
   },
   {
    "duration": 11,
    "start_time": "2025-02-27T20:19:23.155Z"
   },
   {
    "duration": 21,
    "start_time": "2025-02-27T20:19:23.168Z"
   },
   {
    "duration": 20,
    "start_time": "2025-02-27T20:19:23.190Z"
   },
   {
    "duration": 33,
    "start_time": "2025-02-27T20:19:23.212Z"
   },
   {
    "duration": 30,
    "start_time": "2025-02-27T20:19:23.247Z"
   },
   {
    "duration": 32,
    "start_time": "2025-02-27T20:19:23.279Z"
   },
   {
    "duration": 323,
    "start_time": "2025-02-27T20:19:23.313Z"
   },
   {
    "duration": 6,
    "start_time": "2025-02-27T20:19:23.638Z"
   },
   {
    "duration": 41,
    "start_time": "2025-02-27T20:19:23.654Z"
   },
   {
    "duration": 29,
    "start_time": "2025-02-27T20:19:23.697Z"
   },
   {
    "duration": 10,
    "start_time": "2025-02-27T20:19:23.727Z"
   },
   {
    "duration": 4,
    "start_time": "2025-02-27T20:19:23.739Z"
   },
   {
    "duration": 181,
    "start_time": "2025-02-27T20:19:23.745Z"
   },
   {
    "duration": 176,
    "start_time": "2025-02-27T20:19:23.928Z"
   },
   {
    "duration": 5,
    "start_time": "2025-02-27T20:19:24.105Z"
   },
   {
    "duration": 15,
    "start_time": "2025-02-27T20:19:24.111Z"
   },
   {
    "duration": 9,
    "start_time": "2025-02-27T20:19:24.128Z"
   },
   {
    "duration": 17,
    "start_time": "2025-02-27T20:19:24.139Z"
   },
   {
    "duration": 16,
    "start_time": "2025-02-27T20:19:24.158Z"
   },
   {
    "duration": 27,
    "start_time": "2025-02-27T20:19:24.176Z"
   },
   {
    "duration": 15,
    "start_time": "2025-02-27T20:19:24.204Z"
   },
   {
    "duration": 16,
    "start_time": "2025-02-27T20:19:24.220Z"
   },
   {
    "duration": 25,
    "start_time": "2025-02-27T20:19:24.238Z"
   },
   {
    "duration": 16,
    "start_time": "2025-02-27T20:19:24.264Z"
   },
   {
    "duration": 4,
    "start_time": "2025-02-27T20:19:24.282Z"
   },
   {
    "duration": 18,
    "start_time": "2025-02-27T20:19:24.287Z"
   },
   {
    "duration": 23,
    "start_time": "2025-02-27T20:19:24.306Z"
   },
   {
    "duration": 25,
    "start_time": "2025-02-27T20:19:24.331Z"
   },
   {
    "duration": 8,
    "start_time": "2025-02-27T20:19:24.358Z"
   },
   {
    "duration": 13,
    "start_time": "2025-02-27T20:19:24.368Z"
   },
   {
    "duration": 41,
    "start_time": "2025-02-27T20:19:24.383Z"
   },
   {
    "duration": 269,
    "start_time": "2025-02-27T20:19:24.426Z"
   },
   {
    "duration": 146,
    "start_time": "2025-02-27T20:19:24.698Z"
   },
   {
    "duration": 15,
    "start_time": "2025-02-27T20:19:24.846Z"
   },
   {
    "duration": 7,
    "start_time": "2025-02-27T20:34:41.125Z"
   },
   {
    "duration": 5,
    "start_time": "2025-02-27T20:34:43.016Z"
   },
   {
    "duration": 5,
    "start_time": "2025-02-27T20:34:53.206Z"
   },
   {
    "duration": 434,
    "start_time": "2025-02-28T17:33:54.384Z"
   },
   {
    "duration": 132,
    "start_time": "2025-02-28T17:33:54.821Z"
   },
   {
    "duration": 17,
    "start_time": "2025-02-28T17:33:54.955Z"
   },
   {
    "duration": 8,
    "start_time": "2025-02-28T17:33:54.973Z"
   },
   {
    "duration": 6,
    "start_time": "2025-02-28T17:33:54.984Z"
   },
   {
    "duration": 13,
    "start_time": "2025-02-28T17:33:54.992Z"
   },
   {
    "duration": 18,
    "start_time": "2025-02-28T17:33:55.007Z"
   },
   {
    "duration": 169,
    "start_time": "2025-02-28T17:33:55.054Z"
   },
   {
    "duration": 91,
    "start_time": "2025-02-28T17:33:55.225Z"
   },
   {
    "duration": 48,
    "start_time": "2025-02-28T17:33:55.318Z"
   },
   {
    "duration": 40,
    "start_time": "2025-02-28T17:33:55.368Z"
   },
   {
    "duration": 329,
    "start_time": "2025-02-28T17:33:55.410Z"
   },
   {
    "duration": 16,
    "start_time": "2025-02-28T17:33:55.741Z"
   },
   {
    "duration": 6,
    "start_time": "2025-02-28T17:33:55.760Z"
   },
   {
    "duration": 11,
    "start_time": "2025-02-28T17:33:55.767Z"
   },
   {
    "duration": 18,
    "start_time": "2025-02-28T17:33:55.779Z"
   },
   {
    "duration": 17,
    "start_time": "2025-02-28T17:33:55.799Z"
   },
   {
    "duration": 194,
    "start_time": "2025-02-28T17:33:55.818Z"
   },
   {
    "duration": 191,
    "start_time": "2025-02-28T17:33:56.013Z"
   },
   {
    "duration": 7,
    "start_time": "2025-02-28T17:33:56.205Z"
   },
   {
    "duration": 227,
    "start_time": "2025-02-28T17:33:56.214Z"
   },
   {
    "duration": 5,
    "start_time": "2025-02-28T17:33:56.443Z"
   },
   {
    "duration": 6,
    "start_time": "2025-02-28T17:33:56.450Z"
   },
   {
    "duration": 9,
    "start_time": "2025-02-28T17:33:56.458Z"
   },
   {
    "duration": 6,
    "start_time": "2025-02-28T17:33:56.469Z"
   },
   {
    "duration": 10,
    "start_time": "2025-02-28T17:33:56.477Z"
   },
   {
    "duration": 30,
    "start_time": "2025-02-28T17:33:56.489Z"
   },
   {
    "duration": 17,
    "start_time": "2025-02-28T17:33:56.521Z"
   },
   {
    "duration": 25,
    "start_time": "2025-02-28T17:33:56.540Z"
   },
   {
    "duration": 5,
    "start_time": "2025-02-28T17:33:56.567Z"
   },
   {
    "duration": 5,
    "start_time": "2025-02-28T17:33:56.574Z"
   },
   {
    "duration": 27,
    "start_time": "2025-02-28T17:33:56.581Z"
   },
   {
    "duration": 10,
    "start_time": "2025-02-28T17:33:56.610Z"
   },
   {
    "duration": 12,
    "start_time": "2025-02-28T17:33:56.622Z"
   },
   {
    "duration": 29,
    "start_time": "2025-02-28T17:33:56.635Z"
   },
   {
    "duration": 6,
    "start_time": "2025-02-28T17:33:56.666Z"
   },
   {
    "duration": 38,
    "start_time": "2025-02-28T17:33:56.674Z"
   },
   {
    "duration": 16,
    "start_time": "2025-02-28T17:33:56.714Z"
   },
   {
    "duration": 9,
    "start_time": "2025-02-28T17:33:56.732Z"
   },
   {
    "duration": 6,
    "start_time": "2025-02-28T17:33:56.744Z"
   },
   {
    "duration": 375,
    "start_time": "2025-03-01T17:41:42.119Z"
   },
   {
    "duration": 153,
    "start_time": "2025-03-01T17:41:42.497Z"
   },
   {
    "duration": 17,
    "start_time": "2025-03-01T17:41:42.652Z"
   },
   {
    "duration": 9,
    "start_time": "2025-03-01T17:41:42.671Z"
   },
   {
    "duration": 10,
    "start_time": "2025-03-01T17:41:42.681Z"
   },
   {
    "duration": 9,
    "start_time": "2025-03-01T17:41:42.693Z"
   },
   {
    "duration": 33,
    "start_time": "2025-03-01T17:41:42.703Z"
   },
   {
    "duration": 16,
    "start_time": "2025-03-01T17:41:42.737Z"
   },
   {
    "duration": 21,
    "start_time": "2025-03-01T17:41:42.754Z"
   },
   {
    "duration": 5,
    "start_time": "2025-03-01T17:41:42.778Z"
   },
   {
    "duration": 18,
    "start_time": "2025-03-01T17:41:42.784Z"
   },
   {
    "duration": 299,
    "start_time": "2025-03-01T17:41:42.803Z"
   },
   {
    "duration": 7,
    "start_time": "2025-03-01T17:41:43.104Z"
   },
   {
    "duration": 15,
    "start_time": "2025-03-01T17:41:43.112Z"
   },
   {
    "duration": 14,
    "start_time": "2025-03-01T17:41:43.128Z"
   },
   {
    "duration": 17,
    "start_time": "2025-03-01T17:41:43.144Z"
   },
   {
    "duration": 34,
    "start_time": "2025-03-01T17:41:43.163Z"
   },
   {
    "duration": 173,
    "start_time": "2025-03-01T17:41:43.199Z"
   },
   {
    "duration": 170,
    "start_time": "2025-03-01T17:41:43.374Z"
   },
   {
    "duration": 4,
    "start_time": "2025-03-01T17:41:43.546Z"
   },
   {
    "duration": 72,
    "start_time": "2025-03-01T17:41:43.552Z"
   },
   {
    "duration": 9,
    "start_time": "2025-03-01T17:41:43.625Z"
   },
   {
    "duration": 25,
    "start_time": "2025-03-01T17:41:43.636Z"
   },
   {
    "duration": 20,
    "start_time": "2025-03-01T17:41:43.663Z"
   },
   {
    "duration": 15,
    "start_time": "2025-03-01T17:41:43.685Z"
   },
   {
    "duration": 20,
    "start_time": "2025-03-01T17:41:43.701Z"
   },
   {
    "duration": 13,
    "start_time": "2025-03-01T17:41:43.723Z"
   },
   {
    "duration": 17,
    "start_time": "2025-03-01T17:41:43.739Z"
   },
   {
    "duration": 15,
    "start_time": "2025-03-01T17:41:43.757Z"
   },
   {
    "duration": 3,
    "start_time": "2025-03-01T17:41:43.774Z"
   },
   {
    "duration": 7,
    "start_time": "2025-03-01T17:41:43.779Z"
   },
   {
    "duration": 16,
    "start_time": "2025-03-01T17:41:43.788Z"
   },
   {
    "duration": 8,
    "start_time": "2025-03-01T17:41:43.806Z"
   },
   {
    "duration": 13,
    "start_time": "2025-03-01T17:41:43.816Z"
   },
   {
    "duration": 6,
    "start_time": "2025-03-01T17:41:43.830Z"
   },
   {
    "duration": 9,
    "start_time": "2025-03-01T17:41:43.837Z"
   },
   {
    "duration": 13,
    "start_time": "2025-03-01T17:41:43.847Z"
   },
   {
    "duration": 11,
    "start_time": "2025-03-01T17:41:43.873Z"
   },
   {
    "duration": 17,
    "start_time": "2025-03-01T17:41:43.885Z"
   },
   {
    "duration": 39,
    "start_time": "2025-03-01T17:41:43.904Z"
   }
  ],
  "kernelspec": {
   "display_name": "Python 3 (ipykernel)",
   "language": "python",
   "name": "python3"
  },
  "language_info": {
   "codemirror_mode": {
    "name": "ipython",
    "version": 3
   },
   "file_extension": ".py",
   "mimetype": "text/x-python",
   "name": "python",
   "nbconvert_exporter": "python",
   "pygments_lexer": "ipython3",
   "version": "3.12.7"
  },
  "toc": {
   "base_numbering": 1,
   "nav_menu": {},
   "number_sections": true,
   "sideBar": true,
   "skip_h1_title": true,
   "title_cell": "Table of Contents",
   "title_sidebar": "Contents",
   "toc_cell": false,
   "toc_position": {
    "height": "calc(100% - 180px)",
    "left": "10px",
    "top": "150px",
    "width": "194.943px"
   },
   "toc_section_display": true,
   "toc_window_display": true
  }
 },
 "nbformat": 4,
 "nbformat_minor": 5
}
